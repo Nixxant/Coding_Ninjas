{
 "cells": [
  {
   "cell_type": "markdown",
   "id": "c4d93139",
   "metadata": {},
   "source": [
    "https://www.hackerrank.com/challenges/compare-the-triplets/problem?isFullScreen=true"
   ]
  },
  {
   "cell_type": "code",
   "execution_count": null,
   "id": "6d015765",
   "metadata": {},
   "outputs": [],
   "source": [
    "def compareTriplets(a,b):\n",
    "    a = 0\n",
    "    b = 0\n",
    "    for i in range(3):\n",
    "        if a[i] > b[i]:\n",
    "            a += 1\n",
    "        elif b[i] > a[i]:\n",
    "            b += 1\n",
    "    return a, b"
   ]
  }
 ],
 "metadata": {
  "kernelspec": {
   "display_name": "Python 3 (ipykernel)",
   "language": "python",
   "name": "python3"
  },
  "language_info": {
   "codemirror_mode": {
    "name": "ipython",
    "version": 3
   },
   "file_extension": ".py",
   "mimetype": "text/x-python",
   "name": "python",
   "nbconvert_exporter": "python",
   "pygments_lexer": "ipython3",
   "version": "3.9.7"
  }
 },
 "nbformat": 4,
 "nbformat_minor": 5
}
