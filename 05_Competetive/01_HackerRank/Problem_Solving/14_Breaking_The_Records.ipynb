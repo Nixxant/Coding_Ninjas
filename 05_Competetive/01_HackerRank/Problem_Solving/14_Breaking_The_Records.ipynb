{
 "cells": [
  {
   "cell_type": "markdown",
   "id": "5cf27db3",
   "metadata": {},
   "source": [
    "https://www.hackerrank.com/challenges/breaking-best-and-worst-records/problem?isFullScreen=true"
   ]
  },
  {
   "cell_type": "code",
   "execution_count": 1,
   "id": "6cf6966a",
   "metadata": {},
   "outputs": [
    {
     "name": "stdout",
     "output_type": "stream",
     "text": [
      "(2, 4)\n"
     ]
    }
   ],
   "source": [
    "def breakingRecords(scores):\n",
    "    minimum = 9999999\n",
    "    maximum = -9999999\n",
    "    temp = scores[0]\n",
    "    minimum_count = 0\n",
    "    maximum_count = 0\n",
    "    \n",
    "    for score in scores[1:]:\n",
    "        if (score < minimum) and (score < temp):\n",
    "            minimum_count += 1\n",
    "            minimum = score\n",
    "        if (score > maximum) and (score > temp):\n",
    "            maximum_count += 1\n",
    "            maximum = score\n",
    "    return maximum_count, minimum_count\n",
    "scores = [10,5,20,20,4,5,2,25,1]\n",
    "print(breakingRecords(scores))"
   ]
  },
  {
   "cell_type": "code",
   "execution_count": null,
   "id": "982cc836",
   "metadata": {},
   "outputs": [],
   "source": []
  }
 ],
 "metadata": {
  "kernelspec": {
   "display_name": "Python 3 (ipykernel)",
   "language": "python",
   "name": "python3"
  },
  "language_info": {
   "codemirror_mode": {
    "name": "ipython",
    "version": 3
   },
   "file_extension": ".py",
   "mimetype": "text/x-python",
   "name": "python",
   "nbconvert_exporter": "python",
   "pygments_lexer": "ipython3",
   "version": "3.9.7"
  }
 },
 "nbformat": 4,
 "nbformat_minor": 5
}
