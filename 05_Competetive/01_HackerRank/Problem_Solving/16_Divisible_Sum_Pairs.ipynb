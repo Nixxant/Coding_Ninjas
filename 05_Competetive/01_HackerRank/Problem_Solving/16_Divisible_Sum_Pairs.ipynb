{
 "cells": [
  {
   "cell_type": "markdown",
   "id": "d1784a7f",
   "metadata": {},
   "source": [
    "https://www.hackerrank.com/challenges/divisible-sum-pairs/problem?isFullScreen=true"
   ]
  },
  {
   "cell_type": "code",
   "execution_count": 11,
   "id": "584cfc59",
   "metadata": {},
   "outputs": [],
   "source": [
    "def divisibleSumPairs(n, k, ar):\n",
    "    if n < 2:\n",
    "        return 0\n",
    "    count = 0\n",
    "    for i in range(n):\n",
    "        for j in range(n):\n",
    "            if ((ar[i]+ar[j])%k) == 0 and i < j:\n",
    "                count += 1\n",
    "    return count\n",
    "\n",
    "            "
   ]
  },
  {
   "cell_type": "code",
   "execution_count": 12,
   "id": "a83b376a",
   "metadata": {},
   "outputs": [
    {
     "name": "stdout",
     "output_type": "stream",
     "text": [
      "5\n"
     ]
    }
   ],
   "source": [
    "ar = [1, 3, 2, 6, 1, 2]\n",
    "n = 6\n",
    "k = 3\n",
    "print(divisibleSumPairs(n,k,ar))"
   ]
  },
  {
   "cell_type": "code",
   "execution_count": null,
   "id": "2352716d",
   "metadata": {},
   "outputs": [],
   "source": []
  }
 ],
 "metadata": {
  "kernelspec": {
   "display_name": "Python 3 (ipykernel)",
   "language": "python",
   "name": "python3"
  },
  "language_info": {
   "codemirror_mode": {
    "name": "ipython",
    "version": 3
   },
   "file_extension": ".py",
   "mimetype": "text/x-python",
   "name": "python",
   "nbconvert_exporter": "python",
   "pygments_lexer": "ipython3",
   "version": "3.9.7"
  }
 },
 "nbformat": 4,
 "nbformat_minor": 5
}
