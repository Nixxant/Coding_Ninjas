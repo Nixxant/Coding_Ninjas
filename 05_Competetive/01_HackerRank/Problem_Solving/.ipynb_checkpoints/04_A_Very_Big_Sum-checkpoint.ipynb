{
 "cells": [
  {
   "cell_type": "markdown",
   "id": "317a0bd8",
   "metadata": {},
   "source": [
    "https://www.hackerrank.com/challenges/a-very-big-sum/problem?isFullScreen=true"
   ]
  },
  {
   "cell_type": "code",
   "execution_count": null,
   "id": "336a0dc4",
   "metadata": {},
   "outputs": [],
   "source": [
    "def aVeryBigSum(ar):\n",
    "    return sum(ar)"
   ]
  }
 ],
 "metadata": {
  "kernelspec": {
   "display_name": "Python 3 (ipykernel)",
   "language": "python",
   "name": "python3"
  },
  "language_info": {
   "codemirror_mode": {
    "name": "ipython",
    "version": 3
   },
   "file_extension": ".py",
   "mimetype": "text/x-python",
   "name": "python",
   "nbconvert_exporter": "python",
   "pygments_lexer": "ipython3",
   "version": "3.9.7"
  }
 },
 "nbformat": 4,
 "nbformat_minor": 5
}
