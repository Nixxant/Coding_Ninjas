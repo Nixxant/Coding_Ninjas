{
 "cells": [
  {
   "cell_type": "markdown",
   "id": "6f2dd0ce",
   "metadata": {},
   "source": [
    "https://www.hackerrank.com/challenges/diagonal-difference/problem?isFullScreen=true"
   ]
  },
  {
   "cell_type": "code",
   "execution_count": 2,
   "id": "a37e44a6",
   "metadata": {},
   "outputs": [
    {
     "name": "stdout",
     "output_type": "stream",
     "text": [
      "2\n"
     ]
    }
   ],
   "source": [
    "def diagonalDifference(arr):\n",
    "    left = 0\n",
    "    right = 0\n",
    "    n = len(arr)\n",
    "    for i in range(n):\n",
    "        left += arr[i][i]\n",
    "        right += arr[i][n-i-1]\n",
    "    return abs(left - right)"
   ]
  },
  {
   "cell_type": "code",
   "execution_count": null,
   "id": "342c65af",
   "metadata": {},
   "outputs": [],
   "source": []
  }
 ],
 "metadata": {
  "kernelspec": {
   "display_name": "Python 3 (ipykernel)",
   "language": "python",
   "name": "python3"
  },
  "language_info": {
   "codemirror_mode": {
    "name": "ipython",
    "version": 3
   },
   "file_extension": ".py",
   "mimetype": "text/x-python",
   "name": "python",
   "nbconvert_exporter": "python",
   "pygments_lexer": "ipython3",
   "version": "3.9.7"
  }
 },
 "nbformat": 4,
 "nbformat_minor": 5
}
