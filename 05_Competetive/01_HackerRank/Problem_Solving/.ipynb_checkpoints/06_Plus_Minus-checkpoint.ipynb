{
 "cells": [
  {
   "cell_type": "markdown",
   "id": "bf9ee523",
   "metadata": {},
   "source": [
    "https://www.hackerrank.com/challenges/plus-minus/problem"
   ]
  },
  {
   "cell_type": "code",
   "execution_count": 4,
   "id": "7f1e2bd4",
   "metadata": {},
   "outputs": [
    {
     "name": "stdout",
     "output_type": "stream",
     "text": [
      "0.5\n",
      "0.333333\n",
      "0.166667\n"
     ]
    }
   ],
   "source": [
    "def plusMinus(arr):\n",
    "    n = len(arr)\n",
    "    plus = 0\n",
    "    minus = 0\n",
    "    for i in arr:\n",
    "        if i > 0 :\n",
    "            plus += 1\n",
    "        if i < 0 :\n",
    "            minus += 1\n",
    "    print(round(plus/n,6))\n",
    "    print(round(minus/n,6))\n",
    "    print(round(1-(plus+minus)/n,6))\n",
    "arr = [-4, 3, -9, 0, 4, 1]\n",
    "plusMinus(arr)\n",
    "        "
   ]
  },
  {
   "cell_type": "code",
   "execution_count": null,
   "id": "1dc13e85",
   "metadata": {},
   "outputs": [],
   "source": []
  }
 ],
 "metadata": {
  "kernelspec": {
   "display_name": "Python 3 (ipykernel)",
   "language": "python",
   "name": "python3"
  },
  "language_info": {
   "codemirror_mode": {
    "name": "ipython",
    "version": 3
   },
   "file_extension": ".py",
   "mimetype": "text/x-python",
   "name": "python",
   "nbconvert_exporter": "python",
   "pygments_lexer": "ipython3",
   "version": "3.9.7"
  }
 },
 "nbformat": 4,
 "nbformat_minor": 5
}
