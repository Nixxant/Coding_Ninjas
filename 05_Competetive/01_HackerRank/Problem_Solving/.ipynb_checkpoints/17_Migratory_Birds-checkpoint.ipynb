{
 "cells": [
  {
   "cell_type": "markdown",
   "id": "ca253d2a",
   "metadata": {},
   "source": [
    "https://www.hackerrank.com/challenges/migratory-birds/problem?isFullScreen=true"
   ]
  },
  {
   "cell_type": "code",
   "execution_count": 27,
   "id": "53601bc6",
   "metadata": {},
   "outputs": [],
   "source": [
    "def migratoryBirds(arr):\n",
    "    d = {}\n",
    "    for i in arr:\n",
    "        d[i] = d.get(i,0) + 1\n",
    "    max_value = -9999999\n",
    "    key_value = 9999999\n",
    "    \n",
    "    for x in d:\n",
    "        if d[x] == max_value:\n",
    "            if x < key_value:\n",
    "                key_value = x\n",
    "        if d[x] > max_value:\n",
    "            max_value = d[x]\n",
    "            key_value = x\n",
    "            \n",
    "            \n",
    "    return key_value"
   ]
  },
  {
   "cell_type": "code",
   "execution_count": 28,
   "id": "3763a7bb",
   "metadata": {},
   "outputs": [
    {
     "name": "stdout",
     "output_type": "stream",
     "text": [
      "3\n"
     ]
    }
   ],
   "source": [
    "arr = [1,2,3,4,5,4,3,2,1,4,3]\n",
    "print(migratoryBirds(arr))"
   ]
  },
  {
   "cell_type": "code",
   "execution_count": null,
   "id": "7f8b1702",
   "metadata": {},
   "outputs": [],
   "source": []
  },
  {
   "cell_type": "code",
   "execution_count": null,
   "id": "ce061a10",
   "metadata": {},
   "outputs": [],
   "source": []
  }
 ],
 "metadata": {
  "kernelspec": {
   "display_name": "Python 3 (ipykernel)",
   "language": "python",
   "name": "python3"
  },
  "language_info": {
   "codemirror_mode": {
    "name": "ipython",
    "version": 3
   },
   "file_extension": ".py",
   "mimetype": "text/x-python",
   "name": "python",
   "nbconvert_exporter": "python",
   "pygments_lexer": "ipython3",
   "version": "3.9.7"
  }
 },
 "nbformat": 4,
 "nbformat_minor": 5
}
