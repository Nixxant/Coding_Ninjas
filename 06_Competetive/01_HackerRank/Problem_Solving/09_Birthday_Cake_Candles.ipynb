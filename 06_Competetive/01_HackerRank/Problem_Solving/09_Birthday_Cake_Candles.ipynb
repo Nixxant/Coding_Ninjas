{
 "cells": [
  {
   "cell_type": "markdown",
   "id": "c55e9c64",
   "metadata": {},
   "source": [
    "https://www.hackerrank.com/challenges/birthday-cake-candles/problem?isFullScreen=true"
   ]
  },
  {
   "cell_type": "code",
   "execution_count": null,
   "id": "6b3f60aa",
   "metadata": {},
   "outputs": [],
   "source": [
    "def birthdayCakeCandles(candles):\n",
    "    d = {}\n",
    "    for i in candles:\n",
    "        d[i] = d.get(i,0) + 1\n",
    "    maximum = -999999\n",
    "    for x in d:\n",
    "        if d[x] > maximum:\n",
    "            maximum = d[x]\n",
    "    return maximum"
   ]
  }
 ],
 "metadata": {
  "kernelspec": {
   "display_name": "Python 3 (ipykernel)",
   "language": "python",
   "name": "python3"
  },
  "language_info": {
   "codemirror_mode": {
    "name": "ipython",
    "version": 3
   },
   "file_extension": ".py",
   "mimetype": "text/x-python",
   "name": "python",
   "nbconvert_exporter": "python",
   "pygments_lexer": "ipython3",
   "version": "3.9.7"
  }
 },
 "nbformat": 4,
 "nbformat_minor": 5
}
