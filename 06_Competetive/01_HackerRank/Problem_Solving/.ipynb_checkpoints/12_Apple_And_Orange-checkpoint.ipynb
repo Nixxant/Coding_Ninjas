{
 "cells": [
  {
   "cell_type": "markdown",
   "id": "a7a7e4e0",
   "metadata": {},
   "source": [
    "https://www.hackerrank.com/challenges/apple-and-orange/problem?isFullScreen=true"
   ]
  },
  {
   "cell_type": "code",
   "execution_count": 3,
   "id": "59d4bdae",
   "metadata": {},
   "outputs": [
    {
     "name": "stdout",
     "output_type": "stream",
     "text": [
      "1\n",
      "1\n"
     ]
    }
   ],
   "source": [
    "def countApplesAndOranges(s,t,a,b,apples,oranges):\n",
    "    count_apple = 0\n",
    "    count_orange = 0\n",
    "    for apple in apples:\n",
    "        if (apple + a) >= s and (apple + a) <= t:\n",
    "            count_apple += 1\n",
    "    for orange in oranges:\n",
    "        if (orange + b) >=s and (orange + b) <= t:\n",
    "            count_orange += 1\n",
    "    print(count_apple)\n",
    "    print(count_orange)\n",
    "\n",
    "apples = [-2,2,1]\n",
    "oranges = [5,-6]\n",
    "countApplesAndOranges(7,11,5,15,apples,oranges)"
   ]
  },
  {
   "cell_type": "code",
   "execution_count": null,
   "id": "01133f43",
   "metadata": {},
   "outputs": [],
   "source": []
  }
 ],
 "metadata": {
  "kernelspec": {
   "display_name": "Python 3 (ipykernel)",
   "language": "python",
   "name": "python3"
  },
  "language_info": {
   "codemirror_mode": {
    "name": "ipython",
    "version": 3
   },
   "file_extension": ".py",
   "mimetype": "text/x-python",
   "name": "python",
   "nbconvert_exporter": "python",
   "pygments_lexer": "ipython3",
   "version": "3.9.7"
  }
 },
 "nbformat": 4,
 "nbformat_minor": 5
}
