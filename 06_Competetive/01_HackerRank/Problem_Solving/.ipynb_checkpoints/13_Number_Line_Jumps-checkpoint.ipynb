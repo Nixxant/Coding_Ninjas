{
 "cells": [
  {
   "cell_type": "markdown",
   "id": "f388e2fa",
   "metadata": {},
   "source": [
    "https://www.hackerrank.com/challenges/kangaroo/problem?isFullScreen=true"
   ]
  },
  {
   "cell_type": "code",
   "execution_count": 6,
   "id": "1862dfff",
   "metadata": {},
   "outputs": [],
   "source": [
    "def kangaroo(x1,v1,x2,v2):\n",
    "    if x1 < x2 and v1 < v2:\n",
    "        return \"NO\"\n",
    "    else:\n",
    "        if v1 != v2 and (x2-x1)%(v2-v1) == 0:\n",
    "            return \"YES\"\n",
    "        else:\n",
    "            return \"NO\"\n",
    "    \n",
    "        \n",
    "        "
   ]
  },
  {
   "cell_type": "code",
   "execution_count": null,
   "id": "89f33d69",
   "metadata": {},
   "outputs": [],
   "source": []
  }
 ],
 "metadata": {
  "kernelspec": {
   "display_name": "Python 3 (ipykernel)",
   "language": "python",
   "name": "python3"
  },
  "language_info": {
   "codemirror_mode": {
    "name": "ipython",
    "version": 3
   },
   "file_extension": ".py",
   "mimetype": "text/x-python",
   "name": "python",
   "nbconvert_exporter": "python",
   "pygments_lexer": "ipython3",
   "version": "3.9.7"
  }
 },
 "nbformat": 4,
 "nbformat_minor": 5
}
