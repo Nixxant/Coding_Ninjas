{
 "cells": [
  {
   "cell_type": "markdown",
   "id": "ab36acb2",
   "metadata": {},
   "source": [
    "https://www.hackerrank.com/challenges/grading/problem?isFullScreen=true"
   ]
  },
  {
   "cell_type": "code",
   "execution_count": 5,
   "id": "d3693058",
   "metadata": {},
   "outputs": [
    {
     "name": "stdout",
     "output_type": "stream",
     "text": [
      "[40, 36, 45, 90, 37, 29]\n"
     ]
    }
   ],
   "source": [
    "def gradingStudens(grades):\n",
    "    new = []\n",
    "    for grade in grades:\n",
    "        if grade > 37:\n",
    "            if grade % 5 >= 3:\n",
    "                grade = grade + 5 - (grade%5)\n",
    "        new.append(grade)\n",
    "    return new\n",
    "grades = [38,36,44,89,37,29]\n",
    "print(gradingStudens(grades))"
   ]
  },
  {
   "cell_type": "code",
   "execution_count": null,
   "id": "1dadabd7",
   "metadata": {},
   "outputs": [],
   "source": []
  }
 ],
 "metadata": {
  "kernelspec": {
   "display_name": "Python 3 (ipykernel)",
   "language": "python",
   "name": "python3"
  },
  "language_info": {
   "codemirror_mode": {
    "name": "ipython",
    "version": 3
   },
   "file_extension": ".py",
   "mimetype": "text/x-python",
   "name": "python",
   "nbconvert_exporter": "python",
   "pygments_lexer": "ipython3",
   "version": "3.9.7"
  }
 },
 "nbformat": 4,
 "nbformat_minor": 5
}
