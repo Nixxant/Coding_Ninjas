{
 "cells": [
  {
   "cell_type": "markdown",
   "id": "cbf2551d",
   "metadata": {},
   "source": [
    "https://www.hackerrank.com/challenges/between-two-sets/problem?isFullScreen=true"
   ]
  },
  {
   "cell_type": "markdown",
   "id": "d89c33f4",
   "metadata": {},
   "source": [
    "We need to find some integers which are\n",
    "Multiples of first array\n",
    "and Factors of second array\n"
   ]
  },
  {
   "cell_type": "code",
   "execution_count": 2,
   "id": "d62ab865",
   "metadata": {},
   "outputs": [],
   "source": [
    "\n"
   ]
  },
  {
   "cell_type": "code",
   "execution_count": 5,
   "id": "d06d2f3a",
   "metadata": {},
   "outputs": [],
   "source": [
    "def getTotalX(a,b):\n",
    "    res = 0\n",
    "    for i in range(max(a), min(b) + 1):\n",
    "        isAnswer = True\n",
    "        for ele in a:\n",
    "            if i % ele != 0:\n",
    "                isAnswer = False\n",
    "                break\n",
    "        for ele in b:\n",
    "            if ele % i != 0:\n",
    "                isAnswer = False\n",
    "                break\n",
    "        if isAnswer == True:\n",
    "            res += 1\n",
    "    return res\n",
    "        \n",
    "    "
   ]
  },
  {
   "cell_type": "code",
   "execution_count": 6,
   "id": "9251229b",
   "metadata": {},
   "outputs": [
    {
     "name": "stdout",
     "output_type": "stream",
     "text": [
      "3\n"
     ]
    }
   ],
   "source": [
    "a = [2,4]\n",
    "b = [16,32,96]\n",
    "print(getTotalX(a,b))"
   ]
  },
  {
   "cell_type": "code",
   "execution_count": null,
   "id": "17f36053",
   "metadata": {},
   "outputs": [],
   "source": []
  }
 ],
 "metadata": {
  "kernelspec": {
   "display_name": "Python 3 (ipykernel)",
   "language": "python",
   "name": "python3"
  },
  "language_info": {
   "codemirror_mode": {
    "name": "ipython",
    "version": 3
   },
   "file_extension": ".py",
   "mimetype": "text/x-python",
   "name": "python",
   "nbconvert_exporter": "python",
   "pygments_lexer": "ipython3",
   "version": "3.9.7"
  }
 },
 "nbformat": 4,
 "nbformat_minor": 5
}
