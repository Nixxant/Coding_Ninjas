{
 "cells": [
  {
   "cell_type": "markdown",
   "id": "54124719",
   "metadata": {},
   "source": [
    "https://www.hackerrank.com/challenges/time-conversion/problem?isFullScreen=true"
   ]
  },
  {
   "cell_type": "code",
   "execution_count": 1,
   "id": "6c1681bd",
   "metadata": {},
   "outputs": [
    {
     "name": "stdout",
     "output_type": "stream",
     "text": [
      "19:05:45\n"
     ]
    }
   ],
   "source": [
    "def timeConversion(s):\n",
    "    x = int(s[:2])\n",
    "    if x == 12:\n",
    "        if s[-2] == \"P\":\n",
    "            return s[:-2]\n",
    "        else:\n",
    "            return \"00\" + s[2:-2]\n",
    "    elif s[-2] == \"P\":\n",
    "        x = x + 12\n",
    "        return str(x) + s[2:-2]\n",
    "    else:\n",
    "        return s[:-2]\n",
    "s = \"07:05:45PM\"\n",
    "print(timeConversion(s))"
   ]
  },
  {
   "cell_type": "code",
   "execution_count": null,
   "id": "613f24c2",
   "metadata": {},
   "outputs": [],
   "source": []
  }
 ],
 "metadata": {
  "kernelspec": {
   "display_name": "Python 3 (ipykernel)",
   "language": "python",
   "name": "python3"
  },
  "language_info": {
   "codemirror_mode": {
    "name": "ipython",
    "version": 3
   },
   "file_extension": ".py",
   "mimetype": "text/x-python",
   "name": "python",
   "nbconvert_exporter": "python",
   "pygments_lexer": "ipython3",
   "version": "3.9.7"
  }
 },
 "nbformat": 4,
 "nbformat_minor": 5
}
