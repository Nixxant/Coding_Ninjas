{
 "cells": [
  {
   "cell_type": "markdown",
   "id": "e8c79b37",
   "metadata": {},
   "source": [
    "You are given an array of integers that contain numbers in random order. Write a program to find and return the number which occurs the maximum times in the given input.\n",
    "\n",
    "If two or more elements are having the maximum frequency, return the element which occurs in the array first.\n",
    "\n",
    "Input Format:\n",
    "\n",
    "The first line of input contains an integer, that denotes the value of the size of the array. Let us denote it with the symbol N.\n",
    "\n",
    "The following line contains N space separated integers, that denote the value of the elements of the array.\n",
    "\n",
    "Output Format :\n",
    "\n",
    "The first and only line of output contains most frequent element in the given array.\n",
    "\n",
    "Constraints:\n",
    "\n",
    "0 <= N <= 10^8\n",
    "\n",
    "Time Limit: 1 sec\n",
    "\n",
    "Sample Input 1 :\n",
    "\n",
    "13\n",
    "\n",
    "2 12 2 11 12 2 1 2 2 11 12 2 6 \n",
    "\n",
    "Sample Output 1 :\n",
    "\n",
    "2\n",
    "\n",
    "\n",
    "Sample Input 2 :\n",
    "\n",
    "3\n",
    "\n",
    "1 4 5\n",
    "\n",
    "Sample Output 2 :\n",
    "\n",
    "1"
   ]
  },
  {
   "cell_type": "code",
   "execution_count": null,
   "id": "5ae51957",
   "metadata": {},
   "outputs": [],
   "source": [
    "from sys import stdin\n",
    "def maximumFrequency(arr,n):\n",
    "    if n == 0:\n",
    "        return\n",
    "    d = {}\n",
    "    for i in arr:\n",
    "        d[i] = d.get(i,0) + 1\n",
    "    ans = arr[0]\n",
    "    for x in arr:\n",
    "        if d[x] > d[ans]:\n",
    "            ans = x\n",
    "    return ans\n",
    "\n",
    "\n",
    "\n",
    "def takeInput():\n",
    "    #To take fast I/O\n",
    "    n=int(stdin.readline().strip())\n",
    "    if n==0:\n",
    "        return list(),0\n",
    "    arr=list(map(int,stdin.readline().strip().split( )))\n",
    "    return arr,n\n",
    "arr,n=takeInput()\n",
    "print(maximumFrequency(arr,n))"
   ]
  }
 ],
 "metadata": {
  "kernelspec": {
   "display_name": "Python 3 (ipykernel)",
   "language": "python",
   "name": "python3"
  },
  "language_info": {
   "codemirror_mode": {
    "name": "ipython",
    "version": 3
   },
   "file_extension": ".py",
   "mimetype": "text/x-python",
   "name": "python",
   "nbconvert_exporter": "python",
   "pygments_lexer": "ipython3",
   "version": "3.9.7"
  }
 },
 "nbformat": 4,
 "nbformat_minor": 5
}
