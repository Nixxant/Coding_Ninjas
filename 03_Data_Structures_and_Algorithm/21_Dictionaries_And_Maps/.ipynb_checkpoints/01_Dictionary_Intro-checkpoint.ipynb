{
 "cells": [
  {
   "cell_type": "code",
   "execution_count": 1,
   "id": "4101fa13",
   "metadata": {},
   "outputs": [
    {
     "data": {
      "text/plain": [
       "dict"
      ]
     },
     "execution_count": 1,
     "metadata": {},
     "output_type": "execute_result"
    }
   ],
   "source": [
    "a = {}\n",
    "type(a)"
   ]
  },
  {
   "cell_type": "code",
   "execution_count": 2,
   "id": "8590e361",
   "metadata": {},
   "outputs": [
    {
     "name": "stdout",
     "output_type": "stream",
     "text": [
      "{'the': 5, 'a': 5, 10000: 'abc'}\n"
     ]
    }
   ],
   "source": [
    "my_dict = {\"the\" : 5, \"a\" : 5, 10000 : \"abc\"}\n",
    "print(my_dict)"
   ]
  },
  {
   "cell_type": "code",
   "execution_count": 6,
   "id": "c9483df5",
   "metadata": {},
   "outputs": [
    {
     "name": "stdout",
     "output_type": "stream",
     "text": [
      "3\n"
     ]
    }
   ],
   "source": [
    "print(len(my_dict))"
   ]
  },
  {
   "cell_type": "code",
   "execution_count": 7,
   "id": "e9508241",
   "metadata": {},
   "outputs": [],
   "source": [
    "\"\"\" To copy a dictionary \"\"\"\n",
    "b = my_dict.copy()"
   ]
  },
  {
   "cell_type": "code",
   "execution_count": 8,
   "id": "fa861a88",
   "metadata": {},
   "outputs": [
    {
     "name": "stdout",
     "output_type": "stream",
     "text": [
      "{'the': 5, 'a': 5, 10000: 'abc'}\n"
     ]
    }
   ],
   "source": [
    "print(b)"
   ]
  },
  {
   "cell_type": "code",
   "execution_count": null,
   "id": "4f371321",
   "metadata": {},
   "outputs": [],
   "source": []
  },
  {
   "cell_type": "code",
   "execution_count": null,
   "id": "1c030a65",
   "metadata": {},
   "outputs": [],
   "source": []
  },
  {
   "cell_type": "code",
   "execution_count": 9,
   "id": "b6900135",
   "metadata": {},
   "outputs": [],
   "source": [
    "# Another way to create dictionary"
   ]
  },
  {
   "cell_type": "code",
   "execution_count": 10,
   "id": "0f1792e9",
   "metadata": {},
   "outputs": [],
   "source": [
    "c = dict([(1,2),(\"new\",6),(\"abc\", 100)])"
   ]
  },
  {
   "cell_type": "code",
   "execution_count": 11,
   "id": "ada682e7",
   "metadata": {},
   "outputs": [
    {
     "name": "stdout",
     "output_type": "stream",
     "text": [
      "{1: 2, 'new': 6, 'abc': 100}\n"
     ]
    }
   ],
   "source": [
    "print(c)"
   ]
  },
  {
   "cell_type": "code",
   "execution_count": null,
   "id": "e2e114c6",
   "metadata": {},
   "outputs": [],
   "source": []
  },
  {
   "cell_type": "code",
   "execution_count": null,
   "id": "b2044de3",
   "metadata": {},
   "outputs": [],
   "source": []
  },
  {
   "cell_type": "code",
   "execution_count": 22,
   "id": "ebb556de",
   "metadata": {},
   "outputs": [],
   "source": [
    "# To create a dictionary with only keys"
   ]
  },
  {
   "cell_type": "code",
   "execution_count": null,
   "id": "56349840",
   "metadata": {},
   "outputs": [],
   "source": [
    "# All keys will have a initial value None but the value after comma,,, all keys will have the same value"
   ]
  },
  {
   "cell_type": "code",
   "execution_count": 19,
   "id": "c6d998ca",
   "metadata": {},
   "outputs": [],
   "source": [
    "d = dict.fromkeys([\"abc\", 1, \"new\"],10)"
   ]
  },
  {
   "cell_type": "code",
   "execution_count": 20,
   "id": "c0003076",
   "metadata": {},
   "outputs": [
    {
     "name": "stdout",
     "output_type": "stream",
     "text": [
      "{'abc': 10, 1: 10, 'new': 10}\n"
     ]
    }
   ],
   "source": [
    "print(d)"
   ]
  },
  {
   "cell_type": "code",
   "execution_count": null,
   "id": "1f5c166a",
   "metadata": {},
   "outputs": [],
   "source": []
  }
 ],
 "metadata": {
  "kernelspec": {
   "display_name": "Python 3 (ipykernel)",
   "language": "python",
   "name": "python3"
  },
  "language_info": {
   "codemirror_mode": {
    "name": "ipython",
    "version": 3
   },
   "file_extension": ".py",
   "mimetype": "text/x-python",
   "name": "python",
   "nbconvert_exporter": "python",
   "pygments_lexer": "ipython3",
   "version": "3.9.7"
  }
 },
 "nbformat": 4,
 "nbformat_minor": 5
}
