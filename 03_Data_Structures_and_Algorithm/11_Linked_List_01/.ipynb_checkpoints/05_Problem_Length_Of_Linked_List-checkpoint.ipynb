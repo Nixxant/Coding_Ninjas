{
 "cells": [
  {
   "cell_type": "markdown",
   "id": "1d4e0901",
   "metadata": {},
   "source": [
    "Given the head of a singly linked list of integers, find and return its length.\n",
    "\n",
    "\n",
    "Example:\n",
    "\n",
    "\n",
    "Sample Linked List\n",
    "\n",
    "The length of the list is 4. Hence we return 4.\n",
    "\n",
    "\n",
    "\n",
    "Note:\n",
    "\n",
    "Exercise caution when dealing with edge cases, such as when the head is NULL. Failing to handle these edge cases appropriately may result in a runtime error in your code.\n",
    "\n",
    "Input format :\n",
    "\n",
    "The first and only line contains elements of the singly linked list separated by a single space. \n",
    "\n",
    "Remember/Consider :\n",
    "\n",
    "While specifying the list elements for input, -1 indicates the end of the singly linked list and hence, would never be a \n",
    "list element.\n",
    "\n",
    "Output format :\n",
    "\n",
    "The output contains a single integer denoting the length of the linked list.\n",
    "\n",
    "Sample Input 1 :\n",
    "\n",
    "3 4 5 2 6 1 9 -1\n",
    "\n",
    "Sample Output 1 :\n",
    "\n",
    "7\n",
    "\n",
    "\n",
    "\n",
    "Explanation of sample input 1 :\n",
    "\n",
    "The number of nodes in the given linked list is 7.\n",
    "\n",
    "Hence we return 7.\n",
    "\n",
    "\n",
    "\n",
    "Sample Input 2 :\n",
    "\n",
    "10 76 39 -3 2 9 -23 9 -1\n",
    "\n",
    "Sample Output 2 :\n",
    "\n",
    "8\n",
    "\n",
    "Constraints :\n",
    "\n",
    "0 <= N <= 10^5\n",
    "\n",
    "Time Limit: 1 sec\n"
   ]
  },
  {
   "cell_type": "code",
   "execution_count": 1,
   "id": "f2f2239c",
   "metadata": {},
   "outputs": [],
   "source": [
    "def length(head):\n",
    "    if head is None:\n",
    "        return 0\n",
    "    return(1+length(head.next))"
   ]
  },
  {
   "cell_type": "code",
   "execution_count": null,
   "id": "f5083f7c",
   "metadata": {},
   "outputs": [],
   "source": [
    "def length(head):\n",
    "    count = 0\n",
    "    while head:\n",
    "        count+=1\n",
    "        head.next"
   ]
  }
 ],
 "metadata": {
  "kernelspec": {
   "display_name": "Python 3 (ipykernel)",
   "language": "python",
   "name": "python3"
  },
  "language_info": {
   "codemirror_mode": {
    "name": "ipython",
    "version": 3
   },
   "file_extension": ".py",
   "mimetype": "text/x-python",
   "name": "python",
   "nbconvert_exporter": "python",
   "pygments_lexer": "ipython3",
   "version": "3.9.7"
  }
 },
 "nbformat": 4,
 "nbformat_minor": 5
}
