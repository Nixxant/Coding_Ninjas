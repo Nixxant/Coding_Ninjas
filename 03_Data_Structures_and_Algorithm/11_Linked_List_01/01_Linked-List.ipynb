{
 "cells": [
  {
   "cell_type": "code",
   "execution_count": 2,
   "id": "3c48b162",
   "metadata": {},
   "outputs": [
    {
     "name": "stdout",
     "output_type": "stream",
     "text": [
      "13\n",
      "15\n",
      "15\n",
      "<__main__.Node object at 0x000001D73B7E0220>\n",
      "<__main__.Node object at 0x000001D73B7D2340>\n",
      "<__main__.Node object at 0x000001D73B7D2340>\n"
     ]
    }
   ],
   "source": [
    "class Node:\n",
    "    def __init__(self, data):\n",
    "        self.data = data\n",
    "        self.next = None\n",
    "        \n",
    "a = Node(13)\n",
    "b = Node(15)\n",
    "a.next = b\n",
    "print(a.data)\n",
    "print(b.data)\n",
    "print(a.next.data)\n",
    "print(a)\n",
    "print(a.next)\n",
    "print(b)"
   ]
  },
  {
   "cell_type": "code",
   "execution_count": 6,
   "id": "0f903c08",
   "metadata": {},
   "outputs": [
    {
     "name": "stdout",
     "output_type": "stream",
     "text": [
      "1 2 3 4 -1\n",
      "1 2 3 4 5 6 7 8 -1\n",
      "1-> 2-> 3-> 4-> None\n",
      "1-> 2-> 3-> 4-> 5-> 6-> 7-> 8-> None\n"
     ]
    }
   ],
   "source": [
    "class Node:\n",
    "    def __init__(self, data):\n",
    "        self.data = data\n",
    "        self.next = None\n",
    "\n",
    "        \n",
    "def printLL(head):\n",
    "    while head is not None:\n",
    "        print(str(head.data) + \"->\", end = \" \")\n",
    "        head = head.next\n",
    "    print(None)\n",
    "    return\n",
    "def takeInput():\n",
    "    inputList = [int(ele) for ele in input().split()]\n",
    "    head = None\n",
    "    for currData in inputList:\n",
    "        if currData == -1:\n",
    "            break\n",
    "        newNode = Node(currData)\n",
    "        if head is None:\n",
    "            head = newNode\n",
    "        else:\n",
    "            curr = head\n",
    "            while curr.next is not None:\n",
    "                curr = curr.next\n",
    "            curr.next = newNode\n",
    "            \n",
    "    return head\n",
    "\n",
    "head = takeInput()\n",
    "new_head = takeInput()\n",
    "printLL(head)\n",
    "printLL(new_head)"
   ]
  },
  {
   "cell_type": "code",
   "execution_count": null,
   "id": "0038ec0f",
   "metadata": {},
   "outputs": [],
   "source": []
  },
  {
   "cell_type": "code",
   "execution_count": null,
   "id": "06bc983e",
   "metadata": {},
   "outputs": [],
   "source": []
  },
  {
   "cell_type": "code",
   "execution_count": null,
   "id": "2dbbaabb",
   "metadata": {},
   "outputs": [],
   "source": []
  },
  {
   "cell_type": "markdown",
   "id": "c48f16cb",
   "metadata": {},
   "source": [
    "Optimized Take input of linked list"
   ]
  },
  {
   "cell_type": "code",
   "execution_count": 2,
   "id": "342ff0ce",
   "metadata": {},
   "outputs": [
    {
     "name": "stdout",
     "output_type": "stream",
     "text": [
      "1 2 3 -1\n",
      "\n",
      "1-> 2-> 3-> None\n",
      "None\n"
     ]
    }
   ],
   "source": [
    "class Node:\n",
    "    def __init__(self, data):\n",
    "        self.data = data\n",
    "        self.next = None\n",
    "\n",
    "        \n",
    "def printLL(head):\n",
    "    while head is not None:\n",
    "        print(str(head.data) + \"->\", end = \" \")\n",
    "        head = head.next\n",
    "    print(None)\n",
    "    return\n",
    "def takeInput():\n",
    "    inputList = [int(ele) for ele in input().split()]\n",
    "    head = None\n",
    "    tail = None\n",
    "    for currData in inputList:\n",
    "        if currData == -1:\n",
    "            break\n",
    "        newNode = Node(currData)\n",
    "        if head is None:\n",
    "            head = newNode\n",
    "            tail = newNode\n",
    "        else:\n",
    "            tail.next = newNode\n",
    "            tail = newNode\n",
    "    return head\n",
    "\n",
    "head = takeInput()\n",
    "new_head = takeInput()\n",
    "printLL(head)\n",
    "printLL(new_head)"
   ]
  },
  {
   "cell_type": "code",
   "execution_count": null,
   "id": "cdefa131",
   "metadata": {},
   "outputs": [],
   "source": []
  }
 ],
 "metadata": {
  "kernelspec": {
   "display_name": "Python 3 (ipykernel)",
   "language": "python",
   "name": "python3"
  },
  "language_info": {
   "codemirror_mode": {
    "name": "ipython",
    "version": 3
   },
   "file_extension": ".py",
   "mimetype": "text/x-python",
   "name": "python",
   "nbconvert_exporter": "python",
   "pygments_lexer": "ipython3",
   "version": "3.9.7"
  }
 },
 "nbformat": 4,
 "nbformat_minor": 5
}
