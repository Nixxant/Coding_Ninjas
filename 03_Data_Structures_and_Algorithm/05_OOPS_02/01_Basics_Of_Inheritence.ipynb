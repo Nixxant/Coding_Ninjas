{
 "cells": [
  {
   "cell_type": "code",
   "execution_count": 15,
   "id": "ee37c4ff",
   "metadata": {
    "scrolled": true
   },
   "outputs": [],
   "source": [
    "#Parent Class\n",
    "class Vehicle:\n",
    "    def __init__(self, make, model, fuel):\n",
    "        self.make = make\n",
    "        self.model = model\n",
    "        self.fuel = fuel\n",
    "\n",
    "        \n",
    "\n",
    " \n",
    "        \n",
    "    "
   ]
  },
  {
   "cell_type": "code",
   "execution_count": 24,
   "id": "cc041dbb",
   "metadata": {},
   "outputs": [],
   "source": [
    "#Child Class\n",
    "\n",
    "class Car(Vehicle):\n",
    "    def __init__(self, make, model, fuel, air_conditioning, sunroof):\n",
    "        #Parent Attributes\n",
    "        Vehicle.make = make\n",
    "        Vehicle.model = model\n",
    "        Vehicle.fuel = fuel\n",
    "        \n",
    "        #Child Attributes\n",
    "        self.air_conditioning = air_conditioning\n",
    "        self.sunroof = sunroof\n",
    "    def show_parent_attribute(self):\n",
    "        print(Vehicle.make,\"\",Vehicle.model,\"\",Vehicle.fuel)\n"
   ]
  },
  {
   "cell_type": "code",
   "execution_count": 25,
   "id": "9ea30a7a",
   "metadata": {},
   "outputs": [
    {
     "data": {
      "text/plain": [
       "{'air_conditioning': True, 'sunroof': True}"
      ]
     },
     "execution_count": 25,
     "metadata": {},
     "output_type": "execute_result"
    }
   ],
   "source": [
    "myobj = Car(\"Honda\", 2012, \"Petrol\", True, True)\n",
    "myobj.__dict__"
   ]
  },
  {
   "cell_type": "code",
   "execution_count": 26,
   "id": "36b22118",
   "metadata": {},
   "outputs": [
    {
     "name": "stdout",
     "output_type": "stream",
     "text": [
      "Honda  2012  Petrol\n"
     ]
    }
   ],
   "source": [
    "myobj.show_parent_attribute()"
   ]
  },
  {
   "cell_type": "code",
   "execution_count": null,
   "id": "b1ebdfde",
   "metadata": {},
   "outputs": [],
   "source": []
  }
 ],
 "metadata": {
  "kernelspec": {
   "display_name": "Python 3 (ipykernel)",
   "language": "python",
   "name": "python3"
  },
  "language_info": {
   "codemirror_mode": {
    "name": "ipython",
    "version": 3
   },
   "file_extension": ".py",
   "mimetype": "text/x-python",
   "name": "python",
   "nbconvert_exporter": "python",
   "pygments_lexer": "ipython3",
   "version": "3.9.7"
  }
 },
 "nbformat": 4,
 "nbformat_minor": 5
}
