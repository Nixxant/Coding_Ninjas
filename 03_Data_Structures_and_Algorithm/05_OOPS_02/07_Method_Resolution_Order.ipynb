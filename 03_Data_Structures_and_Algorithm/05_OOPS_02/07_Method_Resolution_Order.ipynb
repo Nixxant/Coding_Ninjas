{
 "cells": [
  {
   "cell_type": "code",
   "execution_count": 1,
   "id": "32f29e09",
   "metadata": {},
   "outputs": [],
   "source": [
    "class Car():\n",
    "    def __init__(self,make,model,fuel):\n",
    "        self.make = make\n",
    "        self.model = model\n",
    "        self.fuel = fuel\n",
    "    def get_car_detail(self):\n",
    "        return \"The make of the car is \", self.make, \"from Car class\"\n",
    "class Electric_car():\n",
    "    def __init__(self,make,model,fuel):\n",
    "        self.make = make\n",
    "        self.model = model\n",
    "        self.fuel = fuel\n",
    "    def get_car_detail(self):\n",
    "        return \"The make of this car is \", self.make, \"from Electric_car class\""
   ]
  },
  {
   "cell_type": "code",
   "execution_count": 2,
   "id": "bbd1a0bc",
   "metadata": {},
   "outputs": [],
   "source": [
    "class Taxi(Car,Electric_car):\n",
    "    def __init__(self,make,model,fuel):\n",
    "        super().__init__(make,model,fuel)\n",
    "\n",
    "        \n",
    "    "
   ]
  },
  {
   "cell_type": "code",
   "execution_count": 3,
   "id": "f965f9c0",
   "metadata": {},
   "outputs": [],
   "source": [
    "myObj = Taxi(\"Tesla\",2019,\"Electric\")\n"
   ]
  },
  {
   "cell_type": "code",
   "execution_count": 4,
   "id": "82210222",
   "metadata": {},
   "outputs": [
    {
     "data": {
      "text/plain": [
       "('The make of the car is ', 'Tesla', 'from Car class')"
      ]
     },
     "execution_count": 4,
     "metadata": {},
     "output_type": "execute_result"
    }
   ],
   "source": [
    "myObj.get_car_detail()"
   ]
  },
  {
   "cell_type": "code",
   "execution_count": 6,
   "id": "2abe8e45",
   "metadata": {},
   "outputs": [
    {
     "data": {
      "text/plain": [
       "(__main__.Taxi, __main__.Car, __main__.Electric_car, object)"
      ]
     },
     "execution_count": 6,
     "metadata": {},
     "output_type": "execute_result"
    }
   ],
   "source": [
    "Taxi.__mro__"
   ]
  },
  {
   "cell_type": "code",
   "execution_count": null,
   "id": "4a554553",
   "metadata": {},
   "outputs": [],
   "source": []
  },
  {
   "cell_type": "code",
   "execution_count": null,
   "id": "33673bd1",
   "metadata": {},
   "outputs": [],
   "source": []
  }
 ],
 "metadata": {
  "kernelspec": {
   "display_name": "Python 3 (ipykernel)",
   "language": "python",
   "name": "python3"
  },
  "language_info": {
   "codemirror_mode": {
    "name": "ipython",
    "version": 3
   },
   "file_extension": ".py",
   "mimetype": "text/x-python",
   "name": "python",
   "nbconvert_exporter": "python",
   "pygments_lexer": "ipython3",
   "version": "3.9.7"
  }
 },
 "nbformat": 4,
 "nbformat_minor": 5
}
