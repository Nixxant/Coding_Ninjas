{
 "cells": [
  {
   "cell_type": "code",
   "execution_count": 1,
   "id": "8f0a4f55",
   "metadata": {},
   "outputs": [],
   "source": [
    "# Parent Class\n",
    "class Vehicle():\n",
    "    current_year=2021\n",
    "    base_price=1000\n",
    "    \n",
    "    def __init__(self,make,model,fuel):\n",
    "        self.make=make\n",
    "        #Protected Attributes\n",
    "        self._model=model\n",
    "        self._fuel=fuel\n",
    "    \n",
    "    def _get_value(self):\n",
    "        age=Vehicle.current_year-self.model\n",
    "        print(\"This is default method of parent\")\n",
    "        return Vehicle.base_price*(1/age)\n"
   ]
  },
  {
   "cell_type": "code",
   "execution_count": 2,
   "id": "eb324354",
   "metadata": {},
   "outputs": [],
   "source": [
    "# Child Class\n",
    "class Car(Vehicle):\n",
    "    def __init__(self,make,model,fuel,air_conditioning,sunroof):\n",
    "        super(Car,self).__init__(make,model,fuel)\n",
    "        #protected\n",
    "        self._air_conditioning=air_conditioning\n",
    "        self._sunroof=sunroof\n",
    "    #Overriding Method --> replaces the parent default method\n",
    "    #Protected Method\n",
    "    def _get_value(self):\n",
    "        Vehicle.base_price=5000\n",
    "        age=Vehicle.current_year-self._model\n",
    "        print(\"This is child override method\")\n",
    "        return Vehicle.base_price*(1/age)"
   ]
  },
  {
   "cell_type": "code",
   "execution_count": 3,
   "id": "79080038",
   "metadata": {},
   "outputs": [
    {
     "data": {
      "text/plain": [
       "True"
      ]
     },
     "execution_count": 3,
     "metadata": {},
     "output_type": "execute_result"
    }
   ],
   "source": [
    "myObj=Car(\"Tesla\",2019,\"Electric\",True,True)\n",
    "\n",
    "myObj._air_conditioning"
   ]
  },
  {
   "cell_type": "code",
   "execution_count": 4,
   "id": "da2786af",
   "metadata": {},
   "outputs": [
    {
     "data": {
      "text/plain": [
       "True"
      ]
     },
     "execution_count": 4,
     "metadata": {},
     "output_type": "execute_result"
    }
   ],
   "source": [
    "myObj._sunroof"
   ]
  },
  {
   "cell_type": "code",
   "execution_count": 5,
   "id": "354d8c00",
   "metadata": {},
   "outputs": [
    {
     "name": "stdout",
     "output_type": "stream",
     "text": [
      "This is child override method\n"
     ]
    },
    {
     "data": {
      "text/plain": [
       "2500.0"
      ]
     },
     "execution_count": 5,
     "metadata": {},
     "output_type": "execute_result"
    }
   ],
   "source": [
    "myObj._get_value()"
   ]
  },
  {
   "cell_type": "code",
   "execution_count": null,
   "id": "faacb620",
   "metadata": {},
   "outputs": [],
   "source": []
  }
 ],
 "metadata": {
  "kernelspec": {
   "display_name": "Python 3 (ipykernel)",
   "language": "python",
   "name": "python3"
  },
  "language_info": {
   "codemirror_mode": {
    "name": "ipython",
    "version": 3
   },
   "file_extension": ".py",
   "mimetype": "text/x-python",
   "name": "python",
   "nbconvert_exporter": "python",
   "pygments_lexer": "ipython3",
   "version": "3.9.7"
  }
 },
 "nbformat": 4,
 "nbformat_minor": 5
}
