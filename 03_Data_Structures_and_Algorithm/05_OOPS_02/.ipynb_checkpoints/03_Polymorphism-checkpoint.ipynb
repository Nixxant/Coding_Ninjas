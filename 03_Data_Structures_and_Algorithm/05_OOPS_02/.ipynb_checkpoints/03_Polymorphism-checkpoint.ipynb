{
 "cells": [
  {
   "cell_type": "code",
   "execution_count": 1,
   "id": "19729cc5",
   "metadata": {},
   "outputs": [],
   "source": [
    "# Parent Class\n",
    "class Vehicle():\n",
    "    current_year=2021\n",
    "    base_price=1000\n",
    "    \n",
    "    def __init__(self,make,model,fuel):\n",
    "        self.make=make\n",
    "        self.__model=model\n",
    "        self.__fuel=fuel\n",
    "    def __private_method_parent(self):\n",
    "        print(\"This is private\")\n",
    "    def get_value(self):\n",
    "        age=Vehicle.current_year-self.__model\n",
    "        return Vehicle.base_price*(1/age)"
   ]
  },
  {
   "cell_type": "code",
   "execution_count": 2,
   "id": "217ab9c6",
   "metadata": {},
   "outputs": [],
   "source": [
    "# Child Class\n",
    "class Car(Vehicle):\n",
    "    def __init__(self,make,model,fuel,air_conditioning,sunroof):\n",
    "        super(Car,self).__init__(make,model,fuel)\n",
    "        self.air_conditioning=air_conditioning\n",
    "        self.sunroof=sunroof\n",
    "    def get_value(self):\n",
    "        Vehicle.base_price=5000\n",
    "        age=Vehicle.current_year-self._Vehicle__model\n",
    "        print(\"This is child override method\")\n",
    "        return Vehicle.base_price*(1/age)"
   ]
  },
  {
   "cell_type": "code",
   "execution_count": 3,
   "id": "8b66b2f3",
   "metadata": {},
   "outputs": [
    {
     "data": {
      "text/plain": [
       "{'make': 'Tesla',\n",
       " '_Vehicle__model': 2019,\n",
       " '_Vehicle__fuel': 'Electric',\n",
       " 'air_conditioning': True,\n",
       " 'sunroof': True}"
      ]
     },
     "execution_count": 3,
     "metadata": {},
     "output_type": "execute_result"
    }
   ],
   "source": [
    "myobj=Car(\"Tesla\",2019,\"Electric\",True,True)\n",
    "myobj.__dict__"
   ]
  },
  {
   "cell_type": "code",
   "execution_count": 4,
   "id": "dde00201",
   "metadata": {},
   "outputs": [
    {
     "name": "stdout",
     "output_type": "stream",
     "text": [
      "This is child override method\n"
     ]
    },
    {
     "data": {
      "text/plain": [
       "2500.0"
      ]
     },
     "execution_count": 4,
     "metadata": {},
     "output_type": "execute_result"
    }
   ],
   "source": [
    "myobj.get_value()"
   ]
  },
  {
   "cell_type": "code",
   "execution_count": 5,
   "id": "aea2df39",
   "metadata": {},
   "outputs": [
    {
     "name": "stdout",
     "output_type": "stream",
     "text": [
      "This is private\n"
     ]
    }
   ],
   "source": [
    "myobj._Vehicle__private_method_parent()"
   ]
  },
  {
   "cell_type": "code",
   "execution_count": 6,
   "id": "e7e96bb0",
   "metadata": {},
   "outputs": [
    {
     "data": {
      "text/plain": [
       "1666.6666666666665"
      ]
     },
     "execution_count": 6,
     "metadata": {},
     "output_type": "execute_result"
    }
   ],
   "source": [
    "myparentobj=Vehicle(\"Ford\",2018,\"petrol\")\n",
    "myparentobj.get_value()"
   ]
  },
  {
   "cell_type": "code",
   "execution_count": null,
   "id": "2961d4fe",
   "metadata": {},
   "outputs": [],
   "source": []
  }
 ],
 "metadata": {
  "kernelspec": {
   "display_name": "Python 3 (ipykernel)",
   "language": "python",
   "name": "python3"
  },
  "language_info": {
   "codemirror_mode": {
    "name": "ipython",
    "version": 3
   },
   "file_extension": ".py",
   "mimetype": "text/x-python",
   "name": "python",
   "nbconvert_exporter": "python",
   "pygments_lexer": "ipython3",
   "version": "3.9.7"
  }
 },
 "nbformat": 4,
 "nbformat_minor": 5
}
