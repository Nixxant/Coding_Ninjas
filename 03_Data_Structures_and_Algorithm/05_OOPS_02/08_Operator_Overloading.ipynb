{
 "cells": [
  {
   "cell_type": "code",
   "execution_count": 1,
   "id": "c0b0a3b0",
   "metadata": {},
   "outputs": [],
   "source": [
    "class Vehicle:\n",
    "    def __init__(self,make,model,fare):\n",
    "        self.make=make\n",
    "        self.model=model\n",
    "        self.fare=fare\n",
    "    def __str__(self):\n",
    "        return \"The make of the model is {} and the model is of {} with a fare of {}\".format(self.make,self.model,self.fare)\n",
    "    def __add__(self,other):\n",
    "        return self.fare+other.fare"
   ]
  },
  {
   "cell_type": "code",
   "execution_count": 2,
   "id": "1437dcac",
   "metadata": {},
   "outputs": [],
   "source": [
    "myob1=Vehicle(\"Tesla\",2019,40)\n",
    "myob2=Vehicle(\"ford\",2018,80)\n"
   ]
  },
  {
   "cell_type": "code",
   "execution_count": 3,
   "id": "a2c7cd49",
   "metadata": {},
   "outputs": [
    {
     "name": "stdout",
     "output_type": "stream",
     "text": [
      "The make of the model is Tesla and the model is of 2019 with a fare of 40\n"
     ]
    }
   ],
   "source": [
    "print(myob1)\n"
   ]
  },
  {
   "cell_type": "code",
   "execution_count": 4,
   "id": "fe191133",
   "metadata": {},
   "outputs": [
    {
     "data": {
      "text/plain": [
       "120"
      ]
     },
     "execution_count": 4,
     "metadata": {},
     "output_type": "execute_result"
    }
   ],
   "source": [
    "myob1+myob2\n"
   ]
  },
  {
   "cell_type": "code",
   "execution_count": null,
   "id": "9aea9d4c",
   "metadata": {},
   "outputs": [],
   "source": []
  }
 ],
 "metadata": {
  "kernelspec": {
   "display_name": "Python 3 (ipykernel)",
   "language": "python",
   "name": "python3"
  },
  "language_info": {
   "codemirror_mode": {
    "name": "ipython",
    "version": 3
   },
   "file_extension": ".py",
   "mimetype": "text/x-python",
   "name": "python",
   "nbconvert_exporter": "python",
   "pygments_lexer": "ipython3",
   "version": "3.9.7"
  }
 },
 "nbformat": 4,
 "nbformat_minor": 5
}
