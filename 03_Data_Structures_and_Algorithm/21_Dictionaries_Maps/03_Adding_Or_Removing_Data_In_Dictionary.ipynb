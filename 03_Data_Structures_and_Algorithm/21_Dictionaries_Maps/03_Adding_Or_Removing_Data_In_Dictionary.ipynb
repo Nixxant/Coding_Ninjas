{
 "cells": [
  {
   "cell_type": "code",
   "execution_count": 1,
   "id": "f6dfe96b",
   "metadata": {},
   "outputs": [],
   "source": [
    "a = {1:2, 3:4, \"list\" : [2,3,\"a\",\"s\"], \"dict\" : {\"a\":\"b\", 4:91}}"
   ]
  },
  {
   "cell_type": "code",
   "execution_count": 2,
   "id": "a7202f01",
   "metadata": {},
   "outputs": [
    {
     "data": {
      "text/plain": [
       "{1: 2, 3: 4, 'list': [2, 3, 'a', 's'], 'dict': {'a': 'b', 4: 91}}"
      ]
     },
     "execution_count": 2,
     "metadata": {},
     "output_type": "execute_result"
    }
   ],
   "source": [
    "a"
   ]
  },
  {
   "cell_type": "code",
   "execution_count": 4,
   "id": "bf79d4f1",
   "metadata": {},
   "outputs": [],
   "source": [
    "# To store a new key and value in dictionary\n",
    "\n",
    "a[\"Tuple\"] = (1,2,3,4)"
   ]
  },
  {
   "cell_type": "code",
   "execution_count": 5,
   "id": "460b9b01",
   "metadata": {},
   "outputs": [
    {
     "data": {
      "text/plain": [
       "{1: 2,\n",
       " 3: 4,\n",
       " 'list': [2, 3, 'a', 's'],\n",
       " 'dict': {'a': 'b', 4: 91},\n",
       " 'Tuple': (1, 2, 3, 4)}"
      ]
     },
     "execution_count": 5,
     "metadata": {},
     "output_type": "execute_result"
    }
   ],
   "source": [
    "a"
   ]
  },
  {
   "cell_type": "code",
   "execution_count": 6,
   "id": "c4d7b6f7",
   "metadata": {},
   "outputs": [],
   "source": [
    "# To update data in a dictionary just asign a value in front of the key in the dictionary\n",
    "\n",
    "a[1] = 9"
   ]
  },
  {
   "cell_type": "code",
   "execution_count": 7,
   "id": "0c77ca7e",
   "metadata": {},
   "outputs": [
    {
     "data": {
      "text/plain": [
       "{1: 9,\n",
       " 3: 4,\n",
       " 'list': [2, 3, 'a', 's'],\n",
       " 'dict': {'a': 'b', 4: 91},\n",
       " 'Tuple': (1, 2, 3, 4)}"
      ]
     },
     "execution_count": 7,
     "metadata": {},
     "output_type": "execute_result"
    }
   ],
   "source": [
    "a"
   ]
  },
  {
   "cell_type": "code",
   "execution_count": 8,
   "id": "71d17ca3",
   "metadata": {},
   "outputs": [],
   "source": [
    "b = {3:5, \"the\" : 4, 2:100}"
   ]
  },
  {
   "cell_type": "code",
   "execution_count": 9,
   "id": "f16391a9",
   "metadata": {},
   "outputs": [],
   "source": [
    "#To update we use this the values will be update as per the dictionary in the brackets\n",
    "\n",
    "a.update(b)"
   ]
  },
  {
   "cell_type": "code",
   "execution_count": 10,
   "id": "04ce9188",
   "metadata": {},
   "outputs": [
    {
     "data": {
      "text/plain": [
       "{1: 9,\n",
       " 3: 5,\n",
       " 'list': [2, 3, 'a', 's'],\n",
       " 'dict': {'a': 'b', 4: 91},\n",
       " 'Tuple': (1, 2, 3, 4),\n",
       " 'the': 4,\n",
       " 2: 100}"
      ]
     },
     "execution_count": 10,
     "metadata": {},
     "output_type": "execute_result"
    }
   ],
   "source": [
    "a"
   ]
  },
  {
   "cell_type": "code",
   "execution_count": 11,
   "id": "dd5afc9a",
   "metadata": {},
   "outputs": [
    {
     "data": {
      "text/plain": [
       "9"
      ]
     },
     "execution_count": 11,
     "metadata": {},
     "output_type": "execute_result"
    }
   ],
   "source": [
    "# To remove the item in the key we use pop function which has 1 arguement which is key\n",
    "\n",
    "a.pop(1)"
   ]
  },
  {
   "cell_type": "code",
   "execution_count": 12,
   "id": "acb73531",
   "metadata": {},
   "outputs": [
    {
     "data": {
      "text/plain": [
       "{3: 5,\n",
       " 'list': [2, 3, 'a', 's'],\n",
       " 'dict': {'a': 'b', 4: 91},\n",
       " 'Tuple': (1, 2, 3, 4),\n",
       " 'the': 4,\n",
       " 2: 100}"
      ]
     },
     "execution_count": 12,
     "metadata": {},
     "output_type": "execute_result"
    }
   ],
   "source": [
    "a"
   ]
  },
  {
   "cell_type": "code",
   "execution_count": 13,
   "id": "f0efb72d",
   "metadata": {},
   "outputs": [],
   "source": [
    "# Another way to remove is to use del function\n",
    "\n",
    "del a[\"Tuple\"]"
   ]
  },
  {
   "cell_type": "code",
   "execution_count": 14,
   "id": "5b04a444",
   "metadata": {},
   "outputs": [
    {
     "data": {
      "text/plain": [
       "{3: 5, 'list': [2, 3, 'a', 's'], 'dict': {'a': 'b', 4: 91}, 'the': 4, 2: 100}"
      ]
     },
     "execution_count": 14,
     "metadata": {},
     "output_type": "execute_result"
    }
   ],
   "source": [
    "a"
   ]
  },
  {
   "cell_type": "code",
   "execution_count": null,
   "id": "97c220fd",
   "metadata": {},
   "outputs": [],
   "source": []
  }
 ],
 "metadata": {
  "kernelspec": {
   "display_name": "Python 3 (ipykernel)",
   "language": "python",
   "name": "python3"
  },
  "language_info": {
   "codemirror_mode": {
    "name": "ipython",
    "version": 3
   },
   "file_extension": ".py",
   "mimetype": "text/x-python",
   "name": "python",
   "nbconvert_exporter": "python",
   "pygments_lexer": "ipython3",
   "version": "3.9.7"
  }
 },
 "nbformat": 4,
 "nbformat_minor": 5
}
