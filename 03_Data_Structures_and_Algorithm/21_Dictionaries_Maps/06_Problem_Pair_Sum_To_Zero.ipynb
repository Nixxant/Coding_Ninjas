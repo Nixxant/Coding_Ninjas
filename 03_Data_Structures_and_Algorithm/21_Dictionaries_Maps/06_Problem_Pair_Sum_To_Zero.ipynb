{
 "cells": [
  {
   "cell_type": "markdown",
   "id": "bccedd44",
   "metadata": {},
   "source": [
    "Given a random integer array A of size N. Find and print the count of pair of elements in the array which sum up to 0.\n",
    "\n",
    "Note: Array A can contain duplicate elements as well.\n",
    "\n",
    "Input format:\n",
    "\n",
    "The first line of input contains an integer, that denotes the value of the size of the array. Let us denote it with the symbol N.\n",
    "\n",
    "The following line contains N space separated integers, that denote the value of the elements of the array.\n",
    "\n",
    "Output format :\n",
    "\n",
    "The first and only line of output contains the count of pair of elements in the array which sum up to 0. \n",
    "Constraints :\n",
    "\n",
    "0 <= N <= 10^4\n",
    "\n",
    "Time Limit: 1 sec\n",
    "\n",
    "Sample Input 1:\n",
    "\n",
    "5\n",
    "\n",
    "2 1 -2 2 3\n",
    "\n",
    "Sample Output 1:\n",
    "\n",
    "2\n",
    "\n",
    "Explanation\n",
    "\n",
    "(2,-2) , (-2,2) will result in 0 , so the answer for the above problem is 2."
   ]
  },
  {
   "cell_type": "code",
   "execution_count": 4,
   "id": "529ccd72",
   "metadata": {},
   "outputs": [
    {
     "name": "stdout",
     "output_type": "stream",
     "text": [
      "2\n"
     ]
    }
   ],
   "source": [
    "def pairSum0(arr, n):\n",
    "    if n == 0:\n",
    "        return\n",
    "    d = {}\n",
    "    for i in arr:\n",
    "        d[i] = d.get(i,0) + 1\n",
    "    zero_ans = 0\n",
    "    ans = 0\n",
    "    for x in d:\n",
    "        if x == 0:\n",
    "            zero_ans = (d[x]*(d[x]-1))/2\n",
    "        if (-x in d) and x != 0:\n",
    "            ans = ans+(d[x] * d[-x])\n",
    "    return int(zero_ans + (ans/2))\n",
    "arr = [2,1,-2,2,3]\n",
    "n = len(arr)\n",
    "print(pairSum0(arr,n))"
   ]
  },
  {
   "cell_type": "code",
   "execution_count": null,
   "id": "d197113e",
   "metadata": {},
   "outputs": [],
   "source": []
  }
 ],
 "metadata": {
  "kernelspec": {
   "display_name": "Python 3 (ipykernel)",
   "language": "python",
   "name": "python3"
  },
  "language_info": {
   "codemirror_mode": {
    "name": "ipython",
    "version": 3
   },
   "file_extension": ".py",
   "mimetype": "text/x-python",
   "name": "python",
   "nbconvert_exporter": "python",
   "pygments_lexer": "ipython3",
   "version": "3.9.7"
  }
 },
 "nbformat": 4,
 "nbformat_minor": 5
}
