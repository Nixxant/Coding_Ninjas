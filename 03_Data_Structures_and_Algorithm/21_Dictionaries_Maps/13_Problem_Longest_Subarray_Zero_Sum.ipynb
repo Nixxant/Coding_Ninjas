{
 "cells": [
  {
   "cell_type": "markdown",
   "id": "af6a2fc2",
   "metadata": {},
   "source": [
    "Given an array consisting of positive and negative integers, find the length of the longest subarray whose sum is zero.\n",
    "\n",
    "Input Format:\n",
    "\n",
    "The first line of input contains an integer, that denotes the value of the size of the array. Let us denote it with the symbol N.\n",
    "\n",
    "The following line contains N space separated integers, that denote the value of the elements of the array.\n",
    "\n",
    "Output Format\n",
    "\n",
    "The first and only line of output contains length of the longest subarray whose sum is zero.\n",
    "\n",
    "Constraints:\n",
    "\n",
    "0 <= N <= 10^8\n",
    "\n",
    "Time Limit: 1 sec\n",
    "\n",
    "Sample Input 1:\n",
    "\n",
    "10 \n",
    "\n",
    "95 -97 -387 -435 -5 -70 897 127 23 284\n",
    "\n",
    "Sample Output 1:\n",
    "\n",
    "5\n",
    "\n",
    "Explanation:\n",
    "\n",
    "The five elements that form the longest subarray that sum up to zero are: -387, -435, -5, -70, 897 \n",
    "\n",
    "Note\n",
    "\n",
    "You don't have to print anything. Just complete the definition of the function given and return the value accordingly."
   ]
  },
  {
   "cell_type": "code",
   "execution_count": 1,
   "id": "e03674c2",
   "metadata": {},
   "outputs": [],
   "source": [
    "def subsetSum(l):\n",
    "    d = {0:0}\n",
    "    new_sum = 0\n",
    "    max_size = 0\n",
    "    \n",
    "    for i in range(len(l)):\n",
    "        new_sum += l[i]\n",
    "        if new_sum not in d:\n",
    "            d[new_sum] = i+1\n",
    "        else:\n",
    "            size = i - d[new_sum] + 1\n",
    "            if size > max_size:\n",
    "                max_size = size\n",
    "    return max_size\n"
   ]
  },
  {
   "cell_type": "code",
   "execution_count": 2,
   "id": "63ea421d",
   "metadata": {},
   "outputs": [
    {
     "name": "stdout",
     "output_type": "stream",
     "text": [
      "5\n"
     ]
    }
   ],
   "source": [
    "l = [95, -97, -387, -435, -5, -70, 897, 127, 23, 284]\n",
    "print(subsetSum(l))"
   ]
  },
  {
   "cell_type": "code",
   "execution_count": null,
   "id": "10e3123b",
   "metadata": {},
   "outputs": [],
   "source": []
  }
 ],
 "metadata": {
  "kernelspec": {
   "display_name": "Python 3 (ipykernel)",
   "language": "python",
   "name": "python3"
  },
  "language_info": {
   "codemirror_mode": {
    "name": "ipython",
    "version": 3
   },
   "file_extension": ".py",
   "mimetype": "text/x-python",
   "name": "python",
   "nbconvert_exporter": "python",
   "pygments_lexer": "ipython3",
   "version": "3.9.7"
  }
 },
 "nbformat": 4,
 "nbformat_minor": 5
}
