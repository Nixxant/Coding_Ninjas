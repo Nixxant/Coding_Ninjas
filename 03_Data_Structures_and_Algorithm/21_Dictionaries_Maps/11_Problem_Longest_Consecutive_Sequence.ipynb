{
 "cells": [
  {
   "cell_type": "markdown",
   "id": "47b425bb",
   "metadata": {},
   "source": [
    "You are given an array of unique integers that contain numbers in random order. You have to find the longest possible sequence of consecutive numbers using the numbers from given array.\n",
    "\n",
    "You need to return the output array which contains starting and ending element. If the length of the longest possible sequence is one, then the output array must contain only single element.\n",
    "\n",
    "Note:\n",
    "\n",
    "1. Best solution takes O(n) time.\n",
    "\n",
    "2. If two sequences are of equal length, then return the sequence starting with the number whose occurrence is earlier in the array.\n",
    "\n",
    "Input format:\n",
    "\n",
    "The first line of input contains an integer, that denotes the value of the size of the array. Let us denote it with the symbol n.\n",
    "\n",
    "The following line contains n space separated integers, that denote the value of the elements of the array.\n",
    "\n",
    "Output format:\n",
    "\n",
    "The first and only line of output contains starting and ending element of the longest consecutive sequence. If the length of  the longest consecutive sequence is 1, then just print the starting element.\n",
    "\n",
    "Constraints :\n",
    "\n",
    "0 <= n <= 10^6\n",
    "\n",
    "Time Limit: 1 sec\n",
    "\n",
    "Sample Input 1 :\n",
    "\n",
    "13\n",
    "\n",
    "2 12 9 16 10 5 3 20 25 11 1 8 6 \n",
    "\n",
    "Sample Output 1 :\n",
    "\n",
    "8 12 \n",
    "\n",
    "Sample Input 2 :\n",
    "\n",
    "7\n",
    "\n",
    "3 7 2 1 9 8 41\n",
    "\n",
    "Sample Output 2 :\n",
    "\n",
    "7 9\n",
    "\n",
    "Explanation: Sequence should be of consecutive numbers. Here we have 2 sequences with same length i.e. [1, 2, 3] and [7, 8, 9], but we should select [7, 8, 9] because the starting point of [7, 8, 9] comes first in input array and therefore, the output will be 7 9, as we have to print starting and ending element of the longest consecutive sequence.\n",
    "\n",
    "Sample Input 3 :\n",
    "\n",
    "7\n",
    "\n",
    "15 24 23 12 19 11 16\n",
    "\n",
    "Sample Output 3 :\n",
    "\n",
    "15 16"
   ]
  },
  {
   "cell_type": "code",
   "execution_count": 1,
   "id": "6a24bbd0",
   "metadata": {},
   "outputs": [],
   "source": [
    "def longestConsecutiveSubsequence(arr,n):\n",
    "    d = {}\n",
    "    for x in arr:\n",
    "        d[x] = d.get(x,True)\n",
    "    \n",
    "\n",
    "\n",
    "        \n",
    "            \n",
    "    "
   ]
  },
  {
   "cell_type": "code",
   "execution_count": 3,
   "id": "bdf503eb",
   "metadata": {},
   "outputs": [
    {
     "name": "stdout",
     "output_type": "stream",
     "text": [
      "{15: [True, 0], 24: [True, 0], 23: [True, 0], 12: [True, 0], 19: [True, 0], 11: [True, 0], 16: [True, 0]}\n"
     ]
    }
   ],
   "source": [
    "arr = [15, 24, 23, 12, 19, 11, 16]\n",
    "d = {}\n",
    "max_length = 0\n",
    "max_start = arr[0]\n",
    "max_end = arr[0]\n",
    "for x in arr:\n",
    "    d[x] = d.get(x,[True,max_length])\n",
    "print(d)\n",
    "\n",
    "            "
   ]
  },
  {
   "cell_type": "code",
   "execution_count": 11,
   "id": "ebe224fe",
   "metadata": {},
   "outputs": [
    {
     "name": "stdout",
     "output_type": "stream",
     "text": [
      "15\n",
      "0\n",
      "24\n",
      "0\n",
      "23\n",
      "0\n",
      "12\n",
      "0\n",
      "19\n",
      "0\n",
      "11\n",
      "0\n",
      "16\n",
      "0\n"
     ]
    }
   ],
   "source": [
    "for i in d:\n",
    "    print(i)\n",
    "    print(d[i][1])"
   ]
  },
  {
   "cell_type": "code",
   "execution_count": null,
   "id": "15dc1f31",
   "metadata": {},
   "outputs": [],
   "source": []
  }
 ],
 "metadata": {
  "kernelspec": {
   "display_name": "Python 3 (ipykernel)",
   "language": "python",
   "name": "python3"
  },
  "language_info": {
   "codemirror_mode": {
    "name": "ipython",
    "version": 3
   },
   "file_extension": ".py",
   "mimetype": "text/x-python",
   "name": "python",
   "nbconvert_exporter": "python",
   "pygments_lexer": "ipython3",
   "version": "3.9.7"
  }
 },
 "nbformat": 4,
 "nbformat_minor": 5
}
