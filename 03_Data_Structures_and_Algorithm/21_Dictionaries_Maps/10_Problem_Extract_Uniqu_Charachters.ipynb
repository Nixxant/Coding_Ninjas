{
 "cells": [
  {
   "cell_type": "markdown",
   "id": "85d4ebf5",
   "metadata": {},
   "source": [
    "Given a string S, you need to remove all the duplicates. That means, the output string should contain each character only once. The respective order of characters should remain same, as in the input string.\n",
    "\n",
    "\n",
    "Input format:\n",
    "\n",
    "The first and only line of input contains a string, that denotes the value of S.\n",
    "\n",
    "Output format :\n",
    "\n",
    "The first and only line of output contains the updated string, as described in the task.\n",
    "\n",
    "Constraints :\n",
    "\n",
    "0 <= Length of S <= 10^8\n",
    "\n",
    "Time Limit: 1 sec\n",
    "\n",
    "Sample Input 1 :\n",
    "\n",
    "ababacd\n",
    "\n",
    "Sample Output 1 :\n",
    "\n",
    "abcd\n",
    "\n",
    "Sample Input 2 :\n",
    "\n",
    "abcde\n",
    "\n",
    "Sample Output 2 :\n",
    "\n",
    "abcde"
   ]
  },
  {
   "cell_type": "code",
   "execution_count": 5,
   "id": "eb3f5d2d",
   "metadata": {},
   "outputs": [],
   "source": [
    "def uniqueChar(s): \n",
    "    # Write your code here\n",
    "    if len(s) == 0:\n",
    "        return 0\n",
    "    d = {}\n",
    "    for i in s:\n",
    "        d[i] = d.get(i,0) + 1\n",
    "    ans = \"\"\n",
    "    for x in s:\n",
    "        if d[x] != 0:\n",
    "            ans = ans + str(x)\n",
    "            d[x] = 0\n",
    "    return ans"
   ]
  },
  {
   "cell_type": "code",
   "execution_count": 6,
   "id": "7ff3e2e6",
   "metadata": {},
   "outputs": [
    {
     "name": "stdout",
     "output_type": "stream",
     "text": [
      "abcde\n"
     ]
    }
   ],
   "source": [
    "s = \"abcdeeeeeeeeaa\"\n",
    "ans = uniqueChar(s)\n",
    "print(ans)"
   ]
  },
  {
   "cell_type": "code",
   "execution_count": null,
   "id": "20435fb6",
   "metadata": {},
   "outputs": [],
   "source": []
  }
 ],
 "metadata": {
  "kernelspec": {
   "display_name": "Python 3 (ipykernel)",
   "language": "python",
   "name": "python3"
  },
  "language_info": {
   "codemirror_mode": {
    "name": "ipython",
    "version": 3
   },
   "file_extension": ".py",
   "mimetype": "text/x-python",
   "name": "python",
   "nbconvert_exporter": "python",
   "pygments_lexer": "ipython3",
   "version": "3.9.7"
  }
 },
 "nbformat": 4,
 "nbformat_minor": 5
}
