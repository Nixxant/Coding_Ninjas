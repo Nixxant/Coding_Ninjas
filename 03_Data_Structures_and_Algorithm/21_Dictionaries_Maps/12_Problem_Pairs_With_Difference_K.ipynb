{
 "cells": [
  {
   "cell_type": "markdown",
   "id": "656f9d5c",
   "metadata": {},
   "source": [
    "You are given with an array of integers and an integer K. You have to find and print the count of all such pairs which have difference K.\n",
    "\n",
    "Note: Take absolute difference between the elements of the array.\n",
    "\n",
    "Input Format:\n",
    "\n",
    "The first line of input contains an integer, that denotes the value of the size of the array. Let us denote it with the symbol n.\n",
    "\n",
    "The following line contains n space separated integers, that denote the value of the elements of the array.\n",
    "\n",
    "The following line contains an integer, that denotes the value of K.\n",
    "\n",
    "Output format :\n",
    "\n",
    "The first and only line of output contains count of all such pairs which have an absolute difference of K. \n",
    "\n",
    "Constraints :\n",
    "\n",
    "0 <= n <= 10^4\n",
    "\n",
    "Time Limit: 1 sec\n",
    "\n",
    "Sample Input 1 :\n",
    "\n",
    "4 \n",
    "\n",
    "5 1 2 4\n",
    "\n",
    "3\n",
    "\n",
    "Sample Output 1 :\n",
    "\n",
    "2\n",
    "\n",
    "Explanation\n",
    "\n",
    "(5,2) and (1,4) are the possible combinations as their absolute difference is 3.\n",
    "\n",
    "Sample Input 2 :\n",
    "\n",
    "4\n",
    "\n",
    "4 4 4 4 \n",
    "\n",
    "0\n",
    "\n",
    "Sample Output 2 :\n",
    "\n",
    "6\n"
   ]
  },
  {
   "cell_type": "code",
   "execution_count": 1,
   "id": "6ad9425f",
   "metadata": {},
   "outputs": [],
   "source": [
    "def printPairDiffK(l, k):\n",
    "    d = {}\n",
    "    ans = 0\n",
    "    for i in l:\n",
    "        d[i] = d.get(i,0) + 1\n",
    "        \n",
    "    if k == 0:\n",
    "        for x in d:\n",
    "            if d[x]>1:\n",
    "                ans += ((d[x]*(d[x]-1))//2)\n",
    "    else:\n",
    "        for x in d:\n",
    "            if (x-k) in d:\n",
    "                ans += (d[x]*d[x-k])\n",
    "    return ans"
   ]
  },
  {
   "cell_type": "code",
   "execution_count": 5,
   "id": "7f3fd692",
   "metadata": {},
   "outputs": [
    {
     "name": "stdout",
     "output_type": "stream",
     "text": [
      "3\n"
     ]
    }
   ],
   "source": [
    "l = [2,4,6,8]\n",
    "k = 2\n",
    "print(printPairDiffK(l,k))"
   ]
  },
  {
   "cell_type": "code",
   "execution_count": null,
   "id": "ebeaaab2",
   "metadata": {},
   "outputs": [],
   "source": []
  }
 ],
 "metadata": {
  "kernelspec": {
   "display_name": "Python 3 (ipykernel)",
   "language": "python",
   "name": "python3"
  },
  "language_info": {
   "codemirror_mode": {
    "name": "ipython",
    "version": 3
   },
   "file_extension": ".py",
   "mimetype": "text/x-python",
   "name": "python",
   "nbconvert_exporter": "python",
   "pygments_lexer": "ipython3",
   "version": "3.9.7"
  }
 },
 "nbformat": 4,
 "nbformat_minor": 5
}
