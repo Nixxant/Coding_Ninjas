{
 "cells": [
  {
   "cell_type": "markdown",
   "id": "02f353c6",
   "metadata": {},
   "source": [
    "For a given a Binary Tree of type integer, find and return the minimum and the maximum data values.\n",
    "\n",
    "Return the output as an object of Pair class, which is already created.\n",
    "\n",
    "Note:\n",
    "\n",
    "All the node data will be unique and hence there will always exist a minimum and maximum node data.\n",
    "\n",
    "Input Format:\n",
    "\n",
    "The first and the only line of input will contain the node data, all separated by a single space. Since -1 is used as an indication whether the left or right node data exist for root, it will not be a part of the node data.\n",
    "\n",
    "Output Format:\n",
    "\n",
    "The only line of output prints two integers denoting the minimum and the maximum data values respectively. A single line will separate them both.\n",
    "\n",
    "Constraints:\n",
    "\n",
    "2 <= N <= 10^5\n",
    "\n",
    "Where N is the total number of nodes in the binary tree.\n",
    "\n",
    "\n",
    "\n",
    "Time Limit: 1 sec\n",
    "\n",
    "Sample Input 1:\n",
    "\n",
    "8 3 10 1 6 -1 14 -1 -1 4 7 13 -1 -1 -1 -1 -1 -1 -1\n",
    "\n",
    "Sample Output 1:\n",
    "\n",
    "1 14\n",
    "\n",
    "Sample Input 2:\n",
    "\n",
    "10 20 60 -1 -1 3 50 -1 -1 -1 -1 \n",
    "\n",
    "Sample Output 2:\n",
    "\n",
    "3 60"
   ]
  },
  {
   "cell_type": "code",
   "execution_count": null,
   "id": "3047d8b1",
   "metadata": {},
   "outputs": [],
   "source": [
    "def getMinAndMax(root) :\n",
    "\n",
    "    if root is None:\n",
    "        return Pair(MAX_VALUE, MIN_VALUE)\n",
    "    leftPair = getMinAndMax(root.left)\n",
    "    rightPair = getMinAndMax(root.right)\n",
    "\n",
    "    minimum = min(root.data, leftPair.minimum,rightPair.minimum)\n",
    "    maximum = max(root.data,rightPair.maximum, leftPair.maximum)\n",
    "\n",
    "    return Pair(minimum,maximum)"
   ]
  }
 ],
 "metadata": {
  "kernelspec": {
   "display_name": "Python 3 (ipykernel)",
   "language": "python",
   "name": "python3"
  },
  "language_info": {
   "codemirror_mode": {
    "name": "ipython",
    "version": 3
   },
   "file_extension": ".py",
   "mimetype": "text/x-python",
   "name": "python",
   "nbconvert_exporter": "python",
   "pygments_lexer": "ipython3",
   "version": "3.9.7"
  }
 },
 "nbformat": 4,
 "nbformat_minor": 5
}
