{
 "cells": [
  {
   "cell_type": "code",
   "execution_count": 1,
   "id": "28f6686e",
   "metadata": {},
   "outputs": [],
   "source": [
    "class BinartyTreeNode:\n",
    "    def __init__(self, data):\n",
    "        self.data = data\n",
    "        self.left = None\n",
    "        self.right = None"
   ]
  },
  {
   "cell_type": "code",
   "execution_count": 4,
   "id": "3202ec2f",
   "metadata": {},
   "outputs": [],
   "source": [
    "def takeInput():\n",
    "    rootData = int(input())\n",
    "    if rootData == -1:\n",
    "        return None\n",
    "    root = BinartyTreeNode(rootData)\n",
    "    leftTree = takeInput()\n",
    "    rightTree = takeInput()\n",
    "    root.left = leftTree\n",
    "    root.right = rightTree\n",
    "    return root\n"
   ]
  },
  {
   "cell_type": "code",
   "execution_count": 5,
   "id": "6034777e",
   "metadata": {},
   "outputs": [],
   "source": [
    "def printTree(root):\n",
    "    if root is None:\n",
    "        return\n",
    "    print(root.data,end = ':')\n",
    "    if root.left is None:\n",
    "        print(\"Left ->\",None,end = \",\")\n",
    "    if root.left is not None:\n",
    "        print(\"Left ->\",root.left.data,end = \",\")\n",
    "    if root.right is None:\n",
    "        print(\"Right ->\",None)\n",
    "    if root.right is not None:\n",
    "        print(\"Right ->\", root.right.data)\n",
    "    printTree(root.left)\n",
    "    printTree(root.right)\n",
    "        "
   ]
  },
  {
   "cell_type": "code",
   "execution_count": 7,
   "id": "fd147449",
   "metadata": {},
   "outputs": [
    {
     "name": "stdout",
     "output_type": "stream",
     "text": [
      "1\n",
      "2\n",
      "4\n",
      "-1\n",
      "-1\n",
      "5\n",
      "-1\n",
      "-1\n",
      "17\n",
      "16\n",
      "-1\n",
      "-1\n",
      "18\n",
      "-1\n",
      "-1\n",
      "1:Left -> 2,Right -> 17\n",
      "2:Left -> 4,Right -> 5\n",
      "4:Left -> None,Right -> None\n",
      "5:Left -> None,Right -> None\n",
      "17:Left -> 16,Right -> 18\n",
      "16:Left -> None,Right -> None\n",
      "18:Left -> None,Right -> None\n"
     ]
    }
   ],
   "source": [
    "root = takeInput()\n",
    "printTree(root)"
   ]
  },
  {
   "cell_type": "code",
   "execution_count": null,
   "id": "a0ec575d",
   "metadata": {},
   "outputs": [],
   "source": [
    "def buildTreeFromPreInorder(preorder, inorder):\n",
    "    if len(preorder) == 0:\n",
    "        return None\n",
    "    rootData = preorder[0]\n",
    "    root = BinartyTreeNode(rootData)\n",
    "    "
   ]
  }
 ],
 "metadata": {
  "kernelspec": {
   "display_name": "Python 3 (ipykernel)",
   "language": "python",
   "name": "python3"
  },
  "language_info": {
   "codemirror_mode": {
    "name": "ipython",
    "version": 3
   },
   "file_extension": ".py",
   "mimetype": "text/x-python",
   "name": "python",
   "nbconvert_exporter": "python",
   "pygments_lexer": "ipython3",
   "version": "3.9.7"
  }
 },
 "nbformat": 4,
 "nbformat_minor": 5
}
