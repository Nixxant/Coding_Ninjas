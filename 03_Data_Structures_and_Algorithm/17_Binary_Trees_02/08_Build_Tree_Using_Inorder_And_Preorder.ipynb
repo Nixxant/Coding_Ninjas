{
 "cells": [
  {
   "cell_type": "code",
   "execution_count": 1,
   "id": "9ccb7f4a",
   "metadata": {},
   "outputs": [],
   "source": [
    "class BinartyTreeNode:\n",
    "    def __init__(self, data):\n",
    "        self.data = data\n",
    "        self.left = None\n",
    "        self.right = None"
   ]
  },
  {
   "cell_type": "code",
   "execution_count": 4,
   "id": "e0968310",
   "metadata": {},
   "outputs": [],
   "source": [
    "def takeInput():\n",
    "    rootData = int(input())\n",
    "    if rootData == -1:\n",
    "        return None\n",
    "    root = BinartyTreeNode(rootData)\n",
    "    leftTree = takeInput()\n",
    "    rightTree = takeInput()\n",
    "    root.left = leftTree\n",
    "    root.right = rightTree\n",
    "    return root\n"
   ]
  },
  {
   "cell_type": "code",
   "execution_count": 5,
   "id": "a993fd7d",
   "metadata": {},
   "outputs": [],
   "source": [
    "def printTree(root):\n",
    "    if root is None:\n",
    "        return\n",
    "    print(root.data,end = ':')\n",
    "    if root.left is None:\n",
    "        print(\"Left ->\",None,end = \",\")\n",
    "    if root.left is not None:\n",
    "        print(\"Left ->\",root.left.data,end = \",\")\n",
    "    if root.right is None:\n",
    "        print(\"Right ->\",None)\n",
    "    if root.right is not None:\n",
    "        print(\"Right ->\", root.right.data)\n",
    "    printTree(root.left)\n",
    "    printTree(root.right)\n",
    "        "
   ]
  },
  {
   "cell_type": "code",
   "execution_count": 7,
   "id": "711b5546",
   "metadata": {},
   "outputs": [
    {
     "name": "stdout",
     "output_type": "stream",
     "text": [
      "1\n",
      "2\n",
      "4\n",
      "-1\n",
      "-1\n",
      "5\n",
      "-1\n",
      "-1\n",
      "17\n",
      "16\n",
      "-1\n",
      "-1\n",
      "18\n",
      "-1\n",
      "-1\n",
      "1:Left -> 2,Right -> 17\n",
      "2:Left -> 4,Right -> 5\n",
      "4:Left -> None,Right -> None\n",
      "5:Left -> None,Right -> None\n",
      "17:Left -> 16,Right -> 18\n",
      "16:Left -> None,Right -> None\n",
      "18:Left -> None,Right -> None\n"
     ]
    }
   ],
   "source": [
    "root = takeInput()\n",
    "printTree(root)"
   ]
  },
  {
   "cell_type": "code",
   "execution_count": 8,
   "id": "03dab989",
   "metadata": {},
   "outputs": [],
   "source": [
    "def buildTreeFromPreInorder(preorder, inorder):\n",
    "    if len(preorder) == 0:\n",
    "        return None\n",
    "    rootData = preorder[0]\n",
    "    root = BinartyTreeNode(rootData)\n",
    "    rootIndexInInorder = -1\n",
    "    \n",
    "    for i in range(0, len(inorder)):\n",
    "        if rootData == inorder[i]:\n",
    "            rootIndexInInorder = i\n",
    "            break\n",
    "    \n",
    "    if rootIndexInInorder == -1:\n",
    "        return None\n",
    "    \n",
    "    leftInorder = inorder[:rootIndexInInorder]\n",
    "    rightInorder = inorder[rootIndexInInorder + 1:]\n",
    "    \n",
    "    lengthOfLeftSubtree = len(leftInorder)\n",
    "    \n",
    "    \n",
    "    leftPreorder = preorder[1 : lengthOfLeftSubtree + 1]\n",
    "    rightPreorder = preorder[lengthOfLeftSubtree + 1 : ]\n",
    "    \n",
    "    leftChild = buildTreeFromPreInorder(leftPreorder, leftInorder)\n",
    "    rightChild = buildTreeFromPreInorder(rightPreorder, rightInorder)\n",
    "    \n",
    "    root.left = leftChild\n",
    "    root.right = rightChild\n",
    "    \n",
    "    return root    "
   ]
  },
  {
   "cell_type": "code",
   "execution_count": 10,
   "id": "4e70f8d8",
   "metadata": {},
   "outputs": [
    {
     "name": "stdout",
     "output_type": "stream",
     "text": [
      "1:Left -> 2,Right -> 3\n",
      "2:Left -> 4,Right -> 5\n",
      "4:Left -> None,Right -> None\n",
      "5:Left -> None,Right -> None\n",
      "3:Left -> 6,Right -> 7\n",
      "6:Left -> None,Right -> None\n",
      "7:Left -> None,Right -> None\n"
     ]
    }
   ],
   "source": [
    "preorder = [1,2,4,5,3,6,7]\n",
    "inorder = [4,2,5,1,6,3,7]\n",
    "\n",
    "root = buildTreeFromPreInorder(preorder,inorder)\n",
    "\n",
    "printTree(root)"
   ]
  },
  {
   "cell_type": "code",
   "execution_count": 15,
   "id": "23b25f2e",
   "metadata": {},
   "outputs": [],
   "source": [
    "def buildTreeFromPostInorder(postorder, inorder):\n",
    "    if len(postorder) == 0:\n",
    "        return None\n",
    "    rootData = postorder[-1]\n",
    "    root = BinartyTreeNode(rootData)\n",
    "    \n",
    "    rootIndex = -1\n",
    "    \n",
    "    for i in range(len(inorder)):\n",
    "        if inorder[i] == root.data:\n",
    "            rootIndex = i\n",
    "            break\n",
    "    \n",
    "    if rootIndex == -1:\n",
    "        return None\n",
    "    leftInorder = inorder[:rootIndex]\n",
    "    rightInorder = inorder[rootIndex + 1:]\n",
    "    \n",
    "    lengthOfLeftSubtree = len(leftInorder)\n",
    "    \n",
    "    leftPostorder = postorder[:lengthOfLeftSubtree]\n",
    "    rightPostorder = postorder[lengthOfLeftSubtree:-1]\n",
    "    \n",
    "    leftChild = buildTreeFromPostInorder(leftPostorder, leftInorder)\n",
    "    rightChild = buildTreeFromPostInorder(rightPostorder, rightInorder)\n",
    "    \n",
    "    root.left = leftChild\n",
    "    root.right = rightChild\n",
    "    \n",
    "    return root\n",
    "\n",
    "            "
   ]
  },
  {
   "cell_type": "code",
   "execution_count": 16,
   "id": "29336bf5",
   "metadata": {},
   "outputs": [
    {
     "name": "stdout",
     "output_type": "stream",
     "text": [
      "1:Left -> 2,Right -> 3\n",
      "2:Left -> 4,Right -> 5\n",
      "4:Left -> None,Right -> None\n",
      "5:Left -> None,Right -> None\n",
      "3:Left -> 6,Right -> 7\n",
      "6:Left -> None,Right -> None\n",
      "7:Left -> None,Right -> None\n"
     ]
    }
   ],
   "source": [
    "inorder = [4,2,5,1,6,3,7]\n",
    "postorder = [4,5,2,6,7,3,1]\n",
    "\n",
    "root = buildTreeFromPostInorder(postorder,inorder)\n",
    "printTree(root)"
   ]
  },
  {
   "cell_type": "code",
   "execution_count": null,
   "id": "fc93d6e9",
   "metadata": {},
   "outputs": [],
   "source": []
  }
 ],
 "metadata": {
  "kernelspec": {
   "display_name": "Python 3 (ipykernel)",
   "language": "python",
   "name": "python3"
  },
  "language_info": {
   "codemirror_mode": {
    "name": "ipython",
    "version": 3
   },
   "file_extension": ".py",
   "mimetype": "text/x-python",
   "name": "python",
   "nbconvert_exporter": "python",
   "pygments_lexer": "ipython3",
   "version": "3.9.7"
  }
 },
 "nbformat": 4,
 "nbformat_minor": 5
}
