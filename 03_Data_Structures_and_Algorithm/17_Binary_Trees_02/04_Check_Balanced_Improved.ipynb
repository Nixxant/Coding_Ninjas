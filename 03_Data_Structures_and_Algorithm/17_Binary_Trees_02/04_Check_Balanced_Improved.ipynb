{
 "cells": [
  {
   "cell_type": "code",
   "execution_count": 8,
   "id": "05a9e65b",
   "metadata": {},
   "outputs": [],
   "source": [
    "class BinaryTreeNode:\n",
    "    def __init__(self,data):\n",
    "        self.data = data\n",
    "        self.left = None\n",
    "        self.right = None"
   ]
  },
  {
   "cell_type": "code",
   "execution_count": 9,
   "id": "e5040558",
   "metadata": {},
   "outputs": [],
   "source": [
    "def treeInput():\n",
    "    rootData = int(input())\n",
    "    if rootData == -1:\n",
    "        return None\n",
    "    \n",
    "    root = BinaryTreeNode(rootData)\n",
    "    \n",
    "    leftTree = treeInput()\n",
    "    rigthTree = treeInput()\n",
    "    root.left = leftTree\n",
    "    root.right = rigthTree\n",
    "    return root"
   ]
  },
  {
   "cell_type": "code",
   "execution_count": 10,
   "id": "2e5a3f35",
   "metadata": {},
   "outputs": [],
   "source": [
    "def printTree(root):\n",
    "    if root is None:\n",
    "        return\n",
    "    print(root.data, end = \" : \")\n",
    "    if root.left is None:\n",
    "        print(\"Left ->\", None, end = \", \")\n",
    "    if root.left is not None:\n",
    "        print(\"Left ->\", root.left.data, end = \", \")\n",
    "    if root.right is not None:\n",
    "        print(\"Right ->\", root.right.data, end = \"\")\n",
    "    if root.right is None:\n",
    "        print(\"Right ->\", None, end = \"\")\n",
    "    print()\n",
    "    printTree(root.left)\n",
    "    printTree(root.right)\n",
    "    "
   ]
  },
  {
   "cell_type": "code",
   "execution_count": 11,
   "id": "6125bae9",
   "metadata": {},
   "outputs": [],
   "source": [
    "def isBal(root):\n",
    "    if root is None:\n",
    "        return 0, True\n",
    "    lh, isLeftBal = isBal(root.left)\n",
    "    rh, isRightBal = isBal(root.right)\n",
    "    \n",
    "    h = 1 + max(lh,rh)\n",
    "    \n",
    "    if lh - rh > 1 or rh - lh > 1:\n",
    "        return h, False\n",
    "    if isRightBal and isLeftBal:\n",
    "        return h, True\n",
    "    else:\n",
    "        return h, False\n",
    "    \n",
    "    "
   ]
  },
  {
   "cell_type": "code",
   "execution_count": 12,
   "id": "49cabc04",
   "metadata": {},
   "outputs": [
    {
     "name": "stdout",
     "output_type": "stream",
     "text": [
      "1\n",
      "2\n",
      "4\n",
      "-1\n",
      "-1\n",
      "5\n",
      "-1\n",
      "-1\n",
      "3\n",
      "6\n",
      "-1\n",
      "-1\n",
      "7\n",
      "-1\n",
      "-1\n",
      "1 : Left -> 2, Right -> 3\n",
      "2 : Left -> 4, Right -> 5\n",
      "4 : Left -> None, Right -> None\n",
      "5 : Left -> None, Right -> None\n",
      "3 : Left -> 6, Right -> 7\n",
      "6 : Left -> None, Right -> None\n",
      "7 : Left -> None, Right -> None\n",
      "True\n"
     ]
    }
   ],
   "source": [
    "root = treeInput()\n",
    "printTree(root)\n",
    "ans = isBal(root)\n",
    "print(ans[1])"
   ]
  },
  {
   "cell_type": "code",
   "execution_count": null,
   "id": "05d1f076",
   "metadata": {},
   "outputs": [],
   "source": [
    "def diameter(root):\n",
    "    if root is None:\n",
    "        return 0\n",
    "    lh = "
   ]
  }
 ],
 "metadata": {
  "kernelspec": {
   "display_name": "Python 3 (ipykernel)",
   "language": "python",
   "name": "python3"
  },
  "language_info": {
   "codemirror_mode": {
    "name": "ipython",
    "version": 3
   },
   "file_extension": ".py",
   "mimetype": "text/x-python",
   "name": "python",
   "nbconvert_exporter": "python",
   "pygments_lexer": "ipython3",
   "version": "3.9.7"
  }
 },
 "nbformat": 4,
 "nbformat_minor": 5
}
