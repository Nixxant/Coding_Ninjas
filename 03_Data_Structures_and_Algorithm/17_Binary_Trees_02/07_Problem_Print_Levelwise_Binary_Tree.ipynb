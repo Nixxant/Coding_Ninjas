{
 "cells": [
  {
   "cell_type": "code",
   "execution_count": null,
   "id": "9a5d6055",
   "metadata": {},
   "outputs": [],
   "source": [
    "import queue\n",
    "def printLevelWise(root):\n",
    "    \n",
    "    if root is None:\n",
    "        return\n",
    "    q = queue.Queue()\n",
    "    q.put(root)\n",
    "    while not q.empty():\n",
    "        currNode = q.get()\n",
    "        print(currNode.data,end = \":\")\n",
    "        \n",
    "        if currNode.left is None:\n",
    "            print(\"L:-1\",end = \",\")\n",
    "        if currNode.left != -1:\n",
    "            print(\"L:\"+str(currNode.left.data),end=\",\")\n",
    "            q.put(currNode.left)\n",
    "        if currNode.right is None:\n",
    "            print(\"R:-1\")\n",
    "        if currNode.right != -1:\n",
    "            print(\"R:\"+str(currNode.right.data))\n",
    "            q.put(currNode.right.data)\n",
    "    return\n",
    "\n",
    "    "
   ]
  }
 ],
 "metadata": {
  "kernelspec": {
   "display_name": "Python 3 (ipykernel)",
   "language": "python",
   "name": "python3"
  },
  "language_info": {
   "codemirror_mode": {
    "name": "ipython",
    "version": 3
   },
   "file_extension": ".py",
   "mimetype": "text/x-python",
   "name": "python",
   "nbconvert_exporter": "python",
   "pygments_lexer": "ipython3",
   "version": "3.9.7"
  }
 },
 "nbformat": 4,
 "nbformat_minor": 5
}
