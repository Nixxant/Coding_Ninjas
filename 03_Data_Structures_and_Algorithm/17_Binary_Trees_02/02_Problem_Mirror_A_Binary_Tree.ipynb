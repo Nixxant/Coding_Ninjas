{
 "cells": [
  {
   "cell_type": "markdown",
   "id": "ef41f46c",
   "metadata": {},
   "source": [
    "For a given Binary Tree of type integer, update it with its corresponding mirror image.\n",
    "\n",
    "Example:\n",
    "\n",
    "Alt text\n",
    "\n",
    "\n",
    "Input Format:\n",
    "\n",
    "The first and the only line of input will contain the node data, all separated by a single space. Since -1 is used as an indication whether the left or right node data exist for root, it will not be a part of the node data.\n",
    "\n",
    "Output Format:\n",
    "\n",
    "The only line of output prints the mirrored tree in a level-wise order. \n",
    "\n",
    "Each level will be printed on a new line. Elements printed at each level will be separated by a single line.\n",
    "\n",
    "Note:\n",
    "\n",
    "You are not required to print anything explicitly. It has already been taken care of.\n",
    "\n",
    "Constraints:\n",
    "\n",
    "1 <= N <= 10^5\n",
    "\n",
    "Where N is the total number of nodes in the binary tree.\n",
    "\n",
    "\n",
    "\n",
    "Time Limit: 1 sec\n",
    "\n",
    "Sample Input 1:\n",
    "\n",
    "1 2 3 4 5 6 7 -1 -1 -1 -1 -1 -1 -1 -1\n",
    "\n",
    "Sample Output 1:\n",
    "\n",
    "1 \n",
    "\n",
    "3 2 \n",
    "\n",
    "7 6 5 4\n",
    "\n",
    "Sample Input 2:\n",
    "\n",
    "5 10 6 2 3 -1 -1 -1 -1 -1 9 -1 -1\n",
    "\n",
    "Sample Output 2:\n",
    "\n",
    "5 \n",
    "\n",
    "6 10 \n",
    "\n",
    "3 2 \n",
    "\n",
    "9"
   ]
  },
  {
   "cell_type": "code",
   "execution_count": null,
   "id": "510942cd",
   "metadata": {},
   "outputs": [],
   "source": [
    "def mirrorBinaryTree(root):\n",
    "    if root is None:\n",
    "        return\n",
    "    mirrorBinaryTree(root.left)\n",
    "    mirrorBinaryTree(root.right)\n",
    "    \n",
    "    temp = root.left\n",
    "    root.left = root.right\n",
    "    root.right = temp"
   ]
  }
 ],
 "metadata": {
  "kernelspec": {
   "display_name": "Python 3 (ipykernel)",
   "language": "python",
   "name": "python3"
  },
  "language_info": {
   "codemirror_mode": {
    "name": "ipython",
    "version": 3
   },
   "file_extension": ".py",
   "mimetype": "text/x-python",
   "name": "python",
   "nbconvert_exporter": "python",
   "pygments_lexer": "ipython3",
   "version": "3.9.7"
  }
 },
 "nbformat": 4,
 "nbformat_minor": 5
}
