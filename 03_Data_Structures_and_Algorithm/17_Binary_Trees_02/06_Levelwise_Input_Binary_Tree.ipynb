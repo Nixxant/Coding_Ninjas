{
 "cells": [
  {
   "cell_type": "code",
   "execution_count": 1,
   "id": "08d879bf",
   "metadata": {},
   "outputs": [],
   "source": [
    "class BinaryTreeNode:\n",
    "    def __init__(self, data):\n",
    "        self.data = data\n",
    "        self.left = None\n",
    "        self.right = None"
   ]
  },
  {
   "cell_type": "code",
   "execution_count": 2,
   "id": "1389220f",
   "metadata": {},
   "outputs": [],
   "source": [
    "def printTree(root):\n",
    "    if root is None:\n",
    "        return\n",
    "    print(root.data, end = \":\")\n",
    "    if root.left is not None:\n",
    "        print(\"Left -> \",root.left.data,end = \", \" )\n",
    "    if root.right is not None:\n",
    "        print(\"Right -> \",root.right.data,end = \", \" )\n",
    "    print()\n",
    "    printTree(root.left)\n",
    "    printTree(root.right)\n",
    "    "
   ]
  },
  {
   "cell_type": "code",
   "execution_count": 3,
   "id": "edf93de3",
   "metadata": {},
   "outputs": [],
   "source": [
    "import queue\n",
    "def takeLevelInput():\n",
    "    q = queue.Queue()\n",
    "    print(\"Enter Root\")\n",
    "    rootData = int(input())\n",
    "    if rootData == -1:\n",
    "        return None\n",
    "    root = BinaryTreeNode(rootData)\n",
    "    q.put(root)\n",
    "    while not q.empty():\n",
    "        curr = q.get()\n",
    "        print(\"Enter the left child of \", curr.data)\n",
    "        leftChildData = int(input())\n",
    "        if leftChildData != -1:\n",
    "            leftChild = BinaryTreeNode(leftChildData)\n",
    "            curr.left = leftChild\n",
    "            q.put(leftChild)\n",
    "            \n",
    "            \n",
    "        print(\"Enter the right child of \", curr.data)\n",
    "        rightChildData = int(input())\n",
    "        if rightChildData != -1:\n",
    "            rightChild = BinaryTreeNode(rightChildData)\n",
    "            curr.right = rightChild\n",
    "            q.put(rightChild)\n",
    "    return root\n"
   ]
  },
  {
   "cell_type": "code",
   "execution_count": 4,
   "id": "58034dde",
   "metadata": {},
   "outputs": [
    {
     "name": "stdout",
     "output_type": "stream",
     "text": [
      "Enter Root\n",
      "1\n",
      "Enter the left child of  1\n",
      "2\n",
      "Enter the right child of  1\n",
      "3\n",
      "Enter the left child of  2\n",
      "4\n",
      "Enter the right child of  2\n",
      "5\n",
      "Enter the left child of  3\n",
      "6\n",
      "Enter the right child of  3\n",
      "7\n",
      "Enter the left child of  4\n",
      "-1\n",
      "Enter the right child of  4\n",
      "8\n",
      "Enter the left child of  5\n",
      "-1\n",
      "Enter the right child of  5\n",
      "-1\n",
      "Enter the left child of  6\n",
      "-1\n",
      "Enter the right child of  6\n",
      "-1\n",
      "Enter the left child of  7\n",
      "-1\n",
      "Enter the right child of  7\n",
      "-1\n",
      "Enter the left child of  8\n",
      "-1\n",
      "Enter the right child of  8\n",
      "-1\n",
      "1:Left ->  2, Right ->  3, \n",
      "2:Left ->  4, Right ->  5, \n",
      "4:Right ->  8, \n",
      "8:\n",
      "5:\n",
      "3:Left ->  6, Right ->  7, \n",
      "6:\n",
      "7:\n"
     ]
    }
   ],
   "source": [
    "root = takeLevelInput()\n",
    "printTree(root)"
   ]
  },
  {
   "cell_type": "code",
   "execution_count": null,
   "id": "00400749",
   "metadata": {},
   "outputs": [],
   "source": []
  },
  {
   "cell_type": "code",
   "execution_count": null,
   "id": "ec0ff869",
   "metadata": {},
   "outputs": [],
   "source": []
  }
 ],
 "metadata": {
  "kernelspec": {
   "display_name": "Python 3 (ipykernel)",
   "language": "python",
   "name": "python3"
  },
  "language_info": {
   "codemirror_mode": {
    "name": "ipython",
    "version": 3
   },
   "file_extension": ".py",
   "mimetype": "text/x-python",
   "name": "python",
   "nbconvert_exporter": "python",
   "pygments_lexer": "ipython3",
   "version": "3.9.7"
  }
 },
 "nbformat": 4,
 "nbformat_minor": 5
}
