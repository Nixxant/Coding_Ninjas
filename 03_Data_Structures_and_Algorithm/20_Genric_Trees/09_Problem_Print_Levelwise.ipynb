{
 "cells": [
  {
   "cell_type": "markdown",
   "id": "8da87c94",
   "metadata": {},
   "source": [
    "Given a generic tree, print the input tree in level wise order.\n",
    "\n",
    "For printing a node with data N, you need to follow the exact format -\n",
    "\n",
    "N:x1,x2,x3,...,xn\n",
    "\n",
    "where, N is data of any node present in the generic tree. x1, x2, x3, ...., xn are the children of node N. Note that there is no space in between.\n",
    "\n",
    "You need to print all nodes in the level order form in different lines.\n",
    "\n",
    "Input format :\n",
    "\n",
    "The first line of input contains data of the nodes of the tree in level order form. The order is: data for root node, number of children to root node, data of each of child nodes and so on and so forth for each node. The data of the nodes of the tree is separated by space.\n",
    "\n",
    "Output Format :\n",
    "\n",
    "The first and only line of output contains the elements of the tree in level wise order, as described in the task.\n",
    "\n",
    "Constraints:\n",
    "\n",
    "Time Limit: 1 sec\n",
    "\n",
    "Sample Input 1:\n",
    "\n",
    "10 3 20 30 40 2 40 50 0 0 0 0 \n",
    "\n",
    "Sample Output 1:\n",
    "\n",
    "10:20,30,40\n",
    "\n",
    "20:40,50\n",
    "\n",
    "30:\n",
    "\n",
    "40:\n",
    "\n",
    "40:\n",
    "\n",
    "50:"
   ]
  },
  {
   "cell_type": "code",
   "execution_count": null,
   "id": "bc641815",
   "metadata": {},
   "outputs": [],
   "source": [
    "import queue\n",
    "def printLevelwiseTree(tree):\n",
    "    \n",
    "    if tree is None:\n",
    "        return\n",
    "    q = queue.Queue()\n",
    "    \n",
    "    q.put(tree)\n",
    "    \n",
    "    while not q.empty():\n",
    "        curr = q.get()\n",
    "        print(curr.data, end = \":\")\n",
    "        \n",
    "        for child in curr.children:\n",
    "            if curr.children.index(child) == len(curr.children) - 1:\n",
    "                print(child.data, end = \" \")\n",
    "                q.put(child)\n",
    "            else:\n",
    "                print(child.data, end = \",\")\n",
    "                q.put(child)\n",
    "        print()\n",
    "    \n",
    "    "
   ]
  }
 ],
 "metadata": {
  "kernelspec": {
   "display_name": "Python 3 (ipykernel)",
   "language": "python",
   "name": "python3"
  },
  "language_info": {
   "codemirror_mode": {
    "name": "ipython",
    "version": 3
   },
   "file_extension": ".py",
   "mimetype": "text/x-python",
   "name": "python",
   "nbconvert_exporter": "python",
   "pygments_lexer": "ipython3",
   "version": "3.9.7"
  }
 },
 "nbformat": 4,
 "nbformat_minor": 5
}
