{
 "cells": [
  {
   "cell_type": "code",
   "execution_count": 2,
   "id": "0fd10055",
   "metadata": {},
   "outputs": [],
   "source": [
    "class TreeNode:\n",
    "    def __init__(self, data):\n",
    "        self.data = data\n",
    "        self.child = list()\n",
    "        "
   ]
  },
  {
   "cell_type": "code",
   "execution_count": 3,
   "id": "eb07356c",
   "metadata": {},
   "outputs": [
    {
     "data": {
      "text/plain": [
       "5"
      ]
     },
     "execution_count": 3,
     "metadata": {},
     "output_type": "execute_result"
    }
   ],
   "source": [
    "root = TreeNode(5)\n",
    "root.data"
   ]
  },
  {
   "cell_type": "code",
   "execution_count": 9,
   "id": "5003ee78",
   "metadata": {},
   "outputs": [
    {
     "data": {
      "text/plain": [
       "[<__main__.TreeNode at 0x1d78a4ad640>]"
      ]
     },
     "execution_count": 9,
     "metadata": {},
     "output_type": "execute_result"
    }
   ],
   "source": [
    "n1 = TreeNode(7)\n",
    "n2 = TreeNode(4)\n",
    "n3 = TreeNode(11)\n",
    "n4 = TreeNode(10)\n",
    "n5 = TreeNode(9)\n",
    "n6 = TreeNode(1)\n",
    "n7 = TreeNode(5)\n",
    "n8 = TreeNode(2)\n",
    "n9 = TreeNode(13)\n",
    "\n",
    "n1.child.append(n2)\n",
    "n1.child.append(n3)\n",
    "n1.child.append(n4)\n",
    "n1.child.append(n5)\n",
    "n1.child.append(n6)\n",
    "n1.child.append(n7)\n",
    "n2.child.append(n8)\n",
    "n3.child.append(n9)\n",
    "\n",
    "n1.child\n",
    "n2.child\n",
    "n3.child"
   ]
  },
  {
   "cell_type": "code",
   "execution_count": null,
   "id": "439ddd48",
   "metadata": {},
   "outputs": [],
   "source": []
  }
 ],
 "metadata": {
  "kernelspec": {
   "display_name": "Python 3 (ipykernel)",
   "language": "python",
   "name": "python3"
  },
  "language_info": {
   "codemirror_mode": {
    "name": "ipython",
    "version": 3
   },
   "file_extension": ".py",
   "mimetype": "text/x-python",
   "name": "python",
   "nbconvert_exporter": "python",
   "pygments_lexer": "ipython3",
   "version": "3.9.7"
  }
 },
 "nbformat": 4,
 "nbformat_minor": 5
}
