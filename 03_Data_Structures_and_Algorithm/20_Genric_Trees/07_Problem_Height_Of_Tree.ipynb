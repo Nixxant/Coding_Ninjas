{
 "cells": [
  {
   "cell_type": "markdown",
   "id": "80e317ec",
   "metadata": {},
   "source": [
    "Given a generic tree, find and return the node with maximum data. You need to return the node which is having maximum data.\n",
    "Return null if tree is empty.\n",
    "\n",
    "Input format :\n",
    "\n",
    "The first line of input contains data of the nodes of the tree in level order form. The order is: data for root node, number of children to root node, data of each of child nodes and so on and so forth for each node. The data of the nodes of the tree is separated by space.\n",
    "\n",
    "Output Format :\n",
    "\n",
    "The first and only line of output contains the data of the node with largest data in the given tree.\n",
    "\n",
    "Constraints:\n",
    "\n",
    "Time Limit: 1 sec\n",
    "\n",
    "Sample Input 1:\n",
    "\n",
    "10 3 20 30 40 2 40 50 0 0 0 0 \n",
    "\n",
    "Sample Output 1:\n",
    "\n",
    "50"
   ]
  },
  {
   "cell_type": "code",
   "execution_count": 1,
   "id": "5a09f552",
   "metadata": {},
   "outputs": [],
   "source": [
    "def height(root) :\n",
    "\n",
    "    if root is None:\n",
    "        return None\n",
    "    h = 0\n",
    "    for child in root.children:\n",
    "        maxH = height(child)\n",
    "        h = max(h, maxH)\n",
    "    return h + 1"
   ]
  },
  {
   "cell_type": "code",
   "execution_count": null,
   "id": "85c96a3e",
   "metadata": {},
   "outputs": [],
   "source": []
  }
 ],
 "metadata": {
  "kernelspec": {
   "display_name": "Python 3 (ipykernel)",
   "language": "python",
   "name": "python3"
  },
  "language_info": {
   "codemirror_mode": {
    "name": "ipython",
    "version": 3
   },
   "file_extension": ".py",
   "mimetype": "text/x-python",
   "name": "python",
   "nbconvert_exporter": "python",
   "pygments_lexer": "ipython3",
   "version": "3.9.7"
  }
 },
 "nbformat": 4,
 "nbformat_minor": 5
}
