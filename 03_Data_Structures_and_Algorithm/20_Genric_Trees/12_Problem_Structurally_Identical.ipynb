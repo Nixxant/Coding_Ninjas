{
 "cells": [
  {
   "cell_type": "markdown",
   "id": "e8fdc926",
   "metadata": {},
   "source": [
    "Given two generic trees, return true if they are structurally identical. Otherwise return false.\n",
    "Structural Identical\n",
    "\n",
    "If the two given trees are made of nodes with the same values and the nodes are arranged in the same way, then the trees are called identical.  \n",
    "\n",
    "Input format :\n",
    "\n",
    "The first line of input contains data of the nodes of the first tree in level order form. The order is: data for root node, number of children to root node, data of each of child nodes and so on and so forth for each node. The data of the nodes of the tree is separated by space.  \n",
    "\n",
    "The following line of input contains data of the nodes of the second tree in level order form. The order is: data for root node, number of children to root node, data of each of child nodes and so on and so forth for each node. The data of the nodes of the tree is separated by space.\n",
    "\n",
    "Output format :\n",
    "\n",
    "The first and only line of output contains true, if the given trees are structurally identical and false, otherwise.\n",
    "\n",
    "Constraints:\n",
    "\n",
    "Time Limit: 1 sec\n",
    "\n",
    "Sample Input 1 :\n",
    "\n",
    "10 3 20 30 40 2 40 50 0 0 0 0 \n",
    "\n",
    "10 3 20 30 40 2 40 50 0 0 0 0\n",
    "\n",
    "Sample Output 1 :\n",
    "\n",
    "true\n",
    "\n",
    "Sample Input 2 :\n",
    "\n",
    "10 3 20 30 40 2 40 50 0 0 0 0 \n",
    "\n",
    "10 3 2 30 40 2 40 50 0 0 0 0\n",
    "\n",
    "Sample Output 2:\n",
    "\n",
    "false\n"
   ]
  },
  {
   "cell_type": "code",
   "execution_count": 3,
   "id": "d6da1adc",
   "metadata": {},
   "outputs": [],
   "source": [
    "def isIdentical(tree1, tree2):\n",
    "    if tree1.data != tree2.data or len(tree1.children) != len(tree2.children):\n",
    "        return False\n",
    "    for child1, child2 in zip(tree1.children,tree2.children):\n",
    "        if not isIdentical(child1, child2):\n",
    "            return False\n",
    "    return True"
   ]
  },
  {
   "cell_type": "code",
   "execution_count": null,
   "id": "769d05ea",
   "metadata": {},
   "outputs": [],
   "source": []
  },
  {
   "cell_type": "markdown",
   "id": "55ed62fd",
   "metadata": {},
   "source": [
    "# Approch 2"
   ]
  },
  {
   "cell_type": "code",
   "execution_count": null,
   "id": "1b89a733",
   "metadata": {},
   "outputs": [],
   "source": [
    "def compare(tree, arr):\n",
    "    arr.append(tree.data)\n",
    "    \n",
    "    for child in tree.children:\n",
    "        compare(child, arr)\n",
    "    return arr\n",
    "def isIdentical2(tree1,tree2):\n",
    "    arr1 = []\n",
    "    arr2 = []\n",
    "    arr1 = compare(tree1,arr1)\n",
    "    arr2 = compare(tree2,arr2)\n",
    "    if arr1 == arr2:\n",
    "        return True\n",
    "    return False\n"
   ]
  }
 ],
 "metadata": {
  "kernelspec": {
   "display_name": "Python 3 (ipykernel)",
   "language": "python",
   "name": "python3"
  },
  "language_info": {
   "codemirror_mode": {
    "name": "ipython",
    "version": 3
   },
   "file_extension": ".py",
   "mimetype": "text/x-python",
   "name": "python",
   "nbconvert_exporter": "python",
   "pygments_lexer": "ipython3",
   "version": "3.9.7"
  }
 },
 "nbformat": 4,
 "nbformat_minor": 5
}
