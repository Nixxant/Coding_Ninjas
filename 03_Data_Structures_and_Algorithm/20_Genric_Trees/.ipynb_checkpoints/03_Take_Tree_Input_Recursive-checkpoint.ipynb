{
 "cells": [
  {
   "cell_type": "code",
   "execution_count": 1,
   "id": "fc2067f3",
   "metadata": {},
   "outputs": [],
   "source": [
    "class TreeNode:\n",
    "    def __init__(self,data):\n",
    "        self.data = data\n",
    "        self.children = list()"
   ]
  },
  {
   "cell_type": "code",
   "execution_count": 2,
   "id": "1379b7fa",
   "metadata": {},
   "outputs": [],
   "source": [
    "def printTreeDetailed(root):\n",
    "    if root is None:\n",
    "        return\n",
    "    print(root.data, end = \":\")\n",
    "    for child in root.children:\n",
    "        print(child.data, end = \",\")\n",
    "    print()\n",
    "    for child in root.children:\n",
    "        printTreeDetailed(child)"
   ]
  },
  {
   "cell_type": "code",
   "execution_count": 3,
   "id": "3fa8e756",
   "metadata": {},
   "outputs": [],
   "source": [
    "def takeTreeInput():\n",
    "    print(\"Enter root data : \")\n",
    "    rootData = int(input())\n",
    "    if rootData == -1:\n",
    "        return None\n",
    "    root = TreeNode(rootData)\n",
    "    \n",
    "    print(\"Enter Number of children : \")\n",
    "    childrenCount = int(input())\n",
    "    for i in range(childrenCount):\n",
    "        child = takeTreeInput()\n",
    "        root.children.append(child)\n",
    "    return root"
   ]
  },
  {
   "cell_type": "code",
   "execution_count": 4,
   "id": "ac624fe7",
   "metadata": {},
   "outputs": [
    {
     "name": "stdout",
     "output_type": "stream",
     "text": [
      "Enter root data : \n",
      "-1\n"
     ]
    }
   ],
   "source": [
    "root = takeTreeInput()\n",
    "printTreeDetailed(root)\n"
   ]
  },
  {
   "cell_type": "code",
   "execution_count": null,
   "id": "424b380f",
   "metadata": {},
   "outputs": [],
   "source": []
  }
 ],
 "metadata": {
  "kernelspec": {
   "display_name": "Python 3 (ipykernel)",
   "language": "python",
   "name": "python3"
  },
  "language_info": {
   "codemirror_mode": {
    "name": "ipython",
    "version": 3
   },
   "file_extension": ".py",
   "mimetype": "text/x-python",
   "name": "python",
   "nbconvert_exporter": "python",
   "pygments_lexer": "ipython3",
   "version": "3.9.7"
  }
 },
 "nbformat": 4,
 "nbformat_minor": 5
}
