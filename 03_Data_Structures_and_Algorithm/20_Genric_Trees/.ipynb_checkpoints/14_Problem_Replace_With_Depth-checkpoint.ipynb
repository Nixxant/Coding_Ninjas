{
 "cells": [
  {
   "cell_type": "markdown",
   "id": "d67968f4",
   "metadata": {},
   "source": [
    "You are given a generic tree. You have to replace each node with its depth value. You just have to update the data of each node, there is no need to return or print anything.\n",
    "\n",
    "Input format :\n",
    "\n",
    "The first line of input contains data of the nodes of the tree in level order form. The order is: data for root node, number of children to root node, data of each of child nodes and so on and so forth for each node. The data of the nodes of the tree is separated by space.  \n",
    "\n",
    "Output format:\n",
    "\n",
    "The updated tree is printed level wise. Each level is printed in a new line. Please refer to sample output 1 for more details. \n",
    "\n",
    "Constraints:\n",
    "\n",
    "Time Limit: 1 sec\n",
    "\n",
    "Sample Input 1:\n",
    "\n",
    "10 3 20 30 40 2 40 50 0 0 0 0 \n",
    "\n",
    "Sample Output 1:\n",
    "\n",
    "0 \n",
    "\n",
    "1 1 1 \n",
    "\n",
    "2 2"
   ]
  },
  {
   "cell_type": "code",
   "execution_count": 1,
   "id": "d0674a47",
   "metadata": {},
   "outputs": [],
   "source": [
    "def help(tree, i):\n",
    "    tree.data = i\n",
    "    for child in tree.children:\n",
    "        help(child, i+1)\n",
    "    return tree\n",
    "def replaceWithDepth(tree):\n",
    "    return help(tree, 0)"
   ]
  },
  {
   "cell_type": "code",
   "execution_count": null,
   "id": "821c4bbf",
   "metadata": {},
   "outputs": [],
   "source": []
  }
 ],
 "metadata": {
  "kernelspec": {
   "display_name": "Python 3 (ipykernel)",
   "language": "python",
   "name": "python3"
  },
  "language_info": {
   "codemirror_mode": {
    "name": "ipython",
    "version": 3
   },
   "file_extension": ".py",
   "mimetype": "text/x-python",
   "name": "python",
   "nbconvert_exporter": "python",
   "pygments_lexer": "ipython3",
   "version": "3.9.7"
  }
 },
 "nbformat": 4,
 "nbformat_minor": 5
}
