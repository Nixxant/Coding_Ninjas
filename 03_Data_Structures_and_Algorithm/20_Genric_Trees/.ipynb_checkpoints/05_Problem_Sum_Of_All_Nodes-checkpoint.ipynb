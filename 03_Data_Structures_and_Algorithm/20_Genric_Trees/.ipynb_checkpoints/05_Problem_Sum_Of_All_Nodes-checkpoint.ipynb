{
 "cells": [
  {
   "cell_type": "markdown",
   "id": "52fbd933",
   "metadata": {},
   "source": [
    "Given a generic tree, find and return the sum of all nodes present in the given tree.\n",
    "\n",
    "Input format :\n",
    "\n",
    "The first line of input contains data of the nodes of the tree in level order form. The order is: data for root node, number of children to root node, data of each of child nodes and so on and so forth for each node. The data of the nodes of the tree is separated by space.   \n",
    "\n",
    "Output Format :\n",
    "\n",
    "The first and only line of output prints the sum of all nodes of the given generic tree.\n",
    "\n",
    "Constraints:\n",
    "\n",
    "Time Limit: 1 sec\n",
    "\n",
    "Sample Input 1:\n",
    "\n",
    "10 3 20 30 40 2 40 50 0 0 0 0 \n",
    "\n",
    "Sample Output 1:\n",
    "\n",
    "190"
   ]
  },
  {
   "cell_type": "code",
   "execution_count": 1,
   "id": "97eb0a0a",
   "metadata": {},
   "outputs": [],
   "source": [
    "def nodeSum(root):\n",
    "    if root is None:\n",
    "        return 0\n",
    "    total = 0\n",
    "    for child in root.children:\n",
    "        total += nodeSum(child)\n",
    "    return root.data + total"
   ]
  },
  {
   "cell_type": "code",
   "execution_count": null,
   "id": "74a11af8",
   "metadata": {},
   "outputs": [],
   "source": []
  }
 ],
 "metadata": {
  "kernelspec": {
   "display_name": "Python 3 (ipykernel)",
   "language": "python",
   "name": "python3"
  },
  "language_info": {
   "codemirror_mode": {
    "name": "ipython",
    "version": 3
   },
   "file_extension": ".py",
   "mimetype": "text/x-python",
   "name": "python",
   "nbconvert_exporter": "python",
   "pygments_lexer": "ipython3",
   "version": "3.9.7"
  }
 },
 "nbformat": 4,
 "nbformat_minor": 5
}
