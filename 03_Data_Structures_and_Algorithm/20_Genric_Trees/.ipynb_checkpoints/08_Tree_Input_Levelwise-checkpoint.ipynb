{
 "cells": [
  {
   "cell_type": "code",
   "execution_count": 7,
   "id": "c507da6b",
   "metadata": {},
   "outputs": [],
   "source": [
    "class TreeNode:\n",
    "    def __init__(self, data):\n",
    "        self.data = data\n",
    "        self.children = list()"
   ]
  },
  {
   "cell_type": "code",
   "execution_count": 8,
   "id": "7d13d632",
   "metadata": {},
   "outputs": [],
   "source": [
    "import queue\n",
    "def treeInputLevelwise():\n",
    "    q = queue.Queue()\n",
    "    print(\"Enter root Data\")\n",
    "    rootData = int(input())\n",
    "    \n",
    "    if rootData == -1:\n",
    "        return None\n",
    "    root = TreeNode(rootData)\n",
    "    q.put(root)\n",
    "    \n",
    "    while not q.empty():\n",
    "        curr = q.get()\n",
    "        print(\"Enter Number of children for \", curr.data)\n",
    "        numChildren = int(input())\n",
    "        for i in range(numChildren):\n",
    "            print(\"Enter child for \", curr.data)\n",
    "            childData = int(input())\n",
    "            child = TreeNode(childData)\n",
    "            curr.children.append(child)\n",
    "            q.put(child)\n",
    "    return root\n"
   ]
  },
  {
   "cell_type": "code",
   "execution_count": 9,
   "id": "628cffdd",
   "metadata": {},
   "outputs": [],
   "source": [
    "def printTreeDetailed(root):\n",
    "    if root is None:\n",
    "        return\n",
    "    print(root.data, end = \":\")\n",
    "    for child in root.children:\n",
    "        print(child.data, end = \",\")\n",
    "    print()\n",
    "    for child in root.children:\n",
    "        printTreeDetailed(child)"
   ]
  },
  {
   "cell_type": "code",
   "execution_count": 10,
   "id": "439fee5d",
   "metadata": {},
   "outputs": [
    {
     "name": "stdout",
     "output_type": "stream",
     "text": [
      "Enter root Data\n",
      "1\n",
      "Enter Number of children for  1\n",
      "3\n",
      "Enter child for  1\n",
      "2\n",
      "Enter child for  1\n",
      "3\n",
      "Enter child for  1\n",
      "4\n",
      "Enter Number of children for  2\n",
      "2\n",
      "Enter child for  2\n",
      "5\n",
      "Enter child for  2\n",
      "6\n",
      "Enter Number of children for  3\n",
      "2\n",
      "Enter child for  3\n",
      "7\n",
      "Enter child for  3\n",
      "8\n",
      "Enter Number of children for  4\n",
      "0\n",
      "Enter Number of children for  5\n",
      "0\n",
      "Enter Number of children for  6\n",
      "0\n",
      "Enter Number of children for  7\n",
      "0\n",
      "Enter Number of children for  8\n",
      "0\n",
      "1:2,3,4,\n",
      "2:5,6,\n",
      "5:\n",
      "6:\n",
      "3:7,8,\n",
      "7:\n",
      "8:\n",
      "4:\n"
     ]
    }
   ],
   "source": [
    "root = treeInputLevelwise()\n",
    "printTreeDetailed(root)"
   ]
  },
  {
   "cell_type": "code",
   "execution_count": null,
   "id": "901ec9f2",
   "metadata": {},
   "outputs": [],
   "source": []
  }
 ],
 "metadata": {
  "kernelspec": {
   "display_name": "Python 3 (ipykernel)",
   "language": "python",
   "name": "python3"
  },
  "language_info": {
   "codemirror_mode": {
    "name": "ipython",
    "version": 3
   },
   "file_extension": ".py",
   "mimetype": "text/x-python",
   "name": "python",
   "nbconvert_exporter": "python",
   "pygments_lexer": "ipython3",
   "version": "3.9.7"
  }
 },
 "nbformat": 4,
 "nbformat_minor": 5
}
