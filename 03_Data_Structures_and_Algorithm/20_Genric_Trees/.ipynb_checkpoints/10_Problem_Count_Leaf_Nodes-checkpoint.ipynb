{
 "cells": [
  {
   "cell_type": "markdown",
   "id": "35e020df",
   "metadata": {},
   "source": [
    "Given a generic tree, count and return the number of leaf nodes present in the given tree.\n",
    "\n",
    "Input format :\n",
    "\n",
    "The first line of input contains data of the nodes of the tree in level order form. The order is: data for root node, number of children to root node, data of each of child nodes and so on and so forth for each node. The data of the nodes of the tree is separated by space.  \n",
    "\n",
    "Output Format :\n",
    "\n",
    "The first and only line of output prints the count of leaf nodes present in the given tree.\n",
    "\n",
    "Constraints:\n",
    "\n",
    "Time Limit: 1 sec\n",
    "\n",
    "Sample Input 1 :\n",
    "\n",
    "10 3 20 30 40 2 40 50 0 0 0 0 \n",
    "\n",
    "Sample Output 1 :\n",
    "\n",
    "4"
   ]
  },
  {
   "cell_type": "code",
   "execution_count": 1,
   "id": "017df643",
   "metadata": {},
   "outputs": [],
   "source": [
    "def leafNodeCount(root):\n",
    "    if root is None:\n",
    "        return 0\n",
    "    if len(root.children) == 0:\n",
    "        return 1\n",
    "    leaf = 0\n",
    "    for child in root.children:\n",
    "        leaf += leafNodeCount(child)\n",
    "    return leaf"
   ]
  },
  {
   "cell_type": "code",
   "execution_count": null,
   "id": "1e42f6e8",
   "metadata": {},
   "outputs": [],
   "source": []
  }
 ],
 "metadata": {
  "kernelspec": {
   "display_name": "Python 3 (ipykernel)",
   "language": "python",
   "name": "python3"
  },
  "language_info": {
   "codemirror_mode": {
    "name": "ipython",
    "version": 3
   },
   "file_extension": ".py",
   "mimetype": "text/x-python",
   "name": "python",
   "nbconvert_exporter": "python",
   "pygments_lexer": "ipython3",
   "version": "3.9.7"
  }
 },
 "nbformat": 4,
 "nbformat_minor": 5
}
