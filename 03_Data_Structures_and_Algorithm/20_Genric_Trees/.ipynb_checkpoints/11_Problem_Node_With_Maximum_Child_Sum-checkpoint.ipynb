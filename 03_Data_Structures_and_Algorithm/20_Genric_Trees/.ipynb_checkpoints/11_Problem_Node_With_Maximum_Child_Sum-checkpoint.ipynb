{
 "cells": [
  {
   "cell_type": "markdown",
   "id": "cdaf1ebd",
   "metadata": {},
   "source": [
    "Given a generic tree, find and return the node for which sum of its data and data of all its child nodes is maximum. In the sum, data of the node and data of its immediate child nodes has to be taken.\n",
    "\n",
    "Input format :\n",
    "\n",
    "The first line of input contains data of the nodes of the tree in level order form. The order is: data for root node, number of children to root node, data of each of child nodes and so on and so forth for each node. The data of the nodes of the tree is separated by space. \n",
    "\n",
    "Output format :\n",
    "\n",
    "The first and only line of output contains the data of the node with maximum sum, as described in the task.\n",
    "\n",
    "Constraints:\n",
    "\n",
    "Time Limit: 1 sec\n",
    "\n",
    "Sample Input 1 :\n",
    "\n",
    "5 3 1 2 3 1 15 2 4 5 1 6 0 0 0 0\n",
    "\n",
    "Sample Output 1 :\n",
    "\n",
    "1"
   ]
  },
  {
   "cell_type": "code",
   "execution_count": 1,
   "id": "e1bf5adb",
   "metadata": {},
   "outputs": [],
   "source": [
    "def maxSumNodeTree(tree):\n",
    "    if tree is None:\n",
    "        return\n",
    "    ans, ansSum = tree, tree.sum()\n",
    "    for child in tree.children:\n",
    "        temp, tempSum = maxSumNodeTree(child)\n",
    "        if tempSum > ansSum:\n",
    "            ans, ansSum = temp, tempSum\n",
    "    return ans, ansSum"
   ]
  },
  {
   "cell_type": "code",
   "execution_count": null,
   "id": "c3e2c4f1",
   "metadata": {},
   "outputs": [],
   "source": []
  }
 ],
 "metadata": {
  "kernelspec": {
   "display_name": "Python 3 (ipykernel)",
   "language": "python",
   "name": "python3"
  },
  "language_info": {
   "codemirror_mode": {
    "name": "ipython",
    "version": 3
   },
   "file_extension": ".py",
   "mimetype": "text/x-python",
   "name": "python",
   "nbconvert_exporter": "python",
   "pygments_lexer": "ipython3",
   "version": "3.9.7"
  }
 },
 "nbformat": 4,
 "nbformat_minor": 5
}
