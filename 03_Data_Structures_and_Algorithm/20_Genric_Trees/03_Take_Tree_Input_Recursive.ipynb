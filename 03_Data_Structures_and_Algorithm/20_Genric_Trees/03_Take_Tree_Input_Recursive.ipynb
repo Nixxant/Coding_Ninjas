{
 "cells": [
  {
   "cell_type": "code",
   "execution_count": 1,
   "id": "e23ccd2d",
   "metadata": {},
   "outputs": [],
   "source": [
    "class TreeNode:\n",
    "    def __init__(self,data):\n",
    "        self.data = data\n",
    "        self.children = list()"
   ]
  },
  {
   "cell_type": "code",
   "execution_count": 2,
   "id": "f0c98ee5",
   "metadata": {},
   "outputs": [],
   "source": [
    "def printTreeDetailed(root):\n",
    "    if root is None:\n",
    "        return\n",
    "    print(root.data, end = \":\")\n",
    "    for child in root.children:\n",
    "        print(child.data, end = \",\")\n",
    "    print()\n",
    "    for child in root.children:\n",
    "        printTreeDetailed(child)"
   ]
  },
  {
   "cell_type": "code",
   "execution_count": 3,
   "id": "fe71a7cf",
   "metadata": {},
   "outputs": [],
   "source": [
    "def takeTreeInput():\n",
    "    print(\"Enter root data : \")\n",
    "    rootData = int(input())\n",
    "    if rootData == -1:\n",
    "        return None\n",
    "    root = TreeNode(rootData)\n",
    "    \n",
    "    print(\"Enter Number of children : \")\n",
    "    childrenCount = int(input())\n",
    "    for i in range(childrenCount):\n",
    "        child = takeTreeInput()\n",
    "        root.children.append(child)\n",
    "    return root"
   ]
  },
  {
   "cell_type": "code",
   "execution_count": 4,
   "id": "3dcdaaf9",
   "metadata": {},
   "outputs": [
    {
     "name": "stdout",
     "output_type": "stream",
     "text": [
      "Enter root data : \n",
      "-1\n"
     ]
    }
   ],
   "source": [
    "root = takeTreeInput()\n",
    "printTreeDetailed(root)\n"
   ]
  },
  {
   "cell_type": "code",
   "execution_count": 5,
   "id": "fddf104b",
   "metadata": {},
   "outputs": [],
   "source": [
    "def sumRoot(root):\n",
    "    if root is None:\n",
    "        return\n",
    "    x = 0\n",
    "    for child in root.children:\n",
    "        x += sumRoot(child)\n",
    "    return x+root.data\n",
    "    \n",
    "        \n",
    "    \n",
    "    \n",
    "\n",
    "    "
   ]
  },
  {
   "cell_type": "code",
   "execution_count": 6,
   "id": "99872303",
   "metadata": {},
   "outputs": [
    {
     "name": "stdout",
     "output_type": "stream",
     "text": [
      "Enter root data : \n",
      "10\n",
      "Enter Number of children : \n",
      "3\n",
      "Enter root data : \n",
      "20\n",
      "Enter Number of children : \n",
      "1\n",
      "Enter root data : \n",
      "50\n",
      "Enter Number of children : \n",
      "4\n",
      "Enter root data : \n",
      "60\n",
      "Enter Number of children : \n",
      "0\n",
      "Enter root data : \n",
      "70\n",
      "Enter Number of children : \n",
      "0\n",
      "Enter root data : \n",
      "80\n",
      "Enter Number of children : \n",
      "0\n",
      "Enter root data : \n",
      "90\n",
      "Enter Number of children : \n",
      "0\n",
      "Enter root data : \n",
      "30\n",
      "Enter Number of children : \n",
      "0\n",
      "Enter root data : \n",
      "40\n",
      "Enter Number of children : \n",
      "0\n",
      "10:20,30,40,\n",
      "20:50,\n",
      "50:60,70,80,90,\n",
      "60:\n",
      "70:\n",
      "80:\n",
      "90:\n",
      "30:\n",
      "40:\n",
      "450\n"
     ]
    }
   ],
   "source": [
    "root = takeTreeInput()\n",
    "printTreeDetailed(root)\n",
    "print(sumRoot(root))"
   ]
  },
  {
   "cell_type": "code",
   "execution_count": null,
   "id": "b5655c45",
   "metadata": {},
   "outputs": [],
   "source": []
  }
 ],
 "metadata": {
  "kernelspec": {
   "display_name": "Python 3 (ipykernel)",
   "language": "python",
   "name": "python3"
  },
  "language_info": {
   "codemirror_mode": {
    "name": "ipython",
    "version": 3
   },
   "file_extension": ".py",
   "mimetype": "text/x-python",
   "name": "python",
   "nbconvert_exporter": "python",
   "pygments_lexer": "ipython3",
   "version": "3.9.7"
  }
 },
 "nbformat": 4,
 "nbformat_minor": 5
}
