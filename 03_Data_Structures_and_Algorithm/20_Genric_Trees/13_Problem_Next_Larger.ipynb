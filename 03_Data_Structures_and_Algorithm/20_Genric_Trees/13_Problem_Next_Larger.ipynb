{
 "cells": [
  {
   "cell_type": "markdown",
   "id": "c4fc481e",
   "metadata": {},
   "source": [
    "Given a generic tree and an integer n. Find and return the node with next larger element in the tree i.e. find a node with value just greater than n.\n",
    "\n",
    "Note: Return NULL if no node is present with the value greater than n.\n",
    "\n",
    "Input format :\n",
    "\n",
    "The first line of input contains data of the nodes of the tree in level order form. The order is: data for root node, number of children to root node, data of each of child nodes and so on and so forth for each node. The data of the nodes of the tree is separated by space.  \n",
    "\n",
    "The following line contains an integer, that denotes the value of n.\n",
    "\n",
    "Output format :\n",
    "\n",
    "The first and only line of output contains data of the node, whose data is just greater than n.\n",
    "\n",
    "Constraints:\n",
    "\n",
    "Time Limit: 1 sec\n",
    "\n",
    "Sample Input 1 :\n",
    "\n",
    "10 3 20 30 40 2 40 50 0 0 0 0 \n",
    "\n",
    "18\n",
    "\n",
    "Sample Output 1 :\n",
    "\n",
    "20\n",
    "\n",
    "Sample Input 2 :\n",
    "\n",
    "10 3 20 30 40 2 40 50 0 0 0 0 \n",
    "\n",
    "21\n",
    "\n",
    "Sample Output 2:\n",
    "\n",
    "30"
   ]
  },
  {
   "cell_type": "code",
   "execution_count": 1,
   "id": "cb23ae3d",
   "metadata": {},
   "outputs": [],
   "source": [
    "def nextLarger(tree, n):\n",
    "    if tree is None:\n",
    "        return None\n",
    "    if tree.data > n:\n",
    "        nextLarge = tree.data\n",
    "    else:\n",
    "        nextLarge = None\n",
    "    for child in tree.children:\n",
    "        tempNextLarge = nextLarger(child, n)\n",
    "        if nextLarge != None and tempNextLarge != None:\n",
    "            if tempNextLarge > n and tempNextLarge < nextLarge:\n",
    "                nextLarge = tempNextLarge\n",
    "        else:\n",
    "            nextLarge = tempNextLarge\n",
    "    return nextLarge"
   ]
  },
  {
   "cell_type": "code",
   "execution_count": null,
   "id": "b0f7749f",
   "metadata": {},
   "outputs": [],
   "source": []
  },
  {
   "cell_type": "markdown",
   "id": "26fc1f9e",
   "metadata": {},
   "source": [
    "# Alternate Approch"
   ]
  },
  {
   "cell_type": "code",
   "execution_count": 2,
   "id": "e4feab17",
   "metadata": {},
   "outputs": [],
   "source": [
    "def nextLargest(tree, n):\n",
    "    ans = None\n",
    "    if not tree:\n",
    "        return ans\n",
    "    if tree.data > n:\n",
    "        ans = tree\n",
    "    for child in tree.children:\n",
    "        temp = nextLargest(child, n)\n",
    "\n",
    "        if temp:\n",
    "            if not ans or ans.data > temp.data:\n",
    "                ans = temp\n",
    "    return ans"
   ]
  },
  {
   "cell_type": "code",
   "execution_count": null,
   "id": "f96a43de",
   "metadata": {},
   "outputs": [],
   "source": []
  }
 ],
 "metadata": {
  "kernelspec": {
   "display_name": "Python 3 (ipykernel)",
   "language": "python",
   "name": "python3"
  },
  "language_info": {
   "codemirror_mode": {
    "name": "ipython",
    "version": 3
   },
   "file_extension": ".py",
   "mimetype": "text/x-python",
   "name": "python",
   "nbconvert_exporter": "python",
   "pygments_lexer": "ipython3",
   "version": "3.9.7"
  }
 },
 "nbformat": 4,
 "nbformat_minor": 5
}
