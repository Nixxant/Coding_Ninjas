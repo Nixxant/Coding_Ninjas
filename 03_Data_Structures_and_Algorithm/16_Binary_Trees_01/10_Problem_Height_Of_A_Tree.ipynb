{
 "cells": [
  {
   "cell_type": "markdown",
   "id": "9732f849",
   "metadata": {},
   "source": [
    "For a given Binary Tree of integers, find and return the height of the tree. Height is defined as the total number of nodes along the longest path from the root to any of the leaf node.\n",
    "\n",
    "Example:\n",
    "\n",
    "ALTIMAGE\n",
    "\n",
    "\n",
    "Height of the given tree is 3. \n",
    "\n",
    "Input Format:\n",
    "\n",
    "The first and the only line of input will contain the node data, all separated by a single space. Since -1 is used as an indication whether the left or right node data exist for root, it will not be a part of the node data.\n",
    "\n",
    "Output Format:\n",
    "\n",
    "The first and the only line of output prints the height of the given binary tree.\n",
    "\n",
    "Note:\n",
    "\n",
    "You are not required to print anything explicitly. It has already been taken care of.\n",
    "\n",
    "Constraints:\n",
    "\n",
    "0 <= N <= 10^5\n",
    "\n",
    "Where N is the total number of nodes in the binary tree.\n",
    "\n",
    "\n",
    "\n",
    "Time Limit: 1 sec\n",
    "\n",
    "Sample Input 1:\n",
    "\n",
    "10 20 30 40 50 -1 -1 -1 -1 -1 -1\n",
    "\n",
    "Sample Output 1:\n",
    "\n",
    "3\n",
    "\n",
    "Sample Input 2:\n",
    "\n",
    "3 -1 -1\n",
    "\n",
    "Sample Output 2:\n",
    "\n",
    "1\n"
   ]
  },
  {
   "cell_type": "code",
   "execution_count": 1,
   "id": "50991809",
   "metadata": {},
   "outputs": [],
   "source": [
    "def height(root):\n",
    "    if root is None:\n",
    "        return 0\n",
    "    leftHeight = height(root.lef)\n",
    "    rightHeight = height(root.right)\n",
    "    return 1 + max(leftHeight, rightHeight)"
   ]
  },
  {
   "cell_type": "code",
   "execution_count": null,
   "id": "b74e687e",
   "metadata": {},
   "outputs": [],
   "source": []
  }
 ],
 "metadata": {
  "kernelspec": {
   "display_name": "Python 3 (ipykernel)",
   "language": "python",
   "name": "python3"
  },
  "language_info": {
   "codemirror_mode": {
    "name": "ipython",
    "version": 3
   },
   "file_extension": ".py",
   "mimetype": "text/x-python",
   "name": "python",
   "nbconvert_exporter": "python",
   "pygments_lexer": "ipython3",
   "version": "3.9.7"
  }
 },
 "nbformat": 4,
 "nbformat_minor": 5
}
