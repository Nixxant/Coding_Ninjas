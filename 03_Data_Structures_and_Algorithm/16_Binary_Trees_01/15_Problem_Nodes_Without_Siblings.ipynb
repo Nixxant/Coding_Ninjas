{
 "cells": [
  {
   "cell_type": "markdown",
   "id": "b1b44597",
   "metadata": {},
   "source": [
    "For a given Binary Tree of type integer, print all the nodes without any siblings.\n",
    "\n",
    "Example Input :\n",
    "\n",
    "1 4 5 6 -1 -1 7 20 30 80 90 -1 -1 -1 -1 -1 -1 -1 -1\n",
    "\n",
    "Explanation:\n",
    "\n",
    "The input tree when represented in a two-dimensional plane, it would look like this:     \n",
    "\n",
    "alt txt\n",
    "\n",
    "\n",
    "\n",
    "In respect to the root, node data in the left subtree that satisfy the condition of not having a sibling would be 6, taken in a top-down sequence. Similarly, for the right subtree, 7 is the node data without any sibling.\n",
    "\n",
    "\n",
    "\n",
    "Since we print the siblings in the left-subtree first and then the siblings from the right subtree, taken in a top-down fashion, we print 6 7.\n",
    "\n",
    "Example Output:\n",
    "\n",
    "6 7  \n",
    "\n",
    "Input Format:\n",
    "\n",
    "The first and the only line of input will contain the node data, all separated by a single space. Since -1 is used as an indication whether the left or right node data exist for root, it will not be a part of the node data.\n",
    "\n",
    "Output Format:\n",
    "\n",
    "The only line of output prints the node data in a top to down fashion with reference to the root. \n",
    "\n",
    "Node data in the left subtree will be printed first and then the right subtree.\n",
    "\n",
    "A single space will separate them all.\n",
    "\n",
    "Constraints:\n",
    "\n",
    "1 <= N <= 10^5\n",
    "\n",
    "Where N is the total number of nodes in the binary tree.\n",
    "\n",
    "\n",
    "\n",
    "Time Limit: 1 second\n",
    "\n",
    "Sample Input 1:\n",
    "\n",
    "5 6 10 2 3 -1 -1 -1 -1 -1 9 -1 -1\n",
    "\n",
    "Sample Output 1:\n",
    "\n",
    "9    \n"
   ]
  },
  {
   "cell_type": "code",
   "execution_count": 1,
   "id": "38cd826b",
   "metadata": {},
   "outputs": [],
   "source": [
    "def nodesWithoutSiblings(root):\n",
    "    if root is None :\n",
    "        return\n",
    "    if root.right is None and root.left is not None:\n",
    "        print(root.left.data, end = \" \")\n",
    "    if root.left is None and root.right is not None:\n",
    "        print(root.right.data, end = \" \")\n",
    "    nodesWithoutSiblings(root.left)\n",
    "    nodesWithoutSiblings(root.right)"
   ]
  },
  {
   "cell_type": "code",
   "execution_count": null,
   "id": "11d94526",
   "metadata": {},
   "outputs": [],
   "source": []
  }
 ],
 "metadata": {
  "kernelspec": {
   "display_name": "Python 3 (ipykernel)",
   "language": "python",
   "name": "python3"
  },
  "language_info": {
   "codemirror_mode": {
    "name": "ipython",
    "version": 3
   },
   "file_extension": ".py",
   "mimetype": "text/x-python",
   "name": "python",
   "nbconvert_exporter": "python",
   "pygments_lexer": "ipython3",
   "version": "3.9.7"
  }
 },
 "nbformat": 4,
 "nbformat_minor": 5
}
