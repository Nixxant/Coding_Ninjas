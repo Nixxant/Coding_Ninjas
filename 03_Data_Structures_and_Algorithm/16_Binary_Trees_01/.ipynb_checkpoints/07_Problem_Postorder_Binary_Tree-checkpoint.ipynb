{
 "cells": [
  {
   "cell_type": "markdown",
   "id": "899d8143",
   "metadata": {},
   "source": [
    "\n",
    "For a given Binary Tree of integers, print the post-order traversal.\n",
    "\n",
    "ALTIMAGE\n",
    "\n",
    "\n",
    "The postorder traversal for the given binary tree will be 40 50 20 30 10\n",
    "\n",
    "Input Format:\n",
    "\n",
    "The first and the only line of input will contain the node data, all separated by a single space. Since -1 is used as an indication whether the left or right node data exist for root, it will not be a part of the node data.\n",
    "\n",
    "Output Format:\n",
    "\n",
    "The only line of output prints the post-order traversal of the given binary tree.\n",
    "\n",
    "Constraints:\n",
    "\n",
    "1 <= N <= 10^6\n",
    "\n",
    "Where N is the total number of nodes in the binary tree.\n",
    "\n",
    "\n",
    "\n",
    "Time Limit: 1 sec\n",
    "\n",
    "Sample Input 1:\n",
    "\n",
    "1 2 3 4 5 6 7 -1 -1 -1 -1 -1 -1 -1 -1\n",
    "\n",
    "Sample Output 1:\n",
    "\n",
    "4 5 2 6 7 3 1 \n",
    "\n",
    "Sample Input 2:\n",
    "\n",
    "5 6 10 2 3 -1 -1 -1 -1 -1 9 -1 -1\n",
    "\n",
    "Sample Output 1:\n",
    "\n",
    "2 9 3 6 10 5 \n"
   ]
  },
  {
   "cell_type": "code",
   "execution_count": null,
   "id": "12775275",
   "metadata": {},
   "outputs": [],
   "source": [
    "def postOrder(root):\n",
    "    if root is None:\n",
    "        return\n",
    "    postOrder(root.left)\n",
    "    postOrder(root.right)\n",
    "    print(root.data, end = \" \")\n",
    "    "
   ]
  }
 ],
 "metadata": {
  "kernelspec": {
   "display_name": "Python 3 (ipykernel)",
   "language": "python",
   "name": "python3"
  },
  "language_info": {
   "codemirror_mode": {
    "name": "ipython",
    "version": 3
   },
   "file_extension": ".py",
   "mimetype": "text/x-python",
   "name": "python",
   "nbconvert_exporter": "python",
   "pygments_lexer": "ipython3",
   "version": "3.9.7"
  }
 },
 "nbformat": 4,
 "nbformat_minor": 5
}
