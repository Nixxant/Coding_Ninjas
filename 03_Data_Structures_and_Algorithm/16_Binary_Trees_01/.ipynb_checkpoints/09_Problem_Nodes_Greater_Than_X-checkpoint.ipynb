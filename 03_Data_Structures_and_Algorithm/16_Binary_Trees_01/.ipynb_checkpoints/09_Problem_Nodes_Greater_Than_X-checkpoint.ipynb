{
 "cells": [
  {
   "cell_type": "markdown",
   "id": "19bff8c6",
   "metadata": {},
   "source": [
    "For a given a binary tree of integers and an integer X, find and return the total number of nodes of the given binary tree which are having data greater than X.\n",
    "\n",
    "\n",
    "Input Format:\n",
    "\n",
    "The first line of input will contain the node data, all separated by a single space. Since -1 is used as an indication whether the left or right node data exist for root, it will not be a part of the node data.\n",
    "\n",
    "\n",
    "The second line of input contains an integer, denoting the value of X.\n",
    "\n",
    "Note:\n",
    "\n",
    "You are not required to print anything explicitly. It has already been taken care of.\n",
    "\n",
    "Output Format:\n",
    "\n",
    "The only line of output prints the total number of nodes where the node data is greater than X.\n",
    "\n",
    "Constraints:\n",
    "\n",
    "1 <= N <= 10^5\n",
    "\n",
    "Where N is the total number of nodes in the binary tree.\n",
    "\n",
    "\n",
    "\n",
    "Time Limit: 1 sec\n",
    "\n",
    "Sample Input 1:\n",
    "\n",
    "1 4 2 3 -1 -1 -1\n",
    "\n",
    "2\n",
    "\n",
    "Sample Output 1:\n",
    "\n",
    "2\n",
    "\n",
    "Explanation for Sample Input 1:\n",
    "\n",
    "Out of the four nodes of the given binary tree, [3, 4] are the node data that are greater than X = 2.\n",
    "\n",
    "Sample Input 2:\n",
    "\n",
    "5 6 10 2 3 -1 -1 -1 -1 -1 9 -1 -1\n",
    "\n",
    "5\n",
    "\n",
    "Sample Output 2:\n",
    "\n",
    "3"
   ]
  },
  {
   "cell_type": "code",
   "execution_count": null,
   "id": "2f4a62f8",
   "metadata": {},
   "outputs": [],
   "source": [
    "def greaterThanX(root,x):\n",
    "    if root is None:\n",
    "        return 0\n",
    "    leftCount = greaterThanX(root.left, x)\n",
    "    rightCount = greaterThanX(root.right, x)\n",
    "    if root.data > x:\n",
    "        return 1 + leftCount + rightCount\n",
    "    else:\n",
    "        return leftCount + rightCount\n",
    "    "
   ]
  }
 ],
 "metadata": {
  "kernelspec": {
   "display_name": "Python 3 (ipykernel)",
   "language": "python",
   "name": "python3"
  },
  "language_info": {
   "codemirror_mode": {
    "name": "ipython",
    "version": 3
   },
   "file_extension": ".py",
   "mimetype": "text/x-python",
   "name": "python",
   "nbconvert_exporter": "python",
   "pygments_lexer": "ipython3",
   "version": "3.9.7"
  }
 },
 "nbformat": 4,
 "nbformat_minor": 5
}
