{
 "cells": [
  {
   "cell_type": "code",
   "execution_count": null,
   "id": "433fb283",
   "metadata": {},
   "outputs": [],
   "source": [
    "def countLeaf(root):\n",
    "    if root is None:\n",
    "        return 0\n",
    "    if root.left is None and root.right is None:\n",
    "        return 1\n",
    "    leftLeaf = countLeaf(root.left)\n",
    "    rightLeaf = countLeaf(root.right)\n",
    "    return leftLeaf + rightLeaf"
   ]
  }
 ],
 "metadata": {
  "kernelspec": {
   "display_name": "Python 3 (ipykernel)",
   "language": "python",
   "name": "python3"
  },
  "language_info": {
   "codemirror_mode": {
    "name": "ipython",
    "version": 3
   },
   "file_extension": ".py",
   "mimetype": "text/x-python",
   "name": "python",
   "nbconvert_exporter": "python",
   "pygments_lexer": "ipython3",
   "version": "3.9.7"
  }
 },
 "nbformat": 4,
 "nbformat_minor": 5
}
