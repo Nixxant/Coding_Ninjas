{
 "cells": [
  {
   "cell_type": "markdown",
   "id": "1a844d1d",
   "metadata": {},
   "source": [
    "For a given Binary Tree of integers, find and return the sum of all the nodes data.\n",
    "\n",
    "Example:\n",
    "\n",
    "ALTIMAGE\n",
    "\n",
    "\n",
    "When we sum up all the nodes data together, we get 150. Hence, the output will be 150.\n",
    "\n",
    "Input Format:\n",
    "\n",
    "The first and the only line of input will contain the nodes data, all separated by a single space. Since -1 is used as an indication whether the left or right node data exist for root, it will not be a part of the node data.\n",
    "\n",
    "Output Format:\n",
    "\n",
    "The first and the only line of output prints the sum of all the nodes data present in the binary tree.\n",
    "\n",
    "Note:\n",
    "\n",
    "You are not required to print anything explicitly. It has already been taken care of.\n",
    "\n",
    "Constraints:\n",
    "\n",
    "1 <= N <= 10^6\n",
    "\n",
    "Where N is the total number of nodes in the binary tree.\n",
    "\n",
    "\n",
    "\n",
    "Time Limit: 1 sec\n",
    "\n",
    "Sample Input 1:\n",
    "\n",
    "2 3 4 6 -1 -1 -1 -1 -1\n",
    "\n",
    "Sample Output 1:\n",
    "\n",
    "15\n",
    "\n",
    "Explanation :\n",
    "\n",
    "The binary tree formed using the input values: 2, 3, 4, 6, -1, -1, -1, -1, -1. Hence the sum is 15. \n",
    "\n",
    "ALTIMAGE\n",
    "\n",
    "\n",
    "\n",
    "Sample Input 2:\n",
    "\n",
    "1 2 3 4 5 6 7 -1 -1 -1 -1 -1 -1 -1 -1\n",
    "\n",
    "Sample Output 2:\n",
    "\n",
    "28\n"
   ]
  },
  {
   "cell_type": "code",
   "execution_count": null,
   "id": "338eed47",
   "metadata": {},
   "outputs": [],
   "source": [
    "def getSum(root):\n",
    "    if root is None:\n",
    "        return 0\n",
    "    left_sum = getSum(root.left)\n",
    "    right_sum = getSum(root.right)\n",
    "    return root.data + left_sum + right_sum\n"
   ]
  }
 ],
 "metadata": {
  "kernelspec": {
   "display_name": "Python 3 (ipykernel)",
   "language": "python",
   "name": "python3"
  },
  "language_info": {
   "codemirror_mode": {
    "name": "ipython",
    "version": 3
   },
   "file_extension": ".py",
   "mimetype": "text/x-python",
   "name": "python",
   "nbconvert_exporter": "python",
   "pygments_lexer": "ipython3",
   "version": "3.9.7"
  }
 },
 "nbformat": 4,
 "nbformat_minor": 5
}
