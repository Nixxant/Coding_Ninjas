{
 "cells": [
  {
   "cell_type": "code",
   "execution_count": 1,
   "id": "8f8ad5e5",
   "metadata": {},
   "outputs": [],
   "source": [
    "def printDepthK(root,k):\n",
    "    if root is None:\n",
    "        return\n",
    "    if k == 0:\n",
    "        print(root.data)\n",
    "        return\n",
    "    printDepthK(root.left, k-1)\n",
    "    printDepthK(root.right, k-1)\n"
   ]
  },
  {
   "cell_type": "code",
   "execution_count": null,
   "id": "3720978a",
   "metadata": {},
   "outputs": [],
   "source": []
  },
  {
   "cell_type": "markdown",
   "id": "9a7f57e3",
   "metadata": {},
   "source": [
    "# Alternate Method"
   ]
  },
  {
   "cell_type": "code",
   "execution_count": null,
   "id": "01c0be36",
   "metadata": {},
   "outputs": [],
   "source": [
    "def printDepthK2(root,k,d = 0):\n",
    "    if root is None:\n",
    "        return\n",
    "    if d == k:\n",
    "        print(root.data)\n",
    "        return\n",
    "    printDepthK2(root.left,k,d+1)\n",
    "    printDepthK2(root.right,k,d+1)\n",
    "    "
   ]
  }
 ],
 "metadata": {
  "kernelspec": {
   "display_name": "Python 3 (ipykernel)",
   "language": "python",
   "name": "python3"
  },
  "language_info": {
   "codemirror_mode": {
    "name": "ipython",
    "version": 3
   },
   "file_extension": ".py",
   "mimetype": "text/x-python",
   "name": "python",
   "nbconvert_exporter": "python",
   "pygments_lexer": "ipython3",
   "version": "3.9.7"
  }
 },
 "nbformat": 4,
 "nbformat_minor": 5
}
