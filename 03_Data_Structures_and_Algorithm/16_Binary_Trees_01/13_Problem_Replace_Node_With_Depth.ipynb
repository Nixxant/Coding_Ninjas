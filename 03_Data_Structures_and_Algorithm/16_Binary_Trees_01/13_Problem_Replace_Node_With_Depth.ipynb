{
 "cells": [
  {
   "cell_type": "markdown",
   "id": "d9c4b6ef",
   "metadata": {},
   "source": [
    "For a given a Binary Tree of integers, replace each of its data with the depth of the tree.\n",
    "\n",
    "Root is at depth 0, hence the root data is updated with 0. Replicate the same further going down the in the depth of the given tree.\n",
    "\n",
    "The modified tree will be printed in the in-order fashion.\n",
    "\n",
    "Example:\n",
    "\n",
    "Alt text\n",
    "\n",
    "\n",
    "\n",
    "The above tree after updating will look like this:\n",
    "\n",
    "Alt text\n",
    "\n",
    "\n",
    "\n",
    "Output: 2 1 2 0 2 1 2 (printed in the in-order fashion)\n",
    "\n",
    "Input Format:\n",
    "\n",
    "The first and the only line of input will contain the node data, all separated by a single space. Since -1 is used as an indication whether the left or right node data exist for root, it will not be a part of the node data.\n",
    "\n",
    "Output Format:\n",
    "\n",
    "The first and the only line of output prints the updated tree in the in-order fashion.\n",
    "\n",
    "Note:\n",
    "\n",
    "You are not required to print anything explicitly. It has already been taken care of.\n",
    "\n",
    "Constraints:\n",
    "\n",
    "1 <= N <= 10^5\n",
    "\n",
    "Where N is the total number of nodes in the binary tree.\n",
    "\n",
    "\n",
    "\n",
    "Time Limit: 1sec\n",
    "\n",
    "Sample Input 1:\n",
    "\n",
    "2 35 10 2 3 5 2 -1 -1 -1 -1 -1 -1 -1 -1 \n",
    "\n",
    "Sample Output 1:\n",
    "\n",
    "2 1 2 0 2 1 2 \n",
    "\n",
    "Sample Input 2:\n",
    "\n",
    "1 2 3 4 5 6 7 -1 -1 -1 -1 -1 -1 -1 -1\n",
    "\n",
    "Sample Output 2:\n",
    "\n",
    "2 1 2 0 2 1 2 \n"
   ]
  },
  {
   "cell_type": "code",
   "execution_count": null,
   "id": "06352eaa",
   "metadata": {},
   "outputs": [],
   "source": [
    "def changeToDepthTree(root,d=0) :\n",
    "    if root is None:\n",
    "        return\n",
    "    changeToDepthTree(root.left,d+1)\n",
    "    print(d, end = \" \")\n",
    "    changeToDepthTree(root.right,d+1)"
   ]
  }
 ],
 "metadata": {
  "kernelspec": {
   "display_name": "Python 3 (ipykernel)",
   "language": "python",
   "name": "python3"
  },
  "language_info": {
   "codemirror_mode": {
    "name": "ipython",
    "version": 3
   },
   "file_extension": ".py",
   "mimetype": "text/x-python",
   "name": "python",
   "nbconvert_exporter": "python",
   "pygments_lexer": "ipython3",
   "version": "3.9.7"
  }
 },
 "nbformat": 4,
 "nbformat_minor": 5
}
