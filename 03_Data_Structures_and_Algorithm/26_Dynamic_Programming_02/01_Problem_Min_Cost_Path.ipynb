{
 "cells": [
  {
   "cell_type": "markdown",
   "id": "2a922eee",
   "metadata": {},
   "source": [
    "# MinCost Recurrsive Solution"
   ]
  },
  {
   "cell_type": "code",
   "execution_count": 1,
   "id": "d3b11ddd",
   "metadata": {},
   "outputs": [
    {
     "name": "stdout",
     "output_type": "stream",
     "text": [
      "30\n"
     ]
    }
   ],
   "source": [
    "import sys\n",
    "def minCost(cost, i, j , n ,m):\n",
    "    if i == n - 1 and j == m-1:\n",
    "        return cost[i][j]\n",
    "    if i>=n or j>=m:\n",
    "        return sys.maxsize\n",
    "    ans1 = minCost(cost, i+1,j,n,m)\n",
    "    ans2 = minCost(cost,i,j+1,n,m)\n",
    "    ans3 = minCost(cost,i+1,j+1,n,m)\n",
    "    \n",
    "    ans = cost[i][j] + min(ans1,ans2,ans3)\n",
    "    \n",
    "    return ans\n",
    "\n",
    "cost = [[1,5,11],[8,13,12],[2,3,7],[15,16,18]]\n",
    "ans = minCost(cost,0,0,4,3)\n",
    "print(ans)"
   ]
  },
  {
   "cell_type": "markdown",
   "id": "9c8133d4",
   "metadata": {},
   "source": [
    "# MinCost Memoization Solution"
   ]
  },
  {
   "cell_type": "code",
   "execution_count": 1,
   "id": "02f3c462",
   "metadata": {},
   "outputs": [
    {
     "name": "stdout",
     "output_type": "stream",
     "text": [
      "30\n"
     ]
    }
   ],
   "source": [
    "import sys\n",
    "def minCost(cost,i,j,n,m,dp):\n",
    "    if i == n-1 and j == m -1 :\n",
    "        return cost[i][j]\n",
    "    if i>=n or j >=m:\n",
    "        return sys.maxsize\n",
    "    if dp[i][j+1] == sys.maxsize:\n",
    "        ans1 = minCost(cost,i,j+1,n,m,dp)\n",
    "        dp[i][j+1] = ans1\n",
    "    else:\n",
    "        ans1 = dp[i][j+1]\n",
    "    if dp[i+1][j] == sys.maxsize:\n",
    "        ans2 = minCost(cost,i+1,j,n,m,dp)\n",
    "        dp[i+1][j] = ans2\n",
    "    else:\n",
    "        ans2 = dp[i+1][j]\n",
    "    if dp[i+1][j+1] == sys.maxsize:\n",
    "        ans3 = minCost(cost,i+1,j+1,n,m,dp)\n",
    "    else:\n",
    "        ans3 = dp[i+1][j+1]\n",
    "    ans = cost[i][j] + min(ans1,ans2,ans3)\n",
    "    return ans\n",
    "cost=[[1,5,11],[8,13,12],[2,3,7],[15,16,18]]\n",
    "n=4\n",
    "m=3\n",
    "dp=[[sys.maxsize for j in range(m+1)]for i in range(n+1)]\n",
    "ans=minCost(cost,0,0,4,3,dp)\n",
    "print(ans)"
   ]
  },
  {
   "cell_type": "markdown",
   "id": "01df206b",
   "metadata": {},
   "source": [
    "# MinCost Iterative Solution"
   ]
  },
  {
   "cell_type": "code",
   "execution_count": 2,
   "id": "02c747e2",
   "metadata": {},
   "outputs": [
    {
     "name": "stdout",
     "output_type": "stream",
     "text": [
      "30\n"
     ]
    }
   ],
   "source": [
    "import sys\n",
    "def minCost(cost,n,m):\n",
    "    dp = [[sys.maxsize for j in range(m+1)]for i in range(n+1)]\n",
    "    for i in range(n-1,-1,-1):\n",
    "        for j in range(m-1,-1,-1):\n",
    "            if i == n-1 and j == m-1:\n",
    "                dp[i][j] = cost[i][j]\n",
    "            else:\n",
    "                ans1 = dp[i+1][j]\n",
    "                ans2 = dp[i][j+1]\n",
    "                ans3 = dp[i+1][j+1]\n",
    "                dp[i][j] = cost[i][j] + min(ans1,ans2,ans3)\n",
    "    return dp[0][0]\n",
    "cost=[[1,5,11],[8,13,12],[2,3,7],[15,16,18]]\n",
    "n=4\n",
    "m=3\n",
    "print(minCost(cost,n,m))"
   ]
  },
  {
   "cell_type": "markdown",
   "id": "079bc945",
   "metadata": {},
   "source": [
    "# Top Down Approach"
   ]
  },
  {
   "cell_type": "code",
   "execution_count": 15,
   "id": "f3f60f30",
   "metadata": {},
   "outputs": [
    {
     "name": "stdout",
     "output_type": "stream",
     "text": [
      "30\n"
     ]
    }
   ],
   "source": [
    "import sys\n",
    "def minCost(cost,n,m):\n",
    "    dp = [[sys.maxsize for j in range(m+1)] for i in range(n+1)]\n",
    "    for i in range(1,n+1):\n",
    "        for j in range(1,m+1):\n",
    "            if i == 1 and j== 1:\n",
    "                dp[i][j] = cost[0][0]\n",
    "            else:\n",
    "                ans1 = dp[i-1][j]\n",
    "                ans2 = dp[i][j-1]\n",
    "                ans3 = dp[i-1][j-1]\n",
    "                dp[i][j] = cost[i-1][j-1]+min(ans1,ans2,ans3)\n",
    "    return dp[n][m]\n",
    "\n",
    "cost=[[1,5,11],[8,13,12],[2,3,7],[15,16,18]]\n",
    "n=4\n",
    "m=3\n",
    "print(minCost(cost,n,m))                "
   ]
  },
  {
   "cell_type": "code",
   "execution_count": null,
   "id": "9e8051c8",
   "metadata": {},
   "outputs": [],
   "source": []
  }
 ],
 "metadata": {
  "kernelspec": {
   "display_name": "Python 3 (ipykernel)",
   "language": "python",
   "name": "python3"
  },
  "language_info": {
   "codemirror_mode": {
    "name": "ipython",
    "version": 3
   },
   "file_extension": ".py",
   "mimetype": "text/x-python",
   "name": "python",
   "nbconvert_exporter": "python",
   "pygments_lexer": "ipython3",
   "version": "3.9.7"
  }
 },
 "nbformat": 4,
 "nbformat_minor": 5
}
