{
 "cells": [
  {
   "cell_type": "code",
   "execution_count": 6,
   "id": "46c19c40",
   "metadata": {},
   "outputs": [
    {
     "name": "stdout",
     "output_type": "stream",
     "text": [
      "124\n"
     ]
    }
   ],
   "source": [
    "import sys\n",
    "\n",
    "def mcm(p,i,j):\n",
    "    if i == j : \n",
    "        return 0\n",
    "    \n",
    "    min_value = sys.maxsize\n",
    "    for k in range(i,j):\n",
    "        ans1 = mcm(p,i,k)\n",
    "        ans2 = mcm(p,k+1,j)\n",
    "        \n",
    "        mCost = p[i-1]*p[k]*p[j]\n",
    "        curr_value = ans1 + ans2 + mCost\n",
    "        min_value = min(min_value, curr_value)\n",
    "    return min_value\n",
    "        \n",
    "\n",
    "\n",
    "p = [2,3,4,5,6]\n",
    "n = len(p)-1\n",
    "\n",
    "ans = mcm(p,1,n)\n",
    "\n",
    "print(ans)"
   ]
  },
  {
   "cell_type": "markdown",
   "id": "7eb78ba3",
   "metadata": {},
   "source": [
    "# Memoization method"
   ]
  },
  {
   "cell_type": "code",
   "execution_count": 13,
   "id": "d9e58a51",
   "metadata": {
    "scrolled": false
   },
   "outputs": [
    {
     "name": "stdout",
     "output_type": "stream",
     "text": [
      "124\n"
     ]
    }
   ],
   "source": [
    "import sys\n",
    "def mcmM(p,i,j,dp):\n",
    "    if i == j:\n",
    "        return 0\n",
    "    min_value = sys.maxsize\n",
    "    for k in range(i,j):\n",
    "        if dp[i][k] == -1:\n",
    "            ans1 = mcmM(p,i,k,dp)\n",
    "            dp[i][k] = ans1\n",
    "        else:\n",
    "            ans1 = dp[i][k]\n",
    "        if dp[k+1][j] == -1:\n",
    "            ans2 = mcmM(p,k+1,j,dp)\n",
    "            dp[k+1][j] = ans2\n",
    "        else:\n",
    "            ans2 = dp[k+1][j]\n",
    "        \n",
    "        mcost = p[i-1]*p[k]*p[j]\n",
    "        curr_value = ans1 + ans2 + mcost\n",
    "        min_value = min(min_value, curr_value)\n",
    "    return min_value\n",
    "\n",
    "\n",
    "p = [2,3,4,5,6]\n",
    "n = len(p) - 1\n",
    "dp = [[-1 for j in range(n+1)] for i in range(n+1)]\n",
    "ans = mcmM(p,1,n,dp)\n",
    "print(ans)"
   ]
  },
  {
   "cell_type": "code",
   "execution_count": 15,
   "id": "6301b039",
   "metadata": {},
   "outputs": [
    {
     "name": "stdout",
     "output_type": "stream",
     "text": [
      "8000\n"
     ]
    }
   ],
   "source": [
    "import sys\n",
    "\n",
    "def MatrixChainOrder(p):\n",
    "    n = len(p)\n",
    "    #create the table to store solutions to sub problems\n",
    "    m = [[0 for x in range(n)] for x in range(n)]\n",
    " \n",
    "    # l is the length of the chain\n",
    "    for l in range(2,n):\n",
    "        for i in range(1,n-l+1):\n",
    "            j = i+l-1\n",
    "            #store a maximum integer in the table for further comparison\n",
    "            m[i][j] = sys.maxsize\n",
    "            for k in range(i,j):\n",
    "                #q holds the value of multiplication cost till j elements\n",
    "                q=m[i][k]+m[k+1][j]+p[i-1]*p[k]*p[j]\n",
    "                #compare previous cost with q\n",
    "                if q < m[i][j]:\n",
    "                    m[i][j]=q\n",
    "    #last element of first row contains the result to the entire problem\n",
    "    return m[1][n-1]\n",
    "p = [10,15,20,25]\n",
    "ans = MatrixChainOrder(p)\n",
    "print(ans)"
   ]
  },
  {
   "cell_type": "code",
   "execution_count": null,
   "id": "456ee427",
   "metadata": {},
   "outputs": [],
   "source": []
  }
 ],
 "metadata": {
  "kernelspec": {
   "display_name": "Python 3 (ipykernel)",
   "language": "python",
   "name": "python3"
  },
  "language_info": {
   "codemirror_mode": {
    "name": "ipython",
    "version": 3
   },
   "file_extension": ".py",
   "mimetype": "text/x-python",
   "name": "python",
   "nbconvert_exporter": "python",
   "pygments_lexer": "ipython3",
   "version": "3.9.7"
  }
 },
 "nbformat": 4,
 "nbformat_minor": 5
}
