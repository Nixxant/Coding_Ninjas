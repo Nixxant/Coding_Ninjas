{
 "cells": [
  {
   "cell_type": "markdown",
   "id": "c48da5e0",
   "metadata": {},
   "source": [
    "# Knapsack Recursive"
   ]
  },
  {
   "cell_type": "code",
   "execution_count": 1,
   "id": "19711c6c",
   "metadata": {},
   "outputs": [
    {
     "name": "stdout",
     "output_type": "stream",
     "text": [
      "500\n"
     ]
    }
   ],
   "source": [
    "def knapsack(w,val,wt,n,i):\n",
    "    if i == n:\n",
    "        return 0\n",
    "    if wt[i] > w:\n",
    "        ans = knapsack(w,val,wt,n,i+1)\n",
    "    else:\n",
    "        ans1 = val[i] + knapsack(w-wt[i],val,wt,n,i+1)\n",
    "        ans2 = knapsack(w,val,wt,n,i+1)\n",
    "        \n",
    "        ans = max(ans1,ans2)\n",
    "    return ans\n",
    "\n",
    "\n",
    "\n",
    "\n",
    "val = [200,300,100]\n",
    "wt = [20,25,30]\n",
    "w = 50\n",
    "n = len(val)\n",
    "ans = knapsack(w,val,wt,n,0)\n",
    "print(ans)"
   ]
  },
  {
   "cell_type": "markdown",
   "id": "5c44d845",
   "metadata": {},
   "source": [
    "# Knapsack Iterative"
   ]
  },
  {
   "cell_type": "code",
   "execution_count": 4,
   "id": "086fd72a",
   "metadata": {},
   "outputs": [
    {
     "name": "stdout",
     "output_type": "stream",
     "text": [
      "500\n"
     ]
    }
   ],
   "source": [
    "def knapsackI(w,val,wt):\n",
    "    n = len(val)\n",
    "    dp = [[0 for j in range(w+1)]for i in range(n+1)]\n",
    "    \n",
    "    for i in range(1,n+1):\n",
    "        for j in range(1,w+1):\n",
    "            if j < wt[i-1]:\n",
    "                ans = dp[i-1][j]\n",
    "            else:\n",
    "                ans1 = val[i-1] + dp[i-1][j-wt[i-1]]\n",
    "                ans2 = dp[i-1][j]\n",
    "                ans = max(ans1,ans2)\n",
    "            dp[i][j] = ans\n",
    "    return dp[n][w]\n",
    "val = [200,300,100]\n",
    "wt = [20,25,30]\n",
    "w = 50\n",
    "ans = knapsackI(w,val,wt)\n",
    "print(ans)"
   ]
  },
  {
   "cell_type": "markdown",
   "id": "a3506426",
   "metadata": {},
   "source": [
    "# Knapsack Space optimized"
   ]
  },
  {
   "cell_type": "code",
   "execution_count": 5,
   "id": "b09f583a",
   "metadata": {},
   "outputs": [
    {
     "name": "stdout",
     "output_type": "stream",
     "text": [
      "500\n"
     ]
    }
   ],
   "source": [
    "def knapsackSO(w,val,wt):\n",
    "    n = len(val)\n",
    "    dp = [0 for i in range(W+1)]\n",
    "    \n",
    "    for i in range(1,n+1):\n",
    "        for we in range(w,0,-1):\n",
    "            if wt[i-1] <= we:\n",
    "                dp[we] = max(dp[we], dp[we-wt[i-1]]+val[i-1])\n",
    "    return dp[w]\n",
    "val = [200,300,100]\n",
    "wt = [20,25,30]\n",
    "w = 50\n",
    "ans = knapsackI(w,val,wt)\n",
    "print(ans)\n",
    "                \n",
    "        "
   ]
  },
  {
   "cell_type": "code",
   "execution_count": null,
   "id": "a42d39b8",
   "metadata": {},
   "outputs": [],
   "source": []
  }
 ],
 "metadata": {
  "kernelspec": {
   "display_name": "Python 3 (ipykernel)",
   "language": "python",
   "name": "python3"
  },
  "language_info": {
   "codemirror_mode": {
    "name": "ipython",
    "version": 3
   },
   "file_extension": ".py",
   "mimetype": "text/x-python",
   "name": "python",
   "nbconvert_exporter": "python",
   "pygments_lexer": "ipython3",
   "version": "3.9.7"
  }
 },
 "nbformat": 4,
 "nbformat_minor": 5
}
