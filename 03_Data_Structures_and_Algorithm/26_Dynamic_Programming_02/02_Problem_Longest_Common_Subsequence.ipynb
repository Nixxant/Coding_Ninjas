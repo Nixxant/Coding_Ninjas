{
 "cells": [
  {
   "cell_type": "markdown",
   "id": "47f252e3",
   "metadata": {},
   "source": [
    "# Lognest Common Subsequence Recursive"
   ]
  },
  {
   "cell_type": "code",
   "execution_count": 2,
   "id": "4111c46f",
   "metadata": {},
   "outputs": [
    {
     "name": "stdout",
     "output_type": "stream",
     "text": [
      "5\n"
     ]
    }
   ],
   "source": [
    "def lcs(s1,s2,i,j):\n",
    "    if i == len(s1) or j == len(s2):\n",
    "        return 0\n",
    "    if s1[i] == s2[j]:\n",
    "        ans = 1 + lcs(s1,s2,i+1,j+1)\n",
    "    else:\n",
    "        ans1 = lcs(s1,s2,i+1,j)\n",
    "        ans2 = lcs(s1,s2,i,j+1)\n",
    "        ans = max(ans1,ans2)\n",
    "    return ans\n",
    "s1 = \"ablksmds\"\n",
    "s2 = \"babprsds\"\n",
    "ans = lcs(s1,s2,0,0)\n",
    "print(ans)"
   ]
  },
  {
   "cell_type": "markdown",
   "id": "fba37e3e",
   "metadata": {},
   "source": [
    "# LCS Memoization"
   ]
  },
  {
   "cell_type": "code",
   "execution_count": 5,
   "id": "80e24913",
   "metadata": {
    "scrolled": true
   },
   "outputs": [
    {
     "name": "stdout",
     "output_type": "stream",
     "text": [
      "5\n"
     ]
    }
   ],
   "source": [
    "def lcsM(s1,s2,i,j,dp):\n",
    "    if i == len(s1) or j == len(s2):\n",
    "        return 0\n",
    "    if s1[i] == s2[j]:\n",
    "        if dp[i+1][j+1] == -1:\n",
    "            small = lcsM(s1,s2,i+1,j+1,dp)\n",
    "            dp[i+1][j+1] = small\n",
    "            ans = 1 + small\n",
    "        else:\n",
    "            ans = 1 + dp[i+1][j+1]\n",
    "            \n",
    "    else:\n",
    "        if dp[i+1][j] == -1:\n",
    "            ans1 = lcsM(s1,s2,i+1,j,dp)\n",
    "            dp[i+1][j] = ans1\n",
    "        else:\n",
    "            ans1 = dp[i+1][j]\n",
    "        if dp[i][j+1] == -1:\n",
    "            ans2 = lcsM(s1,s2,i,j+1,dp)\n",
    "            dp[i][j+1] = ans2\n",
    "        else:\n",
    "            ans2 = dp[i][j+1]\n",
    "        \n",
    "        ans = max(ans1,ans2)\n",
    "    return ans\n",
    "s1 = \"ablksmds\"\n",
    "s2 = \"babprsds\"\n",
    "n = len(s1)\n",
    "m = len(s2)\n",
    "dp = [[-1 for j in range(m+1)] for i in range(n+1)]\n",
    "ans = lcsM(s1,s2,0,0,dp)\n",
    "print(ans)"
   ]
  },
  {
   "cell_type": "markdown",
   "id": "323b6eb2",
   "metadata": {},
   "source": [
    "# LCS Iterative"
   ]
  },
  {
   "cell_type": "code",
   "execution_count": 9,
   "id": "ca982133",
   "metadata": {},
   "outputs": [
    {
     "name": "stdout",
     "output_type": "stream",
     "text": [
      "5\n"
     ]
    }
   ],
   "source": [
    "def lcsI(s1,s2):\n",
    "    n = len(s1)\n",
    "    m = len(s2)\n",
    "    dp = [[0 for j in range(m+1)]for i in range(n+1)]\n",
    "    for i in range(n-1,-1,-1):\n",
    "        for j in range(m-1,-1,-1):\n",
    "            if s1[i] == s2[j]:\n",
    "                dp[i][j] = 1 + dp[i+1][j+1]\n",
    "            else:\n",
    "                dp[i][j] = max(dp[i+1][j],dp[i][j+1])\n",
    "    return dp[0][0]\n",
    "s1 = \"ablksmds\"\n",
    "s2 = \"babprsds\"\n",
    "ans = lcsI(s1,s2)\n",
    "print(ans)"
   ]
  },
  {
   "cell_type": "code",
   "execution_count": null,
   "id": "6c781620",
   "metadata": {},
   "outputs": [],
   "source": []
  }
 ],
 "metadata": {
  "kernelspec": {
   "display_name": "Python 3 (ipykernel)",
   "language": "python",
   "name": "python3"
  },
  "language_info": {
   "codemirror_mode": {
    "name": "ipython",
    "version": 3
   },
   "file_extension": ".py",
   "mimetype": "text/x-python",
   "name": "python",
   "nbconvert_exporter": "python",
   "pygments_lexer": "ipython3",
   "version": "3.9.7"
  }
 },
 "nbformat": 4,
 "nbformat_minor": 5
}
