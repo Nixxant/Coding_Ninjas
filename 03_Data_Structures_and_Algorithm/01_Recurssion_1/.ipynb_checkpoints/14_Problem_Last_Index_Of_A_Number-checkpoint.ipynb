{
 "cells": [
  {
   "cell_type": "markdown",
   "id": "f4bb651b",
   "metadata": {},
   "source": [
    "Given an array of length N and an integer x, you need to find and return the last index of integer x present in the array. Return -1 if it is not present in the array.\n",
    "\n",
    "Last index means - if x is present multiple times in the array, return the index at which x comes last in the array.\n",
    "\n",
    "You should start traversing your array from 0, not from (N - 1).\n",
    "\n",
    "Do this recursively. Indexing in the array starts from 0.\n",
    "\n",
    "Input Format :\n",
    "\n",
    "Line 1 : An Integer N i.e. size of array\n",
    "\n",
    "Line 2 : N integers which are elements of the array, separated by spaces\n",
    "\n",
    "Line 3 : Integer x\n",
    "\n",
    "Output Format :\n",
    "\n",
    "last index or -1\n",
    "\n",
    "Constraints :\n",
    "\n",
    "1 <= N <= 10^3\n",
    "\n",
    "Sample Input :\n",
    "\n",
    "4\n",
    "\n",
    "9 8 10 8\n",
    "\n",
    "8\n",
    "\n",
    "Sample Output :\n",
    "\n",
    "3"
   ]
  },
  {
   "cell_type": "code",
   "execution_count": null,
   "id": "e514b8bd",
   "metadata": {},
   "outputs": [],
   "source": [
    "from math import *\n",
    "from collections import *\n",
    "from sys import *\n",
    "from os import *\n",
    "\n",
    "## Read input as specified in the question.\n",
    "## Print output as specified in the question.\n",
    "def lastIndex(arr,x, si = -1):\n",
    "    if len(arr) + si == 0:\n",
    "        return -1\n",
    "    if arr[si] == x:\n",
    "        return len(arr) + si\n",
    "    return lastIndex(arr,x,si - 1)\n",
    "    \n",
    "\n",
    "\n",
    "\n",
    "from sys import setrecursionlimit\n",
    "setrecursionlimit(11000)\n",
    "n=int(input())\n",
    "arr=list(int(i) for i in input().strip().split(' '))\n",
    "x=int(input())\n",
    "print(lastIndex(arr, x))"
   ]
  }
 ],
 "metadata": {
  "kernelspec": {
   "display_name": "Python 3 (ipykernel)",
   "language": "python",
   "name": "python3"
  },
  "language_info": {
   "codemirror_mode": {
    "name": "ipython",
    "version": 3
   },
   "file_extension": ".py",
   "mimetype": "text/x-python",
   "name": "python",
   "nbconvert_exporter": "python",
   "pygments_lexer": "ipython3",
   "version": "3.9.7"
  }
 },
 "nbformat": 4,
 "nbformat_minor": 5
}
