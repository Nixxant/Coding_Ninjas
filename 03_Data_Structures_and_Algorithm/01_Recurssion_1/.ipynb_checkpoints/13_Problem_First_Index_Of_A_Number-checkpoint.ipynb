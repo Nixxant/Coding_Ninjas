{
 "cells": [
  {
   "cell_type": "markdown",
   "id": "83e79111",
   "metadata": {},
   "source": [
    "Given an array of length N and an integer x, you need to find and return the first index of integer x present in the array. Return -1 if it is not present in the array.\n",
    "\n",
    "First index means, the index of first occurrence of x in the input array.\n",
    "\n",
    "Do this recursively. Indexing in the array starts from 0.\n",
    "\n",
    "Input Format :\n",
    "\n",
    "Line 1 : An Integer N i.e. size of array\n",
    "\n",
    "Line 2 : N integers which are elements of the array, separated by spaces\n",
    "\n",
    "Line 3 : Integer x\n",
    "\n",
    "Output Format :\n",
    "\n",
    "first index or -1\n",
    "\n",
    "Constraints :\n",
    "\n",
    "1 <= N <= 10^3\n",
    "\n",
    "Sample Input :\n",
    "\n",
    "4\n",
    "\n",
    "9 8 10 8\n",
    "\n",
    "8\n",
    "\n",
    "Sample Output :\n",
    "\n",
    "1"
   ]
  },
  {
   "cell_type": "code",
   "execution_count": null,
   "id": "9fb7b9c9",
   "metadata": {},
   "outputs": [],
   "source": [
    "def firstIndex(arr, x,si=0):\n",
    "    # Please add your code here\n",
    "    if si == len(arr):\n",
    "        return -1\n",
    "    if arr[si] == x:\n",
    "        return si\n",
    "    return firstIndex(arr,x,si+1)"
   ]
  }
 ],
 "metadata": {
  "kernelspec": {
   "display_name": "Python 3 (ipykernel)",
   "language": "python",
   "name": "python3"
  },
  "language_info": {
   "codemirror_mode": {
    "name": "ipython",
    "version": 3
   },
   "file_extension": ".py",
   "mimetype": "text/x-python",
   "name": "python",
   "nbconvert_exporter": "python",
   "pygments_lexer": "ipython3",
   "version": "3.9.7"
  }
 },
 "nbformat": 4,
 "nbformat_minor": 5
}
