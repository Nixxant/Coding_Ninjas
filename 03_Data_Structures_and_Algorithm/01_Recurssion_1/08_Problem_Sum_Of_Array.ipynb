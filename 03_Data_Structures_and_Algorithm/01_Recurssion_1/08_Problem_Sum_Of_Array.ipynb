{
 "cells": [
  {
   "cell_type": "markdown",
   "id": "f7d7e476",
   "metadata": {},
   "source": [
    "Given an array of length N, you need to find and return the sum of all elements of the array.\n",
    "\n",
    "Do this recursively.\n",
    "\n",
    "Input Format :\n",
    "\n",
    "Line 1 : An Integer N i.e. size of array\n",
    "\n",
    "Line 2 : N integers which are elements of the array, separated by spaces\n",
    "\n",
    "Output Format :\n",
    "\n",
    "Sum\n",
    "\n",
    "Constraints :\n",
    "\n",
    "1 <= N <= 10^3\n",
    "\n",
    "Sample Input 1 :\n",
    "\n",
    "3\n",
    "\n",
    "9 8 9\n",
    "\n",
    "Sample Output 1 :\n",
    "\n",
    "26\n",
    "\n",
    "Sample Input 2 :\n",
    "\n",
    "3\n",
    "\n",
    "4 2 1\n",
    "\n",
    "Sample Output 2 :\n",
    "\n",
    "7    "
   ]
  },
  {
   "cell_type": "code",
   "execution_count": 2,
   "id": "b41153d5",
   "metadata": {},
   "outputs": [
    {
     "name": "stdout",
     "output_type": "stream",
     "text": [
      "3\n",
      "1 2 3\n",
      "6\n"
     ]
    }
   ],
   "source": [
    "def sumArray(arr):\n",
    "    # Please add your code here\n",
    "    if len(arr) == 1:\n",
    "        return arr[0]\n",
    "    return arr[0] + sumArray(arr[1:])\n",
    "    \n",
    "    \n",
    "    \n",
    "    \n",
    "    \n",
    "\n",
    "# Main\n",
    "from sys import setrecursionlimit\n",
    "setrecursionlimit(11000)\n",
    "n=int(input())\n",
    "arr=list(int(i) for i in input().strip().split(' '))\n",
    "print(sumArray(arr))"
   ]
  },
  {
   "cell_type": "code",
   "execution_count": null,
   "id": "b301db5d",
   "metadata": {},
   "outputs": [],
   "source": []
  }
 ],
 "metadata": {
  "kernelspec": {
   "display_name": "Python 3 (ipykernel)",
   "language": "python",
   "name": "python3"
  },
  "language_info": {
   "codemirror_mode": {
    "name": "ipython",
    "version": 3
   },
   "file_extension": ".py",
   "mimetype": "text/x-python",
   "name": "python",
   "nbconvert_exporter": "python",
   "pygments_lexer": "ipython3",
   "version": "3.9.7"
  }
 },
 "nbformat": 4,
 "nbformat_minor": 5
}
