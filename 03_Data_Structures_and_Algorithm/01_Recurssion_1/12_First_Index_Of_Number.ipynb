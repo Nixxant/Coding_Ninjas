{
 "cells": [
  {
   "cell_type": "code",
   "execution_count": 3,
   "id": "e14ba8fe",
   "metadata": {},
   "outputs": [],
   "source": [
    "def firstIndex(arr,x):\n",
    "    if len(arr) == 0:\n",
    "        return -1\n",
    "    if arr[0] == x:\n",
    "        return 0\n",
    "    if firstIndex(arr[1:],x) ==-1:\n",
    "        return -1\n",
    "    else:\n",
    "        return firstIndex(arr[1:],x) + 1"
   ]
  },
  {
   "cell_type": "code",
   "execution_count": 4,
   "id": "6464aa85",
   "metadata": {},
   "outputs": [
    {
     "name": "stdout",
     "output_type": "stream",
     "text": [
      "5\n"
     ]
    }
   ],
   "source": [
    "arr = [1,2,3,4,5,6,7]\n",
    "x = 6\n",
    "print(fisrtIndex(arr,x))"
   ]
  },
  {
   "cell_type": "code",
   "execution_count": 5,
   "id": "61964a95",
   "metadata": {},
   "outputs": [],
   "source": [
    "def findIndexB(arr,x,si):\n",
    "    if si == len(arr):\n",
    "        return -1\n",
    "    if arr[si] == x:\n",
    "        return si\n",
    "    return findIndexB(arr,x,si+1)"
   ]
  },
  {
   "cell_type": "code",
   "execution_count": 7,
   "id": "9a20e6dc",
   "metadata": {},
   "outputs": [
    {
     "name": "stdout",
     "output_type": "stream",
     "text": [
      "5\n"
     ]
    }
   ],
   "source": [
    "arr = [1,2,3,4,5,6,7]\n",
    "x = 6\n",
    "print(findIndexB(arr,x,0))"
   ]
  },
  {
   "cell_type": "code",
   "execution_count": null,
   "id": "6faa8849",
   "metadata": {},
   "outputs": [],
   "source": []
  }
 ],
 "metadata": {
  "kernelspec": {
   "display_name": "Python 3 (ipykernel)",
   "language": "python",
   "name": "python3"
  },
  "language_info": {
   "codemirror_mode": {
    "name": "ipython",
    "version": 3
   },
   "file_extension": ".py",
   "mimetype": "text/x-python",
   "name": "python",
   "nbconvert_exporter": "python",
   "pygments_lexer": "ipython3",
   "version": "3.9.7"
  }
 },
 "nbformat": 4,
 "nbformat_minor": 5
}
