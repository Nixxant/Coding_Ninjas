{
 "cells": [
  {
   "cell_type": "code",
   "execution_count": 1,
   "id": "863a8c30",
   "metadata": {},
   "outputs": [],
   "source": [
    "def power(n,x):\n",
    "    if x == 0:\n",
    "        return 1\n",
    "    return n * power(n,x-1)"
   ]
  },
  {
   "cell_type": "code",
   "execution_count": 4,
   "id": "74d7866b",
   "metadata": {},
   "outputs": [
    {
     "name": "stdout",
     "output_type": "stream",
     "text": [
      "2\n",
      "10\n",
      "1024\n"
     ]
    }
   ],
   "source": [
    "n,x = int(input()), int(input())\n",
    "print(power(n,x))"
   ]
  },
  {
   "cell_type": "code",
   "execution_count": null,
   "id": "51c0d95f",
   "metadata": {},
   "outputs": [],
   "source": []
  }
 ],
 "metadata": {
  "kernelspec": {
   "display_name": "Python 3 (ipykernel)",
   "language": "python",
   "name": "python3"
  },
  "language_info": {
   "codemirror_mode": {
    "name": "ipython",
    "version": 3
   },
   "file_extension": ".py",
   "mimetype": "text/x-python",
   "name": "python",
   "nbconvert_exporter": "python",
   "pygments_lexer": "ipython3",
   "version": "3.9.7"
  }
 },
 "nbformat": 4,
 "nbformat_minor": 5
}
