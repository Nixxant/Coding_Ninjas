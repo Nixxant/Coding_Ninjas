{
 "cells": [
  {
   "cell_type": "code",
   "execution_count": null,
   "id": "ed4bf957",
   "metadata": {},
   "outputs": [],
   "source": [
    "import collections\n",
    "input_list = list(map(int,input().split()))\n",
    "i = 0\n",
    "queue = collections.dequeue()\n",
    "\n",
    "\n",
    "while input_list[i] != -1:\n",
    "    choice = input_list[i]\n",
    "    if choice == 1:\n",
    "        i += 1\n",
    "        if n <= 9:\n",
    "            queue.appendleft(input_list[i])\n",
    "            n+=1\n",
    "        else:\n",
    "            print(-1)\n",
    "    elif choice == 2:\n",
    "        i += 1\n",
    "        if n<=9:\n",
    "            queue.append(input_list[i])\n",
    "            n += 1\n",
    "        else:\n",
    "            print(-1)\n",
    "    elif choice == 3:\n",
    "        if n >= 1:\n",
    "            queue.popleft()\n",
    "            n -= 1\n",
    "        else:\n",
    "            print(-1)\n",
    "    elif choice == 4:\n",
    "        if n >= 1:\n",
    "            queue.pop()\n",
    "            n -= 1\n",
    "        else:\n",
    "            print(-1)\n",
    "    elif choice == 5:\n",
    "        if n >= 1:\n",
    "            ele = queue.popleft()\n",
    "            print(ele)\n",
    "            queue.appendleft(ele)\n",
    "        else:\n",
    "            print(-1)\n",
    "    elif choice == 6:\n",
    "        if n >= 1:\n",
    "            ele = queue.pop()\n",
    "            print(ele)\n",
    "            queue.append(ele)\n",
    "        else:\n",
    "            print(-1)\n",
    "    i += 1\n",
    "    "
   ]
  }
 ],
 "metadata": {
  "kernelspec": {
   "display_name": "Python 3 (ipykernel)",
   "language": "python",
   "name": "python3"
  },
  "language_info": {
   "codemirror_mode": {
    "name": "ipython",
    "version": 3
   },
   "file_extension": ".py",
   "mimetype": "text/x-python",
   "name": "python",
   "nbconvert_exporter": "python",
   "pygments_lexer": "ipython3",
   "version": "3.9.7"
  }
 },
 "nbformat": 4,
 "nbformat_minor": 5
}
