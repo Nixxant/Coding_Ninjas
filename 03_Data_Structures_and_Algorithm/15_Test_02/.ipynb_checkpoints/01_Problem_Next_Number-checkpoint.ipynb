{
 "cells": [
  {
   "cell_type": "markdown",
   "id": "376486de",
   "metadata": {},
   "source": [
    "Given a large number represented in the form of a linked list. Write code to increment the number by 1 in-place(i.e. without using extra space).\n",
    "\n",
    "Note: You don't need to print the elements, just update the elements and return the head of updated LL.\n",
    "\n",
    "Input Constraints:\n",
    "\n",
    "1 <= Length of Linked List <=10^6.\n",
    "\n",
    "Input format :\n",
    "\n",
    "Line 1 : Linked list elements (separated by space and terminated by -1)\n",
    "\n",
    "Output Format :\n",
    "\n",
    "Line 1: Updated linked list elements \n",
    "\n",
    "Sample Input 1 :\n",
    "\n",
    "3 9 2 5 -1\n",
    "\n",
    "Sample Output 1 :\n",
    "\n",
    "3 9 2 6\n",
    "\n",
    "Sample Input 2 :\n",
    "\n",
    "9 9 9 -1\n",
    "\n",
    "Sample Output 1 :\n",
    "\n",
    "1 0 0 0 "
   ]
  },
  {
   "cell_type": "code",
   "execution_count": null,
   "id": "360a5782",
   "metadata": {},
   "outputs": [],
   "source": [
    "def reverseLL(head):\n",
    "    prev = None\n",
    "    curr = head\n",
    "    \n",
    "    while curr is not None:\n",
    "        tmp = curr.next\n",
    "        curr.next = prev\n",
    "        prev = curr\n",
    "        curr = tmp\n",
    "    return prev\n",
    "def nextNumber(head):\n",
    "    head = reverseLL(head)\n",
    "    carry = 1\n",
    "    temp = head\n",
    "    while temp is not None:\n",
    "        total_sum = temp.data + carry\n",
    "        temp.data = sum % 10\n",
    "        carry = total_sum // 10\n",
    "        temp = temp.next\n",
    "    if carry == 1:\n",
    "        temp = head\n",
    "        while temp.next is not none:\n",
    "            temp = temp.next\n",
    "        newNode = Node(carry)\n",
    "        temp.next = newNode\n",
    "    return reverseLL(head)\n"
   ]
  }
 ],
 "metadata": {
  "kernelspec": {
   "display_name": "Python 3 (ipykernel)",
   "language": "python",
   "name": "python3"
  },
  "language_info": {
   "codemirror_mode": {
    "name": "ipython",
    "version": 3
   },
   "file_extension": ".py",
   "mimetype": "text/x-python",
   "name": "python",
   "nbconvert_exporter": "python",
   "pygments_lexer": "ipython3",
   "version": "3.9.7"
  }
 },
 "nbformat": 4,
 "nbformat_minor": 5
}
