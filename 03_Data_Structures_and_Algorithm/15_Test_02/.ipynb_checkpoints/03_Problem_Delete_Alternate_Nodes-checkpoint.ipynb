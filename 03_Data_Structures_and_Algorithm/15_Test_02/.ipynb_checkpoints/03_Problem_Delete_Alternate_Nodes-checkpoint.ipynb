{
 "cells": [
  {
   "cell_type": "markdown",
   "id": "7525007a",
   "metadata": {},
   "source": [
    "Given a Singly Linked List of integers, delete all the alternate nodes in the list.\n",
    "\n",
    "Example:\n",
    "\n",
    "List: 10 -> 20 -> 30 -> 40 -> 50 -> 60 -> null\n",
    "\n",
    "Alternate nodes will be:  20, 40, and 60.\n",
    "\n",
    "\n",
    "Hence after deleting, the list will be:\n",
    "\n",
    "Output: 10 -> 30 -> 50 -> null\n",
    "\n",
    "Note :\n",
    "\n",
    "The head of the list will remain the same. Don't need to print or return anything.\n",
    "\n",
    "Input format :\n",
    "\n",
    "The first and the only line of input will contain the elements of the Singly Linked List separated by a single space and terminated by -1.\n",
    "\n",
    "Output Format :\n",
    "\n",
    "The only line of output will contain the updated list elements.\n",
    "\n",
    "Input Constraints:\n",
    "\n",
    "\n",
    "1 <= N <= 10 ^ 6.\n",
    "\n",
    "Where N is the size of the Singly Linked List\n",
    "\n",
    "\n",
    "\n",
    "Time Limit: 1 sec\n",
    "\n",
    "Sample Input 1:\n",
    "\n",
    "1 2 3 4 5 -1\n",
    "\n",
    "Sample Output 1:\n",
    "\n",
    "1 3 5\n",
    "\n",
    "Explanation of Sample Input 1:\n",
    "\n",
    "2, 4 are alternate nodes so we need to delete them \n",
    "\n",
    "Sample Input 2:\n",
    "\n",
    "10 20 30 40 50 60 70 -1\n",
    "\n",
    "Sample Output 2:\n",
    "\n",
    "10 30 50 70 "
   ]
  },
  {
   "cell_type": "code",
   "execution_count": 1,
   "id": "adfed316",
   "metadata": {},
   "outputs": [],
   "source": [
    "def deleteAlternate(head):\n",
    "    if head is None or head.next is None:\n",
    "        return head\n",
    "    prev = head\n",
    "    now = head.next\n",
    "    while prev is not None and now is not None:\n",
    "        prev.next = now.next\n",
    "        now = None\n",
    "        prev = prev.next\n",
    "        if prev is not None:\n",
    "            now = prev.next\n",
    "    return prev\n"
   ]
  },
  {
   "cell_type": "code",
   "execution_count": null,
   "id": "85c8ed6e",
   "metadata": {},
   "outputs": [],
   "source": []
  }
 ],
 "metadata": {
  "kernelspec": {
   "display_name": "Python 3 (ipykernel)",
   "language": "python",
   "name": "python3"
  },
  "language_info": {
   "codemirror_mode": {
    "name": "ipython",
    "version": 3
   },
   "file_extension": ".py",
   "mimetype": "text/x-python",
   "name": "python",
   "nbconvert_exporter": "python",
   "pygments_lexer": "ipython3",
   "version": "3.9.7"
  }
 },
 "nbformat": 4,
 "nbformat_minor": 5
}
