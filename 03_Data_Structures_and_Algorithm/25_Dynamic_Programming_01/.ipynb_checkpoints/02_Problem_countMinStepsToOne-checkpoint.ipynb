{
 "cells": [
  {
   "cell_type": "code",
   "execution_count": 9,
   "id": "10a0674e",
   "metadata": {},
   "outputs": [
    {
     "name": "stdout",
     "output_type": "stream",
     "text": [
      "10\n",
      "3\n"
     ]
    }
   ],
   "source": [
    "from sys import stdin\n",
    "from sys import maxsize as MAX_VALUE\n",
    "import sys\n",
    "def countMinStepsToOne(n, dp) :\n",
    "    if n == 1:\n",
    "        return 0\n",
    "    ans1 = sys.maxsize\n",
    "    if n%3 == 0:\n",
    "        if dp[n//3] == -1:\n",
    "            ans1 = countMinStepsToOne(n//3, dp)\n",
    "            dp[n//3] = ans1\n",
    "        else:\n",
    "            ans1 = dp[n//3]\n",
    "    \n",
    "    ans2 = sys.maxsize\n",
    "    if n%2 == 0:\n",
    "        if dp[n//2] == -1:\n",
    "            ans2 = countMinStepsToOne(n//2, dp)\n",
    "            dp[n//2] = ans2\n",
    "        else:\n",
    "            ans2 = dp[n//2]\n",
    "            \n",
    "            \n",
    "    if dp[n-1] == -1:\n",
    "        ans3 = countMinStepsToOne(n-1,dp)\n",
    "        dp[n-1] = ans3\n",
    "    else:\n",
    "        ans3 = dp[n-1]\n",
    "    ans = 1 + min(ans1,ans2,ans3)\n",
    "    return ans\n",
    "    \n",
    "    \n",
    "    \n",
    "    \n",
    "    \n",
    "n = int(input())    \n",
    "dp = [-1 for i in range(n+1)]\n",
    "\n",
    "print(countMinStepsToOne(n, dp))"
   ]
  },
  {
   "cell_type": "code",
   "execution_count": null,
   "id": "79865dcf",
   "metadata": {},
   "outputs": [],
   "source": []
  }
 ],
 "metadata": {
  "kernelspec": {
   "display_name": "Python 3 (ipykernel)",
   "language": "python",
   "name": "python3"
  },
  "language_info": {
   "codemirror_mode": {
    "name": "ipython",
    "version": 3
   },
   "file_extension": ".py",
   "mimetype": "text/x-python",
   "name": "python",
   "nbconvert_exporter": "python",
   "pygments_lexer": "ipython3",
   "version": "3.9.7"
  }
 },
 "nbformat": 4,
 "nbformat_minor": 5
}
