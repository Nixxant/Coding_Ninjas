{
 "cells": [
  {
   "cell_type": "markdown",
   "id": "6615cef2",
   "metadata": {},
   "source": [
    "# LIS Recurrsive"
   ]
  },
  {
   "cell_type": "code",
   "execution_count": 6,
   "id": "48151a50",
   "metadata": {},
   "outputs": [
    {
     "name": "stdout",
     "output_type": "stream",
     "text": [
      "7\n",
      "1 2 4 3 5 8 6\n",
      "5\n"
     ]
    }
   ],
   "source": [
    "def lis(li, i , n):\n",
    "    if i == n:\n",
    "        return 0,0\n",
    "    including_max = 1\n",
    "    for j in range(i+1,n):\n",
    "        if li[j] >= li[i]:\n",
    "            further_including_max = lis(li, j,n)[0]\n",
    "            including_max = max(including_max,1+further_including_max)\n",
    "    excluding_max = lis(li,i+1,n)[1]\n",
    "    overall_max = max(excluding_max, including_max)\n",
    "    return including_max,overall_max\n",
    "    \n",
    "    \n",
    "n = int(input())\n",
    "li = [int(ele) for ele in input().split()]\n",
    "ans = lis(li,0,n)[0]\n",
    "print(ans)"
   ]
  },
  {
   "cell_type": "markdown",
   "id": "369a0463",
   "metadata": {},
   "source": [
    "# LIS Memoization"
   ]
  },
  {
   "cell_type": "code",
   "execution_count": 8,
   "id": "ea274ac5",
   "metadata": {},
   "outputs": [
    {
     "name": "stdout",
     "output_type": "stream",
     "text": [
      "7\n",
      "6 3 1 2 0 7 9\n",
      "4\n"
     ]
    }
   ],
   "source": [
    "def lis(li,i,n,dp):\n",
    "    if i==n:\n",
    "        return 0,0\n",
    "    including_max=1\n",
    "    for j in range(i+1,n):\n",
    "        if li[j]>=li[i]:\n",
    "            if dp[j]==-1:\n",
    "                ans=lis(li,j,n,dp)\n",
    "                dp[j]=ans\n",
    "                further_including_max=ans[0]\n",
    "            else:\n",
    "                further_including_max=dp[j][0]\n",
    "            including_max=max(including_max,1+further_including_max)\n",
    "    if dp[i+1]==-1:\n",
    "        ans=lis(li,i+1,n,dp)\n",
    "        dp[i+1]=ans\n",
    "        excluding_max=ans[1]\n",
    "    else:\n",
    "        excluding_max=dp[i+1][1]\n",
    "    overallMax=max(including_max,excluding_max)\n",
    "    return including_max,overallMax\n",
    "\n",
    "n = int(input())\n",
    "li = [int(ele) for ele in input().split()]\n",
    "dp = [-1 for i in range(n+1)]\n",
    "ans = lis(li,0,n,dp)[1]\n",
    "print(ans)"
   ]
  },
  {
   "cell_type": "markdown",
   "id": "7287094c",
   "metadata": {},
   "source": [
    "# LIS Iterative method"
   ]
  },
  {
   "cell_type": "code",
   "execution_count": null,
   "id": "8d3735a4",
   "metadata": {},
   "outputs": [],
   "source": [
    "def lis_Iterative(li,n):\n",
    "    dp = [[0 for i in range(2)] for j in range(n+1)]\n",
    "    \n",
    "    \n",
    "    for i in range(n-1,-1,-1):\n",
    "        including_max = 1\n",
    "        for j in range(i+1,n):\n",
    "            if li[j]>li[i]:\n",
    "                including_max = max(including_max, 1 + dp[j][0])\n",
    "        dp[i][0] = including_max\n",
    "        excluding_max = dp[i+1][1]\n",
    "        overall_max = max(including_max, excluding_max)\n",
    "        dp[i][1] = overall_max\n",
    "    return dp[0][1]\n"
   ]
  }
 ],
 "metadata": {
  "kernelspec": {
   "display_name": "Python 3 (ipykernel)",
   "language": "python",
   "name": "python3"
  },
  "language_info": {
   "codemirror_mode": {
    "name": "ipython",
    "version": 3
   },
   "file_extension": ".py",
   "mimetype": "text/x-python",
   "name": "python",
   "nbconvert_exporter": "python",
   "pygments_lexer": "ipython3",
   "version": "3.9.7"
  }
 },
 "nbformat": 4,
 "nbformat_minor": 5
}
