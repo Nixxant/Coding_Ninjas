{
 "cells": [
  {
   "cell_type": "code",
   "execution_count": 1,
   "id": "d6b84def",
   "metadata": {},
   "outputs": [
    {
     "name": "stdout",
     "output_type": "stream",
     "text": [
      "7\n"
     ]
    }
   ],
   "source": [
    "import sys\n",
    "def minToOne(n):\n",
    "    if n == 1:\n",
    "        return 0\n",
    "    ans1 = sys.maxsize\n",
    "    ans2 = sys.maxsize\n",
    "    ans3 = sys.maxsize\n",
    "    if n%3 == 0:\n",
    "        ans3 = minToOne(n//3)\n",
    "    if n%2 == 0:\n",
    "        ans2 = minToOne(n//2)\n",
    "    ans1 = minToOne(n-1)\n",
    "    return 1 + min(ans1,ans2,ans3)\n",
    "print(minToOne(100))"
   ]
  },
  {
   "cell_type": "code",
   "execution_count": 2,
   "id": "10a0674e",
   "metadata": {},
   "outputs": [
    {
     "name": "stdout",
     "output_type": "stream",
     "text": [
      "1000\n",
      "9\n"
     ]
    }
   ],
   "source": [
    "from sys import stdin\n",
    "from sys import maxsize as MAX_VALUE\n",
    "import sys\n",
    "def countMinStepsToOne(n, dp) :\n",
    "    if n == 1:\n",
    "        return 0\n",
    "    ans1 = sys.maxsize\n",
    "    if n%3 == 0:\n",
    "        if dp[n//3] == -1:\n",
    "            ans1 = countMinStepsToOne(n//3, dp)\n",
    "            dp[n//3] = ans1\n",
    "        else:\n",
    "            ans1 = dp[n//3]\n",
    "    \n",
    "    ans2 = sys.maxsize\n",
    "    if n%2 == 0:\n",
    "        if dp[n//2] == -1:\n",
    "            ans2 = countMinStepsToOne(n//2, dp)\n",
    "            dp[n//2] = ans2\n",
    "        else:\n",
    "            ans2 = dp[n//2]\n",
    "            \n",
    "            \n",
    "    if dp[n-1] == -1:\n",
    "        ans3 = countMinStepsToOne(n-1,dp)\n",
    "        dp[n-1] = ans3\n",
    "    else:\n",
    "        ans3 = dp[n-1]\n",
    "    ans = 1 + min(ans1,ans2,ans3)\n",
    "    return ans\n",
    "    \n",
    "    \n",
    "    \n",
    "    \n",
    "    \n",
    "n = int(input())    \n",
    "dp = [-1 for i in range(n+1)]\n",
    "\n",
    "print(countMinStepsToOne(n, dp))"
   ]
  },
  {
   "cell_type": "code",
   "execution_count": 14,
   "id": "79865dcf",
   "metadata": {},
   "outputs": [
    {
     "name": "stdout",
     "output_type": "stream",
     "text": [
      "9\n"
     ]
    }
   ],
   "source": [
    "def countMinStepsToOne(n) :\n",
    "    dp = [-1 for i in range(n+1)]\n",
    "    dp[0] = 0\n",
    "    dp[1] = 0\n",
    "    big = 2147483647\n",
    "    for i in range(2,n+1):\n",
    "        op2 = dp[i//2]\n",
    "        op3 = dp[i//3]\n",
    "        if i%3 == 0:\n",
    "            op3 = dp[i//3]\n",
    "        else:\n",
    "            dp[i//3] = big\n",
    "        if i%2 == 0:\n",
    "            op2 = dp[i//2]\n",
    "        else:\n",
    "            dp[i//2] = big\n",
    "        op1 = dp[i-1]\n",
    "        dp[i] = 1 + min(op1,op2,op3)\n",
    "    return dp[n]\n",
    "n = 1000\n",
    "print(countMinStepsToOne(n))"
   ]
  },
  {
   "cell_type": "code",
   "execution_count": null,
   "id": "4055287a",
   "metadata": {},
   "outputs": [],
   "source": []
  },
  {
   "cell_type": "code",
   "execution_count": null,
   "id": "4bd342ba",
   "metadata": {},
   "outputs": [],
   "source": []
  },
  {
   "cell_type": "code",
   "execution_count": null,
   "id": "4400e070",
   "metadata": {},
   "outputs": [],
   "source": []
  }
 ],
 "metadata": {
  "kernelspec": {
   "display_name": "Python 3 (ipykernel)",
   "language": "python",
   "name": "python3"
  },
  "language_info": {
   "codemirror_mode": {
    "name": "ipython",
    "version": 3
   },
   "file_extension": ".py",
   "mimetype": "text/x-python",
   "name": "python",
   "nbconvert_exporter": "python",
   "pygments_lexer": "ipython3",
   "version": "3.9.7"
  }
 },
 "nbformat": 4,
 "nbformat_minor": 5
}
