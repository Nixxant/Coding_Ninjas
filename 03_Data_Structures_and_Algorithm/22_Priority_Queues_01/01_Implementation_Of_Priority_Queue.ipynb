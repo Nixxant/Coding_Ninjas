{
 "cells": [
  {
   "cell_type": "code",
   "execution_count": 1,
   "id": "2c0da745",
   "metadata": {},
   "outputs": [],
   "source": [
    "class PriorityQueueNode:\n",
    "    def __init__(self, value, priority):\n",
    "        self.value = value\n",
    "        self.priority = prioritiy\n",
    "        \n",
    "\n",
    "class PriorityQueue:\n",
    "    def __init__(self):\n",
    "        self.pq = list()\n",
    "    \n",
    "    def getSize():\n",
    "        return len(pq)\n",
    "    \n",
    "    def isEmpty():\n",
    "        return self.getSize() == 0\n",
    "    \n",
    "    \n",
    "    def getMin():\n",
    "        if self.isEmpty():\n",
    "            return None\n",
    "        \n",
    "        return self.pq[0].value\n",
    "        "
   ]
  },
  {
   "cell_type": "code",
   "execution_count": null,
   "id": "5345a5a5",
   "metadata": {},
   "outputs": [],
   "source": []
  }
 ],
 "metadata": {
  "kernelspec": {
   "display_name": "Python 3 (ipykernel)",
   "language": "python",
   "name": "python3"
  },
  "language_info": {
   "codemirror_mode": {
    "name": "ipython",
    "version": 3
   },
   "file_extension": ".py",
   "mimetype": "text/x-python",
   "name": "python",
   "nbconvert_exporter": "python",
   "pygments_lexer": "ipython3",
   "version": "3.9.7"
  }
 },
 "nbformat": 4,
 "nbformat_minor": 5
}
