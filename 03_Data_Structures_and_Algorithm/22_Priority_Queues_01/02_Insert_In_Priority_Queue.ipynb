{
 "cells": [
  {
   "cell_type": "code",
   "execution_count": 1,
   "id": "ea91a14a",
   "metadata": {},
   "outputs": [],
   "source": [
    "class PriorityQueueNode:\n",
    "    def __init__(self, value, priority):\n",
    "        self.value = value\n",
    "        self.priority = prioritiy\n",
    "        \n",
    "\n",
    "class PriorityQueue:\n",
    "    def __init__(self):\n",
    "        self.pq = list()\n",
    "    \n",
    "    def getSize():\n",
    "        return len(pq)\n",
    "    \n",
    "    def isEmpty():\n",
    "        return self.getSize() == 0\n",
    "    \n",
    "    \n",
    "    def getMin():\n",
    "        if self.isEmpty():\n",
    "            return None\n",
    "        \n",
    "        return self.pq[0].value"
   ]
  },
  {
   "cell_type": "code",
   "execution_count": 3,
   "id": "b6d2ad54",
   "metadata": {},
   "outputs": [
    {
     "name": "stdout",
     "output_type": "stream",
     "text": [
      "1 x 2 x 1 u 2 u "
     ]
    }
   ],
   "source": [
    "class Sample:\n",
    "    def __init__(self,n):\n",
    "        self.a = n\n",
    "        print(self.a,\"x\",end = \" \")\n",
    "    def __del__(self):\n",
    "        print(self.a,\"u\",end = \" \")\n",
    "o1 = Sample(1)\n",
    "o2 = Sample(2)\n",
    "del o1\n",
    "del o2"
   ]
  },
  {
   "cell_type": "code",
   "execution_count": null,
   "id": "8602e98c",
   "metadata": {},
   "outputs": [],
   "source": []
  }
 ],
 "metadata": {
  "kernelspec": {
   "display_name": "Python 3 (ipykernel)",
   "language": "python",
   "name": "python3"
  },
  "language_info": {
   "codemirror_mode": {
    "name": "ipython",
    "version": 3
   },
   "file_extension": ".py",
   "mimetype": "text/x-python",
   "name": "python",
   "nbconvert_exporter": "python",
   "pygments_lexer": "ipython3",
   "version": "3.9.7"
  }
 },
 "nbformat": 4,
 "nbformat_minor": 5
}
