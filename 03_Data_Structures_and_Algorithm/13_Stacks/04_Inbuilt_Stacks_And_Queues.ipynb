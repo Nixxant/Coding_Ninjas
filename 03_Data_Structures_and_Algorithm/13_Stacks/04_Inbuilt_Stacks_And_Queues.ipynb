{
 "cells": [
  {
   "cell_type": "code",
   "execution_count": 1,
   "id": "0d4d8ab7",
   "metadata": {},
   "outputs": [
    {
     "name": "stdout",
     "output_type": "stream",
     "text": [
      "19\n",
      "6\n"
     ]
    }
   ],
   "source": [
    "#Inbuilt stack as a list\n",
    "\n",
    "s = [1,2,3,4]\n",
    "\n",
    "s.append(6)\n",
    "s.append(19)\n",
    "\n",
    "print(s.pop())\n",
    "print(s.pop())"
   ]
  },
  {
   "cell_type": "code",
   "execution_count": 2,
   "id": "95d46725",
   "metadata": {},
   "outputs": [
    {
     "name": "stdout",
     "output_type": "stream",
     "text": [
      "1\n",
      "2\n",
      "3\n",
      "4\n"
     ]
    }
   ],
   "source": [
    "#Inbuilt Queue\n",
    "\n",
    "import queue\n",
    "q = queue.Queue()\n",
    "q.put(1)\n",
    "q.put(2)\n",
    "q.put(3)\n",
    "q.put(4)\n",
    "\n",
    "while not q.empty():\n",
    "    print(q.get())\n",
    "\n"
   ]
  },
  {
   "cell_type": "code",
   "execution_count": 3,
   "id": "4a499bc6",
   "metadata": {},
   "outputs": [
    {
     "name": "stdout",
     "output_type": "stream",
     "text": [
      "4\n",
      "3\n",
      "2\n",
      "1\n"
     ]
    }
   ],
   "source": [
    "#Inbuilt Queue class having functions of stack\n",
    "import queue\n",
    "qs = queue.LifoQueue()\n",
    "\n",
    "qs.put(1)\n",
    "qs.put(2)\n",
    "qs.put(3)\n",
    "qs.put(4)\n",
    "\n",
    "while not qs.empty():\n",
    "    print(qs.get())"
   ]
  },
  {
   "cell_type": "code",
   "execution_count": null,
   "id": "4c5c7bed",
   "metadata": {},
   "outputs": [],
   "source": []
  }
 ],
 "metadata": {
  "kernelspec": {
   "display_name": "Python 3 (ipykernel)",
   "language": "python",
   "name": "python3"
  },
  "language_info": {
   "codemirror_mode": {
    "name": "ipython",
    "version": 3
   },
   "file_extension": ".py",
   "mimetype": "text/x-python",
   "name": "python",
   "nbconvert_exporter": "python",
   "pygments_lexer": "ipython3",
   "version": "3.9.7"
  }
 },
 "nbformat": 4,
 "nbformat_minor": 5
}
