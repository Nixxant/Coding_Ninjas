{
 "cells": [
  {
   "cell_type": "markdown",
   "id": "6d88af55",
   "metadata": {},
   "source": [
    "Afzal has been working with an organization called 'Money Traders' for the past few years. The organization is into the money trading business. His manager assigned him a task. For a given array/list of stock's prices for N days, find the stock's span for each day.\n",
    "\n",
    "The span of the stock's price today is defined as the maximum number of consecutive days(starting from today and going backwards) for which the price of the stock was less than today's price.\n",
    "\n",
    "For example, if the price of a stock over a period of 7 days are [100, 80, 60, 70, 60, 75, 85], then the stock spans will be [1, 1, 1, 2, 1, 4, 6].\n",
    "\n",
    "Explanation:\n",
    "\n",
    "On the sixth day when the price of the stock was 75, the span came out to be 4, because the last 4 prices(including the current price of 75) were less than the current or the sixth day's price.\n",
    "\n",
    "\n",
    "Similarly, we can deduce the remaining results.\n",
    "\n",
    "Afzal has to return an array/list of spans corresponding to each day's stock's price. Help him to achieve the task.\n",
    "\n",
    "Input Format:\n",
    "\n",
    "The first line of input contains an integer N, denoting the total number of days.\n",
    "\n",
    "\n",
    "\n",
    "The second line of input contains the stock prices of each day. A single space will separate them.\n",
    "\n",
    "Output Format:\n",
    "\n",
    "The only line of output will print the span for each day's stock price. A single space will separate them.\n",
    "\n",
    "Note:\n",
    "\n",
    "You are not required to print the expected output explicitly. It has already been taken care of. Just store the values of output in the spans array.\n",
    "\n",
    "Constraints:\n",
    "\n",
    "0 <= N <= 10^7\n",
    "\n",
    "1 <= X <= 10^9\n",
    "\n",
    "Where X denotes the stock's price for a day.\n",
    "\n",
    "\n",
    "\n",
    "Time Limit: 1 second\n",
    "\n",
    "Sample Input 1:\n",
    "\n",
    "4\n",
    "\n",
    "10 10 10 10\n",
    "\n",
    "Sample Output 1:\n",
    "\n",
    "1 1 1 1 \n",
    "\n",
    "Sample Input 2:\n",
    "\n",
    "8\n",
    "\n",
    "60 70 80 100 90 75 80 120\n",
    "\n",
    "Sample Output 2:\n",
    "\n",
    "1 2 3 4 1 1 2 8 "
   ]
  },
  {
   "cell_type": "markdown",
   "id": "84ab3a67",
   "metadata": {},
   "source": [
    "# Approch 1"
   ]
  },
  {
   "cell_type": "code",
   "execution_count": null,
   "id": "52de1d6a",
   "metadata": {},
   "outputs": [],
   "source": [
    "def stockSpan(price, n) :\n",
    "\t#Your code goes here\n",
    "\ts = [None for x in range(n)]\n",
    "\ts[0] = 1\n",
    "\n",
    "\tfor i in range(1,n):\n",
    "\t\ts[i] = 1\n",
    "\t\tj = i -1\n",
    "\n",
    "\t\twhile j >=0 and price[i]>price[j]:\n",
    "\t\t\ts[i] = s[i] + 1\n",
    "\t\t\tj -= 1\n",
    "\treturn s"
   ]
  },
  {
   "cell_type": "markdown",
   "id": "126c5292",
   "metadata": {},
   "source": [
    "# Approch 2"
   ]
  },
  {
   "cell_type": "code",
   "execution_count": null,
   "id": "1bffba3e",
   "metadata": {},
   "outputs": [],
   "source": [
    "def isEmpty(stack):\n",
    "\treturn len(stack) == 0\n",
    "def top(s):\n",
    "\tif isEmpty(s):\n",
    "\t\treturn\n",
    "\treturn s[-1]\n",
    "\n",
    "\n",
    "def stockSpan(price, n) :\n",
    "\t#Your code goes here\n",
    "\ts = []\n",
    "\toutput = [-1 for i in range(n)]\n",
    "\n",
    "\ts.append(0)\n",
    "\toutput[0] = 1\n",
    "\n",
    "\tfor i in range(1,n):\n",
    "\t\twhile not isEmpty(s) and (price[top(s)]<price[i]):\n",
    "\t\t\ts.pop()\n",
    "\t\tif isEmpty(s):\n",
    "\t\t\toutput[i] = i+1\n",
    "\t\telse:\n",
    "\t\t\toutput[i] = i - top(s)\n",
    "\t\ts.append(i)\n",
    "\treturn output"
   ]
  }
 ],
 "metadata": {
  "kernelspec": {
   "display_name": "Python 3 (ipykernel)",
   "language": "python",
   "name": "python3"
  },
  "language_info": {
   "codemirror_mode": {
    "name": "ipython",
    "version": 3
   },
   "file_extension": ".py",
   "mimetype": "text/x-python",
   "name": "python",
   "nbconvert_exporter": "python",
   "pygments_lexer": "ipython3",
   "version": "3.9.7"
  }
 },
 "nbformat": 4,
 "nbformat_minor": 5
}
