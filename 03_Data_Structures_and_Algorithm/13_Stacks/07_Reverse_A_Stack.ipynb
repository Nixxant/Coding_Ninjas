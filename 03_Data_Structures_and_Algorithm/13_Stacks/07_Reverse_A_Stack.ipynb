{
 "cells": [
  {
   "cell_type": "markdown",
   "id": "3687fa35",
   "metadata": {},
   "source": [
    "# Reversing a Stack Using another Stack"
   ]
  },
  {
   "cell_type": "code",
   "execution_count": 6,
   "id": "76c8bd5c",
   "metadata": {},
   "outputs": [
    {
     "name": "stdout",
     "output_type": "stream",
     "text": [
      "1 2 3 4 5 6 7\n",
      "1 2 3 4 5 6 7 "
     ]
    }
   ],
   "source": [
    "def reverseStack(s1,s2):\n",
    "    if len(s1)<=1:\n",
    "        return s1\n",
    "    while len(s1) != 1:\n",
    "        ele = s1.pop()\n",
    "        s2.append(ele)\n",
    "    lastEle = s1.pop()\n",
    "    \n",
    "    while len(s2) != 0:\n",
    "        ele = s2.pop()\n",
    "        s1.append(ele)\n",
    "    reverseStack(s1,s2)\n",
    "    s1.append(lastEle)\n",
    "from sys import setrecursionlimit\n",
    "setrecursionlimit(11000)\n",
    "\n",
    "# n = int(input())\n",
    "\n",
    "s1 = [int(ele) for ele in input().split()]\n",
    "s2 = []\n",
    "\n",
    "reverseStack(s1,s2)\n",
    "while len(s1) != 0:\n",
    "    print(s1.pop(), end = \" \")\n",
    "\n",
    "    "
   ]
  },
  {
   "cell_type": "code",
   "execution_count": null,
   "id": "a70c60c5",
   "metadata": {},
   "outputs": [],
   "source": []
  }
 ],
 "metadata": {
  "kernelspec": {
   "display_name": "Python 3 (ipykernel)",
   "language": "python",
   "name": "python3"
  },
  "language_info": {
   "codemirror_mode": {
    "name": "ipython",
    "version": 3
   },
   "file_extension": ".py",
   "mimetype": "text/x-python",
   "name": "python",
   "nbconvert_exporter": "python",
   "pygments_lexer": "ipython3",
   "version": "3.9.7"
  }
 },
 "nbformat": 4,
 "nbformat_minor": 5
}
