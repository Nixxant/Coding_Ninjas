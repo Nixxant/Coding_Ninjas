{
 "cells": [
  {
   "cell_type": "code",
   "execution_count": 1,
   "id": "fd16481c",
   "metadata": {},
   "outputs": [],
   "source": [
    "def isBalanced(string):\n",
    "    s = []\n",
    "    for char in string:\n",
    "        if char in '{[(':\n",
    "            s.append(char)\n",
    "        elif char == ')':\n",
    "            if (not s or s[-1] != '('):\n",
    "                return False\n",
    "            s.pop()\n",
    "        elif char == '}':\n",
    "            if (not s or s[-1] != '{'):\n",
    "                return False\n",
    "            s.pop()\n",
    "        elif char == ']':\n",
    "            if (not s or s[-1] != '['):\n",
    "                return False\n",
    "            s.pop()\n",
    "    if not s:\n",
    "        return True\n",
    "    return False\n",
    "\n",
    "\n"
   ]
  },
  {
   "cell_type": "code",
   "execution_count": 5,
   "id": "5583b599",
   "metadata": {},
   "outputs": [
    {
     "name": "stdout",
     "output_type": "stream",
     "text": [
      "{}()[]\n",
      "True\n"
     ]
    }
   ],
   "source": [
    "string =  str(input())\n",
    "ans = isBalanced(string)\n",
    "print(ans)"
   ]
  },
  {
   "cell_type": "code",
   "execution_count": null,
   "id": "cf9c5f79",
   "metadata": {},
   "outputs": [],
   "source": []
  },
  {
   "cell_type": "code",
   "execution_count": null,
   "id": "4917f291",
   "metadata": {},
   "outputs": [],
   "source": []
  }
 ],
 "metadata": {
  "kernelspec": {
   "display_name": "Python 3 (ipykernel)",
   "language": "python",
   "name": "python3"
  },
  "language_info": {
   "codemirror_mode": {
    "name": "ipython",
    "version": 3
   },
   "file_extension": ".py",
   "mimetype": "text/x-python",
   "name": "python",
   "nbconvert_exporter": "python",
   "pygments_lexer": "ipython3",
   "version": "3.9.7"
  }
 },
 "nbformat": 4,
 "nbformat_minor": 5
}
