{
 "cells": [
  {
   "cell_type": "markdown",
   "id": "e33b9760",
   "metadata": {},
   "source": [
    "You are given with an integer k and an array of integers that contain numbers in random order. Write a program to find k smallest numbers from given array. You need to save them in an array and return it.\n",
    "\n",
    "Time complexity should be O(n * logk) and space complexity should not be more than O(k).\n",
    "\n",
    "Note: Order of elements in the output is not important.\n",
    "\n",
    "Input Format :\n",
    "\n",
    "The first line of input contains an integer, that denotes the value of the size of the array. Let us denote it with the symbol N.\n",
    "\n",
    "The following line contains N space separated integers, that denote the value of the elements of the array.\n",
    "\n",
    "The following line contains an integer, that denotes the value of k.\n",
    "\n",
    "Output Format :\n",
    "\n",
    "The first and only line of output print k smallest elements. The elements in the output are separated by a single space. \n",
    "\n",
    "Constraints:\n",
    "\n",
    "Time Limit: 1 sec\n",
    "\n",
    "Sample Input 1 :\n",
    "\n",
    "13\n",
    "\n",
    "2 12 9 16 10 5 3 20 25 11 1 8 6 \n",
    "\n",
    "4\n",
    "\n",
    "Sample Output 1 :\n",
    "\n",
    "1 2 3 5 "
   ]
  },
  {
   "cell_type": "code",
   "execution_count": 1,
   "id": "b9bad69b",
   "metadata": {},
   "outputs": [
    {
     "name": "stdout",
     "output_type": "stream",
     "text": [
      "[4, 2, 3, 1]\n"
     ]
    }
   ],
   "source": [
    "import heapq\n",
    "\n",
    "def kSmallest(arr,k):\n",
    "    heap = arr[:k]\n",
    "    n = len(arr)\n",
    "    heapq._heapify_max(heap)\n",
    "    for i in range(k,n):\n",
    "        if heap[0] > arr[i]:\n",
    "            heapq._heapreplace_max(heap,arr[i])\n",
    "    return heap\n",
    "arr = [6,5,3,24,4,2,1,9,11,13,17]\n",
    "k = 4\n",
    "print(kSmallest(arr,k))"
   ]
  },
  {
   "cell_type": "code",
   "execution_count": null,
   "id": "1fcd8088",
   "metadata": {},
   "outputs": [],
   "source": []
  }
 ],
 "metadata": {
  "kernelspec": {
   "display_name": "Python 3 (ipykernel)",
   "language": "python",
   "name": "python3"
  },
  "language_info": {
   "codemirror_mode": {
    "name": "ipython",
    "version": 3
   },
   "file_extension": ".py",
   "mimetype": "text/x-python",
   "name": "python",
   "nbconvert_exporter": "python",
   "pygments_lexer": "ipython3",
   "version": "3.9.7"
  }
 },
 "nbformat": 4,
 "nbformat_minor": 5
}
