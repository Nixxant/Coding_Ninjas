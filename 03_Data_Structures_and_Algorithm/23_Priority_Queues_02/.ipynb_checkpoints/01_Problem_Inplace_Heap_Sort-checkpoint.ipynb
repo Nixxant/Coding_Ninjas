{
 "cells": [
  {
   "cell_type": "markdown",
   "id": "c484f85f",
   "metadata": {},
   "source": [
    "Given an integer array of size N. Sort this array (in decreasing order) using heap sort.\n",
    "\n",
    "Note: Space complexity should be O(1).\n",
    "\n",
    "Input Format:\n",
    "\n",
    "The first line of input contains an integer, that denotes the value of the size of the array or N.\n",
    "\n",
    "The following line contains N space separated integers, that denote the value of the elements of the array.\n",
    "\n",
    "Output Format :\n",
    "\n",
    "The first and only line of output contains array elements after sorting. The elements of the array in the output are separated by single space.\n",
    "\n",
    "Constraints :\n",
    "\n",
    "1 <= n <= 10^6\n",
    "\n",
    "Time Limit: 1 sec\n",
    "\n",
    "Sample Input 1:\n",
    "\n",
    "6 \n",
    "\n",
    "2 6 8 5 4 3\n",
    "\n",
    "Sample Output 1:\n",
    "\n",
    "8 6 5 4 3 2"
   ]
  },
  {
   "cell_type": "code",
   "execution_count": null,
   "id": "b34f824c",
   "metadata": {},
   "outputs": [],
   "source": [
    "def down_heapify(arr,i,n):\n",
    "    parentIndex = i\n",
    "    leftChildIndex = 2 * parentIndex + 1\n",
    "    rightChildIndex = 2 * parentIndex + 2\n",
    "\n",
    "    while leftChildIndex < n:\n",
    "        minIndex = parentIndex\n",
    "        if arr[minIndex] > arr[leftChildIndex]:\n",
    "            minIndex = leftChildIndex\n",
    "        if rightChildIndex < n and arr[minIndex] > arr[rightChildIndex]:\n",
    "            minIndex = rightChildIndex\n",
    "        \n",
    "        if minIndex == parentIndex:\n",
    "            return\n",
    "        arr[minIndex], arr[parentIndex] = arr[parentIndex], arr[minIndex]\n",
    "\n",
    "        parentIndex = minIndex\n",
    "        leftChildIndex = 2*parentIndex + 1\n",
    "        rightChildIndex = 2*parentIndex + 2\n",
    "    return\n",
    "\n",
    "\n",
    "\n",
    "\n",
    "def heapSort(arr):\n",
    "    n = len(arr)\n",
    "\n",
    "    for i in range(n//2-1,-1,-1):\n",
    "        down_heapify(arr,i,n)\n",
    "    \n",
    "    for i in range(n-1,0,-1):\n",
    "        arr[0],arr[i] = arr[i],arr[0]\n",
    "        down_heapify(arr,0,i)\n",
    "    return"
   ]
  }
 ],
 "metadata": {
  "kernelspec": {
   "display_name": "Python 3 (ipykernel)",
   "language": "python",
   "name": "python3"
  },
  "language_info": {
   "codemirror_mode": {
    "name": "ipython",
    "version": 3
   },
   "file_extension": ".py",
   "mimetype": "text/x-python",
   "name": "python",
   "nbconvert_exporter": "python",
   "pygments_lexer": "ipython3",
   "version": "3.9.7"
  }
 },
 "nbformat": 4,
 "nbformat_minor": 5
}
