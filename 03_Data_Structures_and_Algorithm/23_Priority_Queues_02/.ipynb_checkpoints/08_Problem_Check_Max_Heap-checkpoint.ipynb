{
 "cells": [
  {
   "cell_type": "markdown",
   "id": "0e6c1350",
   "metadata": {},
   "source": [
    "Given an array of integers, check whether it represents max-heap or not. Return true if the given array represents max-heap, else return false.\n",
    "\n",
    "Input Format:\n",
    "\n",
    "The first line of input contains an integer, that denotes the value of the size of the array. Let us denote it with the symbol N.\n",
    "\n",
    "The following line contains N space separated integers, that denote the value of the elements of the array.\n",
    "\n",
    "Output Format :\n",
    "\n",
    "The first and only line of output contains true if it represents max-heap and false if it is not a max-heap.\n",
    "\n",
    "Constraints:\n",
    "\n",
    "1 <= N <= 10^5\n",
    "\n",
    "1 <= Ai <= 10^5\n",
    "\n",
    "Time Limit: 1 sec\n",
    "\n",
    "Sample Input 1:\n",
    "\n",
    "8\n",
    "\n",
    "42 20 18 6 14 11 9 4\n",
    "\n",
    "Sample Output 1:\n",
    "\n",
    "true"
   ]
  },
  {
   "cell_type": "code",
   "execution_count": null,
   "id": "c4ae0317",
   "metadata": {},
   "outputs": [],
   "source": [
    "def checkMaxHeap(lst):\n",
    "    parentIndex = 0\n",
    "    leftChildIndex = 2 * parentIndex + 1\n",
    "    rightChildIndex = 2 * parentIndex + 2\n",
    "\n",
    "    while leftChildIndex < len(lst):\n",
    "        if lst[parentIndex] < lst[leftChildIndex]:\n",
    "            return False\n",
    "        if rightChildIndex < len(lst) and lst[parentIndex] < lst[rightChildIndex]:\n",
    "            return False\n",
    "        parentIndex += 1\n",
    "        leftChildIndex = 2*parentIndex + 1\n",
    "        rightChildIndex = 2 * parentIndex + 2\n",
    "    return True\n",
    "\n",
    "# Main Code\n",
    "n=int(input())\n",
    "lst=list(int(i) for i in input().strip().split(' '))\n",
    "print('true') if checkMaxHeap(lst) else print('false')"
   ]
  }
 ],
 "metadata": {
  "kernelspec": {
   "display_name": "Python 3 (ipykernel)",
   "language": "python",
   "name": "python3"
  },
  "language_info": {
   "codemirror_mode": {
    "name": "ipython",
    "version": 3
   },
   "file_extension": ".py",
   "mimetype": "text/x-python",
   "name": "python",
   "nbconvert_exporter": "python",
   "pygments_lexer": "ipython3",
   "version": "3.9.7"
  }
 },
 "nbformat": 4,
 "nbformat_minor": 5
}
