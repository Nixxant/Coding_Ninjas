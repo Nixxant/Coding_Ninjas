{
 "cells": [
  {
   "cell_type": "code",
   "execution_count": 3,
   "id": "a19c9dbf",
   "metadata": {},
   "outputs": [
    {
     "name": "stdout",
     "output_type": "stream",
     "text": [
      "6 4 3 1 2 "
     ]
    }
   ],
   "source": [
    "import heapq\n",
    "def kSmallest(arr,k):\n",
    "    heap = arr[:k]\n",
    "    heapq._heapify_max(heap)\n",
    "    n = len(arr)\n",
    "    for i in range(k,n):\n",
    "        if heap[0] > arr[i]:\n",
    "            heapq._heapreplace_max(heap, arr[i])\n",
    "    return heap\n",
    "    \n",
    "    \n",
    "\n",
    "    \n",
    "arr = [10,2,3,6,11,19,4,1,9,10]\n",
    "elements = kSmallest(arr,5)\n",
    "for ele in elements:\n",
    "    print(ele,end = \" \")\n"
   ]
  },
  {
   "cell_type": "code",
   "execution_count": null,
   "id": "00e22a61",
   "metadata": {},
   "outputs": [],
   "source": []
  }
 ],
 "metadata": {
  "kernelspec": {
   "display_name": "Python 3 (ipykernel)",
   "language": "python",
   "name": "python3"
  },
  "language_info": {
   "codemirror_mode": {
    "name": "ipython",
    "version": 3
   },
   "file_extension": ".py",
   "mimetype": "text/x-python",
   "name": "python",
   "nbconvert_exporter": "python",
   "pygments_lexer": "ipython3",
   "version": "3.9.7"
  }
 },
 "nbformat": 4,
 "nbformat_minor": 5
}
