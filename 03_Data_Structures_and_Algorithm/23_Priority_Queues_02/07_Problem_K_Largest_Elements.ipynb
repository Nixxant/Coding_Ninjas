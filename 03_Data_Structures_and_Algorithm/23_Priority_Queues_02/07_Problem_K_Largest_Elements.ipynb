{
 "cells": [
  {
   "cell_type": "markdown",
   "id": "62121825",
   "metadata": {},
   "source": [
    "You are given with an integer k and an array of integers that contain numbers in random order. Write a program to find k largest numbers from given array. You need to save them in an array and return it.\n",
    "\n",
    "Time complexity should be O(nlogk) and space complexity should be not more than O(k).\n",
    "\n",
    "Order of elements in the output is not important.\n",
    "\n",
    "Input Format :\n",
    "\n",
    "Line 1 : Size of array (n)\n",
    "\n",
    "Line 2 : Array elements (separated by space)\n",
    "\n",
    "Line 3 : Integer k\n",
    "\n",
    "Output Format :\n",
    "\n",
    "k largest elements\n",
    "\n",
    "Sample Input :\n",
    "\n",
    "13\n",
    "\n",
    "2 12 9 16 10 5 3 20 25 11 1 8 6 \n",
    "\n",
    "4\n",
    "\n",
    "Sample Output :\n",
    "\n",
    "12\n",
    "\n",
    "16\n",
    "\n",
    "20\n",
    "\n",
    "25"
   ]
  },
  {
   "cell_type": "code",
   "execution_count": 1,
   "id": "8adb9c5a",
   "metadata": {},
   "outputs": [
    {
     "name": "stdout",
     "output_type": "stream",
     "text": [
      "2 12 9 16 10 5 3 20 25 11 1 8 6\n",
      "4\n",
      "[12, 16, 20, 25]\n"
     ]
    }
   ],
   "source": [
    "import heapq\n",
    "\n",
    "def kLargest(arr,k):\n",
    "    heap = arr[:k]\n",
    "    n = len(arr)\n",
    "    heapq.heapify(heap)\n",
    "    for i in range(k,n):\n",
    "        if heap[0] < arr[i]:\n",
    "            heapq.heapreplace(heap,arr[i])\n",
    "    return heap\n",
    "n = input()\n",
    "arr = [int(ele) for ele in n.split()]\n",
    "k = int(input())\n",
    "print(kLargest(arr,k))"
   ]
  },
  {
   "cell_type": "code",
   "execution_count": null,
   "id": "ed970983",
   "metadata": {},
   "outputs": [],
   "source": []
  }
 ],
 "metadata": {
  "kernelspec": {
   "display_name": "Python 3 (ipykernel)",
   "language": "python",
   "name": "python3"
  },
  "language_info": {
   "codemirror_mode": {
    "name": "ipython",
    "version": 3
   },
   "file_extension": ".py",
   "mimetype": "text/x-python",
   "name": "python",
   "nbconvert_exporter": "python",
   "pygments_lexer": "ipython3",
   "version": "3.9.7"
  }
 },
 "nbformat": 4,
 "nbformat_minor": 5
}
