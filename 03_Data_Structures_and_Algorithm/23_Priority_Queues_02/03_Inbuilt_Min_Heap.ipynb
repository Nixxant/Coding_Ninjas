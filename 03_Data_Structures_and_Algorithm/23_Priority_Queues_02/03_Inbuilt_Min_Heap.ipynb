{
 "cells": [
  {
   "cell_type": "code",
   "execution_count": 11,
   "id": "4f2e0196",
   "metadata": {},
   "outputs": [
    {
     "name": "stdout",
     "output_type": "stream",
     "text": [
      "[1, 5, 4, 8, 7, 9, 11]\n"
     ]
    }
   ],
   "source": [
    "import heapq\n",
    "li = [1,5,4,8,7,9,11]\n",
    "heapq.heapify(li)\n",
    "print(li)"
   ]
  },
  {
   "cell_type": "code",
   "execution_count": 12,
   "id": "a4ec8b4f",
   "metadata": {},
   "outputs": [
    {
     "name": "stdout",
     "output_type": "stream",
     "text": [
      "[1, 2, 4, 5, 7, 9, 11, 8]\n"
     ]
    }
   ],
   "source": [
    "heapq.heappush(li,2)\n",
    "print(li)"
   ]
  },
  {
   "cell_type": "code",
   "execution_count": 13,
   "id": "4c34e89d",
   "metadata": {},
   "outputs": [
    {
     "name": "stdout",
     "output_type": "stream",
     "text": [
      "1\n"
     ]
    }
   ],
   "source": [
    "print(heapq.heappop(li))"
   ]
  },
  {
   "cell_type": "code",
   "execution_count": 14,
   "id": "cd02a17f",
   "metadata": {},
   "outputs": [
    {
     "name": "stdout",
     "output_type": "stream",
     "text": [
      "[2, 5, 4, 8, 7, 9, 11]\n"
     ]
    }
   ],
   "source": [
    "print(li)"
   ]
  },
  {
   "cell_type": "code",
   "execution_count": 15,
   "id": "5788a80a",
   "metadata": {},
   "outputs": [
    {
     "name": "stdout",
     "output_type": "stream",
     "text": [
      "[4, 5, 6, 8, 7, 9, 11]\n"
     ]
    }
   ],
   "source": [
    "heapq.heapreplace(li,6)\n",
    "print(li)"
   ]
  },
  {
   "cell_type": "code",
   "execution_count": 16,
   "id": "3ef73d51",
   "metadata": {},
   "outputs": [
    {
     "name": "stdout",
     "output_type": "stream",
     "text": [
      "[5, 7, 6, 8, 10, 9, 11]\n"
     ]
    }
   ],
   "source": [
    "heapq.heapreplace(li,10)\n",
    "print(li)"
   ]
  },
  {
   "cell_type": "code",
   "execution_count": null,
   "id": "a7c21ad1",
   "metadata": {},
   "outputs": [],
   "source": []
  }
 ],
 "metadata": {
  "kernelspec": {
   "display_name": "Python 3 (ipykernel)",
   "language": "python",
   "name": "python3"
  },
  "language_info": {
   "codemirror_mode": {
    "name": "ipython",
    "version": 3
   },
   "file_extension": ".py",
   "mimetype": "text/x-python",
   "name": "python",
   "nbconvert_exporter": "python",
   "pygments_lexer": "ipython3",
   "version": "3.9.7"
  }
 },
 "nbformat": 4,
 "nbformat_minor": 5
}
