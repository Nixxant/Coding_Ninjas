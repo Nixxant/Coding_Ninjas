{
 "cells": [
  {
   "cell_type": "markdown",
   "id": "04d2ef01",
   "metadata": {},
   "source": [
    "Given an array A of random integers and an integer k, find and return the kth largest element in the array.\n",
    "\n",
    "Note: Try to do this question in less than O(N * logN) time.\n",
    "\n",
    "Input Format :\n",
    "\n",
    "The first line of input contains an integer, that denotes the value of the size of the array. Let us denote it with the symbol N.\n",
    "\n",
    "The following line contains N space separated integers, that denote the value of the elements of the array.\n",
    "\n",
    "The following contains an integer, that denotes the value of k.\n",
    "\n",
    "Output Format :\n",
    "\n",
    "The first and only line of output contains the kth largest element\n",
    "\n",
    "Constraints :\n",
    "\n",
    "1 <= N, Ai, k <= 10^5\n",
    "\n",
    "Time Limit: 1 sec\n",
    "\n",
    "Sample Input 1 :\n",
    "\n",
    "6\n",
    "\n",
    "9 4 8 7 11 3\n",
    "\n",
    "2\n",
    "\n",
    "Sample Output 1 :\n",
    "\n",
    "9\n",
    "\n",
    "Sample Input 2 :\n",
    "\n",
    "8\n",
    "\n",
    "2 6 10 11 13 4 1 20\n",
    "\n",
    "4\n",
    "\n",
    "Sample Output 2 :\n",
    "\n",
    "10"
   ]
  },
  {
   "cell_type": "code",
   "execution_count": 1,
   "id": "c1740032",
   "metadata": {},
   "outputs": [],
   "source": [
    "import heapq\n",
    "def kthLargest(lst, k):\n",
    "    heap = lst[:k]\n",
    "    heapq.heapify(heap)\n",
    "    n = len(lst)\n",
    "\n",
    "    for i in range(k,n):\n",
    "        if heap[0] < lst[i]:\n",
    "            heapq.heapreplace(heap,lst[i])\n",
    "    return heap[0]"
   ]
  },
  {
   "cell_type": "code",
   "execution_count": null,
   "id": "82db2078",
   "metadata": {},
   "outputs": [],
   "source": []
  }
 ],
 "metadata": {
  "kernelspec": {
   "display_name": "Python 3 (ipykernel)",
   "language": "python",
   "name": "python3"
  },
  "language_info": {
   "codemirror_mode": {
    "name": "ipython",
    "version": 3
   },
   "file_extension": ".py",
   "mimetype": "text/x-python",
   "name": "python",
   "nbconvert_exporter": "python",
   "pygments_lexer": "ipython3",
   "version": "3.9.7"
  }
 },
 "nbformat": 4,
 "nbformat_minor": 5
}
