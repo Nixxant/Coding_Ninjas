{
 "cells": [
  {
   "cell_type": "code",
   "execution_count": null,
   "id": "14089af3",
   "metadata": {},
   "outputs": [],
   "source": [
    "def __removePadding(self):\n",
    "    padded_info = text[:8]\n",
    "    extra_padding = int(padded_info, 2)\n",
    "\n",
    "    text = text[8:]\n",
    "\n",
    "    text_after_padding_removed = text[:-1* extra_padding]\n",
    "\n",
    "    return text_after_padding_removed"
   ]
  }
 ],
 "metadata": {
  "kernelspec": {
   "display_name": "Python 3 (ipykernel)",
   "language": "python",
   "name": "python3"
  },
  "language_info": {
   "codemirror_mode": {
    "name": "ipython",
    "version": 3
   },
   "file_extension": ".py",
   "mimetype": "text/x-python",
   "name": "python",
   "nbconvert_exporter": "python",
   "pygments_lexer": "ipython3",
   "version": "3.9.7"
  }
 },
 "nbformat": 4,
 "nbformat_minor": 5
}
