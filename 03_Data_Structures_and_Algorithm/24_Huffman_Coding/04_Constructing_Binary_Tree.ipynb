{
 "cells": [
  {
   "cell_type": "markdown",
   "id": "a26514a9",
   "metadata": {},
   "source": [
    "Constructing a Binary Tree to push in heap"
   ]
  },
  {
   "cell_type": "code",
   "execution_count": null,
   "id": "d85f7c4e",
   "metadata": {},
   "outputs": [],
   "source": [
    "def buildTree(self):\n",
    "    while len(self.__heap) > 1:\n",
    "        binary_tree_node_1 = heapq.heappop(self.__heap)\n",
    "            binary_tree_node_2 = heapq.heappop(self.__heap)\n",
    "            freq_sum = binary_tree_node_1.freq + binary_tree_node_2.freq\n",
    "            newNode = BinaryTreeNode(None,freq_sum)\n",
    "            newNode.left = binary_tree_node_1\n",
    "            newNode.right = binary_tree_node_2\n",
    "            heapq.heappush(self.__heap, newNode)\n",
    "        return\n",
    "    "
   ]
  }
 ],
 "metadata": {
  "kernelspec": {
   "display_name": "Python 3 (ipykernel)",
   "language": "python",
   "name": "python3"
  },
  "language_info": {
   "codemirror_mode": {
    "name": "ipython",
    "version": 3
   },
   "file_extension": ".py",
   "mimetype": "text/x-python",
   "name": "python",
   "nbconvert_exporter": "python",
   "pygments_lexer": "ipython3",
   "version": "3.9.7"
  }
 },
 "nbformat": 4,
 "nbformat_minor": 5
}
