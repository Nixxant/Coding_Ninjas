{
 "cells": [
  {
   "cell_type": "code",
   "execution_count": null,
   "id": "a4527130",
   "metadata": {},
   "outputs": [],
   "source": [
    "def decompress(self, input_path):\n",
    "    file_name, file_extension = os.paht.splitext(self.path)\n",
    "    output_path = filename + \"_decompressed\" +\".txt\"\n",
    "    with open(input_path, 'rb') as file, open(output_path, 'w') as output:\n",
    "        bit_string = \"\"\n",
    "        byte = file.read(1)\n",
    "        while byte:\n",
    "            byte = ord(byte)\n",
    "            bits = bin(byte)[2:].rjust(8, '0')\n",
    "            bit_string += bits\n",
    "            byte = file.read(1)"
   ]
  }
 ],
 "metadata": {
  "kernelspec": {
   "display_name": "Python 3 (ipykernel)",
   "language": "python",
   "name": "python3"
  },
  "language_info": {
   "codemirror_mode": {
    "name": "ipython",
    "version": 3
   },
   "file_extension": ".py",
   "mimetype": "text/x-python",
   "name": "python",
   "nbconvert_exporter": "python",
   "pygments_lexer": "ipython3",
   "version": "3.9.7"
  }
 },
 "nbformat": 4,
 "nbformat_minor": 5
}
