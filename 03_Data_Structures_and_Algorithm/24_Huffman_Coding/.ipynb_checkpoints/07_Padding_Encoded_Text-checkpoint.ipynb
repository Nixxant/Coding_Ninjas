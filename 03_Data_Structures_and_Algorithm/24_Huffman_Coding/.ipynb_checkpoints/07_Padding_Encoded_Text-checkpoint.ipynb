{
 "cells": [
  {
   "cell_type": "code",
   "execution_count": null,
   "id": "7bf98509",
   "metadata": {},
   "outputs": [],
   "source": [
    "def __getPaddedEncodedText(self, text):\n",
    "        \n",
    "    padded_amount = 8 - (len(encoded_text)%)\n",
    "\n",
    "    for i in range(padded_amount):\n",
    "        encoded_text += \"0\"\n",
    "    padded_info = {\"0:08b\"}.format(padded_amount)\n",
    "    padded_encoded_text = padded_info + encoded_text\n",
    "    return padded_encoded_text"
   ]
  }
 ],
 "metadata": {
  "kernelspec": {
   "display_name": "Python 3 (ipykernel)",
   "language": "python",
   "name": "python3"
  },
  "language_info": {
   "codemirror_mode": {
    "name": "ipython",
    "version": 3
   },
   "file_extension": ".py",
   "mimetype": "text/x-python",
   "name": "python",
   "nbconvert_exporter": "python",
   "pygments_lexer": "ipython3",
   "version": "3.9.7"
  }
 },
 "nbformat": 4,
 "nbformat_minor": 5
}
