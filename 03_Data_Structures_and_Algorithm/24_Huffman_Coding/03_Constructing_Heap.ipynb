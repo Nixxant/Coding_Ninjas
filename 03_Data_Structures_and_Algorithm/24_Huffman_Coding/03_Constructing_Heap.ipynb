{
 "cells": [
  {
   "cell_type": "markdown",
   "id": "c3bd1eab",
   "metadata": {},
   "source": [
    "Constructing heap to encode the data"
   ]
  },
  {
   "cell_type": "code",
   "execution_count": null,
   "id": "3d4586ed",
   "metadata": {},
   "outputs": [],
   "source": [
    "def build_heap(freq_dict):\n",
    "    for key in freq_dict:\n",
    "        frequency = freq_dict[key]\n",
    "        binary_tree_node = BinaryTreeNode(key, frequency)\n",
    "            heapq.heappush(heap,binary_tree_node)\n",
    "    return heap"
   ]
  }
 ],
 "metadata": {
  "kernelspec": {
   "display_name": "Python 3 (ipykernel)",
   "language": "python",
   "name": "python3"
  },
  "language_info": {
   "codemirror_mode": {
    "name": "ipython",
    "version": 3
   },
   "file_extension": ".py",
   "mimetype": "text/x-python",
   "name": "python",
   "nbconvert_exporter": "python",
   "pygments_lexer": "ipython3",
   "version": "3.9.7"
  }
 },
 "nbformat": 4,
 "nbformat_minor": 5
}
