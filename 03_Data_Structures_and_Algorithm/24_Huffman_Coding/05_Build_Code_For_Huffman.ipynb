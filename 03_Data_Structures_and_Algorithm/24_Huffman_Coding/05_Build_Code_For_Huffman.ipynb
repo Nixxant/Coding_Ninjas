{
 "cells": [
  {
   "cell_type": "code",
   "execution_count": null,
   "id": "ae343a3b",
   "metadata": {},
   "outputs": [],
   "source": [
    "def __build_code_helper(self,root,curr_bits):\n",
    "    if root is None:\n",
    "        return\n",
    "    if root.value is not None:\n",
    "        self.__codes[root.value] = curr_bits\n",
    "        return\n",
    "                \n",
    "    self.__build_code_helper(root.left, curr_bits + \"0\")\n",
    "    self.__build_code_helper(root.right, curr_bits + \"1\")\n",
    "        \n",
    "        \n",
    "        \n",
    "        \n",
    "    \n",
    "def __build_code(self):\n",
    "    root = heapq.heappop(self.__heap)\n",
    "    self.__build_code_helper(root,\"\")"
   ]
  }
 ],
 "metadata": {
  "kernelspec": {
   "display_name": "Python 3 (ipykernel)",
   "language": "python",
   "name": "python3"
  },
  "language_info": {
   "codemirror_mode": {
    "name": "ipython",
    "version": 3
   },
   "file_extension": ".py",
   "mimetype": "text/x-python",
   "name": "python",
   "nbconvert_exporter": "python",
   "pygments_lexer": "ipython3",
   "version": "3.9.7"
  }
 },
 "nbformat": 4,
 "nbformat_minor": 5
}
