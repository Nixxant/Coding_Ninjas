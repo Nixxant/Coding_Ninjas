{
 "cells": [
  {
   "cell_type": "code",
   "execution_count": null,
   "id": "bf09340c",
   "metadata": {},
   "outputs": [],
   "source": [
    "def __decodeText(self, text):  \n",
    "    decoded_text = \"\"\n",
    "    curr_bits = \"\"\n",
    "    for bit in text:\n",
    "        curr_bits += bit\n",
    "        if curr_bits in self.__reverseCodes:\n",
    "            character = self.__reverseCodes[curr_bits]\n",
    "            decoded_text += character\n",
    "            curr_bits = \"\"\n",
    "    return decoded_text"
   ]
  }
 ],
 "metadata": {
  "kernelspec": {
   "display_name": "Python 3 (ipykernel)",
   "language": "python",
   "name": "python3"
  },
  "language_info": {
   "codemirror_mode": {
    "name": "ipython",
    "version": 3
   },
   "file_extension": ".py",
   "mimetype": "text/x-python",
   "name": "python",
   "nbconvert_exporter": "python",
   "pygments_lexer": "ipython3",
   "version": "3.9.7"
  }
 },
 "nbformat": 4,
 "nbformat_minor": 5
}
