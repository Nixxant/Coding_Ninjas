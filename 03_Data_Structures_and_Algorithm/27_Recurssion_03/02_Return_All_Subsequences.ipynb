{
 "cells": [
  {
   "cell_type": "code",
   "execution_count": 1,
   "id": "938d03eb",
   "metadata": {},
   "outputs": [
    {
     "name": "stdout",
     "output_type": "stream",
     "text": [
      "['', 'c', 'b', 'bc', 'a', 'ac', 'ab', 'abc']\n"
     ]
    }
   ],
   "source": [
    "def subsequence(s):\n",
    "    if len(s) == 0:\n",
    "        output = []\n",
    "        output.append(\"\")\n",
    "        return output\n",
    "    small_string = s[1:]\n",
    "    small_output = subsequence(small_string)\n",
    "    \n",
    "    output = []\n",
    "    for sub in small_output:\n",
    "        output.append(sub)\n",
    "    for sub in small_output:\n",
    "        output.append(s[0]+sub)\n",
    "    return output\n",
    "s = \"abc\"\n",
    "print(subsequence(s))"
   ]
  },
  {
   "cell_type": "code",
   "execution_count": null,
   "id": "0d2a4a4b",
   "metadata": {},
   "outputs": [],
   "source": []
  }
 ],
 "metadata": {
  "kernelspec": {
   "display_name": "Python 3 (ipykernel)",
   "language": "python",
   "name": "python3"
  },
  "language_info": {
   "codemirror_mode": {
    "name": "ipython",
    "version": 3
   },
   "file_extension": ".py",
   "mimetype": "text/x-python",
   "name": "python",
   "nbconvert_exporter": "python",
   "pygments_lexer": "ipython3",
   "version": "3.9.7"
  }
 },
 "nbformat": 4,
 "nbformat_minor": 5
}
