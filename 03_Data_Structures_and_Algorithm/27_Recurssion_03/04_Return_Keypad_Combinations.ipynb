{
 "cells": [
  {
   "cell_type": "code",
   "execution_count": 15,
   "id": "01eb91c7",
   "metadata": {},
   "outputs": [],
   "source": [
    "def getString(d):\n",
    "    if d == 2:\n",
    "        return \"abc\"\n",
    "    if d == 3:\n",
    "        return 'def'\n",
    "    if d == 4:\n",
    "        return \"ghi\"\n",
    "    if d == 5:\n",
    "        return 'jkl'\n",
    "    if d == 6:\n",
    "        return 'mno'\n",
    "    if d == 7:\n",
    "        return \"pqrs\"\n",
    "    if d == 8:\n",
    "        return \"tuv\"\n",
    "    if d == 9:\n",
    "        return \"wxyz\"\n",
    "    return \" \"\n",
    "    \n",
    "\n",
    "\n",
    "def keypad(n):\n",
    "    if n == 0:\n",
    "        output = []\n",
    "        output.append(\"\")\n",
    "        return output\n",
    "    smallerNumber = n//10\n",
    "    last_digit = n%10\n",
    "    options = getString(last_digit)\n",
    "    \n",
    "    \n",
    "    small_output = keypad(smallerNumber)\n",
    "    output = []\n",
    "    for s in small_output:\n",
    "        for c in options:\n",
    "            option = s + c\n",
    "            output.append(option)\n",
    "    return output\n",
    "        \n",
    "        "
   ]
  },
  {
   "cell_type": "code",
   "execution_count": 19,
   "id": "330ca496",
   "metadata": {},
   "outputs": [
    {
     "name": "stdout",
     "output_type": "stream",
     "text": [
      "['agd', 'age', 'agf', 'ahd', 'ahe', 'ahf', 'aid', 'aie', 'aif', 'bgd', 'bge', 'bgf', 'bhd', 'bhe', 'bhf', 'bid', 'bie', 'bif', 'cgd', 'cge', 'cgf', 'chd', 'che', 'chf', 'cid', 'cie', 'cif']\n"
     ]
    }
   ],
   "source": [
    "print(keypad(243))"
   ]
  },
  {
   "cell_type": "code",
   "execution_count": null,
   "id": "1373d01a",
   "metadata": {},
   "outputs": [],
   "source": []
  }
 ],
 "metadata": {
  "kernelspec": {
   "display_name": "Python 3 (ipykernel)",
   "language": "python",
   "name": "python3"
  },
  "language_info": {
   "codemirror_mode": {
    "name": "ipython",
    "version": 3
   },
   "file_extension": ".py",
   "mimetype": "text/x-python",
   "name": "python",
   "nbconvert_exporter": "python",
   "pygments_lexer": "ipython3",
   "version": "3.9.7"
  }
 },
 "nbformat": 4,
 "nbformat_minor": 5
}
