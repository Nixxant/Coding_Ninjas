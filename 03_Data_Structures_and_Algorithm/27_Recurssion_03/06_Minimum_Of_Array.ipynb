{
 "cells": [
  {
   "cell_type": "code",
   "execution_count": 4,
   "id": "7fd6ac9b",
   "metadata": {},
   "outputs": [
    {
     "name": "stdout",
     "output_type": "stream",
     "text": [
      "-4\n"
     ]
    }
   ],
   "source": [
    "def find_min(arr,min_num = 999999999):\n",
    "    if len(arr) == 0 :\n",
    "        print(min_num)\n",
    "        return\n",
    "    if arr[0] < min_num:\n",
    "        min_num = arr[0]\n",
    "    find_min(arr[1:],min_num)\n",
    "arr = [1,2,3,4,-1,0,-2,-4,5,6]\n",
    "find_min(arr)"
   ]
  },
  {
   "cell_type": "code",
   "execution_count": null,
   "id": "93752c7a",
   "metadata": {},
   "outputs": [],
   "source": []
  }
 ],
 "metadata": {
  "kernelspec": {
   "display_name": "Python 3 (ipykernel)",
   "language": "python",
   "name": "python3"
  },
  "language_info": {
   "codemirror_mode": {
    "name": "ipython",
    "version": 3
   },
   "file_extension": ".py",
   "mimetype": "text/x-python",
   "name": "python",
   "nbconvert_exporter": "python",
   "pygments_lexer": "ipython3",
   "version": "3.9.7"
  }
 },
 "nbformat": 4,
 "nbformat_minor": 5
}
