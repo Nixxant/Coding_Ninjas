{
 "cells": [
  {
   "cell_type": "code",
   "execution_count": 2,
   "id": "a54ce3d9",
   "metadata": {},
   "outputs": [
    {
     "name": "stdout",
     "output_type": "stream",
     "text": [
      "234\n",
      "adg\n",
      "adh\n",
      "adi\n",
      "aeg\n",
      "aeh\n",
      "aei\n",
      "afg\n",
      "afh\n",
      "afi\n",
      "bdg\n",
      "bdh\n",
      "bdi\n",
      "beg\n",
      "beh\n",
      "bei\n",
      "bfg\n",
      "bfh\n",
      "bfi\n",
      "cdg\n",
      "cdh\n",
      "cdi\n",
      "ceg\n",
      "ceh\n",
      "cei\n",
      "cfg\n",
      "cfh\n",
      "cfi\n"
     ]
    }
   ],
   "source": [
    "def keys(d):\n",
    "    if d == 2:\n",
    "        return \"abc\"\n",
    "    if d == 3:\n",
    "        return \"def\"\n",
    "    if d == 4:\n",
    "        return \"ghi\"\n",
    "    if d == 5:\n",
    "        return \"jkl\"\n",
    "    if d == 6:\n",
    "        return \"mno\"\n",
    "    if d == 7:\n",
    "        return \"pqrs\"\n",
    "    if d == 8:\n",
    "        return \"tuv\"\n",
    "    if d == 9:\n",
    "        return \"wxyz\"\n",
    "    return \" \"\n",
    "def keypad(n):\n",
    "    if n == 0:\n",
    "        output = []\n",
    "        output.append(\"\")\n",
    "        return output\n",
    "    last_digit = n%10\n",
    "    small_output = keypad(n//10)\n",
    "    options = keys(last_digit)\n",
    "    output = []\n",
    "    \n",
    "    for s in small_output:\n",
    "        for c in options:\n",
    "            option = s + c\n",
    "            output.append(option)\n",
    "    return output\n",
    "\n",
    "n = int(input())\n",
    "ans = keypad(n)\n",
    "for s in ans:\n",
    "    print(s)"
   ]
  },
  {
   "cell_type": "code",
   "execution_count": null,
   "id": "0df1b543",
   "metadata": {},
   "outputs": [],
   "source": []
  }
 ],
 "metadata": {
  "kernelspec": {
   "display_name": "Python 3 (ipykernel)",
   "language": "python",
   "name": "python3"
  },
  "language_info": {
   "codemirror_mode": {
    "name": "ipython",
    "version": 3
   },
   "file_extension": ".py",
   "mimetype": "text/x-python",
   "name": "python",
   "nbconvert_exporter": "python",
   "pygments_lexer": "ipython3",
   "version": "3.9.7"
  }
 },
 "nbformat": 4,
 "nbformat_minor": 5
}
