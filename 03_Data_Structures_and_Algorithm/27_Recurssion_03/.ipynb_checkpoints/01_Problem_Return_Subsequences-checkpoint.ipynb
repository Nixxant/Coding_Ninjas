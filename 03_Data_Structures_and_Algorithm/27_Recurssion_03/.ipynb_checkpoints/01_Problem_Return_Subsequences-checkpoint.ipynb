{
 "cells": [
  {
   "cell_type": "markdown",
   "id": "f2bf3b36",
   "metadata": {},
   "source": [
    "Given a string (let's say of length n), return all the subsequences of the given string.\n",
    "\n",
    "Subsequences contain all the strings of length varying from 0 to n. But the order of characters should remain the same as in the input string.\n",
    "\n",
    "Note: The order of subsequences are not important.\n",
    "\n",
    "Sample Input:\n",
    "\n",
    "abc\n",
    "\n",
    "Sample Output:\n",
    "\n",
    "\"\" (the double quotes just signifies an empty string, don't worry about the quotes)\n",
    "\n",
    "c \n",
    "\n",
    "b \n",
    "\n",
    "bc \n",
    "\n",
    "a \n",
    "\n",
    "ac \n",
    "\n",
    "ab \n",
    "\n",
    "abc "
   ]
  },
  {
   "cell_type": "code",
   "execution_count": null,
   "id": "550b0886",
   "metadata": {},
   "outputs": [],
   "source": [
    "def subsequences(string):\n",
    "    #Implement Your Code Here\n",
    "    if len(string) == 0:\n",
    "        output = []\n",
    "        output.append(\"\")\n",
    "        return output\n",
    "    output = []\n",
    "    small_output = subsequences(string[1:])\n",
    "\n",
    "    for subs in small_output:\n",
    "        output.append(subs)\n",
    "    for subs in small_output:\n",
    "        output.append(string[0]+subs)\n",
    "    return output\n",
    "\n",
    "\n",
    "string = input()\n",
    "ans = subsequences(string)\n",
    "for ele in ans:\n",
    "    print(ele)"
   ]
  }
 ],
 "metadata": {
  "kernelspec": {
   "display_name": "Python 3 (ipykernel)",
   "language": "python",
   "name": "python3"
  },
  "language_info": {
   "codemirror_mode": {
    "name": "ipython",
    "version": 3
   },
   "file_extension": ".py",
   "mimetype": "text/x-python",
   "name": "python",
   "nbconvert_exporter": "python",
   "pygments_lexer": "ipython3",
   "version": "3.9.7"
  }
 },
 "nbformat": 4,
 "nbformat_minor": 5
}
