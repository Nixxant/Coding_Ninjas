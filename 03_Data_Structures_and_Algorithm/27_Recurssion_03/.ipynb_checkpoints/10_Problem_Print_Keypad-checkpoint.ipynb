{
 "cells": [
  {
   "cell_type": "markdown",
   "id": "224a1997",
   "metadata": {},
   "source": [
    "Given an integer n, using phone keypad find out and print all the possible strings that can be made using digits of input n.\n",
    "\n",
    "Note : The order of strings are not important. Just print different strings in new lines.\n",
    "\n",
    "Input Format :\n",
    "\n",
    "Integer n\n",
    "\n",
    "Output Format :\n",
    "\n",
    "All possible strings in different lines\n",
    "\n",
    "Constraints :\n",
    "\n",
    "1 <= n <= 10^6\n",
    "\n",
    "Sample Input:\n",
    "\n",
    "23\n",
    "\n",
    "Sample Output:\n",
    "\n",
    "ad\n",
    "\n",
    "ae\n",
    "\n",
    "af\n",
    "\n",
    "bd\n",
    "\n",
    "be\n",
    "\n",
    "bf\n",
    "\n",
    "cd\n",
    "\n",
    "ce\n",
    "\n",
    "cf"
   ]
  },
  {
   "cell_type": "code",
   "execution_count": 1,
   "id": "93854974",
   "metadata": {},
   "outputs": [
    {
     "name": "stdout",
     "output_type": "stream",
     "text": [
      "234\n",
      "adg\n",
      "bdg\n",
      "cdg\n",
      "aeg\n",
      "beg\n",
      "ceg\n",
      "afg\n",
      "bfg\n",
      "cfg\n",
      "adh\n",
      "bdh\n",
      "cdh\n",
      "aeh\n",
      "beh\n",
      "ceh\n",
      "afh\n",
      "bfh\n",
      "cfh\n",
      "adi\n",
      "bdi\n",
      "cdi\n",
      "aei\n",
      "bei\n",
      "cei\n",
      "afi\n",
      "bfi\n",
      "cfi\n"
     ]
    },
    {
     "data": {
      "text/plain": [
       "''"
      ]
     },
     "execution_count": 1,
     "metadata": {},
     "output_type": "execute_result"
    }
   ],
   "source": [
    "def keys(d):\n",
    "    if d == 2:\n",
    "        return \"abc\"\n",
    "    if d == 3:\n",
    "        return \"def\"\n",
    "    if d == 4:\n",
    "        return \"ghi\"\n",
    "    if d == 5:\n",
    "        return \"jkl\"\n",
    "    if d == 6:\n",
    "        return \"mno\"\n",
    "    if d == 7:\n",
    "        return \"pqrs\"\n",
    "    if d == 8:\n",
    "        return \"tuv\"\n",
    "    if d == 9:\n",
    "        return \"wxyz\"\n",
    "    return \" \"\n",
    "def keypad(n, ans = \"\"):\n",
    "    if n == 0:\n",
    "        print(ans)\n",
    "        return\n",
    "    options = keys(n%10)\n",
    "    for c in options:\n",
    "        keypad(n//10, c+ans)\n",
    "    return ans\n",
    "n = int(input())\n",
    "keypad(n)"
   ]
  },
  {
   "cell_type": "code",
   "execution_count": null,
   "id": "8db43cb9",
   "metadata": {},
   "outputs": [],
   "source": []
  }
 ],
 "metadata": {
  "kernelspec": {
   "display_name": "Python 3 (ipykernel)",
   "language": "python",
   "name": "python3"
  },
  "language_info": {
   "codemirror_mode": {
    "name": "ipython",
    "version": 3
   },
   "file_extension": ".py",
   "mimetype": "text/x-python",
   "name": "python",
   "nbconvert_exporter": "python",
   "pygments_lexer": "ipython3",
   "version": "3.9.7"
  }
 },
 "nbformat": 4,
 "nbformat_minor": 5
}
