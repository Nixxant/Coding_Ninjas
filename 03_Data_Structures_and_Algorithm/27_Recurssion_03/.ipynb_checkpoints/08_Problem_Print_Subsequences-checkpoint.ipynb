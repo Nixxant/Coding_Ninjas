{
 "cells": [
  {
   "cell_type": "markdown",
   "id": "085339de",
   "metadata": {},
   "source": [
    "Given a string (lets say of length n), print all the subsequences of the given string.\n",
    "\n",
    "Subsequences contain all the strings of length varying from 0 to n. But the order of characters should remain same as in the input string.\n",
    "\n",
    "Note :\n",
    "\n",
    "The order of subsequences are not important. Print every subsequence in new line.\n",
    "\n",
    "Input format\n",
    "\n",
    "The input only consists of one line which consists of a single string\n",
    "\n",
    "Output format\n",
    "\n",
    "The output consists of all subsequences of the input string where each subsequence is printed in a different line. The order of the subsequences doesn't matter\n",
    "\n",
    "Constraints\n",
    "\n",
    "1 <= |S| <= 15\n",
    "\n",
    "where |S| represents the length of the input string\n",
    "\n",
    "\n",
    "\n",
    "Time limit: 1 sec\n",
    "\n",
    "Sample Input:\n",
    "\n",
    "abc\n",
    "\n",
    "Sample Output:\n",
    "\n",
    "\"\" (the double quotes just signifies an empty string, don't worry about the quotes)\n",
    "\n",
    "c \n",
    "\n",
    "b \n",
    "\n",
    "bc \n",
    "\n",
    "a \n",
    "\n",
    "ac \n",
    "\n",
    "ab \n",
    "\n",
    "abc"
   ]
  },
  {
   "cell_type": "code",
   "execution_count": null,
   "id": "68c5c2c9",
   "metadata": {},
   "outputs": [],
   "source": [
    "def subsequence(s,ans=\"\"):\n",
    "    if len(s) == 0:\n",
    "        print(ans)\n",
    "        return\n",
    "    subsequence(s[1:],ans)\n",
    "    subsequence(s[1:],ans+s[0])\n",
    "\n",
    "s = str(input())\n",
    "subsequence(s)"
   ]
  }
 ],
 "metadata": {
  "kernelspec": {
   "display_name": "Python 3 (ipykernel)",
   "language": "python",
   "name": "python3"
  },
  "language_info": {
   "codemirror_mode": {
    "name": "ipython",
    "version": 3
   },
   "file_extension": ".py",
   "mimetype": "text/x-python",
   "name": "python",
   "nbconvert_exporter": "python",
   "pygments_lexer": "ipython3",
   "version": "3.9.7"
  }
 },
 "nbformat": 4,
 "nbformat_minor": 5
}
