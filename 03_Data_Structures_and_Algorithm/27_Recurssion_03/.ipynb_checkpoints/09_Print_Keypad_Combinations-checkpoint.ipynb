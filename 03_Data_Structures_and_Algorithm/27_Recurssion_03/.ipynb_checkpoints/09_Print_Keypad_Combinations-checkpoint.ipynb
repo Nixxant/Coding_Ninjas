{
 "cells": [
  {
   "cell_type": "code",
   "execution_count": 14,
   "id": "8878ca60",
   "metadata": {},
   "outputs": [
    {
     "name": "stdout",
     "output_type": "stream",
     "text": [
      "ada\n",
      "adb\n",
      "adc\n",
      "aea\n",
      "aeb\n",
      "aec\n",
      "afa\n",
      "afb\n",
      "afc\n",
      "bda\n",
      "bdb\n",
      "bdc\n",
      "bea\n",
      "beb\n",
      "bec\n",
      "bfa\n",
      "bfb\n",
      "bfc\n",
      "cda\n",
      "cdb\n",
      "cdc\n",
      "cea\n",
      "ceb\n",
      "cec\n",
      "cfa\n",
      "cfb\n",
      "cfc\n"
     ]
    },
    {
     "data": {
      "text/plain": [
       "''"
      ]
     },
     "execution_count": 14,
     "metadata": {},
     "output_type": "execute_result"
    }
   ],
   "source": [
    "from math import *\n",
    "from collections import *\n",
    "from sys import *\n",
    "from os import *\n",
    "\n",
    "## Read input as specified in the question.\n",
    "## Print output as specified in the question.\n",
    "def keys(d):\n",
    "    if d == 2:\n",
    "        return \"abc\"\n",
    "    if d == 3:\n",
    "        return \"def\"\n",
    "    if d == 4:\n",
    "        return \"ghi\"\n",
    "    if d == 5:\n",
    "        return \"jkl\"\n",
    "    if d == 6:\n",
    "        return \"mno\"\n",
    "    if d == 7:\n",
    "        return \"pqrs\"\n",
    "    if d == 8:\n",
    "        return \"tuv\"\n",
    "    if d == 9:\n",
    "        return \"wxyz\"\n",
    "    return \" \"\n",
    "\n",
    "def keypad(n,ans =''):\n",
    "    if n == 0:\n",
    "        print(ans)\n",
    "        return\n",
    "    options = keys(n%10)\n",
    "    for c in options:\n",
    "        keypad(n//10, ans + c)\n",
    "    return ans\n",
    "\n",
    "keypad(232)"
   ]
  },
  {
   "cell_type": "code",
   "execution_count": null,
   "id": "1edac448",
   "metadata": {},
   "outputs": [],
   "source": []
  }
 ],
 "metadata": {
  "kernelspec": {
   "display_name": "Python 3 (ipykernel)",
   "language": "python",
   "name": "python3"
  },
  "language_info": {
   "codemirror_mode": {
    "name": "ipython",
    "version": 3
   },
   "file_extension": ".py",
   "mimetype": "text/x-python",
   "name": "python",
   "nbconvert_exporter": "python",
   "pygments_lexer": "ipython3",
   "version": "3.9.7"
  }
 },
 "nbformat": 4,
 "nbformat_minor": 5
}
