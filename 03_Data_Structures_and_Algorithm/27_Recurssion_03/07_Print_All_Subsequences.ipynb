{
 "cells": [
  {
   "cell_type": "code",
   "execution_count": 73,
   "id": "6d76ae58",
   "metadata": {},
   "outputs": [],
   "source": [
    "def subsequencese(s,ans=''):\n",
    "    if len(s) == 0:\n",
    "        print(ans)\n",
    "        return\n",
    "    subsequencese(s[1:],ans)\n",
    "    ans = ans + s[0]\n",
    "    subsequencese(s[1:],ans)\n",
    "    "
   ]
  },
  {
   "cell_type": "code",
   "execution_count": 74,
   "id": "1d5bbf94",
   "metadata": {},
   "outputs": [
    {
     "name": "stdout",
     "output_type": "stream",
     "text": [
      "\n",
      "c\n",
      "b\n",
      "bc\n",
      "a\n",
      "ac\n",
      "ab\n",
      "abc\n"
     ]
    }
   ],
   "source": [
    "s = 'abc'\n",
    "subsequencese(s)"
   ]
  },
  {
   "cell_type": "code",
   "execution_count": null,
   "id": "997dae00",
   "metadata": {},
   "outputs": [],
   "source": []
  }
 ],
 "metadata": {
  "kernelspec": {
   "display_name": "Python 3 (ipykernel)",
   "language": "python",
   "name": "python3"
  },
  "language_info": {
   "codemirror_mode": {
    "name": "ipython",
    "version": 3
   },
   "file_extension": ".py",
   "mimetype": "text/x-python",
   "name": "python",
   "nbconvert_exporter": "python",
   "pygments_lexer": "ipython3",
   "version": "3.9.7"
  }
 },
 "nbformat": 4,
 "nbformat_minor": 5
}
