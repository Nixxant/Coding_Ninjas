{
 "cells": [
  {
   "cell_type": "code",
   "execution_count": 4,
   "id": "d7358a37",
   "metadata": {},
   "outputs": [],
   "source": [
    "if:\n",
    "    <our logic>\n",
    "else if exception:\n",
    "    <Alternative Logic>\n",
    "    "
   ]
  },
  {
   "cell_type": "code",
   "execution_count": null,
   "id": "2882dd56",
   "metadata": {},
   "outputs": [],
   "source": [
    "try:\n",
    "    a+b\n",
    "except:\n",
    "    int(a) + int(b)"
   ]
  },
  {
   "cell_type": "code",
   "execution_count": 13,
   "id": "e3c64549",
   "metadata": {},
   "outputs": [],
   "source": [
    "class Vehicle:\n",
    "    def __init__(self,make,model,fuel):\n",
    "        self.make = make\n",
    "        self.model = model\n",
    "        self.fuel = fuel\n",
    "    def get_value(self):\n",
    "        try:\n",
    "            age = 2021 - self.model\n",
    "            return 1000*(1/age)\n",
    "        except TypeError:\n",
    "            age = 2021 - int(self.model)\n",
    "            return 1000*(1/age)\n",
    "        except ZeroDivisionError:\n",
    "            age = 2021 - int(self.model)\n",
    "            return 1000*(1)\n",
    "        "
   ]
  },
  {
   "cell_type": "code",
   "execution_count": 15,
   "id": "5859b105",
   "metadata": {},
   "outputs": [
    {
     "data": {
      "text/plain": [
       "1000"
      ]
     },
     "execution_count": 15,
     "metadata": {},
     "output_type": "execute_result"
    }
   ],
   "source": [
    "myObj = Vehicle('Tesla',2021,'Electric')\n",
    "myObj.get_value()"
   ]
  },
  {
   "cell_type": "code",
   "execution_count": null,
   "id": "ce199828",
   "metadata": {},
   "outputs": [],
   "source": []
  }
 ],
 "metadata": {
  "kernelspec": {
   "display_name": "Python 3 (ipykernel)",
   "language": "python",
   "name": "python3"
  },
  "language_info": {
   "codemirror_mode": {
    "name": "ipython",
    "version": 3
   },
   "file_extension": ".py",
   "mimetype": "text/x-python",
   "name": "python",
   "nbconvert_exporter": "python",
   "pygments_lexer": "ipython3",
   "version": "3.9.7"
  }
 },
 "nbformat": 4,
 "nbformat_minor": 5
}
