{
 "cells": [
  {
   "cell_type": "code",
   "execution_count": 1,
   "id": "875c660f",
   "metadata": {},
   "outputs": [],
   "source": [
    "class NegativeZeroModelYear(Exception):\n",
    "    def __init__(self,value,message=\"Model year cannot be equal or greater than 2021\"):\n",
    "        self.value=value\n",
    "        self.message=message\n",
    "        super().__init__(self.message)\n",
    "    \n",
    "    def __str__(self):\n",
    "        return f'{self.message}-->{self.value}'\n",
    "class CarModeYearAsString(Exception):\n",
    "    #Exception if the car value comes as negative\n",
    "    def __init__(self,value,message=\"Model year can not be strings.Try Passing int values\"):\n",
    "        self.value=value\n",
    "        self.message=message\n",
    "        super().init__(self.message)\n",
    "    def __str__(self):\n",
    "        return f'{self.message}-->{self.value}'\n"
   ]
  },
  {
   "cell_type": "code",
   "execution_count": 2,
   "id": "1f2ef991",
   "metadata": {},
   "outputs": [],
   "source": [
    "class Vehicle():\n",
    "    def __init__(self,make,model,fuel):\n",
    "        self.make=make\n",
    "        self.model=model\n",
    "        self.fuel=fuel\n",
    "        self.current_year=2021\n",
    "        self.value=None\n",
    "    def get_value(self):\n",
    "        try:\n",
    "            if type(self.model)==str:\n",
    "                status=\"custom\"\n",
    "                raise CarModelYearAsString(self.model)\n",
    "            elif self.model>=self.current_year:\n",
    "                status=\"custom\"\n",
    "                raise NegativeZeroModelYear(self.model)\n",
    "            else:\n",
    "                self.age=self.current_year-self.model\n",
    "                self.value=1000*(1/self.age)\n",
    "                status=\"success\"\n",
    "        except TypeError:\n",
    "            self.age=self.current_year-int(self.model)\n",
    "            self.value=1000*(1/self.age)\n",
    "            status=\"inbuilt\"\n",
    "        else:\n",
    "            print(\"code ran without any exceptions\")\n",
    "        finally:\n",
    "            if status==\"custom\":\n",
    "                print(\"code has inbuilt exceptions\")\n",
    "            elif status==\"inbuilt\":\n",
    "                print(\"code has inbuilt exceptions,please rectify that\")\n",
    "            else:\n",
    "                print(\"The value without any exception\",self.value)"
   ]
  },
  {
   "cell_type": "code",
   "execution_count": 3,
   "id": "d90a7517",
   "metadata": {},
   "outputs": [
    {
     "name": "stdout",
     "output_type": "stream",
     "text": [
      "code ran without any exceptions\n",
      "The value without any exception 500.0\n"
     ]
    }
   ],
   "source": [
    "myobj=Vehicle(\"Tesla\",2019,\"electric\")\n",
    "myobj.get_value()"
   ]
  },
  {
   "cell_type": "code",
   "execution_count": null,
   "id": "095ccfe9",
   "metadata": {},
   "outputs": [],
   "source": []
  }
 ],
 "metadata": {
  "kernelspec": {
   "display_name": "Python 3 (ipykernel)",
   "language": "python",
   "name": "python3"
  },
  "language_info": {
   "codemirror_mode": {
    "name": "ipython",
    "version": 3
   },
   "file_extension": ".py",
   "mimetype": "text/x-python",
   "name": "python",
   "nbconvert_exporter": "python",
   "pygments_lexer": "ipython3",
   "version": "3.9.7"
  }
 },
 "nbformat": 4,
 "nbformat_minor": 5
}
