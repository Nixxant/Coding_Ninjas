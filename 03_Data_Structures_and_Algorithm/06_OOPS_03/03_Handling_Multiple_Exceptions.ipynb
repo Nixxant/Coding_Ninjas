{
 "cells": [
  {
   "cell_type": "code",
   "execution_count": 10,
   "id": "5ceafa0f",
   "metadata": {},
   "outputs": [],
   "source": [
    "class Vehicle:\n",
    "    def __init__(self,make,model,fuel):\n",
    "        self.make = make\n",
    "        self.model = model\n",
    "        self.fuel = fuel\n",
    "    def get_value(self):\n",
    "        try:\n",
    "            age = 2021 - self.model\n",
    "            return 1000*(1/age)\n",
    "        except TypeError:\n",
    "            try:\n",
    "                age = 2021 - int(self.model)\n",
    "                return 1000*(1/age)\n",
    "            except ZeroDivisionError:\n",
    "                age = 2021 - int(self.model)\n",
    "                return 1000*(1)\n",
    "            except:\n",
    "                return \"Wrong input\"\n",
    "        except ZeroDivisionError:\n",
    "                age = 2021 - int(self.model)\n",
    "                return 1000*(1)\n",
    "            \n",
    "        "
   ]
  },
  {
   "cell_type": "code",
   "execution_count": 12,
   "id": "8c095813",
   "metadata": {},
   "outputs": [
    {
     "data": {
      "text/plain": [
       "'Wrong input'"
      ]
     },
     "execution_count": 12,
     "metadata": {},
     "output_type": "execute_result"
    }
   ],
   "source": [
    "myObj = Vehicle('Tesla','hasd','Electric')\n",
    "myObj.get_value()"
   ]
  },
  {
   "cell_type": "code",
   "execution_count": null,
   "id": "4438d607",
   "metadata": {},
   "outputs": [],
   "source": []
  }
 ],
 "metadata": {
  "kernelspec": {
   "display_name": "Python 3 (ipykernel)",
   "language": "python",
   "name": "python3"
  },
  "language_info": {
   "codemirror_mode": {
    "name": "ipython",
    "version": 3
   },
   "file_extension": ".py",
   "mimetype": "text/x-python",
   "name": "python",
   "nbconvert_exporter": "python",
   "pygments_lexer": "ipython3",
   "version": "3.9.7"
  }
 },
 "nbformat": 4,
 "nbformat_minor": 5
}
