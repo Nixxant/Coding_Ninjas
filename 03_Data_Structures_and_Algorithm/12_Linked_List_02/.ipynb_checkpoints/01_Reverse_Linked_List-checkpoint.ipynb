{
 "cells": [
  {
   "cell_type": "code",
   "execution_count": 6,
   "id": "b57de1ee",
   "metadata": {},
   "outputs": [],
   "source": [
    "class Node:\n",
    "    def __init__(self,data):\n",
    "        self.data = data\n",
    "        self.next = None\n",
    "\n",
    "def takeInput():\n",
    "    input_list = [int(ele) for ele in input().split()]\n",
    "    head = None\n",
    "    tail = None\n",
    "    \n",
    "    for curr_data in input_list:\n",
    "        if curr_data == -1:\n",
    "            break\n",
    "        \n",
    "        newNode = Node(curr_data)\n",
    "        if head is None:\n",
    "            head = newNode\n",
    "            tail = newNode\n",
    "        else:\n",
    "            tail.next = newNode\n",
    "            tail = newNode\n",
    "    return head\n",
    "def printLL(head):\n",
    "    while head is not None:\n",
    "        print(str(head.data)+\"->\",end = \"\")\n",
    "        head = head.next\n",
    "    print(\"None\")\n",
    "    return\n",
    "\n",
    "\n",
    "def reverse1(head):\n",
    "    if head is None or head.next is None:\n",
    "        return head\n",
    "    \n",
    "    smallHead = reverse1(head.next)\n",
    "    curr = smallHead\n",
    "    \n",
    "    while curr.next is not None:\n",
    "        curr = curr.next\n",
    "    curr.next = head\n",
    "    head.next = None\n",
    "    return smallHead\n",
    "\n",
    "def reverse2(head):\n",
    "    if head is None or head.next is None:\n",
    "        return head\n",
    "    smallHead = reverse2(head.next)\n",
    "    tail = head.next\n",
    "    tail.next = head\n",
    "    head.next = None\n",
    "    return smallHead\n",
    "\n",
    "\n",
    "\n",
    "\n",
    "head = takeInput()\n",
    "printLL(head)\n",
    "head = reverse1(head)\n",
    "printLL(head)\n",
    "head = reverse2(head)\n",
    "printLL(head)"
   ]
  },
  {
   "cell_type": "code",
   "execution_count": 7,
   "id": "df2f8915",
   "metadata": {},
   "outputs": [],
   "source": [
    "def reverseLL(head):\n",
    "    if head is None or head.next is None:\n",
    "        return head,head\n",
    "    smallHead, smallTail = reverseLL(head.next)\n",
    "    smallTail.next = head\n",
    "    head.next = None\n",
    "    return smallHead, head\n",
    "head = takeInput()\n",
    "printLL(head)\n",
    "head,tail = reverseLL(head)\n",
    "printLL(head)"
   ]
  },
  {
   "cell_type": "code",
   "execution_count": 12,
   "id": "bafb737f",
   "metadata": {},
   "outputs": [
    {
     "name": "stdout",
     "output_type": "stream",
     "text": [
      "1 2 3 4 -1\n",
      "1->2->3->4->None\n",
      "4->3->2->1->None\n"
     ]
    }
   ],
   "source": [
    "def reverseLL(head):\n",
    "    if head is None or head.next is None:\n",
    "        \n",
    "        return head\n",
    "    \n",
    "    smallHead = reverseLL(head.next)\n",
    "    tail = head.next\n",
    "    tail.next = head\n",
    "    head.next = None\n",
    "    return smallHead\n",
    "head = takeInput()\n",
    "printLL(head)\n",
    "head = reverseLL(head)\n",
    "printLL(head)"
   ]
  },
  {
   "cell_type": "code",
   "execution_count": 13,
   "id": "6c16bab8",
   "metadata": {},
   "outputs": [
    {
     "name": "stdout",
     "output_type": "stream",
     "text": [
      "1 2 3 4 5 -1\n",
      "1->2->3->4->5->None\n",
      "5->4->3->2->1->None\n"
     ]
    }
   ],
   "source": [
    "def reverseLL_iterative(head):\n",
    "    if head is None or head.next is None:\n",
    "        return head\n",
    "    curr = head\n",
    "    prev = None\n",
    "    while curr is not None:\n",
    "        # We used tmp to store the next of the current because we want to make next of current to be prev\n",
    "        tmp = curr.next\n",
    "        curr.next = prev\n",
    "        prev = curr\n",
    "        curr = tmp\n",
    "    return prev\n",
    "head = takeInput()\n",
    "printLL(head)\n",
    "head = reverseLL_iterative(head)\n",
    "printLL(head)"
   ]
  },
  {
   "cell_type": "code",
   "execution_count": null,
   "id": "5ed1df56",
   "metadata": {},
   "outputs": [],
   "source": []
  }
 ],
 "metadata": {
  "kernelspec": {
   "display_name": "Python 3 (ipykernel)",
   "language": "python",
   "name": "python3"
  },
  "language_info": {
   "codemirror_mode": {
    "name": "ipython",
    "version": 3
   },
   "file_extension": ".py",
   "mimetype": "text/x-python",
   "name": "python",
   "nbconvert_exporter": "python",
   "pygments_lexer": "ipython3",
   "version": "3.9.7"
  }
 },
 "nbformat": 4,
 "nbformat_minor": 5
}
