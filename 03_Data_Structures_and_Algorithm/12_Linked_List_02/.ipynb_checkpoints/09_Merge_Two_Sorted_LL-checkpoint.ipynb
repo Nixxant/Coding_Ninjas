{
 "cells": [
  {
   "cell_type": "code",
   "execution_count": null,
   "id": "b2de7da8",
   "metadata": {},
   "outputs": [],
   "source": [
    "def mergeTwoSortedLL(head1, head2):\n",
    "    if head1 is None:\n",
    "        return head2\n",
    "    if head2 is None:\n",
    "        return head1\n",
    "    final_head = None\n",
    "    final_Tail = None\n",
    "    \n",
    "    while head1 is not None or head2 is not None:\n",
    "        if head1.data <= head2.data:\n",
    "            if final_head is None:\n",
    "                final_head = head1\n",
    "                final_tail = head1\n",
    "            else:\n",
    "                final_tail.next  = head1\n",
    "                final_tail = final_tail.next\n",
    "            head1 = head1.next\n",
    "        else:\n",
    "            if final_head is None:\n",
    "                final_head = head2\n",
    "                final_tail = head2\n",
    "                \n",
    "            else:\n",
    "                final_tail.next = head2\n",
    "                final_tail = final_tail.next\n",
    "            head2 = head2.next\n",
    "        if head1 is not None:\n",
    "            final_tail.next = head1\n",
    "        else:\n",
    "            final_tail.next = head2\n",
    "    return final_head\n",
    "\n",
    "    \n",
    "                "
   ]
  }
 ],
 "metadata": {
  "kernelspec": {
   "display_name": "Python 3 (ipykernel)",
   "language": "python",
   "name": "python3"
  },
  "language_info": {
   "codemirror_mode": {
    "name": "ipython",
    "version": 3
   },
   "file_extension": ".py",
   "mimetype": "text/x-python",
   "name": "python",
   "nbconvert_exporter": "python",
   "pygments_lexer": "ipython3",
   "version": "3.9.7"
  }
 },
 "nbformat": 4,
 "nbformat_minor": 5
}
