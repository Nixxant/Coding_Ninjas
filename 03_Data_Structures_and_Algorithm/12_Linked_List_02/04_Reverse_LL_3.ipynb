{
 "cells": [
  {
   "cell_type": "markdown",
   "id": "2157b8fd",
   "metadata": {},
   "source": [
    "# More optimized way of reversing a linked list"
   ]
  },
  {
   "cell_type": "code",
   "execution_count": null,
   "id": "fe3454f6",
   "metadata": {},
   "outputs": [],
   "source": [
    "def reverseLL(head):\n",
    "    if head is None or head.next is None:\n",
    "        return head\n",
    "    smallHead = reverseLL(head.next)\n",
    "    tail = head.next\n",
    "    tail.next = head\n",
    "    head.next = None\n",
    "    return smallHead\n"
   ]
  }
 ],
 "metadata": {
  "kernelspec": {
   "display_name": "Python 3 (ipykernel)",
   "language": "python",
   "name": "python3"
  },
  "language_info": {
   "codemirror_mode": {
    "name": "ipython",
    "version": 3
   },
   "file_extension": ".py",
   "mimetype": "text/x-python",
   "name": "python",
   "nbconvert_exporter": "python",
   "pygments_lexer": "ipython3",
   "version": "3.9.7"
  }
 },
 "nbformat": 4,
 "nbformat_minor": 5
}
