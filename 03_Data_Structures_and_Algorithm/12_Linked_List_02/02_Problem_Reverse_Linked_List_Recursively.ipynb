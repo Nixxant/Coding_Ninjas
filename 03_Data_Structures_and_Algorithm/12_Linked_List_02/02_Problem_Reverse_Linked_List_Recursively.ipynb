{
 "cells": [
  {
   "cell_type": "markdown",
   "id": "cca35f01",
   "metadata": {},
   "source": [
    "Given a singly linked list of integers, reverse it using recursion and return the head to the modified list. You have to do this in O(N) time complexity where N is the size of the linked list.\n",
    "\n",
    "Note :\n",
    "\n",
    "No need to print the list, it has already been taken care. Only return the new head to the list.\n",
    "\n",
    "Input format :\n",
    "\n",
    "The first line contains an Integer 't' which denotes the number of test cases or queries to be run. Then the test cases follow.\n",
    "\n",
    "\n",
    "The first and the only line of each test case or query contains the elements of the singly linked list separated by a single space.\n",
    "\n",
    "Remember/Consider :\n",
    "\n",
    "While specifying the list elements for input, -1 indicates the end of the singly linked list and hence, would never be a list element\n",
    "\n",
    "Output format :\n",
    "\n",
    "For each test case/query, print the elements of the updated singly linked list.\n",
    "\n",
    "\n",
    "Output for every test case will be printed in a seperate line.\n",
    "\n",
    "Constraints :\n",
    "\n",
    "1 <= t <= 10^2\n",
    "\n",
    "0 <= M <= 10^4\n",
    "\n",
    "Where M is the size of the singly linked list.\n",
    "\n",
    "\n",
    "\n",
    "Time Limit: 1sec\n",
    "\n",
    "Sample Input 1 :\n",
    "\n",
    "1\n",
    "\n",
    "1 2 3 4 5 6 7 8 -1\n",
    "\n",
    "Sample Output 1 :\n",
    "\n",
    "8 7 6 5 4 3 2 1\n",
    "\n",
    "Sample Input 2 :\n",
    "\n",
    "2\n",
    "\n",
    "10 -1\n",
    "\n",
    "10 20 30 40 50 -1\n",
    "\n",
    "Sample Output 2 :\n",
    "\n",
    "10 \n",
    "\n",
    "50 40 30 20 10 "
   ]
  },
  {
   "cell_type": "code",
   "execution_count": null,
   "id": "727c90f6",
   "metadata": {},
   "outputs": [],
   "source": [
    "def reverseLL_rec(head):\n",
    "    if head is None or head.next is None:\n",
    "        return head\n",
    "    small = reverseLL_rec(head.next)\n",
    "    tail = head.next\n",
    "    tail.next = head\n",
    "    head.next = None\n",
    "    return small\n"
   ]
  }
 ],
 "metadata": {
  "kernelspec": {
   "display_name": "Python 3 (ipykernel)",
   "language": "python",
   "name": "python3"
  },
  "language_info": {
   "codemirror_mode": {
    "name": "ipython",
    "version": 3
   },
   "file_extension": ".py",
   "mimetype": "text/x-python",
   "name": "python",
   "nbconvert_exporter": "python",
   "pygments_lexer": "ipython3",
   "version": "3.9.7"
  }
 },
 "nbformat": 4,
 "nbformat_minor": 5
}
