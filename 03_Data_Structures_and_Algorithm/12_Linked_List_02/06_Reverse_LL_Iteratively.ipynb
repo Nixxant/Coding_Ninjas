{
 "cells": [
  {
   "cell_type": "code",
   "execution_count": null,
   "id": "cee71c45",
   "metadata": {},
   "outputs": [],
   "source": [
    "def reverseLL_iterative(head):\n",
    "    if head is None or head.next is None:\n",
    "        return head\n",
    "    curr = head\n",
    "    prev = None\n",
    "    while curr is not None:\n",
    "        tmp = curr.next\n",
    "        curr.next = prev\n",
    "        prev = curr\n",
    "        curr = tmp\n",
    "    return prev\n",
    "        "
   ]
  }
 ],
 "metadata": {
  "kernelspec": {
   "display_name": "Python 3 (ipykernel)",
   "language": "python",
   "name": "python3"
  },
  "language_info": {
   "codemirror_mode": {
    "name": "ipython",
    "version": 3
   },
   "file_extension": ".py",
   "mimetype": "text/x-python",
   "name": "python",
   "nbconvert_exporter": "python",
   "pygments_lexer": "ipython3",
   "version": "3.9.7"
  }
 },
 "nbformat": 4,
 "nbformat_minor": 5
}
