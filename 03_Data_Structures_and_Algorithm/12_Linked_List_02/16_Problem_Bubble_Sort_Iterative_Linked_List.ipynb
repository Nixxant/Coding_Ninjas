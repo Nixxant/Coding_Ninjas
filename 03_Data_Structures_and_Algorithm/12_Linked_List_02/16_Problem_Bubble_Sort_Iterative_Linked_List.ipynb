{
 "cells": [
  {
   "cell_type": "markdown",
   "id": "7a4717f9",
   "metadata": {},
   "source": [
    "Given a singly linked list of integers, sort it using 'Bubble Sort.'\n",
    "\n",
    "Note :\n",
    "\n",
    "No need to print the list, it has already been taken care. Only return the new head to the list.\n",
    "\n",
    "Input format :\n",
    "\n",
    "The first and the only line of each test case or query contains the elements of the singly linked list separated by a single space.\n",
    "\n",
    "Remember/Consider :\n",
    "\n",
    "While specifying the list elements for input, -1 indicates the end of the singly linked list and hence, would never be a list element\n",
    "\n",
    "Output format :\n",
    "\n",
    "For each test case/query, print the elements of the sorted singly linked list.\n",
    "\n",
    "\n",
    "\n",
    "Output for every test case will be printed in a seperate line.\n",
    "\n",
    "Constraints :\n",
    "\n",
    "0 <= M <= 10^3\n",
    "\n",
    "Where M is the size of the singly linked list.\n",
    "\n",
    "\n",
    "\n",
    "Time Limit: 1sec\n",
    "\n",
    "Sample Input 1 :\n",
    "\n",
    "10 9 8 7 6 5 4 3 -1\n",
    "\n",
    "Sample Output 1 :\n",
    "\n",
    "3 4 5 6 7 8 9 10 \n",
    "\n",
    "Sample Input 2 :\n",
    "\n",
    "10 -5 9 90 5 67 1 89 -1\n",
    "\n",
    "Sample Output 2 :\n",
    "\n",
    "-5 1 5 9 10 67 89 90 \n"
   ]
  },
  {
   "cell_type": "code",
   "execution_count": null,
   "id": "f91c24a8",
   "metadata": {},
   "outputs": [],
   "source": [
    "def bubbleSort(head):\n",
    "    end = None\n",
    "    \n",
    "    while end != head:\n",
    "        p = head\n",
    "        while p.next != end:\n",
    "            q = p.next\n",
    "            if p.data > q.data:\n",
    "                p.data, q.data = q.data, p.data\n",
    "            p = p.next\n",
    "        end = p\n",
    "    return end\n"
   ]
  }
 ],
 "metadata": {
  "kernelspec": {
   "display_name": "Python 3 (ipykernel)",
   "language": "python",
   "name": "python3"
  },
  "language_info": {
   "codemirror_mode": {
    "name": "ipython",
    "version": 3
   },
   "file_extension": ".py",
   "mimetype": "text/x-python",
   "name": "python",
   "nbconvert_exporter": "python",
   "pygments_lexer": "ipython3",
   "version": "3.9.7"
  }
 },
 "nbformat": 4,
 "nbformat_minor": 5
}
