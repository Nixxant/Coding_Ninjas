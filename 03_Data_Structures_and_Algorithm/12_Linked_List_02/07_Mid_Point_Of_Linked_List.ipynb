{
 "cells": [
  {
   "cell_type": "code",
   "execution_count": 1,
   "id": "72307fc4",
   "metadata": {},
   "outputs": [],
   "source": [
    "class Node:\n",
    "    def __init__(self, data):\n",
    "        self.data = data\n",
    "        self.next = None\n",
    "def takeInput():\n",
    "    input_list = [int(ele) for ele in input().split()]\n",
    "    head = None\n",
    "    tail = None\n",
    "    for curr in input_list:\n",
    "        if curr == -1:\n",
    "            break\n",
    "        newNode = Node(curr)\n",
    "        if head is None:\n",
    "            head = newNode\n",
    "            tail = newNode\n",
    "        else:\n",
    "            tail.next = newNode\n",
    "            tail = newNode\n",
    "    return head\n",
    "def printLL(head):\n",
    "    while head is not None:\n",
    "        print(str(head.data)+\"->\",end = \"\")\n",
    "        head = head.next\n",
    "    print(\"None\")"
   ]
  },
  {
   "cell_type": "code",
   "execution_count": 2,
   "id": "0b819c16",
   "metadata": {},
   "outputs": [
    {
     "name": "stdout",
     "output_type": "stream",
     "text": [
      "1 2 3 4 5 0 -1\n",
      "1->2->3->4->5->0->None\n",
      "6\n"
     ]
    }
   ],
   "source": [
    "def length(head):\n",
    "    if head is None:\n",
    "        return 0\n",
    "    return (1+length(head.next))\n",
    "head = takeInput()\n",
    "printLL(head)\n",
    "print(length(head))"
   ]
  },
  {
   "cell_type": "code",
   "execution_count": 16,
   "id": "de525658",
   "metadata": {},
   "outputs": [
    {
     "name": "stdout",
     "output_type": "stream",
     "text": [
      "-1\n",
      "None\n",
      "0\n",
      "None\n"
     ]
    }
   ],
   "source": [
    "def midpoint(head):\n",
    "    if head is None:\n",
    "        return head\n",
    "#     if length(head) < 2:\n",
    "#         return head.data\n",
    "    count = 0\n",
    "    x = (length(head))/2\n",
    "    while count < x:\n",
    "        ans = head.data\n",
    "        count += 1\n",
    "        head = head.next\n",
    "    return ans\n",
    "\n",
    "head = takeInput()\n",
    "printLL(head)\n",
    "print(length(head))\n",
    "print(midpoint(head))"
   ]
  },
  {
   "cell_type": "code",
   "execution_count": null,
   "id": "332a5d61",
   "metadata": {},
   "outputs": [],
   "source": []
  }
 ],
 "metadata": {
  "kernelspec": {
   "display_name": "Python 3 (ipykernel)",
   "language": "python",
   "name": "python3"
  },
  "language_info": {
   "codemirror_mode": {
    "name": "ipython",
    "version": 3
   },
   "file_extension": ".py",
   "mimetype": "text/x-python",
   "name": "python",
   "nbconvert_exporter": "python",
   "pygments_lexer": "ipython3",
   "version": "3.9.7"
  }
 },
 "nbformat": 4,
 "nbformat_minor": 5
}
