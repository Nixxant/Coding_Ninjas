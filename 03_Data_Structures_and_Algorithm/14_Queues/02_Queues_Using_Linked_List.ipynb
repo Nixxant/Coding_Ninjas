{
 "cells": [
  {
   "cell_type": "code",
   "execution_count": 9,
   "id": "ef9eb234",
   "metadata": {},
   "outputs": [],
   "source": [
    "class Node:\n",
    "    def __init__(self, data):\n",
    "        self.data = data\n",
    "        self.next = None\n",
    "        \n",
    "class QueueLL:\n",
    "    def __init__(self):\n",
    "        self.__head = None\n",
    "        self.__tail = None\n",
    "        self.__count = 0\n",
    "        \n",
    "        \n",
    "        \n",
    "    def enqueue(self,data):\n",
    "        \n",
    "        newNode = Node(data)\n",
    "        \n",
    "        if self.__head is None:\n",
    "            self.__head = newNode\n",
    "        \n",
    "        else:\n",
    "            self.__tail.next = newNode\n",
    "        \n",
    "        self.__tail = newNode\n",
    "        self.__count += 1\n",
    "        \n",
    "        \n",
    "        \n",
    "    def dequeue(self):\n",
    "        if self.__head is None:\n",
    "            return\n",
    "        data = self.__head.data\n",
    "        self.__head = self.__head.next\n",
    "        self.__count -= 1\n",
    "        return data\n",
    "        \n",
    "        \n",
    "    \n",
    "    def isEmpty(self):\n",
    "        return self.size() == 0\n",
    "        \n",
    "    def front(self):\n",
    "        if self.__head is None:\n",
    "            return\n",
    "        return self.__head.data\n",
    "        \n",
    "        \n",
    "        \n",
    "    def size(self):\n",
    "        return self.__count\n",
    "        \n",
    "        \n",
    "        \n",
    "        "
   ]
  },
  {
   "cell_type": "code",
   "execution_count": 10,
   "id": "692a0e1a",
   "metadata": {},
   "outputs": [
    {
     "name": "stdout",
     "output_type": "stream",
     "text": [
      "1\n",
      "1\n",
      "2\n",
      "3\n",
      "10\n",
      "100\n",
      "0\n",
      "None\n"
     ]
    }
   ],
   "source": [
    "q = QueueLL()\n",
    "\n",
    "q.enqueue(1)\n",
    "q.enqueue(2)\n",
    "q.enqueue(3)\n",
    "q.enqueue(10)\n",
    "q.enqueue(100)\n",
    "print(q.front())\n",
    "while q.isEmpty() is False:\n",
    "    print(q.dequeue())\n",
    "\n",
    "print(q.size())\n",
    "print(q.front())\n"
   ]
  },
  {
   "cell_type": "code",
   "execution_count": null,
   "id": "c3cd1200",
   "metadata": {},
   "outputs": [],
   "source": []
  }
 ],
 "metadata": {
  "kernelspec": {
   "display_name": "Python 3 (ipykernel)",
   "language": "python",
   "name": "python3"
  },
  "language_info": {
   "codemirror_mode": {
    "name": "ipython",
    "version": 3
   },
   "file_extension": ".py",
   "mimetype": "text/x-python",
   "name": "python",
   "nbconvert_exporter": "python",
   "pygments_lexer": "ipython3",
   "version": "3.9.7"
  }
 },
 "nbformat": 4,
 "nbformat_minor": 5
}
