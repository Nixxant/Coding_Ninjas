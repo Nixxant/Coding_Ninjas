{
 "cells": [
  {
   "cell_type": "code",
   "execution_count": 1,
   "id": "5ca14ef9",
   "metadata": {},
   "outputs": [],
   "source": [
    "class QueueTwoStacks:\n",
    "    def __init__(self):\n",
    "        self.__s1 = []\n",
    "        self.__s2 = []\n",
    "    \n",
    "    def enqueue(self, data):\n",
    "        \n",
    "        while len(self.__s1) != 0:\n",
    "            self.__s2.append(self.__s1.pop())\n",
    "            \n",
    "        self.__s1.append(data)\n",
    "        while len(self.__s2) != 0:\n",
    "            self.__s1.append(self.__s2.pop())\n",
    "        return\n",
    "        \n",
    "        \n",
    "    def dequeue(self):\n",
    "        if len(self.__s1) == 0:\n",
    "            return -1\n",
    "        return self.__s1.pop()\n",
    "    def front(self):\n",
    "        if len(self.__s1) == 0:\n",
    "            return -1\n",
    "        return self.__s1[-1]\n",
    "    \n",
    "    def size(self):\n",
    "        return len(self.__s1)\n",
    "    def isEmpty(self):\n",
    "        return self.size() == 0\n",
    "    \n",
    "        "
   ]
  },
  {
   "cell_type": "code",
   "execution_count": 2,
   "id": "088d614f",
   "metadata": {},
   "outputs": [
    {
     "name": "stdout",
     "output_type": "stream",
     "text": [
      "1\n",
      "2\n",
      "3\n",
      "4\n"
     ]
    }
   ],
   "source": [
    "q = QueueTwoStacks()\n",
    "q.enqueue(1)\n",
    "q.enqueue(2)\n",
    "q.enqueue(3)\n",
    "q.enqueue(4)\n",
    "\n",
    "while q.isEmpty() is False:\n",
    "    print(q.front())\n",
    "    q.dequeue()\n"
   ]
  },
  {
   "cell_type": "code",
   "execution_count": null,
   "id": "81f91051",
   "metadata": {},
   "outputs": [],
   "source": []
  }
 ],
 "metadata": {
  "kernelspec": {
   "display_name": "Python 3 (ipykernel)",
   "language": "python",
   "name": "python3"
  },
  "language_info": {
   "codemirror_mode": {
    "name": "ipython",
    "version": 3
   },
   "file_extension": ".py",
   "mimetype": "text/x-python",
   "name": "python",
   "nbconvert_exporter": "python",
   "pygments_lexer": "ipython3",
   "version": "3.9.7"
  }
 },
 "nbformat": 4,
 "nbformat_minor": 5
}
