{
 "cells": [
  {
   "cell_type": "code",
   "execution_count": 1,
   "id": "28ef8d4f",
   "metadata": {},
   "outputs": [],
   "source": [
    "def searchNode(root,k):\n",
    "    if root is None:\n",
    "        return False\n",
    "    if k == root.data:\n",
    "        return True\n",
    "    if k < root.data:\n",
    "        return searchNode(root.left,k)\n",
    "    if k > root.data:\n",
    "        return searchNode(root.right, k)"
   ]
  },
  {
   "cell_type": "code",
   "execution_count": null,
   "id": "21ce2e4d",
   "metadata": {},
   "outputs": [],
   "source": []
  }
 ],
 "metadata": {
  "kernelspec": {
   "display_name": "Python 3 (ipykernel)",
   "language": "python",
   "name": "python3"
  },
  "language_info": {
   "codemirror_mode": {
    "name": "ipython",
    "version": 3
   },
   "file_extension": ".py",
   "mimetype": "text/x-python",
   "name": "python",
   "nbconvert_exporter": "python",
   "pygments_lexer": "ipython3",
   "version": "3.9.7"
  }
 },
 "nbformat": 4,
 "nbformat_minor": 5
}
