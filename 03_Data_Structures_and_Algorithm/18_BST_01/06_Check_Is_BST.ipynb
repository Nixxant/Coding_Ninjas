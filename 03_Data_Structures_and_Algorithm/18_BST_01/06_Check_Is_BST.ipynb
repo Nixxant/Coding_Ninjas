{
 "cells": [
  {
   "cell_type": "code",
   "execution_count": 7,
   "id": "85f26aa2",
   "metadata": {},
   "outputs": [],
   "source": [
    "class BinaryTreeNode:\n",
    "    def __init__(self, data):\n",
    "        self.data = data\n",
    "        self.left = None\n",
    "        self.right = None\n"
   ]
  },
  {
   "cell_type": "code",
   "execution_count": 8,
   "id": "9ade4f76",
   "metadata": {},
   "outputs": [],
   "source": [
    "def printTreeDetailed(root):\n",
    "    if root==None:\n",
    "        return\n",
    "    print(root.data,end=\":\")\n",
    "    if root.left!=None:\n",
    "        print(\"L\",root.left.data,end=\",\")\n",
    "    if root.right!=None:\n",
    "        print(\"R\",root.right.data,end=\"\")\n",
    "    print()\n",
    "    printTreeDetailed(root.left)\n",
    "    printTreeDetailed(root.right)\n",
    "\n",
    "import queue\n",
    "def takeTreeInputLevelWise():\n",
    "    q=queue.Queue()\n",
    "    print(\"Enter root\")\n",
    "    rootData=int(input())\n",
    "    if rootData==-1:\n",
    "        return None\n",
    "    root=BinaryTreeNode(rootData)\n",
    "    q.put(root)\n",
    "    while(not(q.empty())):\n",
    "        current_node=q.get()\n",
    "        print(\"Enter left child of\",current_node.data)\n",
    "        leftChildData=int(input())\n",
    "        if leftChildData!=-1:\n",
    "            leftChild=BinaryTreeNode(leftChildData)\n",
    "            current_node.left=leftChild\n",
    "            q.put(leftChild)\n",
    "        print(\"Enter right child of\",current_node.data)\n",
    "        rightChildData=int(input())\n",
    "        if rightChildData!=-1:\n",
    "            rightChild=BinaryTreeNode(rightChildData)\n",
    "            current_node.right=rightChild\n",
    "            q.put(rightChild)\n",
    "    return root"
   ]
  },
  {
   "cell_type": "code",
   "execution_count": 9,
   "id": "ec1645ed",
   "metadata": {},
   "outputs": [],
   "source": [
    "def minTree(root):\n",
    "    if root is None:\n",
    "        return 999999999\n",
    "    leftMin = minTree(root.left)\n",
    "    rightMin = minTree(root.right)\n",
    "    return min(root.data,leftMin,rightMin)"
   ]
  },
  {
   "cell_type": "code",
   "execution_count": 10,
   "id": "70e2f10c",
   "metadata": {},
   "outputs": [],
   "source": [
    "def maxTree(root):\n",
    "    if root is None:\n",
    "        return -999999999\n",
    "    leftMax = maxTree(root.left)\n",
    "    rightMax = maxTree(root.right)\n",
    "    return max(root.data,leftMax,rightMax)"
   ]
  },
  {
   "cell_type": "code",
   "execution_count": 11,
   "id": "28041cea",
   "metadata": {},
   "outputs": [],
   "source": [
    "def isBST(root):\n",
    "    if root is None:\n",
    "        return True\n",
    "    leftMax = maxTree(root.left)\n",
    "    rightMin = minTree(root.right)\n",
    "    if root.data > rightMin or root.data <= leftMax:\n",
    "        return False\n",
    "    isLeftBST = isBST(root.left)\n",
    "    isRightBST = isBST(root.right)\n",
    "    \n",
    "    return isLeftBST and isRightBST\n",
    "\n"
   ]
  },
  {
   "cell_type": "code",
   "execution_count": 14,
   "id": "198daadf",
   "metadata": {},
   "outputs": [
    {
     "name": "stdout",
     "output_type": "stream",
     "text": [
      "Enter root\n",
      "7\n",
      "Enter left child of 7\n",
      "4\n",
      "Enter right child of 7\n",
      "13\n",
      "Enter left child of 4\n",
      "3\n",
      "Enter right child of 4\n",
      "6\n",
      "Enter left child of 13\n",
      "9\n",
      "Enter right child of 13\n",
      "14\n",
      "Enter left child of 3\n",
      "2\n",
      "Enter right child of 3\n",
      "-1\n",
      "Enter left child of 6\n",
      "-1\n",
      "Enter right child of 6\n",
      "-1\n",
      "Enter left child of 9\n",
      "8\n",
      "Enter right child of 9\n",
      "11\n",
      "Enter left child of 14\n",
      "-1\n",
      "Enter right child of 14\n",
      "-1\n",
      "Enter left child of 2\n",
      "-1\n",
      "Enter right child of 2\n",
      "-1\n",
      "Enter left child of 8\n",
      "-1\n",
      "Enter right child of 8\n",
      "-1\n",
      "Enter left child of 11\n",
      "-1\n",
      "Enter right child of 11\n",
      "-1\n",
      "7:L 4,R 13\n",
      "4:L 3,R 6\n",
      "3:L 2,\n",
      "2:\n",
      "6:\n",
      "13:L 9,R 14\n",
      "9:L 8,R 11\n",
      "8:\n",
      "11:\n",
      "14:\n"
     ]
    },
    {
     "data": {
      "text/plain": [
       "True"
      ]
     },
     "execution_count": 14,
     "metadata": {},
     "output_type": "execute_result"
    }
   ],
   "source": [
    "root = takeTreeInputLevelWise()\n",
    "printTreeDetailed(root)\n",
    "isBST(root)"
   ]
  },
  {
   "cell_type": "code",
   "execution_count": null,
   "id": "ca6ba322",
   "metadata": {},
   "outputs": [],
   "source": []
  }
 ],
 "metadata": {
  "kernelspec": {
   "display_name": "Python 3 (ipykernel)",
   "language": "python",
   "name": "python3"
  },
  "language_info": {
   "codemirror_mode": {
    "name": "ipython",
    "version": 3
   },
   "file_extension": ".py",
   "mimetype": "text/x-python",
   "name": "python",
   "nbconvert_exporter": "python",
   "pygments_lexer": "ipython3",
   "version": "3.9.7"
  }
 },
 "nbformat": 4,
 "nbformat_minor": 5
}
