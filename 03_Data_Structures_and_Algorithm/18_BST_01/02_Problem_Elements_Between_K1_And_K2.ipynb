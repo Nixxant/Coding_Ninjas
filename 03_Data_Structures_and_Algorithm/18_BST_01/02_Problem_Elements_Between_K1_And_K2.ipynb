{
 "cells": [
  {
   "cell_type": "code",
   "execution_count": null,
   "id": "47066c67",
   "metadata": {},
   "outputs": [
    {
     "name": "stdout",
     "output_type": "stream",
     "text": [
      "Enter root\n"
     ]
    }
   ],
   "source": [
    "class BinaryTreeNode:\n",
    "    def __init__(self,data):\n",
    "        self.data=data;\n",
    "        self.left=None\n",
    "        self.right=None\n",
    "\n",
    "def search(root,x):\n",
    "    if root==None:\n",
    "        return False\n",
    "    if root.data==x:\n",
    "        return True\n",
    "    elif root.data>x:\n",
    "        return search(root.left,x)\n",
    "    else:\n",
    "        return search(root.left,x)\n",
    "\n",
    "def printBetweenK1K2(root,k1,k2):\n",
    "    if root==None:\n",
    "        return\n",
    "    if root.data>k2:\n",
    "        printBetweenK1K2(root.left,k1,k2)\n",
    "    elif root.data<k1:\n",
    "        printBetweenK1K2(root.right,k1,k2)\n",
    "    else:\n",
    "        \n",
    "        printBetweenK1K2(root.left,k1,k2)\n",
    "        print(root.data)\n",
    "        printBetweenK1K2(root.right,k1,k2)\n",
    "\n",
    "def printTreeDetailed(root):\n",
    "    if root==None:\n",
    "        return\n",
    "    print(root.data,end=\":\")\n",
    "    if root.left!=None:\n",
    "        print(\"L\",root.left.data,end=\",\")\n",
    "    if root.right!=None:\n",
    "        print(\"R\",root.right.data,end=\"\")\n",
    "    print()\n",
    "    printTreeDetailed(root.left)\n",
    "    printTreeDetailed(root.right)\n",
    "\n",
    "import queue\n",
    "def takeTreeInputLevelWise():\n",
    "    q=queue.Queue()\n",
    "    print(\"Enter root\")\n",
    "    rootData=int(input())\n",
    "    if rootData==-1:\n",
    "        return None\n",
    "    root=BinaryTreeNode(rootData)\n",
    "    q.put(root)\n",
    "    while(not(q.empty())):\n",
    "        current_node=q.get()\n",
    "        print(\"Enter left child of\",current_node.data)\n",
    "        leftChildData=int(input())\n",
    "        if leftChildData!=-1:\n",
    "            leftChild=BinaryTreeNode(leftChildData)\n",
    "            current_node.left=leftChild\n",
    "            q.put(leftChild)\n",
    "        print(\"Enter right child of\",current_node.data)\n",
    "        rightChildData=int(input())\n",
    "        if rightChildData!=-1:\n",
    "            rightChild=BinaryTreeNode(rightChildData)\n",
    "            current_node.right=rightChild\n",
    "            q.put(rightChild)\n",
    "    return root\n",
    "\n",
    "root=takeTreeInputLevelWise()\n",
    "printTreeDetailed(root)\n",
    "printBetweenK1K2(root,6,8)\n"
   ]
  },
  {
   "cell_type": "code",
   "execution_count": null,
   "id": "b679b378",
   "metadata": {},
   "outputs": [],
   "source": [
    "def isBST(root):\n",
    "    if root is None:\n",
    "        return True\n",
    "    leftMax = maxTree(root.left)\n",
    "    rightMin = minTree(root.right)\n",
    "    if root.data > rightMin or root.data <= leftMax:\n",
    "        return False\n",
    "    isLeftBST = isBST(root.left)\n",
    "    isRightBST = isBST(root.right)\n",
    "    \n",
    "    return isLeftBST and isRightBST"
   ]
  }
 ],
 "metadata": {
  "kernelspec": {
   "display_name": "Python 3 (ipykernel)",
   "language": "python",
   "name": "python3"
  },
  "language_info": {
   "codemirror_mode": {
    "name": "ipython",
    "version": 3
   },
   "file_extension": ".py",
   "mimetype": "text/x-python",
   "name": "python",
   "nbconvert_exporter": "python",
   "pygments_lexer": "ipython3",
   "version": "3.9.7"
  }
 },
 "nbformat": 4,
 "nbformat_minor": 5
}
