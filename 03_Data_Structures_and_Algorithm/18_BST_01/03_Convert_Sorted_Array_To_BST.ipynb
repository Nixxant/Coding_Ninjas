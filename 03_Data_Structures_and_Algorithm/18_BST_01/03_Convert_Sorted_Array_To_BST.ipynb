{
 "cells": [
  {
   "cell_type": "code",
   "execution_count": null,
   "id": "637cfed8",
   "metadata": {},
   "outputs": [],
   "source": [
    "def sortBST(arr):\n",
    "    if len(arr) == 0:\n",
    "        return\n",
    "    if len(arr) % 2 == 0:\n",
    "        mid = len(arr)//2 - 1\n",
    "    else:\n",
    "        mid = len(arr)//2\n",
    "    rootData = arr[mid]\n",
    "    root = BinaryTreeNode(rootData)\n",
    "    root.left = sortBST(arr[:mid])\n",
    "    root.right = sortBST(arr[mid+1:])\n",
    "    return root\n"
   ]
  }
 ],
 "metadata": {
  "kernelspec": {
   "display_name": "Python 3 (ipykernel)",
   "language": "python",
   "name": "python3"
  },
  "language_info": {
   "codemirror_mode": {
    "name": "ipython",
    "version": 3
   },
   "file_extension": ".py",
   "mimetype": "text/x-python",
   "name": "python",
   "nbconvert_exporter": "python",
   "pygments_lexer": "ipython3",
   "version": "3.9.7"
  }
 },
 "nbformat": 4,
 "nbformat_minor": 5
}
