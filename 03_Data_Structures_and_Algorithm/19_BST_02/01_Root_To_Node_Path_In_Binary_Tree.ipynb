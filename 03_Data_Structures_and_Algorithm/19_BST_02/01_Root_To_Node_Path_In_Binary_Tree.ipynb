{
 "cells": [
  {
   "cell_type": "code",
   "execution_count": 1,
   "id": "db8874da",
   "metadata": {},
   "outputs": [],
   "source": [
    "class BinaryTreeNode:\n",
    "    def __init__(self, data):\n",
    "        self.data = data\n",
    "        self.left = None\n",
    "        self.right = None\n",
    "def printTreeDetailed(root):\n",
    "    if root==None:\n",
    "        return\n",
    "    print(root.data,end=\":\")\n",
    "    if root.left!=None:\n",
    "        print(\"L\",root.left.data,end=\",\")\n",
    "    if root.right!=None:\n",
    "        print(\"R\",root.right.data,end=\"\")\n",
    "    print()\n",
    "    printTreeDetailed(root.left)\n",
    "    printTreeDetailed(root.right)\n",
    "\n",
    "import queue\n",
    "def takeTreeInputLevelWise():\n",
    "    q=queue.Queue()\n",
    "    print(\"Enter root\")\n",
    "    rootData=int(input())\n",
    "    if rootData==-1:\n",
    "        return None\n",
    "    root=BinaryTreeNode(rootData)\n",
    "    q.put(root)\n",
    "    while(not(q.empty())):\n",
    "        current_node=q.get()\n",
    "        print(\"Enter left child of\",current_node.data)\n",
    "        leftChildData=int(input())\n",
    "        if leftChildData!=-1:\n",
    "            leftChild=BinaryTreeNode(leftChildData)\n",
    "            current_node.left=leftChild\n",
    "            q.put(leftChild)\n",
    "        print(\"Enter right child of\",current_node.data)\n",
    "        rightChildData=int(input())\n",
    "        if rightChildData!=-1:\n",
    "            rightChild=BinaryTreeNode(rightChildData)\n",
    "            current_node.right=rightChild\n",
    "            q.put(rightChild)\n",
    "    return root"
   ]
  },
  {
   "cell_type": "code",
   "execution_count": 2,
   "id": "9f3b810a",
   "metadata": {},
   "outputs": [],
   "source": [
    "def nodeToRootPath(root, s):\n",
    "    if root is None:\n",
    "        return None\n",
    "    if root.data == s:\n",
    "        l = list()\n",
    "        l.append(root.data)\n",
    "        return l\n",
    "    leftOut = nodeToRootPath(root.left, s)\n",
    "    if leftOut is not None:\n",
    "        leftOut.append(root.data)\n",
    "        return leftOut\n",
    "    rightOut = nodeToRootPath(root.right, s)\n",
    "    if rightOut is not None:\n",
    "        rightOut.append(root.data)\n",
    "        return rightOut\n",
    "    else:\n",
    "        return None\n",
    "    \n",
    "        "
   ]
  },
  {
   "cell_type": "code",
   "execution_count": 3,
   "id": "fa6b2658",
   "metadata": {},
   "outputs": [
    {
     "name": "stdout",
     "output_type": "stream",
     "text": [
      "Enter root\n",
      "10\n",
      "Enter left child of 10\n",
      "7\n",
      "Enter right child of 10\n",
      "17\n",
      "Enter left child of 7\n",
      "4\n",
      "Enter right child of 7\n",
      "8\n",
      "Enter left child of 17\n",
      "14\n",
      "Enter right child of 17\n",
      "20\n",
      "Enter left child of 4\n",
      "2\n",
      "Enter right child of 4\n",
      "5\n",
      "Enter left child of 8\n",
      "-1\n",
      "Enter right child of 8\n",
      "-1\n",
      "Enter left child of 14\n",
      "-1\n",
      "Enter right child of 14\n",
      "-1\n",
      "Enter left child of 20\n",
      "-1\n",
      "Enter right child of 20\n",
      "-1\n",
      "Enter left child of 2\n",
      "-1\n",
      "Enter right child of 2\n",
      "-1\n",
      "Enter left child of 5\n",
      "-1\n",
      "Enter right child of 5\n",
      "-1\n"
     ]
    },
    {
     "data": {
      "text/plain": [
       "[5, 4, 7, 10]"
      ]
     },
     "execution_count": 3,
     "metadata": {},
     "output_type": "execute_result"
    }
   ],
   "source": [
    "root = takeTreeInputLevelWise()\n",
    "nodeToRootPath(root, 5)"
   ]
  },
  {
   "cell_type": "code",
   "execution_count": null,
   "id": "495f092a",
   "metadata": {},
   "outputs": [],
   "source": []
  }
 ],
 "metadata": {
  "kernelspec": {
   "display_name": "Python 3 (ipykernel)",
   "language": "python",
   "name": "python3"
  },
  "language_info": {
   "codemirror_mode": {
    "name": "ipython",
    "version": 3
   },
   "file_extension": ".py",
   "mimetype": "text/x-python",
   "name": "python",
   "nbconvert_exporter": "python",
   "pygments_lexer": "ipython3",
   "version": "3.9.7"
  }
 },
 "nbformat": 4,
 "nbformat_minor": 5
}
