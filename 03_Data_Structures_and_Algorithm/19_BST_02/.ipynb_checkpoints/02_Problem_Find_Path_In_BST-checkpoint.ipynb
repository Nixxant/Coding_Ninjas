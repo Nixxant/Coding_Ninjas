{
 "cells": [
  {
   "cell_type": "markdown",
   "id": "a0f9a51b",
   "metadata": {},
   "source": [
    "Given a BST and an integer k. Find and return the path from the node with data k and root (if a node with data k is present in given BST) in a list. Return empty list otherwise.\n",
    "\n",
    "Note: Assume that BST contains all unique elements.\n",
    "\n",
    "Input Format :\n",
    "\n",
    "The first line of input contains data of the nodes of the tree in level order form. The data of the nodes of the tree is separated by space. If any node does not have left or right child, take -1 in its place. Since -1 is used as an indication whether the left or right nodes exist, therefore, it will not be a part of the data of any node.   \n",
    "\n",
    "The following line of input contains an integer, that denotes the value of k.\n",
    "\n",
    "Output Format :\n",
    "\n",
    "The first line and only line of output prints the data of the nodes in the path from node k to root. The data of the nodes is separated by single space.\n",
    "\n",
    "Constraints:\n",
    "\n",
    "Time Limit: 1 second   \n",
    "\n",
    "Sample Input 1:\n",
    "\n",
    "8 5 10 2 6 -1 -1 -1 -1 -1 7 -1 -1\n",
    "\n",
    "2\n",
    "\n",
    "Sample Output 1:\n",
    "\n",
    "2 5 8"
   ]
  },
  {
   "cell_type": "code",
   "execution_count": null,
   "id": "dc623c5a",
   "metadata": {},
   "outputs": [],
   "source": [
    "def findPath(root, s):\n",
    "    if root is None:\n",
    "        return None\n",
    "    if root.data = s:\n",
    "        l = []\n",
    "        l.append(root.data)\n",
    "        return l\n",
    "    leftOut = findPath(root.left,s)\n",
    "    rightOut = findPath(root.right, s)\n",
    "    if leftOut is not None:\n",
    "        leftOut.append(root.data)\n",
    "        return leftOut\n",
    "    if rightOut is not None:\n",
    "        rightOut.append(root.data)\n",
    "        return rightOut\n",
    "    else:\n",
    "        return None\n",
    "    "
   ]
  }
 ],
 "metadata": {
  "kernelspec": {
   "display_name": "Python 3 (ipykernel)",
   "language": "python",
   "name": "python3"
  },
  "language_info": {
   "codemirror_mode": {
    "name": "ipython",
    "version": 3
   },
   "file_extension": ".py",
   "mimetype": "text/x-python",
   "name": "python",
   "nbconvert_exporter": "python",
   "pygments_lexer": "ipython3",
   "version": "3.9.7"
  }
 },
 "nbformat": 4,
 "nbformat_minor": 5
}
