{
 "cells": [
  {
   "cell_type": "markdown",
   "id": "10294816",
   "metadata": {},
   "source": [
    "Check whether a given String 'S' is a palindrome using recursion.\n",
    "\n",
    "\n",
    "\n",
    "Return true or false.\n",
    "\n",
    "\n",
    "\n",
    "Note:\n",
    "\n",
    "You don’t need to print anything. Just implement the given function.\n",
    "\n",
    "Example:\n",
    "\n",
    "Input: s = \"racecar\"\n",
    "\n",
    "Output: true\n",
    "\n",
    "Explanation: \"racecar\" is a palindrome.\n",
    "\n",
    "Input Format:\n",
    "\n",
    "The first and only line of the input contains string S.\n",
    "\n",
    "Output format:\n",
    "\n",
    "Return a boolean value True or False.\n",
    "\n",
    "Sample Input 1:\n",
    "\n",
    "abbba\n",
    "\n",
    "Sample Output 1:\n",
    "\n",
    "true\n",
    "\n",
    "Explanation Of Sample Input 1 :\n",
    "\n",
    "“abbba” is a palindrome\n",
    "\n",
    "Sample Input 2:\n",
    "\n",
    "abcd\n",
    "\n",
    "Sample Output 2:\n",
    "\n",
    "false\n",
    "\n",
    "Explanation Of Sample Input 2 :\n",
    "\n",
    "“abcd” is not a palindrome.\n",
    "\n",
    "Constraints:\n",
    "\n",
    "0 <= |S| <= 10^6\n",
    "\n",
    "where |S| represents the length of string S."
   ]
  },
  {
   "cell_type": "code",
   "execution_count": 1,
   "id": "9e0ae446",
   "metadata": {},
   "outputs": [],
   "source": [
    "def isPalindrome(string: str) -> bool:\n",
    "    if len(string) == 0 or len(string) == 1:\n",
    "        return True\n",
    "    if string[0] != string[-1]:\n",
    "        return False\n",
    "    return isPalindrome(string[1:-1])"
   ]
  },
  {
   "cell_type": "code",
   "execution_count": 4,
   "id": "482f69ef",
   "metadata": {},
   "outputs": [
    {
     "name": "stdout",
     "output_type": "stream",
     "text": [
      "False\n"
     ]
    }
   ],
   "source": [
    "string = 'abcdba'\n",
    "print(isPalindrome(string))"
   ]
  },
  {
   "cell_type": "code",
   "execution_count": null,
   "id": "b68c08a4",
   "metadata": {},
   "outputs": [],
   "source": []
  }
 ],
 "metadata": {
  "kernelspec": {
   "display_name": "Python 3 (ipykernel)",
   "language": "python",
   "name": "python3"
  },
  "language_info": {
   "codemirror_mode": {
    "name": "ipython",
    "version": 3
   },
   "file_extension": ".py",
   "mimetype": "text/x-python",
   "name": "python",
   "nbconvert_exporter": "python",
   "pygments_lexer": "ipython3",
   "version": "3.9.7"
  }
 },
 "nbformat": 4,
 "nbformat_minor": 5
}
