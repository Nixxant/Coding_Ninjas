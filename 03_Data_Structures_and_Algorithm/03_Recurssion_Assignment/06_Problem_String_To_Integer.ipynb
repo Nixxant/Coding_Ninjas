{
 "cells": [
  {
   "cell_type": "markdown",
   "id": "d5f2b482",
   "metadata": {},
   "source": [
    "Write a recursive function to convert a given string into the number it represents. That is input will be a numeric string that contains only numbers, you need to convert the string into corresponding integer and return the answer.\n",
    "\n",
    "Input format :\n",
    "\n",
    "Numeric string S (string, Eg. \"1234\")\n",
    "\n",
    "Output format :\n",
    "\n",
    "Corresponding integer N (int, Eg. 1234)\n",
    "\n",
    "Constraints :\n",
    "\n",
    "0 < |S| <= 9\n",
    "\n",
    "where |S| represents length of string S.\n",
    "\n",
    "Sample Input 1 :\n",
    "\n",
    "00001231\n",
    "\n",
    "Sample Output 1 :\n",
    "\n",
    "1231\n",
    "\n",
    "Sample Input 2 :\n",
    "\n",
    "12567\n",
    "\n",
    "Sample Output 2 :\n",
    "\n",
    "12567"
   ]
  },
  {
   "cell_type": "code",
   "execution_count": null,
   "id": "1b051b18",
   "metadata": {},
   "outputs": [],
   "source": [
    "# Write your code here...\n",
    "def is_zero(n):\n",
    "    if n == 0:\n",
    "        return True\n",
    "    return False\n",
    "def str_to_int(n):\n",
    "    if n == 0:\n",
    "        return \"\"\n",
    "\n",
    "    return str(str_to_int(n//10)) + str(n%10)\n",
    "\n",
    "n = int(input())\n",
    "if is_zero(n):\n",
    "    print(\"0\")\n",
    "else:\n",
    "    print(str_to_int(n))"
   ]
  }
 ],
 "metadata": {
  "kernelspec": {
   "display_name": "Python 3 (ipykernel)",
   "language": "python",
   "name": "python3"
  },
  "language_info": {
   "codemirror_mode": {
    "name": "ipython",
    "version": 3
   },
   "file_extension": ".py",
   "mimetype": "text/x-python",
   "name": "python",
   "nbconvert_exporter": "python",
   "pygments_lexer": "ipython3",
   "version": "3.9.7"
  }
 },
 "nbformat": 4,
 "nbformat_minor": 5
}
