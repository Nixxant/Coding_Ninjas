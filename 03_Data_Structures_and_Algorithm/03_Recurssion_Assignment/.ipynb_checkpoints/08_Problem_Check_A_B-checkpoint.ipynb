{
 "cells": [
  {
   "cell_type": "markdown",
   "id": "be4a3017",
   "metadata": {},
   "source": [
    "Suppose you have a string, S, made up of only 'a's and 'b's. Write a recursive function that checks if the string was generated using the following rules:\n",
    "\n",
    "a. The string begins with an 'a'\n",
    "\n",
    "b. Each 'a' is followed by nothing or an 'a' or \"bb\"\n",
    "\n",
    "c. Each \"bb\" is followed by nothing or an 'a'\n",
    "\n",
    "If all the rules are followed by the given string, return true otherwise return false.\n",
    "\n",
    "Input format :\n",
    "\n",
    "String S\n",
    "\n",
    "Output format :\n",
    "\n",
    "'true' or 'false'\n",
    "\n",
    "Constraints :\n",
    "\n",
    "1 <= |S| <= 1000\n",
    "\n",
    "where |S| represents length of string S.\n",
    "\n",
    "Sample Input 1 :\n",
    "\n",
    "abb\n",
    "\n",
    "Sample Output 1 :\n",
    "\n",
    "true\n",
    "\n",
    "Sample Input 2 :\n",
    "\n",
    "abababa\n",
    "\n",
    "Sample Output 2 :\n",
    "\n",
    "false\n",
    "\n",
    "Explanation for Sample Input 2\n",
    "\n",
    "In the above example, a is not followed by either \"a\" or \"bb\", instead it's followed by \"b\" which results in false to be \n",
    "returned."
   ]
  },
  {
   "cell_type": "code",
   "execution_count": null,
   "id": "3ac2d984",
   "metadata": {},
   "outputs": [],
   "source": [
    "## Read input as specified in the question.\n",
    "## Print output as specified in the question.\n",
    "def checkab(s):\n",
    "    if len(s)==0:\n",
    "        return True\n",
    "    if s[0]==\"a\":\n",
    "        if len(s[1:])>1 and s[1:3]==\"bb\":\n",
    "            return checkab(s[3:])\n",
    "        else:\n",
    "            return checkab(s[1:])\n",
    "    else:\n",
    "        return False\n",
    "s=input()\n",
    "if checkab(s)==True:\n",
    "    print(\"true\")\n",
    "else:\n",
    "    print(\"false\")"
   ]
  }
 ],
 "metadata": {
  "kernelspec": {
   "display_name": "Python 3 (ipykernel)",
   "language": "python",
   "name": "python3"
  },
  "language_info": {
   "codemirror_mode": {
    "name": "ipython",
    "version": 3
   },
   "file_extension": ".py",
   "mimetype": "text/x-python",
   "name": "python",
   "nbconvert_exporter": "python",
   "pygments_lexer": "ipython3",
   "version": "3.9.7"
  }
 },
 "nbformat": 4,
 "nbformat_minor": 5
}
