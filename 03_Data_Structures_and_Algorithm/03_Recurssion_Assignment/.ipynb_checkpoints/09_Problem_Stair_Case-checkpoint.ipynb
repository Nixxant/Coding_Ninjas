{
 "cells": [
  {
   "cell_type": "markdown",
   "id": "11954063",
   "metadata": {},
   "source": [
    "A child is running up a staircase with N steps, and can hop either 1 step, 2 steps or 3 steps at a time. Implement a method to count how many possible ways the child can run up to the stairs. You need to return number of possible ways W.\n",
    "\n",
    "Input format :\n",
    "\n",
    "Integer N\n",
    "\n",
    "Output Format :\n",
    "\n",
    "Integer W\n",
    "\n",
    "Constraints :\n",
    "\n",
    "1 <= N <= 30\n",
    "\n",
    "Sample Input 1 :\n",
    "\n",
    "4\n",
    "\n",
    "Sample Output 1 :\n",
    "\n",
    "7\n",
    "\n",
    "Sample Input 2 :\n",
    "\n",
    "5\n",
    "\n",
    "Sample Output 2 :\n",
    "\n",
    "13"
   ]
  },
  {
   "cell_type": "code",
   "execution_count": 5,
   "id": "3d6a9b58",
   "metadata": {},
   "outputs": [
    {
     "name": "stdout",
     "output_type": "stream",
     "text": [
      "15\n",
      "5768\n"
     ]
    }
   ],
   "source": [
    "def stair(n):\n",
    "    if n <= 3:\n",
    "        if n==0:\n",
    "            return 0\n",
    "        if n == 1:\n",
    "            return 1\n",
    "        if n == 2:\n",
    "            return 2\n",
    "        if n == 3:\n",
    "            return 4\n",
    "    x = stair(n-1)\n",
    "    y = stair(n-2)\n",
    "    z = stair(n-3)\n",
    "    return x + y + z\n",
    "\n",
    "n = int(input())\n",
    "print(stair(n))"
   ]
  },
  {
   "cell_type": "code",
   "execution_count": null,
   "id": "a0751089",
   "metadata": {},
   "outputs": [],
   "source": []
  }
 ],
 "metadata": {
  "kernelspec": {
   "display_name": "Python 3 (ipykernel)",
   "language": "python",
   "name": "python3"
  },
  "language_info": {
   "codemirror_mode": {
    "name": "ipython",
    "version": 3
   },
   "file_extension": ".py",
   "mimetype": "text/x-python",
   "name": "python",
   "nbconvert_exporter": "python",
   "pygments_lexer": "ipython3",
   "version": "3.9.7"
  }
 },
 "nbformat": 4,
 "nbformat_minor": 5
}
