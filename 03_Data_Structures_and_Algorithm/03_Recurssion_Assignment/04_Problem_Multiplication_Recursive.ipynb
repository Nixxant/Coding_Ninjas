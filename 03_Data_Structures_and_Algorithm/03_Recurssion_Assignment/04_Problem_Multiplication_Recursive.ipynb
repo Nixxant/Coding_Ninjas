{
 "cells": [
  {
   "cell_type": "markdown",
   "id": "f913aeeb",
   "metadata": {},
   "source": [
    "Given two integers M & N, calculate and return their multiplication using recursion. You can only use subtraction and addition for your calculation. No other operators are allowed.\n",
    "\n",
    "Input format :\n",
    "\n",
    "Line 1 : Integer M\n",
    "\n",
    "Line 2 : Integer N\n",
    "\n",
    "Output format :\n",
    "\n",
    "M x N\n",
    "\n",
    "Constraints :\n",
    "\n",
    "0 <= M <= 1000\n",
    "\n",
    "0 <= N <= 1000\n",
    "\n",
    "Sample Input 1 :\n",
    "\n",
    "3 \n",
    "\n",
    "5\n",
    "\n",
    "Sample Output 1 :\n",
    "\n",
    "15\n",
    "\n",
    "Sample Input 2 :\n",
    "\n",
    "4 \n",
    "\n",
    "0\n",
    "\n",
    "Sample Output 2 :\n",
    "\n",
    "0"
   ]
  },
  {
   "cell_type": "code",
   "execution_count": null,
   "id": "0414cde1",
   "metadata": {},
   "outputs": [],
   "source": [
    "from math import *\n",
    "from collections import *\n",
    "from sys import *\n",
    "from os import *\n",
    "\n",
    "## Read input as specified in the question.\n",
    "## Print output as specified in the question.\n",
    "def multiplication(n,m):\n",
    "    if n == 0 or m ==0:\n",
    "        return 0\n",
    "    return m + multiplication(n-1,m)\n",
    "\n",
    "n = int(input())\n",
    "m = int(input())\n",
    "\n",
    "if n > m:\n",
    "    n,m = m,n\n",
    "print(multiplication(n,m))"
   ]
  }
 ],
 "metadata": {
  "kernelspec": {
   "display_name": "Python 3 (ipykernel)",
   "language": "python",
   "name": "python3"
  },
  "language_info": {
   "codemirror_mode": {
    "name": "ipython",
    "version": 3
   },
   "file_extension": ".py",
   "mimetype": "text/x-python",
   "name": "python",
   "nbconvert_exporter": "python",
   "pygments_lexer": "ipython3",
   "version": "3.9.7"
  }
 },
 "nbformat": 4,
 "nbformat_minor": 5
}
