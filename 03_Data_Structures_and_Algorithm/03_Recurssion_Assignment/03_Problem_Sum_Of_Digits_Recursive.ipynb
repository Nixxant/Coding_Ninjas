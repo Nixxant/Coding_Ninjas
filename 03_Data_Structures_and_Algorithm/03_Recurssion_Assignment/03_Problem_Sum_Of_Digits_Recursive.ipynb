{
 "cells": [
  {
   "cell_type": "markdown",
   "id": "4b38c4e4",
   "metadata": {},
   "source": [
    "Write a recursive function that returns the sum of the digits of a given integer.\n",
    "\n",
    "Input format :\n",
    "\n",
    "Integer N\n",
    "\n",
    "Output format :\n",
    "\n",
    "Sum of digits of N\n",
    "\n",
    "Constraints :\n",
    "\n",
    "0 <= N <= 10^9\n",
    "\n",
    "Sample Input 1 :\n",
    "\n",
    "12345\n",
    "\n",
    "Sample Output 1 :\n",
    "\n",
    "\n",
    "15\n",
    "\n",
    "Sample Input 2 :\n",
    "\n",
    "9\n",
    "\n",
    "Sample Output 2 :\n",
    "\n",
    "9"
   ]
  },
  {
   "cell_type": "code",
   "execution_count": 7,
   "id": "d2c1b2b6",
   "metadata": {},
   "outputs": [],
   "source": [
    "def digit_sum(n):\n",
    "    if n == 0:\n",
    "        return 0\n",
    "    return (n%10) + digit_sum(n//10)"
   ]
  },
  {
   "cell_type": "code",
   "execution_count": 9,
   "id": "59078f52",
   "metadata": {},
   "outputs": [
    {
     "name": "stdout",
     "output_type": "stream",
     "text": [
      "12345\n",
      "15\n"
     ]
    }
   ],
   "source": [
    "n = int(input())\n",
    "print(digit_sum(n))"
   ]
  },
  {
   "cell_type": "code",
   "execution_count": null,
   "id": "55c13d22",
   "metadata": {},
   "outputs": [],
   "source": []
  }
 ],
 "metadata": {
  "kernelspec": {
   "display_name": "Python 3 (ipykernel)",
   "language": "python",
   "name": "python3"
  },
  "language_info": {
   "codemirror_mode": {
    "name": "ipython",
    "version": 3
   },
   "file_extension": ".py",
   "mimetype": "text/x-python",
   "name": "python",
   "nbconvert_exporter": "python",
   "pygments_lexer": "ipython3",
   "version": "3.9.7"
  }
 },
 "nbformat": 4,
 "nbformat_minor": 5
}
