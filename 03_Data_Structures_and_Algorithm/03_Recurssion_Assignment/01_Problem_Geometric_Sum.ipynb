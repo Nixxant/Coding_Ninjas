{
 "cells": [
  {
   "cell_type": "markdown",
   "id": "e1924cc7",
   "metadata": {},
   "source": [
    "Given k, find the geometric sum i.e.\n",
    "\n",
    "1 + 1/2 + 1/4 + 1/8 + ... + 1/(2^k) \n",
    "\n",
    "using recursion.\n",
    "\n",
    "Input format :\n",
    "\n",
    "Integer k\n",
    "\n",
    "Output format :\n",
    "\n",
    "Geometric sum (upto 5 decimal places)\n",
    "\n",
    "Constraints :\n",
    "\n",
    "0 <= k <= 1000\n",
    "\n",
    "Sample Input 1 :\n",
    "\n",
    "3\n",
    "\n",
    "Sample Output 1 :\n",
    "\n",
    "1.87500\n",
    "\n",
    "Sample Input 2 :\n",
    "\n",
    "4\n",
    "\n",
    "Sample Output 2 :\n",
    "\n",
    "1.93750\n",
    "\n",
    "Explanation for Sample Input 1:\n",
    "\n",
    "1+ 1/(2^1) + 1/(2^2) + 1/(2^3) = 1.87500"
   ]
  },
  {
   "cell_type": "code",
   "execution_count": 7,
   "id": "9165db4a",
   "metadata": {},
   "outputs": [],
   "source": [
    "def geometric_sum(n):\n",
    "    if n == 0:\n",
    "        return 1\n",
    "    return 1/(2**n) + geometric_sum(n-1)"
   ]
  },
  {
   "cell_type": "code",
   "execution_count": 13,
   "id": "d562482a",
   "metadata": {},
   "outputs": [
    {
     "name": "stdout",
     "output_type": "stream",
     "text": [
      "10\n",
      "1.99902\n"
     ]
    }
   ],
   "source": [
    "n = int(input())\n",
    "ans = geometric_sum(n)\n",
    "print('%.5f'%ans)"
   ]
  },
  {
   "cell_type": "code",
   "execution_count": null,
   "id": "018de69e",
   "metadata": {},
   "outputs": [],
   "source": []
  }
 ],
 "metadata": {
  "kernelspec": {
   "display_name": "Python 3 (ipykernel)",
   "language": "python",
   "name": "python3"
  },
  "language_info": {
   "codemirror_mode": {
    "name": "ipython",
    "version": 3
   },
   "file_extension": ".py",
   "mimetype": "text/x-python",
   "name": "python",
   "nbconvert_exporter": "python",
   "pygments_lexer": "ipython3",
   "version": "3.9.7"
  }
 },
 "nbformat": 4,
 "nbformat_minor": 5
}
