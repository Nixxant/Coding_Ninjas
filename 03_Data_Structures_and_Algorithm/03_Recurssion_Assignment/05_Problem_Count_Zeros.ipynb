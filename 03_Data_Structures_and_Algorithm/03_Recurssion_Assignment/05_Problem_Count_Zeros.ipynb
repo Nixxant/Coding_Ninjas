{
 "cells": [
  {
   "cell_type": "markdown",
   "id": "57c8621f",
   "metadata": {},
   "source": [
    "Given an integer N, count and return the number of zeros that are present in the given integer using recursion.\n",
    "\n",
    "Input Format :\n",
    "\n",
    "Integer N\n",
    "\n",
    "Output Format :\n",
    "\n",
    "Number of zeros in N\n",
    "\n",
    "Constraints :\n",
    "\n",
    "0 <= N <= 10^9\n",
    "\n",
    "Sample Input 1 :\n",
    "\n",
    "0\n",
    "\n",
    "Sample Output 1 :\n",
    "\n",
    "1\n",
    "\n",
    "Sample Input 2 :\n",
    "\n",
    "00010204\n",
    "\n",
    "Sample Output 2 :\n",
    "\n",
    "2\n",
    "\n",
    "Explanation for Sample Output 2 :\n",
    "\n",
    "Even though \"00010204\" has 5 zeros, the output would still be 2 because when you convert it to an integer, it becomes \n",
    "10204.\n",
    "\n",
    "Sample Input 3 :\n",
    "\n",
    "708000\n",
    "\n",
    "Sample Output 3 :\n",
    "\n",
    "4\n"
   ]
  },
  {
   "cell_type": "code",
   "execution_count": null,
   "id": "9e9aa02c",
   "metadata": {},
   "outputs": [],
   "source": [
    "from math import *\n",
    "from collections import *\n",
    "from sys import *\n",
    "from os import *\n",
    "\n",
    "## Read input as specified in the question.\n",
    "## Print output as specified in the question.\n",
    "\n",
    "def is_zero(n):\n",
    "    if n == 0:\n",
    "        return True\n",
    "def count_zero(n):\n",
    "    if n == 0:\n",
    "        return 0\n",
    "    if n > 0:\n",
    "        if n%10 == 0:\n",
    "            return 1 + count_zero(n//10)\n",
    "        return count_zero(n//10)\n",
    "n = int(input())\n",
    "if is_zero(n):\n",
    "    print(1)\n",
    "else:\n",
    "    print(count_zero(n))\n"
   ]
  }
 ],
 "metadata": {
  "kernelspec": {
   "display_name": "Python 3 (ipykernel)",
   "language": "python",
   "name": "python3"
  },
  "language_info": {
   "codemirror_mode": {
    "name": "ipython",
    "version": 3
   },
   "file_extension": ".py",
   "mimetype": "text/x-python",
   "name": "python",
   "nbconvert_exporter": "python",
   "pygments_lexer": "ipython3",
   "version": "3.9.7"
  }
 },
 "nbformat": 4,
 "nbformat_minor": 5
}
