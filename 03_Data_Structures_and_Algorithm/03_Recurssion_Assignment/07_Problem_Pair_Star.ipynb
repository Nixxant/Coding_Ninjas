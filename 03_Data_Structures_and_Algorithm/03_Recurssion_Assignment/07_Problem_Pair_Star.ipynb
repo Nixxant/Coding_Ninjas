{
 "cells": [
  {
   "cell_type": "markdown",
   "id": "d7c060d9",
   "metadata": {},
   "source": [
    "Given a string S, compute recursively a new string where identical chars that are adjacent in the original string are separated from each other by a \"*\".\n",
    "Input format :\n",
    "String S\n",
    "Output format :\n",
    "Modified string\n",
    "Constraints :\n",
    "0 <= |S| <= 1000\n",
    "where |S| represents length of string S.\n",
    "Sample Input 1 :\n",
    "hello\n",
    "Sample Output 1:\n",
    "hel*lo\n",
    "Sample Input 2 :\n",
    "aaaa\n",
    "Sample Output 2 :\n",
    "a*a*a*a"
   ]
  },
  {
   "cell_type": "code",
   "execution_count": 4,
   "id": "8eef4ca8",
   "metadata": {},
   "outputs": [
    {
     "name": "stdout",
     "output_type": "stream",
     "text": [
      "scatter\n",
      "scat*ter\n"
     ]
    }
   ],
   "source": [
    "def pair_star(s):\n",
    "    if len(s) == 1:\n",
    "        return s\n",
    "    if s[0] == s[1]:\n",
    "        return s[0] + \"*\" + pair_star(s[1:])\n",
    "    else:\n",
    "        return s[0]+pair_star(s[1:])\n",
    "\n",
    "s = str(input())\n",
    "print(pair_star(s))"
   ]
  },
  {
   "cell_type": "code",
   "execution_count": null,
   "id": "f26d8983",
   "metadata": {},
   "outputs": [],
   "source": []
  }
 ],
 "metadata": {
  "kernelspec": {
   "display_name": "Python 3 (ipykernel)",
   "language": "python",
   "name": "python3"
  },
  "language_info": {
   "codemirror_mode": {
    "name": "ipython",
    "version": 3
   },
   "file_extension": ".py",
   "mimetype": "text/x-python",
   "name": "python",
   "nbconvert_exporter": "python",
   "pygments_lexer": "ipython3",
   "version": "3.9.7"
  }
 },
 "nbformat": 4,
 "nbformat_minor": 5
}
