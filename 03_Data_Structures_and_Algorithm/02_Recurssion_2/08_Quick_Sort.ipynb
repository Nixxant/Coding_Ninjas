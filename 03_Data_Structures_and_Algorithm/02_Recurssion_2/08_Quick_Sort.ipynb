{
 "cells": [
  {
   "cell_type": "code",
   "execution_count": 14,
   "id": "176ee1c3",
   "metadata": {},
   "outputs": [],
   "source": [
    "def partition(arr, start, end):\n",
    "\n",
    "    pivot = arr[start]\n",
    "    count = 0\n",
    "    \n",
    "    for i in range(start, end+1):\n",
    "        if arr[i]< pivot:\n",
    "            count += 1\n",
    "    \n",
    "    arr[start + count], arr[start] = arr[start], arr[start + count]\n",
    "    pivot_index = start + count\n",
    "    \n",
    "    i = start\n",
    "    j = end\n",
    "    while i < j:\n",
    "        if arr[i] < pivot:\n",
    "            i += 1\n",
    "        elif arr[j] >= pivot:\n",
    "            j -= 1\n",
    "        else:\n",
    "            arr[i], arr[j] = arr[j], arr[i]\n",
    "            i += 1\n",
    "            j -= 1\n",
    "    return pivot_index\n",
    "    \n",
    "    "
   ]
  },
  {
   "cell_type": "code",
   "execution_count": 15,
   "id": "2f770b8f",
   "metadata": {},
   "outputs": [],
   "source": [
    "def quick_sort(arr, start, end ):\n",
    "    if start >= end:\n",
    "        return\n",
    "    pivot_index = partition(arr, start, end)\n",
    "    quick_sort(arr, start, pivot_index-1)\n",
    "    quick_sort(arr, pivot_index + 1, end)\n",
    "    "
   ]
  },
  {
   "cell_type": "code",
   "execution_count": 16,
   "id": "c82b2e9f",
   "metadata": {},
   "outputs": [
    {
     "data": {
      "text/plain": [
       "[0, 1, 2, 4, 5, 6, 7, 8, 9]"
      ]
     },
     "execution_count": 16,
     "metadata": {},
     "output_type": "execute_result"
    }
   ],
   "source": [
    "a = [4,2,7,5,9,8,6,1,0]\n",
    "quick_sort(a,0,8)\n",
    "a"
   ]
  },
  {
   "cell_type": "code",
   "execution_count": null,
   "id": "2da00421",
   "metadata": {},
   "outputs": [],
   "source": []
  }
 ],
 "metadata": {
  "kernelspec": {
   "display_name": "Python 3 (ipykernel)",
   "language": "python",
   "name": "python3"
  },
  "language_info": {
   "codemirror_mode": {
    "name": "ipython",
    "version": 3
   },
   "file_extension": ".py",
   "mimetype": "text/x-python",
   "name": "python",
   "nbconvert_exporter": "python",
   "pygments_lexer": "ipython3",
   "version": "3.9.7"
  }
 },
 "nbformat": 4,
 "nbformat_minor": 5
}
