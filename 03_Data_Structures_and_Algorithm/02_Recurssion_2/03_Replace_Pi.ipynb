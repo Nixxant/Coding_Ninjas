{
 "cells": [
  {
   "cell_type": "code",
   "execution_count": 5,
   "id": "8087a91a",
   "metadata": {},
   "outputs": [],
   "source": [
    "def replacePi(s):\n",
    "    if len(s) == 0:\n",
    "        return s\n",
    "    if s[0] == \"P\" and s[1] == 'i':\n",
    "        return \"3.14\"+replacePi(s[2:])\n",
    "    else:\n",
    "        return s[0]+replacePi(s[1:])"
   ]
  },
  {
   "cell_type": "code",
   "execution_count": 6,
   "id": "c1ed94a5",
   "metadata": {},
   "outputs": [
    {
     "name": "stdout",
     "output_type": "stream",
     "text": [
      "abcd3.143.14453.14\n"
     ]
    }
   ],
   "source": [
    "s = 'abcdPiPi45Pi'\n",
    "print(replacePi(s))"
   ]
  },
  {
   "cell_type": "code",
   "execution_count": null,
   "id": "eef6e550",
   "metadata": {},
   "outputs": [],
   "source": []
  }
 ],
 "metadata": {
  "kernelspec": {
   "display_name": "Python 3 (ipykernel)",
   "language": "python",
   "name": "python3"
  },
  "language_info": {
   "codemirror_mode": {
    "name": "ipython",
    "version": 3
   },
   "file_extension": ".py",
   "mimetype": "text/x-python",
   "name": "python",
   "nbconvert_exporter": "python",
   "pygments_lexer": "ipython3",
   "version": "3.9.7"
  }
 },
 "nbformat": 4,
 "nbformat_minor": 5
}
