{
 "cells": [
  {
   "cell_type": "markdown",
   "id": "7f9aeece",
   "metadata": {},
   "source": [
    "Tower of Hanoi is a mathematical puzzle where we have three rods and n disks. The objective of the puzzle is to move all disks from source rod to destination rod using third rod (say auxiliary). The rules are :\n",
    "\n",
    "1) Only one disk can be moved at a time.\n",
    "\n",
    "2) A disk can be moved only if it is on the top of a rod.\n",
    "\n",
    "3) No disk can be placed on the top of a smaller disk.\n",
    "\n",
    "Print the steps required to move n disks from source rod to destination rod.\n",
    "\n",
    "Source Rod is named as 'a', auxiliary rod as 'b' and destination rod as 'c'.\n",
    "\n",
    "Input Format :\n",
    "\n",
    "Integer n\n",
    "\n",
    "Output Format :\n",
    "\n",
    "Steps in different lines (in one line print source and destination rod name separated by space)\n",
    "\n",
    "Constraints :\n",
    "\n",
    "0 <= n <= 20\n",
    "\n",
    "Sample Input 1 :\n",
    "\n",
    "2\n",
    "\n",
    "Sample Output 1 :\n",
    "\n",
    "a b\n",
    "\n",
    "a c\n",
    "\n",
    "b c\n",
    "\n",
    "Sample Input 2 :\n",
    "\n",
    "3\n",
    "\n",
    "Sample Output 2 :\n",
    "\n",
    "a c\n",
    "\n",
    "a b\n",
    "\n",
    "c b\n",
    "\n",
    "a c\n",
    "\n",
    "b a\n",
    "\n",
    "b c\n",
    "\n",
    "a c\n"
   ]
  },
  {
   "cell_type": "code",
   "execution_count": null,
   "id": "ee6472f3",
   "metadata": {},
   "outputs": [],
   "source": [
    "def towerofhanoi(n, source, aux, dest):\n",
    "    if n == 0:\n",
    "        return\n",
    "    # Please add your code here\n",
    "    if n == 1:\n",
    "        print(source, dest)\n",
    "        return\n",
    "    towerofhanoi(n-1,source,dest,aux)\n",
    "    print(source, dest)\n",
    "    towerofhanoi(n-1,aux, source, dest)\n",
    "\n",
    "n=int(input())\n",
    "towerofhanoi(n, 'a', 'b', 'c')"
   ]
  }
 ],
 "metadata": {
  "kernelspec": {
   "display_name": "Python 3 (ipykernel)",
   "language": "python",
   "name": "python3"
  },
  "language_info": {
   "codemirror_mode": {
    "name": "ipython",
    "version": 3
   },
   "file_extension": ".py",
   "mimetype": "text/x-python",
   "name": "python",
   "nbconvert_exporter": "python",
   "pygments_lexer": "ipython3",
   "version": "3.9.7"
  }
 },
 "nbformat": 4,
 "nbformat_minor": 5
}
