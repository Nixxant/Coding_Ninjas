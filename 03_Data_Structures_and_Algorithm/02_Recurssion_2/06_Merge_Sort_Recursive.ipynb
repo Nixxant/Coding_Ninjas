{
 "cells": [
  {
   "cell_type": "code",
   "execution_count": 5,
   "id": "2022a193",
   "metadata": {},
   "outputs": [],
   "source": [
    "def merge(arr1,arr2,arr):\n",
    "    i = 0\n",
    "    j = 0\n",
    "    k = 0\n",
    "    while i < len(arr1) and j < len(arr2):\n",
    "        if arr1[i] < arr2[j]:\n",
    "            arr[k] = arr1[i]\n",
    "            k+=1\n",
    "            i+=1\n",
    "        else:\n",
    "            arr[k] = arr2[j]\n",
    "            j += 1\n",
    "            k += 1\n",
    "    while i < len(arr1):\n",
    "        arr[k] = arr1[i]\n",
    "        k+=1\n",
    "        i+=1\n",
    "    while j < len(arr2):\n",
    "        arr[k] = arr2[j]\n",
    "        j += 1\n",
    "        k += 1\n",
    "            \n",
    "\n",
    "\n",
    "def merge_sort(arr):\n",
    "    if len(arr) == 0 or len(arr)==1:\n",
    "        return\n",
    "    mid = len(arr)//2\n",
    "    arr1 = arr[:mid]\n",
    "    arr2 = arr[mid:]\n",
    "    \n",
    "    merge_sort(arr1)\n",
    "    merge_sort(arr2)\n",
    "    merge(arr1,arr2,arr)\n",
    "    \n",
    "    "
   ]
  },
  {
   "cell_type": "code",
   "execution_count": 6,
   "id": "3ffe8bc9",
   "metadata": {},
   "outputs": [
    {
     "name": "stdout",
     "output_type": "stream",
     "text": [
      "[1, 2, 3, 4, 5, 6, 8, 9]\n"
     ]
    }
   ],
   "source": [
    "arr = [6,1,2,8,9,4,3,5]\n",
    "merge_sort(arr)\n",
    "print(arr)"
   ]
  },
  {
   "cell_type": "code",
   "execution_count": null,
   "id": "9951a562",
   "metadata": {},
   "outputs": [],
   "source": []
  }
 ],
 "metadata": {
  "kernelspec": {
   "display_name": "Python 3 (ipykernel)",
   "language": "python",
   "name": "python3"
  },
  "language_info": {
   "codemirror_mode": {
    "name": "ipython",
    "version": 3
   },
   "file_extension": ".py",
   "mimetype": "text/x-python",
   "name": "python",
   "nbconvert_exporter": "python",
   "pygments_lexer": "ipython3",
   "version": "3.9.7"
  }
 },
 "nbformat": 4,
 "nbformat_minor": 5
}
