{
 "cells": [
  {
   "cell_type": "code",
   "execution_count": 1,
   "id": "00e3138b",
   "metadata": {},
   "outputs": [
    {
     "data": {
      "text/plain": [
       "'xx'"
      ]
     },
     "execution_count": 1,
     "metadata": {},
     "output_type": "execute_result"
    }
   ],
   "source": [
    "def replaceChar(s,a,b):\n",
    "    if len(s)==0:\n",
    "        return s\n",
    "    smallOutput=replaceChar(s[1:],a,b)\n",
    "    if s[0]==a:\n",
    "        return b+smallOutput\n",
    "    else:\n",
    "        return s[0]+smallOutput\n",
    "\n",
    "replaceChar(\"cc\",'c','x')"
   ]
  },
  {
   "cell_type": "code",
   "execution_count": null,
   "id": "4a3a90d1",
   "metadata": {},
   "outputs": [],
   "source": []
  }
 ],
 "metadata": {
  "kernelspec": {
   "display_name": "Python 3 (ipykernel)",
   "language": "python",
   "name": "python3"
  },
  "language_info": {
   "codemirror_mode": {
    "name": "ipython",
    "version": 3
   },
   "file_extension": ".py",
   "mimetype": "text/x-python",
   "name": "python",
   "nbconvert_exporter": "python",
   "pygments_lexer": "ipython3",
   "version": "3.9.7"
  }
 },
 "nbformat": 4,
 "nbformat_minor": 5
}
