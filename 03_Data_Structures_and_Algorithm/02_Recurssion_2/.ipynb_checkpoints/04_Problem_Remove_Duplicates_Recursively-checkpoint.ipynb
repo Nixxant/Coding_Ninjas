{
 "cells": [
  {
   "cell_type": "markdown",
   "id": "263de396",
   "metadata": {},
   "source": [
    "Given a string S, remove consecutive duplicates from it recursively.\n",
    "\n",
    "Input Format :\n",
    "\n",
    "String S\n",
    "\n",
    "Output Format :\n",
    "\n",
    "Output string\n",
    "\n",
    "Constraints :\n",
    "\n",
    "1 <= |S| <= 10^3\n",
    "\n",
    "where |S| represents the length of string\n",
    "\n",
    "Sample Input 1 :\n",
    "\n",
    "aabccba\n",
    "\n",
    "Sample Output 1 :\n",
    "\n",
    "abcba\n",
    "\n",
    "Sample Input 2 :\n",
    "\n",
    "xxxyyyzwwzzz\n",
    "\n",
    "Sample Output 2 :\n",
    "\n",
    "xyzwz"
   ]
  },
  {
   "cell_type": "code",
   "execution_count": null,
   "id": "ebdc3c39",
   "metadata": {},
   "outputs": [],
   "source": [
    "# Problem ID 91, removeConsecutiveDuplicates\n",
    "def removeConsecutiveDuplicates(string):\n",
    "    # Please add your code here\n",
    "    if len(string) == 0:\n",
    "        return string\n",
    "    if string[0] == string[1]:\n",
    "        return  removeConsecutiveDuplicates(string[1:])\n",
    "    else:\n",
    "        return string[0] + removeConsecutiveDuplicates(string[1:])\n",
    "\n",
    "# Main\n",
    "string = input().strip()\n",
    "print(removeConsecutiveDuplicates(string))\n"
   ]
  }
 ],
 "metadata": {
  "kernelspec": {
   "display_name": "Python 3 (ipykernel)",
   "language": "python",
   "name": "python3"
  },
  "language_info": {
   "codemirror_mode": {
    "name": "ipython",
    "version": 3
   },
   "file_extension": ".py",
   "mimetype": "text/x-python",
   "name": "python",
   "nbconvert_exporter": "python",
   "pygments_lexer": "ipython3",
   "version": "3.9.7"
  }
 },
 "nbformat": 4,
 "nbformat_minor": 5
}
