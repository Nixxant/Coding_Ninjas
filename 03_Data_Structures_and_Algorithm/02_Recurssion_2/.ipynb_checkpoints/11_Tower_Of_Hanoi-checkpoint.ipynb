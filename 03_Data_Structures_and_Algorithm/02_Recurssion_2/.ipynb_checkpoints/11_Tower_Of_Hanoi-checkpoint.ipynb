{
 "cells": [
  {
   "cell_type": "code",
   "execution_count": null,
   "id": "132a4365",
   "metadata": {},
   "outputs": [],
   "source": [
    "def toh(n , a, b, c):\n",
    "    if n == 1:\n",
    "        print(\"Move first disk from a to c\")\n",
    "        return\n",
    "    toh(n-1,a, c, b)\n",
    "    print(\"Move\", n, \"disk from a to c\")\n",
    "    toh(n-1, b, a, c)\n",
    "    "
   ]
  }
 ],
 "metadata": {
  "kernelspec": {
   "display_name": "Python 3 (ipykernel)",
   "language": "python",
   "name": "python3"
  },
  "language_info": {
   "codemirror_mode": {
    "name": "ipython",
    "version": 3
   },
   "file_extension": ".py",
   "mimetype": "text/x-python",
   "name": "python",
   "nbconvert_exporter": "python",
   "pygments_lexer": "ipython3",
   "version": "3.9.7"
  }
 },
 "nbformat": 4,
 "nbformat_minor": 5
}
