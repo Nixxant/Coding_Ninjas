{
 "cells": [
  {
   "cell_type": "markdown",
   "id": "a64bc51e",
   "metadata": {},
   "source": [
    "\n",
    "Given a string, compute recursively a new string where all 'x' chars have been removed.\n",
    "\n",
    "Input format :\n",
    "\n",
    "String S\n",
    "\n",
    "Output format :\n",
    "\n",
    "Modified String\n",
    "\n",
    "Constraints :\n",
    "\n",
    "1 <= |S| <= 10^3\n",
    "\n",
    "where |S| represents the length of string S. \n",
    "\n",
    "Sample Input 1 :\n",
    "\n",
    "xaxb\n",
    "\n",
    "\n",
    "Sample Output 1:\n",
    "\n",
    "ab\n",
    "\n",
    "Sample Input 2 :\n",
    "\n",
    "abc\n",
    "\n",
    "Sample Output 2:\n",
    "\n",
    "abc\n",
    "\n",
    "Sample Input 3 :\n",
    "\n",
    "xx\n",
    "\n",
    "Sample Output 3:\n",
    "\n"
   ]
  },
  {
   "cell_type": "code",
   "execution_count": null,
   "id": "e3952d39",
   "metadata": {},
   "outputs": [],
   "source": [
    "def removeX(string): \n",
    "    if len(string) == 0:\n",
    "        return string\n",
    "    if string[0] == \"x\":\n",
    "        return \"\"+removeX(string[1:])\n",
    "    else:\n",
    "        return string[0] + removeX(string[1:])\n",
    "\n",
    "# Main\n",
    "string = input()\n",
    "print(removeX(string))"
   ]
  }
 ],
 "metadata": {
  "kernelspec": {
   "display_name": "Python 3 (ipykernel)",
   "language": "python",
   "name": "python3"
  },
  "language_info": {
   "codemirror_mode": {
    "name": "ipython",
    "version": 3
   },
   "file_extension": ".py",
   "mimetype": "text/x-python",
   "name": "python",
   "nbconvert_exporter": "python",
   "pygments_lexer": "ipython3",
   "version": "3.9.7"
  }
 },
 "nbformat": 4,
 "nbformat_minor": 5
}
