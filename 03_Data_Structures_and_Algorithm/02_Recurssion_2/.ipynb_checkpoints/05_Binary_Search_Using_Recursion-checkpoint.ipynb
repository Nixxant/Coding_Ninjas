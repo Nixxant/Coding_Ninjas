{
 "cells": [
  {
   "cell_type": "code",
   "execution_count": 30,
   "id": "777f104d",
   "metadata": {},
   "outputs": [],
   "source": [
    "def binary_search(arr,x,start=0,end=len(arr)-1):\n",
    "    if start > end:\n",
    "        return -1\n",
    "    mid = (start+end)//2\n",
    "    if x == arr[mid]:\n",
    "        return mid\n",
    "    if x < arr[mid]:\n",
    "        return binary_search(arr,x,start,mid)\n",
    "    if x > arr[mid]:\n",
    "        return binary_search(arr,x,mid+1,end)\n",
    "\n"
   ]
  },
  {
   "cell_type": "code",
   "execution_count": 35,
   "id": "349a78a5",
   "metadata": {},
   "outputs": [
    {
     "name": "stdout",
     "output_type": "stream",
     "text": [
      "3\n"
     ]
    }
   ],
   "source": [
    "x = 4\n",
    "arr = [1,2,3,4,5,6,7,8,9,10]\n",
    "print(binary_search(arr,x))"
   ]
  },
  {
   "cell_type": "code",
   "execution_count": null,
   "id": "3bee7445",
   "metadata": {},
   "outputs": [],
   "source": []
  }
 ],
 "metadata": {
  "kernelspec": {
   "display_name": "Python 3 (ipykernel)",
   "language": "python",
   "name": "python3"
  },
  "language_info": {
   "codemirror_mode": {
    "name": "ipython",
    "version": 3
   },
   "file_extension": ".py",
   "mimetype": "text/x-python",
   "name": "python",
   "nbconvert_exporter": "python",
   "pygments_lexer": "ipython3",
   "version": "3.9.7"
  }
 },
 "nbformat": 4,
 "nbformat_minor": 5
}
