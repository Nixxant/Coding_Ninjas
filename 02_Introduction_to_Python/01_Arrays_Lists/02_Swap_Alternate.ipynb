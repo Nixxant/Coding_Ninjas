{
 "cells": [
  {
   "cell_type": "markdown",
   "id": "3e8af49a",
   "metadata": {},
   "source": [
    "You have been given an array/list(ARR) of size N. You need to swap every pair of alternate elements in the array/list.\n",
    "You don't need to print or return anything, just change in the input array itself.\n",
    "\n",
    "\n",
    "Input Format :\n",
    "The first line contains an Integer 't' which denotes the number of test cases or queries to be run. Then the test cases follow.\n",
    "\n",
    "First line of each test case or query contains an integer 'N' representing the size of the array/list.\n",
    "\n",
    "Second line contains 'N' single space separated integers representing the elements in the array/list.\n",
    "\n",
    "\n",
    "Output Format :\n",
    "For each test case, print the elements of the resulting array in a single row separated by a single space.\n",
    "\n",
    "Output for every test case will be printed in a separate line.\n",
    "Constraints :\n",
    "1 <= t <= 10^2\n",
    "0 <= N <= 10^5\n",
    "Time Limit: 1sec\n",
    "Sample Input 1:\n",
    "1\n",
    "6\n",
    "9 3 6 12 4 32\n",
    "Sample Output 1 :\n",
    "3 9 12 6 32 4\n",
    "\n",
    "\n",
    "Sample Input 2:\n",
    "2\n",
    "9\n",
    "9 3 6 12 4 32 5 11 19\n",
    "4\n",
    "1 2 3 4\n",
    "Sample Output 2 :\n",
    "3 9 12 6 32 4 11 5 19 \n",
    "2 1 4 3 "
   ]
  },
  {
   "cell_type": "code",
   "execution_count": 6,
   "id": "109e817d",
   "metadata": {},
   "outputs": [
    {
     "name": "stdout",
     "output_type": "stream",
     "text": [
      "10\n",
      "1 2 3 4 5 6 7 8 9 10\n",
      "[2, 1, 4, 3, 6, 5, 8, 7, 10, 9]\n"
     ]
    }
   ],
   "source": [
    "n = int(input())\n",
    "li = [int(x) for x in input().split()]\n",
    "a = []\n",
    "for i in range(0,n,2):\n",
    "    li[i], li[i+1] = li[i+1],li[i]\n",
    "print(li)"
   ]
  },
  {
   "cell_type": "code",
   "execution_count": null,
   "id": "ab05a6b0",
   "metadata": {},
   "outputs": [],
   "source": []
  }
 ],
 "metadata": {
  "kernelspec": {
   "display_name": "Python 3 (ipykernel)",
   "language": "python",
   "name": "python3"
  },
  "language_info": {
   "codemirror_mode": {
    "name": "ipython",
    "version": 3
   },
   "file_extension": ".py",
   "mimetype": "text/x-python",
   "name": "python",
   "nbconvert_exporter": "python",
   "pygments_lexer": "ipython3",
   "version": "3.9.7"
  }
 },
 "nbformat": 4,
 "nbformat_minor": 5
}
