{
 "cells": [
  {
   "cell_type": "markdown",
   "id": "2a18b3dc",
   "metadata": {},
   "source": [
    "For example, if the array is as follows: [1, 2, 2, 3, 3, 3, 4, 8, 9, 19, 19, 19]\n",
    "\n",
    "\n",
    "Try writing the code for the following two cases.\n",
    "\n",
    "1. Finding first occurrence of the given number.\n",
    "\n",
    "2. Finding the last occurrence of the given number.\n"
   ]
  },
  {
   "cell_type": "code",
   "execution_count": 6,
   "id": "8de13924",
   "metadata": {},
   "outputs": [
    {
     "name": "stdout",
     "output_type": "stream",
     "text": [
      "10\n"
     ]
    }
   ],
   "source": [
    "def binary_search_f(A,n,x):\n",
    "    start = 0\n",
    "    end = n-1\n",
    "    if start <= end:\n",
    "        for i in range(n):\n",
    "            mid = (start+end)//2\n",
    "            if x > A[mid]:\n",
    "                start = mid + 1\n",
    "            elif x < A[mid]:\n",
    "                end = mid - 1\n",
    "            elif x == A[mid]:\n",
    "                if i < mid:\n",
    "                    mid = i\n",
    "            else:\n",
    "                return None\n",
    "    return mid\n",
    "A = [1, 2, 2, 3, 3, 3, 4, 8, 9, 19, 19, 19]\n",
    "n = len(A)\n",
    "x = 19\n",
    "print(binary_search_f(A,n,x))\n"
   ]
  },
  {
   "cell_type": "code",
   "execution_count": null,
   "id": "c5a42acb",
   "metadata": {},
   "outputs": [],
   "source": []
  }
 ],
 "metadata": {
  "kernelspec": {
   "display_name": "Python 3 (ipykernel)",
   "language": "python",
   "name": "python3"
  },
  "language_info": {
   "codemirror_mode": {
    "name": "ipython",
    "version": 3
   },
   "file_extension": ".py",
   "mimetype": "text/x-python",
   "name": "python",
   "nbconvert_exporter": "python",
   "pygments_lexer": "ipython3",
   "version": "3.9.7"
  }
 },
 "nbformat": 4,
 "nbformat_minor": 5
}
