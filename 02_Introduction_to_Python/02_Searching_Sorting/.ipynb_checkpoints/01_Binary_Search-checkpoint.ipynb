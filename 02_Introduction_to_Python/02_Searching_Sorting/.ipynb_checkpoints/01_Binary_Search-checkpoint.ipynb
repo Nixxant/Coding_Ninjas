{
 "cells": [
  {
   "cell_type": "code",
   "execution_count": 13,
   "id": "0d155a7a",
   "metadata": {},
   "outputs": [
    {
     "name": "stdout",
     "output_type": "stream",
     "text": [
      "1\n"
     ]
    }
   ],
   "source": [
    "def binary_search(A,n,x):\n",
    "    start = 0\n",
    "    end = n - 1\n",
    "    \n",
    "    if start <= end:\n",
    "        \n",
    "        for i in range(0,n-1):\n",
    "            mid = (start+end)//2\n",
    "            if A[mid] < x:\n",
    "                start = mid + 1\n",
    "            elif A[mid] > x:\n",
    "                end = mid - 1\n",
    "            elif A[mid] == x:\n",
    "                return mid\n",
    "            else:\n",
    "                return None\n",
    "A = [1,2,3,4,5,6,7,8,9]\n",
    "n = 9\n",
    "x = 2\n",
    "print(binary_search(A,n,x))\n",
    "        "
   ]
  },
  {
   "cell_type": "code",
   "execution_count": null,
   "id": "f19f7b78",
   "metadata": {},
   "outputs": [],
   "source": []
  }
 ],
 "metadata": {
  "kernelspec": {
   "display_name": "Python 3 (ipykernel)",
   "language": "python",
   "name": "python3"
  },
  "language_info": {
   "codemirror_mode": {
    "name": "ipython",
    "version": 3
   },
   "file_extension": ".py",
   "mimetype": "text/x-python",
   "name": "python",
   "nbconvert_exporter": "python",
   "pygments_lexer": "ipython3",
   "version": "3.9.7"
  }
 },
 "nbformat": 4,
 "nbformat_minor": 5
}
