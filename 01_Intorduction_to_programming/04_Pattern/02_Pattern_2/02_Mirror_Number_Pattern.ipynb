{
 "cells": [
  {
   "cell_type": "code",
   "execution_count": null,
   "id": "39d9fe07",
   "metadata": {},
   "outputs": [],
   "source": [
    "N = int(input())\n",
    "0 <= N <= 50\n",
    "i = 1\n",
    "while i <= N:\n",
    "    spaces = 1\n",
    "    while spaces <= N-i:\n",
    "        print(\" \", end = \"\")\n",
    "        spaces = spaces + 1\n",
    "    stars = 1\n",
    "    while stars <= i:\n",
    "        print( stars, end = \"\")\n",
    "        stars = stars + 1\n",
    "    print()\n",
    "    i = i + 1"
   ]
  }
 ],
 "metadata": {
  "kernelspec": {
   "display_name": "Python 3 (ipykernel)",
   "language": "python",
   "name": "python3"
  },
  "language_info": {
   "codemirror_mode": {
    "name": "ipython",
    "version": 3
   },
   "file_extension": ".py",
   "mimetype": "text/x-python",
   "name": "python",
   "nbconvert_exporter": "python",
   "pygments_lexer": "ipython3",
   "version": "3.9.7"
  }
 },
 "nbformat": 4,
 "nbformat_minor": 5
}
