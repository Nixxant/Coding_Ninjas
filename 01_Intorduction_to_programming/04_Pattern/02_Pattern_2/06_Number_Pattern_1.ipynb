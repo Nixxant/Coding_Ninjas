{
 "cells": [
  {
   "cell_type": "code",
   "execution_count": null,
   "id": "ebb8c3fe",
   "metadata": {},
   "outputs": [],
   "source": [
    "N = int(input())\n",
    "i = 1\n",
    "while i <= N:\n",
    "    first = 1\n",
    "    while first <= i:\n",
    "        print (first, end = \"\")\n",
    "        first += 1\n",
    "    gap = 1\n",
    "    while gap <= N - i:\n",
    "        print(\" \"*2, end = \"\")\n",
    "        gap = gap + 1\n",
    "    second = 1\n",
    "    while second <= i:\n",
    "        print(i - second + 1, end = \"\")\n",
    "        second += 1\n",
    "    print()\n",
    "    i = i + 1"
   ]
  }
 ],
 "metadata": {
  "kernelspec": {
   "display_name": "Python 3 (ipykernel)",
   "language": "python",
   "name": "python3"
  },
  "language_info": {
   "codemirror_mode": {
    "name": "ipython",
    "version": 3
   },
   "file_extension": ".py",
   "mimetype": "text/x-python",
   "name": "python",
   "nbconvert_exporter": "python",
   "pygments_lexer": "ipython3",
   "version": "3.9.7"
  }
 },
 "nbformat": 4,
 "nbformat_minor": 5
}
