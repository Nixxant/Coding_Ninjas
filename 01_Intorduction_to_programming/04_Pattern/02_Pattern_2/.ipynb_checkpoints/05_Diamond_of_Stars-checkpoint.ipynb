{
 "cells": [
  {
   "cell_type": "code",
   "execution_count": null,
   "id": "828e8c53",
   "metadata": {},
   "outputs": [],
   "source": [
    "N = int(input())\n",
    "i = 1\n",
    "N = N // 2 + 1\n",
    "while i <= N  :\n",
    "    space = 1\n",
    "    while space <= N - i:\n",
    "        print(\" \", end = \"\")\n",
    "        space = space + 1\n",
    "    j = 1\n",
    "    while j <= i:\n",
    "        print(\"*\", end = \"\")\n",
    "        j = j + 1\n",
    "    k = 1\n",
    "    while k < i:\n",
    "        print(\"*\", end=\"\")\n",
    "        k = k + 1\n",
    "    print()\n",
    "    next_space = 1\n",
    "    i = i + 1\n",
    "i = 1\n",
    "while i <= N :\n",
    "    space = 1\n",
    "    while space <= i:\n",
    "        print(\" \", end = \"\")\n",
    "        space = space + 1\n",
    "    j = N\n",
    "    while j > i:\n",
    "        print(\"*\", end = \"\")\n",
    "        j = j - 1\n",
    "    k = N - 1\n",
    "    while k > i:\n",
    "        print(\"*\", end = \"\")\n",
    "        k = k - 1\n",
    "    print()\n",
    "    i = i + 1"
   ]
  }
 ],
 "metadata": {
  "kernelspec": {
   "display_name": "Python 3 (ipykernel)",
   "language": "python",
   "name": "python3"
  },
  "language_info": {
   "codemirror_mode": {
    "name": "ipython",
    "version": 3
   },
   "file_extension": ".py",
   "mimetype": "text/x-python",
   "name": "python",
   "nbconvert_exporter": "python",
   "pygments_lexer": "ipython3",
   "version": "3.9.7"
  }
 },
 "nbformat": 4,
 "nbformat_minor": 5
}
