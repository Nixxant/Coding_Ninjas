{
 "cells": [
  {
   "cell_type": "code",
   "execution_count": null,
   "id": "54ceae4e",
   "metadata": {},
   "outputs": [],
   "source": [
    "N = int(input())\n",
    "N = N + 1\n",
    "for i in range(1, N):\n",
    "    for j in range(1, 2*N):\n",
    "        if(i == j or j == N or i == 2*N-j):\n",
    "           print(\"*\", end=\"\")\n",
    "        else:\n",
    "           print( \"0\", end=\"\")\n",
    "    print()"
   ]
  }
 ],
 "metadata": {
  "kernelspec": {
   "display_name": "Python 3 (ipykernel)",
   "language": "python",
   "name": "python3"
  },
  "language_info": {
   "codemirror_mode": {
    "name": "ipython",
    "version": 3
   },
   "file_extension": ".py",
   "mimetype": "text/x-python",
   "name": "python",
   "nbconvert_exporter": "python",
   "pygments_lexer": "ipython3",
   "version": "3.9.7"
  }
 },
 "nbformat": 4,
 "nbformat_minor": 5
}
