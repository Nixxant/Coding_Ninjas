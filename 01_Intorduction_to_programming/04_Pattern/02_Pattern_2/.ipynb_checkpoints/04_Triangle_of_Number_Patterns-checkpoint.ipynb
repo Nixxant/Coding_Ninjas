{
 "cells": [
  {
   "cell_type": "code",
   "execution_count": null,
   "id": "01eaf6ee",
   "metadata": {},
   "outputs": [],
   "source": [
    "N = int(input())\n",
    "i = 1\n",
    "\n",
    "\n",
    "while i <= N:\n",
    "    space = 1\n",
    "    while space <= N - i:\n",
    "        print(\" \", end = \"\")\n",
    "        space = space + 1\n",
    "    j = 1\n",
    "    p = 1\n",
    "    while j <= i:\n",
    "        print(p + i -1, end = \"\")\n",
    "        j = j + 1\n",
    "        p = p + 1\n",
    "    k = i - 1\n",
    "    while k >= 1:\n",
    "        print(k+i-1,end='')\n",
    "        k = k -1\n",
    "    print()\n",
    "    i = i + 1"
   ]
  }
 ],
 "metadata": {
  "kernelspec": {
   "display_name": "Python 3 (ipykernel)",
   "language": "python",
   "name": "python3"
  },
  "language_info": {
   "codemirror_mode": {
    "name": "ipython",
    "version": 3
   },
   "file_extension": ".py",
   "mimetype": "text/x-python",
   "name": "python",
   "nbconvert_exporter": "python",
   "pygments_lexer": "ipython3",
   "version": "3.9.7"
  }
 },
 "nbformat": 4,
 "nbformat_minor": 5
}
