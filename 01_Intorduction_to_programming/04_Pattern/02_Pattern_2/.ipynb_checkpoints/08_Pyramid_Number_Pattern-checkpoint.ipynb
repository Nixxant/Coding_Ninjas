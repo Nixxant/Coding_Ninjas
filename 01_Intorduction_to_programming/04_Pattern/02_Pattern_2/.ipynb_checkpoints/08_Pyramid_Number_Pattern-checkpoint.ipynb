{
 "cells": [
  {
   "cell_type": "code",
   "execution_count": null,
   "id": "2d549ef9",
   "metadata": {},
   "outputs": [],
   "source": [
    "N = int(input())\n",
    "\n",
    "i = 1\n",
    "while i <= N:\n",
    "    space = 1\n",
    "    while space <= N-i:\n",
    "        print(\" \", end = \"\")\n",
    "        space = space + 1\n",
    "    j = 1\n",
    "    while j <= i:\n",
    "        print(i - j + 1, end = \"\")\n",
    "        j = j + 1\n",
    "    temp = i - 1\n",
    "    while temp >= 1:\n",
    "        print(i - temp + 1,end = \"\")\n",
    "        temp = temp - 1\n",
    "    print()\n",
    "    i = i + 1"
   ]
  }
 ],
 "metadata": {
  "kernelspec": {
   "display_name": "Python 3 (ipykernel)",
   "language": "python",
   "name": "python3"
  },
  "language_info": {
   "codemirror_mode": {
    "name": "ipython",
    "version": 3
   },
   "file_extension": ".py",
   "mimetype": "text/x-python",
   "name": "python",
   "nbconvert_exporter": "python",
   "pygments_lexer": "ipython3",
   "version": "3.9.7"
  }
 },
 "nbformat": 4,
 "nbformat_minor": 5
}
