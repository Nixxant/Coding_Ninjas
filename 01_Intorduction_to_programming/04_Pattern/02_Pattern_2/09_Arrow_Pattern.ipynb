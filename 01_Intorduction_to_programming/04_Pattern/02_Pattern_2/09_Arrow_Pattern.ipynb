{
 "cells": [
  {
   "cell_type": "code",
   "execution_count": null,
   "id": "de29c40f",
   "metadata": {},
   "outputs": [],
   "source": [
    "N = int(input())\n",
    "n1 = (N+1)/2\n",
    "n2 = N/2\n",
    "i = 1\n",
    "while i <= n1:\n",
    "    space = 1\n",
    "    while space < i:\n",
    "        print(\" \", end = \"\")\n",
    "        space += 1\n",
    "    j = 1\n",
    "    while j <= i:\n",
    "        if j == i:\n",
    "            print(\"*\", end = \"\")\n",
    "        else:\n",
    "            print(\"* \", end = \"\")\n",
    "        j += 1\n",
    "    print()\n",
    "    i = i + 1\n",
    "i = 1\n",
    "while i <= n2:\n",
    "    space = 1\n",
    "    while space < n2 - i:\n",
    "        print(\" \", end = \"\")\n",
    "        space += 1\n",
    "    j = 1\n",
    "    while j <= n2 - i + 1:\n",
    "        if j == n2 - i + 1:\n",
    "            print(\"*\", end = \"\")\n",
    "        else:\n",
    "            print(\"* \", end = \"\")\n",
    "        j += 1\n",
    "    print()\n",
    "    i += 1"
   ]
  }
 ],
 "metadata": {
  "kernelspec": {
   "display_name": "Python 3 (ipykernel)",
   "language": "python",
   "name": "python3"
  },
  "language_info": {
   "codemirror_mode": {
    "name": "ipython",
    "version": 3
   },
   "file_extension": ".py",
   "mimetype": "text/x-python",
   "name": "python",
   "nbconvert_exporter": "python",
   "pygments_lexer": "ipython3",
   "version": "3.9.7"
  }
 },
 "nbformat": 4,
 "nbformat_minor": 5
}
