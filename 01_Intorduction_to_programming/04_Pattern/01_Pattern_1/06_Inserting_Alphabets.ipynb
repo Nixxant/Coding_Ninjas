{
 "cells": [
  {
   "cell_type": "code",
   "execution_count": null,
   "id": "f90a115a",
   "metadata": {},
   "outputs": [],
   "source": [
    "N = int(input())\n",
    "0 <= N <= 26\n",
    "i = 1\n",
    "x = ord('A')\n",
    "\n",
    "\n",
    "while i <= N:\n",
    "    j = 1\n",
    "    s = int(N)\n",
    "    while j <= i:\n",
    "        print(chr(s+x-i), end = \"\")\n",
    "        s = s + 1\n",
    "        j = j + 1\n",
    "        \n",
    "    print()\n",
    "    i = i + 1"
   ]
  }
 ],
 "metadata": {
  "kernelspec": {
   "display_name": "Python 3 (ipykernel)",
   "language": "python",
   "name": "python3"
  },
  "language_info": {
   "codemirror_mode": {
    "name": "ipython",
    "version": 3
   },
   "file_extension": ".py",
   "mimetype": "text/x-python",
   "name": "python",
   "nbconvert_exporter": "python",
   "pygments_lexer": "ipython3",
   "version": "3.9.7"
  }
 },
 "nbformat": 4,
 "nbformat_minor": 5
}
