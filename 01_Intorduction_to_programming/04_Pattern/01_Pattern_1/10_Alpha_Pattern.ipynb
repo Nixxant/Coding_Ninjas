{
 "cells": [
  {
   "cell_type": "code",
   "execution_count": 1,
   "id": "670d48e6",
   "metadata": {},
   "outputs": [
    {
     "name": "stdout",
     "output_type": "stream",
     "text": [
      "4\n",
      "A\n",
      "BB\n",
      "CCC\n",
      "DDDD\n"
     ]
    }
   ],
   "source": [
    "N = int(input())\n",
    "i = 1\n",
    "x = ord('A')\n",
    "while i <= N:\n",
    "    j = 1\n",
    "    while j <= i:\n",
    "        print(chr(x),end = \"\")\n",
    "        \n",
    "        j = j + 1\n",
    "    print()\n",
    "    x = x + 1\n",
    "    i = i + 1"
   ]
  },
  {
   "cell_type": "code",
   "execution_count": null,
   "id": "ce069a0c",
   "metadata": {},
   "outputs": [],
   "source": [
    "N = int(input())\n",
    "x = ord('A')\n",
    "for i in range(N):\n",
    "    print((i+1)*chr(x+i))"
   ]
  }
 ],
 "metadata": {
  "kernelspec": {
   "display_name": "Python 3 (ipykernel)",
   "language": "python",
   "name": "python3"
  },
  "language_info": {
   "codemirror_mode": {
    "name": "ipython",
    "version": 3
   },
   "file_extension": ".py",
   "mimetype": "text/x-python",
   "name": "python",
   "nbconvert_exporter": "python",
   "pygments_lexer": "ipython3",
   "version": "3.9.7"
  }
 },
 "nbformat": 4,
 "nbformat_minor": 5
}
