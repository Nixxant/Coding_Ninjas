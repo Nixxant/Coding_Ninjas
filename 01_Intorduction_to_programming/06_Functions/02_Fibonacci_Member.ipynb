{
 "cells": [
  {
   "cell_type": "code",
   "execution_count": null,
   "id": "7b73f1de",
   "metadata": {},
   "outputs": [],
   "source": [
    "def checkMember(n):\n",
    "    num = n\n",
    "    f1 = 0\n",
    "    f2 = 1\n",
    "    if n == 0:\n",
    "        return True\n",
    "    for i in range(1,n+1):\n",
    "        f = f1+f2  \n",
    "        f1 = f2\n",
    "        f2 = f\n",
    "\n",
    "        if num == f1 or num == f2 or num == f:\n",
    "            return True\n",
    "\n",
    "\n",
    "n=int(input())\n",
    "if(checkMember(n)):\n",
    "    print(\"true\")\n",
    "else:\n",
    "    print(\"false\")"
   ]
  }
 ],
 "metadata": {
  "kernelspec": {
   "display_name": "Python 3 (ipykernel)",
   "language": "python",
   "name": "python3"
  },
  "language_info": {
   "codemirror_mode": {
    "name": "ipython",
    "version": 3
   },
   "file_extension": ".py",
   "mimetype": "text/x-python",
   "name": "python",
   "nbconvert_exporter": "python",
   "pygments_lexer": "ipython3",
   "version": "3.9.7"
  }
 },
 "nbformat": 4,
 "nbformat_minor": 5
}
