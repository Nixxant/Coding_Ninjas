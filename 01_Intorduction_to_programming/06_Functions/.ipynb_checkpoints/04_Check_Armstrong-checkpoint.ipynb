{
 "cells": [
  {
   "cell_type": "code",
   "execution_count": null,
   "id": "489be107",
   "metadata": {},
   "outputs": [],
   "source": [
    "def isArmstrong(n):\n",
    "    power = len(str(n))\n",
    "    sum = 0\n",
    "    rem = 0\n",
    "    while n>=1:\n",
    "        rem = n % 10\n",
    "        sum = sum + rem**power\n",
    "        n=n//10\n",
    "    return sum\n",
    "    \n",
    "n = int(input())\n",
    "result = isArmstrong(n)\n",
    "if result == n:\n",
    "    print(\"true\")\n",
    "else:\n",
    "    print(\"false\")"
   ]
  }
 ],
 "metadata": {
  "kernelspec": {
   "display_name": "Python 3 (ipykernel)",
   "language": "python",
   "name": "python3"
  },
  "language_info": {
   "codemirror_mode": {
    "name": "ipython",
    "version": 3
   },
   "file_extension": ".py",
   "mimetype": "text/x-python",
   "name": "python",
   "nbconvert_exporter": "python",
   "pygments_lexer": "ipython3",
   "version": "3.9.7"
  }
 },
 "nbformat": 4,
 "nbformat_minor": 5
}
