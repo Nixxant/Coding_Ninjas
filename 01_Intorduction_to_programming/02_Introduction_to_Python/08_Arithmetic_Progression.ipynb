{
 "cells": [
  {
   "cell_type": "markdown",
   "id": "db4d3eb2",
   "metadata": {},
   "source": [
    "You are given first three entries of an arithmetic progression. You have to calculate the common difference and print it.\n",
    "\n",
    "\n",
    "Input format:\n",
    "The first line of input contains an integer a (1 <= a <= 100)\n",
    "The second line of input contains an integer b (1 <= b <= 100) \n",
    "The third line of input contains an integer c (1 <= c <= 100) \n",
    "\n",
    "\n",
    "Constraints:\n",
    "Time Limit: 1 second\n",
    "\n",
    "\n",
    "Output format:\n",
    "The first and only line of output contains the result.  \n",
    "\n",
    "\n",
    "Sample Input:\n",
    "1\n",
    "3\n",
    "5\n",
    "\n",
    "\n",
    "Sample Output:\n",
    "2"
   ]
  },
  {
   "cell_type": "code",
   "execution_count": 3,
   "id": "4c568245",
   "metadata": {},
   "outputs": [
    {
     "name": "stdout",
     "output_type": "stream",
     "text": [
      "1\n",
      "2\n",
      "4\n",
      "The numbers are not in AP\n"
     ]
    }
   ],
   "source": [
    "a = int(input())\n",
    "b = int(input())\n",
    "c = int(input())\n",
    "\n",
    "if (a + c == 2 * b):\n",
    "    print(b - a)\n",
    "else:\n",
    "    print(\"The numbers are not in AP\")"
   ]
  },
  {
   "cell_type": "code",
   "execution_count": null,
   "id": "3c6378ca",
   "metadata": {},
   "outputs": [],
   "source": []
  }
 ],
 "metadata": {
  "kernelspec": {
   "display_name": "Python 3 (ipykernel)",
   "language": "python",
   "name": "python3"
  },
  "language_info": {
   "codemirror_mode": {
    "name": "ipython",
    "version": 3
   },
   "file_extension": ".py",
   "mimetype": "text/x-python",
   "name": "python",
   "nbconvert_exporter": "python",
   "pygments_lexer": "ipython3",
   "version": "3.9.13"
  }
 },
 "nbformat": 4,
 "nbformat_minor": 5
}
