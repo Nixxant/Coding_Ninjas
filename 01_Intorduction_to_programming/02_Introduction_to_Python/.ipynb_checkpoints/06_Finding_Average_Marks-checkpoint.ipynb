{
 "cells": [
  {
   "cell_type": "markdown",
   "id": "4a0d3fc4",
   "metadata": {},
   "source": [
    "Write a program to input marks of three tests of a student (all integers).\n",
    "Then calculate and print the average of all test marks.\n",
    "\n",
    "Input format :\n",
    "3 Test marks (in different lines)\n",
    "\n",
    "Output format :\n",
    "Average \n",
    "\n",
    "Sample Input 1 :\n",
    "3 \n",
    "4 \n",
    "6\n",
    "\n",
    "Sample Output 1 :\n",
    "4.333333333333333\n",
    "\n",
    "\n",
    "Sample Input 2 :\n",
    "5 \n",
    "10 \n",
    "5\n",
    "\n",
    "\n",
    "Sample Output 2 :\n",
    "6.666666666666667"
   ]
  },
  {
   "cell_type": "code",
   "execution_count": 1,
   "id": "7e2cc285",
   "metadata": {
    "scrolled": true
   },
   "outputs": [
    {
     "name": "stdout",
     "output_type": "stream",
     "text": [
      "5\n",
      "10\n",
      "5\n",
      "6.666666666666667\n"
     ]
    }
   ],
   "source": [
    "a = int(input())\n",
    "b = int(input())\n",
    "c = int(input())\n",
    "average = (a + b + c)/3\n",
    "print(average)\n"
   ]
  },
  {
   "cell_type": "markdown",
   "id": "d19deba9",
   "metadata": {},
   "source": [
    "My way with for loop"
   ]
  },
  {
   "cell_type": "code",
   "execution_count": 2,
   "id": "101d8b07",
   "metadata": {},
   "outputs": [
    {
     "name": "stdout",
     "output_type": "stream",
     "text": [
      "4\n",
      "1\n",
      "1\n",
      "1\n",
      "1\n",
      "The sum is  4\n",
      "The average is  1.0\n"
     ]
    }
   ],
   "source": [
    "n = int(input())\n",
    "sum = 0\n",
    "for i in range(n):\n",
    "    x = int(input())\n",
    "    sum = sum + x\n",
    "    i = i + 1\n",
    "average = sum/n\n",
    "print(\"The sum is \",sum)\n",
    "print(\"The average is \", average)"
   ]
  },
  {
   "cell_type": "code",
   "execution_count": null,
   "id": "f0dcff1d",
   "metadata": {},
   "outputs": [],
   "source": []
  }
 ],
 "metadata": {
  "kernelspec": {
   "display_name": "Python 3 (ipykernel)",
   "language": "python",
   "name": "python3"
  },
  "language_info": {
   "codemirror_mode": {
    "name": "ipython",
    "version": 3
   },
   "file_extension": ".py",
   "mimetype": "text/x-python",
   "name": "python",
   "nbconvert_exporter": "python",
   "pygments_lexer": "ipython3",
   "version": "3.9.7"
  }
 },
 "nbformat": 4,
 "nbformat_minor": 5
}
