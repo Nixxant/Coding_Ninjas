{
 "cells": [
  {
   "cell_type": "markdown",
   "id": "0a6fb439",
   "metadata": {},
   "source": [
    "You are given two integers: X and N.\n",
    "You have to calculate X raised to power N and print it.\n",
    "\n",
    "\n",
    "Input format:\n",
    "The first line of input contains an integer X (1 <= X <= 100)\n",
    "The second line of input contains an integer N (1 <= N <= 10) \n",
    "\n",
    "\n",
    "Constraints:\n",
    "Time Limit: 1 second\n",
    "\n",
    "    \n",
    "Output format:\n",
    "The first and only line of output contains the result.  \n",
    "\n",
    "\n",
    "Sample Input:\n",
    "10\n",
    "4\n",
    "\n",
    "Sample Output:\n",
    "10000"
   ]
  },
  {
   "cell_type": "code",
   "execution_count": 4,
   "id": "25ee902c",
   "metadata": {},
   "outputs": [
    {
     "name": "stdout",
     "output_type": "stream",
     "text": [
      "Type the number: 10\n",
      "Type the power: 4\n",
      "10000\n"
     ]
    }
   ],
   "source": [
    "x = int(input(\"Type the number: \"))\n",
    "n = int(input(\"Type the power: \"))\n",
    "\n",
    "print(x**n)"
   ]
  },
  {
   "cell_type": "code",
   "execution_count": null,
   "id": "7b330b57",
   "metadata": {},
   "outputs": [],
   "source": []
  }
 ],
 "metadata": {
  "kernelspec": {
   "display_name": "Python 3 (ipykernel)",
   "language": "python",
   "name": "python3"
  },
  "language_info": {
   "codemirror_mode": {
    "name": "ipython",
    "version": 3
   },
   "file_extension": ".py",
   "mimetype": "text/x-python",
   "name": "python",
   "nbconvert_exporter": "python",
   "pygments_lexer": "ipython3",
   "version": "3.9.7"
  }
 },
 "nbformat": 4,
 "nbformat_minor": 5
}
