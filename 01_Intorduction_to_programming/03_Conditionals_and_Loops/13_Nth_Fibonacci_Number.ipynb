{
 "cells": [
  {
   "cell_type": "code",
   "execution_count": 115,
   "id": "558886ca",
   "metadata": {},
   "outputs": [
    {
     "name": "stdout",
     "output_type": "stream",
     "text": [
      "89\n",
      "1779979416004714189\n"
     ]
    }
   ],
   "source": [
    "n = int(input())\n",
    "if n == 0 or n == 1:\n",
    "    print(n)\n",
    "else:\n",
    "    x = 1    \n",
    "    temp = 0\n",
    "    while n >= 2 :\n",
    "        new = temp + x\n",
    "        temp = x\n",
    "        x = new\n",
    "        n -= 1\n",
    "    print(new)\n",
    "    \n",
    "    \n",
    "\n",
    "    "
   ]
  },
  {
   "cell_type": "markdown",
   "id": "15426c5c",
   "metadata": {},
   "source": [
    "#### "
   ]
  },
  {
   "cell_type": "code",
   "execution_count": 114,
   "id": "97b99385",
   "metadata": {},
   "outputs": [
    {
     "name": "stdout",
     "output_type": "stream",
     "text": [
      "89\n",
      "1779979416004714189\n"
     ]
    }
   ],
   "source": [
    "n = int(input())\n",
    "dp = [0 for i in range(n+1)]\n",
    "dp[0] = 0\n",
    "dp[1] = 1\n",
    "for i in range(2,n+1):\n",
    "    dp[i] = dp[i-2] + dp[i-1]\n",
    "print(dp[n])"
   ]
  },
  {
   "cell_type": "markdown",
   "id": "446f3383",
   "metadata": {},
   "source": []
  }
 ],
 "metadata": {
  "kernelspec": {
   "display_name": "Python 3 (ipykernel)",
   "language": "python",
   "name": "python3"
  },
  "language_info": {
   "codemirror_mode": {
    "name": "ipython",
    "version": 3
   },
   "file_extension": ".py",
   "mimetype": "text/x-python",
   "name": "python",
   "nbconvert_exporter": "python",
   "pygments_lexer": "ipython3",
   "version": "3.9.7"
  }
 },
 "nbformat": 4,
 "nbformat_minor": 5
}
