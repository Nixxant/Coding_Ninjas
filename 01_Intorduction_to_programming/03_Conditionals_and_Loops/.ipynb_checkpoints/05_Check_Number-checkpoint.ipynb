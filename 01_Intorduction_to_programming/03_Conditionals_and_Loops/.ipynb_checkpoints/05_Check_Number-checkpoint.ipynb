{
 "cells": [
  {
   "cell_type": "markdown",
   "id": "1aab6d11",
   "metadata": {},
   "source": [
    "Given an integer n, find if n is positive, negative or 0.\n",
    "If n is positive, print \"Positive\"\n",
    "If n is negative, print \"Negative\"\n",
    "And if n is equal to 0, print \"Zero\".\n",
    "\n",
    "\n",
    "\n",
    "Input Format :\n",
    "Integer n\n",
    "\n",
    "\n",
    "Output Format :\n",
    "\"Positive\" or \"Negative\" or \"Zero\" (without double quotes)\n",
    "\n",
    "\n",
    "Constraints :\n",
    "-100 <= n <= 100\n",
    "\n",
    "Sample Input 1 :\n",
    "10\n",
    "\n",
    "Sample Output 1 :\n",
    "Positive\n",
    "\n",
    "Sample Input 2 :\n",
    "-10\n",
    "\n",
    "Sample Output 2 :\n",
    "Negative"
   ]
  },
  {
   "cell_type": "code",
   "execution_count": 3,
   "id": "6a9663f6",
   "metadata": {},
   "outputs": [
    {
     "name": "stdout",
     "output_type": "stream",
     "text": [
      "44\n",
      "Positive\n"
     ]
    }
   ],
   "source": [
    "a = int(input())\n",
    "\n",
    "if a == 0:\n",
    "    print(\"Zero\")\n",
    "elif a > 0:\n",
    "    print(\"Positive\")\n",
    "else:\n",
    "    print(\"Negative\")\n",
    "        "
   ]
  },
  {
   "cell_type": "code",
   "execution_count": null,
   "id": "5c353d8b",
   "metadata": {},
   "outputs": [],
   "source": []
  },
  {
   "cell_type": "code",
   "execution_count": null,
   "id": "9e67242e",
   "metadata": {},
   "outputs": [],
   "source": []
  }
 ],
 "metadata": {
  "kernelspec": {
   "display_name": "Python 3 (ipykernel)",
   "language": "python",
   "name": "python3"
  },
  "language_info": {
   "codemirror_mode": {
    "name": "ipython",
    "version": 3
   },
   "file_extension": ".py",
   "mimetype": "text/x-python",
   "name": "python",
   "nbconvert_exporter": "python",
   "pygments_lexer": "ipython3",
   "version": "3.9.13"
  }
 },
 "nbformat": 4,
 "nbformat_minor": 5
}
