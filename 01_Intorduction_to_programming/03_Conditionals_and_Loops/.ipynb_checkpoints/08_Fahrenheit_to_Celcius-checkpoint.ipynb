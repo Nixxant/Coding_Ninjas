{
 "cells": [
  {
   "cell_type": "code",
   "execution_count": 2,
   "id": "415b7634",
   "metadata": {
    "scrolled": true
   },
   "outputs": [
    {
     "name": "stdout",
     "output_type": "stream",
     "text": [
      "0\n",
      "100\n",
      "10\n",
      "0 -17\n",
      "10 -12\n",
      "20 -6\n",
      "30 -1\n",
      "40 4\n",
      "50 10\n",
      "60 15\n",
      "70 21\n",
      "80 26\n",
      "90 32\n",
      "100 37\n"
     ]
    }
   ],
   "source": [
    "s = int(input())\n",
    "e = int(input())\n",
    "w = int(input())\n",
    "0<=s<=90\n",
    "s<=e<=900\n",
    "0<=w<=80\n",
    "while s <= e:\n",
    "    print(s,int((s-32)*5/9))\n",
    "    s += w\n",
    "    "
   ]
  },
  {
   "cell_type": "code",
   "execution_count": null,
   "id": "72de6db2",
   "metadata": {},
   "outputs": [],
   "source": []
  }
 ],
 "metadata": {
  "kernelspec": {
   "display_name": "Python 3 (ipykernel)",
   "language": "python",
   "name": "python3"
  },
  "language_info": {
   "codemirror_mode": {
    "name": "ipython",
    "version": 3
   },
   "file_extension": ".py",
   "mimetype": "text/x-python",
   "name": "python",
   "nbconvert_exporter": "python",
   "pygments_lexer": "ipython3",
   "version": "3.9.7"
  }
 },
 "nbformat": 4,
 "nbformat_minor": 5
}
