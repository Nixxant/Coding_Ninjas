{
 "cells": [
  {
   "cell_type": "code",
   "execution_count": null,
   "id": "dfb8b803",
   "metadata": {},
   "outputs": [],
   "source": [
    "\n",
    "while True:\n",
    "    terms = int(input())\n",
    "    if terms == 1:\n",
    "        c = int(input()) + int(input())\n",
    "        print(c)    \n",
    "    if terms == 2:\n",
    "            c = int(input()) - int(input())\n",
    "            print(c)\n",
    "    elif terms == 3:\n",
    "            c = int(input()) * int(input())\n",
    "            print(c)\n",
    "    elif terms == 4:\n",
    "            c = int(input()) // int(input())\n",
    "            print(c)\n",
    "    elif terms == 5:\n",
    "            c = int(input()) % int(input())\n",
    "            print(c)\n",
    "    elif terms == 6:\n",
    "            break\n",
    "    elif terms > 6:\n",
    "            c =\"Invalid Operation\" \n",
    "            print(c)"
   ]
  }
 ],
 "metadata": {
  "kernelspec": {
   "display_name": "Python 3 (ipykernel)",
   "language": "python",
   "name": "python3"
  },
  "language_info": {
   "codemirror_mode": {
    "name": "ipython",
    "version": 3
   },
   "file_extension": ".py",
   "mimetype": "text/x-python",
   "name": "python",
   "nbconvert_exporter": "python",
   "pygments_lexer": "ipython3",
   "version": "3.9.7"
  }
 },
 "nbformat": 4,
 "nbformat_minor": 5
}
