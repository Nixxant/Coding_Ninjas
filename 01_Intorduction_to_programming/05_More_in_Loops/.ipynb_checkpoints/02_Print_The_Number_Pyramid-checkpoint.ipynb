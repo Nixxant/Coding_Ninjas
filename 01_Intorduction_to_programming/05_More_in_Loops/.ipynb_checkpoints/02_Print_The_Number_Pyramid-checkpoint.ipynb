{
 "cells": [
  {
   "cell_type": "code",
   "execution_count": null,
   "id": "ff775fa9",
   "metadata": {},
   "outputs": [],
   "source": [
    "N = int(input())\n",
    "for i in range(0,N,1):\n",
    "    for k in range(N+i,N,-1):\n",
    "        print(\" \",end=\"\")\n",
    "    for j in range(N,i,-1):\n",
    "        print(N-j+i+1,end = \"\")\n",
    "    print()\n",
    "for i in range(2,N+1,1):\n",
    "    for j in range(N-i,0,-1):\n",
    "        print(\" \",end = \"\")\n",
    "    for k in range(N-i,N):\n",
    "        print(k+1,end=\"\")\n",
    "    print()"
   ]
  }
 ],
 "metadata": {
  "kernelspec": {
   "display_name": "Python 3 (ipykernel)",
   "language": "python",
   "name": "python3"
  },
  "language_info": {
   "codemirror_mode": {
    "name": "ipython",
    "version": 3
   },
   "file_extension": ".py",
   "mimetype": "text/x-python",
   "name": "python",
   "nbconvert_exporter": "python",
   "pygments_lexer": "ipython3",
   "version": "3.9.7"
  }
 },
 "nbformat": 4,
 "nbformat_minor": 5
}
