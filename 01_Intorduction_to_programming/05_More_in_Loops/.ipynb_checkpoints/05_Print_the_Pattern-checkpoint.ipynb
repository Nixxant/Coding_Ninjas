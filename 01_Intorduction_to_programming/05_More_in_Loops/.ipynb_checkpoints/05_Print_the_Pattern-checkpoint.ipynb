{
 "cells": [
  {
   "cell_type": "code",
   "execution_count": null,
   "id": "4f4049b3",
   "metadata": {},
   "outputs": [],
   "source": [
    "n = int(input())\n",
    "n1 = int((n+1)/2)\n",
    "n2 = int(n/2)\n",
    "for i in range(n1):\n",
    "    for j in range(1,n+1):\n",
    "        if j==n+1:\n",
    "            print(2*n*i+j,end = \"\")\n",
    "        else:\n",
    "            print(2*n*i+j,end = \" \")\n",
    "    print()\n",
    "for i in range(n2,0,-1):\n",
    "    for j in range(1,n+1):\n",
    "        if j == n+1:\n",
    "            print(n*(2*i-1)+j,end = \"\")\n",
    "        else:\n",
    "            print(n*(2*i-1)+j,end = \" \")\n",
    "    print()"
   ]
  }
 ],
 "metadata": {
  "kernelspec": {
   "display_name": "Python 3 (ipykernel)",
   "language": "python",
   "name": "python3"
  },
  "language_info": {
   "codemirror_mode": {
    "name": "ipython",
    "version": 3
   },
   "file_extension": ".py",
   "mimetype": "text/x-python",
   "name": "python",
   "nbconvert_exporter": "python",
   "pygments_lexer": "ipython3",
   "version": "3.9.7"
  }
 },
 "nbformat": 4,
 "nbformat_minor": 5
}
