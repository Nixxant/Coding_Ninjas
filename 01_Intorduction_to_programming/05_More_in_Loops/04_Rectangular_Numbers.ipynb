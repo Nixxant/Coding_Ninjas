{
 "cells": [
  {
   "cell_type": "code",
   "execution_count": null,
   "id": "b8f6149a",
   "metadata": {},
   "outputs": [],
   "source": [
    "n=int(input())\n",
    "pattern_1=n\n",
    "\n",
    "for i in range (1,n+1):\n",
    "    pattern_3 = n\n",
    "    for k in range(1,i):\n",
    "        print(pattern_3,end=\"\")\n",
    "        pattern_3-=1\n",
    "    for j in range (1,2*n+2-2*i):\n",
    "        print(pattern_1,end=\"\")\n",
    "    pattern_1 -= 1\n",
    "\n",
    "    for l in range (1,i):\n",
    "        pattern_3+=1\n",
    "        print(pattern_3,end=\"\")\n",
    "    print(\"\")\n",
    "\n",
    "\n",
    "pattern_1=2\n",
    "\n",
    "for i in range (n,1,-1):\n",
    "    pattern_3 = n\n",
    "    for k in range(1,i):\n",
    "        print(pattern_3,end=\"\")\n",
    "        pattern_3-=1\n",
    "    for j in range (1,2*n+2-2*i):\n",
    "        print(pattern_1,end=\"\")\n",
    "    pattern_1+= 1\n",
    "\n",
    "    for l in range (1,i):\n",
    "        pattern_3+=1\n",
    "        print(pattern_3,end=\"\")\n",
    "    print(\"\")"
   ]
  }
 ],
 "metadata": {
  "kernelspec": {
   "display_name": "Python 3 (ipykernel)",
   "language": "python",
   "name": "python3"
  },
  "language_info": {
   "codemirror_mode": {
    "name": "ipython",
    "version": 3
   },
   "file_extension": ".py",
   "mimetype": "text/x-python",
   "name": "python",
   "nbconvert_exporter": "python",
   "pygments_lexer": "ipython3",
   "version": "3.9.7"
  }
 },
 "nbformat": 4,
 "nbformat_minor": 5
}
