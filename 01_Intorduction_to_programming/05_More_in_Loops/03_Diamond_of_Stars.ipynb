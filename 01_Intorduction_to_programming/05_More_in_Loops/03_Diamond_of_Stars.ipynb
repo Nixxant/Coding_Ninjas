{
 "cells": [
  {
   "cell_type": "code",
   "execution_count": null,
   "id": "400d45d0",
   "metadata": {},
   "outputs": [],
   "source": [
    "n = int(input())\n",
    "n1 = int((n+1)/2)\n",
    "for i in range(0,n1,1):\n",
    "    for j in range(n1-i-1):\n",
    "        print(\" \",end = \"\")\n",
    "    for k in range(i+1):\n",
    "        print(\"*\", end = \"\")\n",
    "    for l in  range(i):\n",
    "        print(\"*\", end = \"\")\n",
    "    print()\n",
    "for i in range(0,n1,1):\n",
    "    for j in range(i+1):\n",
    "        print(\" \",end=\"\")\n",
    "    for k in range(n1-i-1):\n",
    "        print(\"*\",end = \"\")\n",
    "    for k in range(n1-i-2):\n",
    "        print(\"*\", end = \"\")\n",
    "    \n",
    "    print()"
   ]
  }
 ],
 "metadata": {
  "kernelspec": {
   "display_name": "Python 3 (ipykernel)",
   "language": "python",
   "name": "python3"
  },
  "language_info": {
   "codemirror_mode": {
    "name": "ipython",
    "version": 3
   },
   "file_extension": ".py",
   "mimetype": "text/x-python",
   "name": "python",
   "nbconvert_exporter": "python",
   "pygments_lexer": "ipython3",
   "version": "3.9.7"
  }
 },
 "nbformat": 4,
 "nbformat_minor": 5
}
